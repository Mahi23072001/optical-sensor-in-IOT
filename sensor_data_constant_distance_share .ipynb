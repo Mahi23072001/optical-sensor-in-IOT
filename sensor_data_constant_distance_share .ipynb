{
  "nbformat": 4,
  "nbformat_minor": 0,
  "metadata": {
    "colab": {
      "provenance": []
    },
    "kernelspec": {
      "name": "python3",
      "display_name": "Python 3"
    },
    "language_info": {
      "name": "python"
    }
  },
  "cells": [
    {
      "cell_type": "markdown",
      "source": [
        "# COMMERCIAL SENSOR DISTANCE CONSTANT"
      ],
      "metadata": {
        "id": "8nLF1WoztQZz"
      }
    },
    {
      "cell_type": "code",
      "execution_count": null,
      "metadata": {
        "id": "JwrrZleKtNd9"
      },
      "outputs": [],
      "source": [
        "# Blue\n",
        "# Flashlight\n",
        "# Green\n",
        "# IR\n",
        "# Red\n",
        "# UV\n",
        "# UBGRI - (UV,Blue,Green,Red,IR combined)"
      ]
    },
    {
      "cell_type": "code",
      "source": [
        "from google.colab import drive\n",
        "drive.mount('/content/drive')"
      ],
      "metadata": {
        "colab": {
          "base_uri": "https://localhost:8080/"
        },
        "id": "KNm_XPbWvqo7",
        "outputId": "e50aca30-8ad6-440b-fe59-687215f91579"
      },
      "execution_count": null,
      "outputs": [
        {
          "output_type": "stream",
          "name": "stdout",
          "text": [
            "Mounted at /content/drive\n"
          ]
        }
      ]
    },
    {
      "cell_type": "code",
      "source": [
        "from sklearn.cluster import KMeans\n",
        "import pandas as pd\n",
        "from sklearn.preprocessing import MinMaxScaler\n",
        "from matplotlib import pyplot as plt\n",
        "%matplotlib inline"
      ],
      "metadata": {
        "id": "5zlIh91dtPYx"
      },
      "execution_count": null,
      "outputs": []
    },
    {
      "cell_type": "code",
      "source": [
        "df = pd.read_excel('/content/drive/MyDrive/sensor_data/COMMERCIAL_SENSOR/DIST_CONST/distance_constant.xlsx')\n",
        "df.head()"
      ],
      "metadata": {
        "colab": {
          "base_uri": "https://localhost:8080/",
          "height": 206
        },
        "id": "vGVLLWDVyVOf",
        "outputId": "e03ebb75-b1e8-4c15-a60c-7490f5e58f9d"
      },
      "execution_count": null,
      "outputs": [
        {
          "output_type": "execute_result",
          "data": {
            "text/plain": [
              "   Item  Smu1.Time[1][1]  Smu1.V[1][1]      CS_I         LFS_I label on/off\n",
              "0   1.0         0.000000      3.999983  0.000027  2.464909e-07  blue    off\n",
              "1   2.0         0.141018      3.999985  0.000018  2.429471e-07  blue    off\n",
              "2   3.0         0.282002      3.999985  0.000015  2.427836e-07  blue    off\n",
              "3   4.0         0.422960      3.999983  0.000012  2.423847e-07  blue    off\n",
              "4   5.0         0.563926      3.999985  0.000011  2.409984e-07  blue    off"
            ],
            "text/html": [
              "\n",
              "  <div id=\"df-28c0564e-03f6-4b30-a833-ef5b1c81f794\">\n",
              "    <div class=\"colab-df-container\">\n",
              "      <div>\n",
              "<style scoped>\n",
              "    .dataframe tbody tr th:only-of-type {\n",
              "        vertical-align: middle;\n",
              "    }\n",
              "\n",
              "    .dataframe tbody tr th {\n",
              "        vertical-align: top;\n",
              "    }\n",
              "\n",
              "    .dataframe thead th {\n",
              "        text-align: right;\n",
              "    }\n",
              "</style>\n",
              "<table border=\"1\" class=\"dataframe\">\n",
              "  <thead>\n",
              "    <tr style=\"text-align: right;\">\n",
              "      <th></th>\n",
              "      <th>Item</th>\n",
              "      <th>Smu1.Time[1][1]</th>\n",
              "      <th>Smu1.V[1][1]</th>\n",
              "      <th>CS_I</th>\n",
              "      <th>LFS_I</th>\n",
              "      <th>label</th>\n",
              "      <th>on/off</th>\n",
              "    </tr>\n",
              "  </thead>\n",
              "  <tbody>\n",
              "    <tr>\n",
              "      <th>0</th>\n",
              "      <td>1.0</td>\n",
              "      <td>0.000000</td>\n",
              "      <td>3.999983</td>\n",
              "      <td>0.000027</td>\n",
              "      <td>2.464909e-07</td>\n",
              "      <td>blue</td>\n",
              "      <td>off</td>\n",
              "    </tr>\n",
              "    <tr>\n",
              "      <th>1</th>\n",
              "      <td>2.0</td>\n",
              "      <td>0.141018</td>\n",
              "      <td>3.999985</td>\n",
              "      <td>0.000018</td>\n",
              "      <td>2.429471e-07</td>\n",
              "      <td>blue</td>\n",
              "      <td>off</td>\n",
              "    </tr>\n",
              "    <tr>\n",
              "      <th>2</th>\n",
              "      <td>3.0</td>\n",
              "      <td>0.282002</td>\n",
              "      <td>3.999985</td>\n",
              "      <td>0.000015</td>\n",
              "      <td>2.427836e-07</td>\n",
              "      <td>blue</td>\n",
              "      <td>off</td>\n",
              "    </tr>\n",
              "    <tr>\n",
              "      <th>3</th>\n",
              "      <td>4.0</td>\n",
              "      <td>0.422960</td>\n",
              "      <td>3.999983</td>\n",
              "      <td>0.000012</td>\n",
              "      <td>2.423847e-07</td>\n",
              "      <td>blue</td>\n",
              "      <td>off</td>\n",
              "    </tr>\n",
              "    <tr>\n",
              "      <th>4</th>\n",
              "      <td>5.0</td>\n",
              "      <td>0.563926</td>\n",
              "      <td>3.999985</td>\n",
              "      <td>0.000011</td>\n",
              "      <td>2.409984e-07</td>\n",
              "      <td>blue</td>\n",
              "      <td>off</td>\n",
              "    </tr>\n",
              "  </tbody>\n",
              "</table>\n",
              "</div>\n",
              "      <button class=\"colab-df-convert\" onclick=\"convertToInteractive('df-28c0564e-03f6-4b30-a833-ef5b1c81f794')\"\n",
              "              title=\"Convert this dataframe to an interactive table.\"\n",
              "              style=\"display:none;\">\n",
              "        \n",
              "  <svg xmlns=\"http://www.w3.org/2000/svg\" height=\"24px\"viewBox=\"0 0 24 24\"\n",
              "       width=\"24px\">\n",
              "    <path d=\"M0 0h24v24H0V0z\" fill=\"none\"/>\n",
              "    <path d=\"M18.56 5.44l.94 2.06.94-2.06 2.06-.94-2.06-.94-.94-2.06-.94 2.06-2.06.94zm-11 1L8.5 8.5l.94-2.06 2.06-.94-2.06-.94L8.5 2.5l-.94 2.06-2.06.94zm10 10l.94 2.06.94-2.06 2.06-.94-2.06-.94-.94-2.06-.94 2.06-2.06.94z\"/><path d=\"M17.41 7.96l-1.37-1.37c-.4-.4-.92-.59-1.43-.59-.52 0-1.04.2-1.43.59L10.3 9.45l-7.72 7.72c-.78.78-.78 2.05 0 2.83L4 21.41c.39.39.9.59 1.41.59.51 0 1.02-.2 1.41-.59l7.78-7.78 2.81-2.81c.8-.78.8-2.07 0-2.86zM5.41 20L4 18.59l7.72-7.72 1.47 1.35L5.41 20z\"/>\n",
              "  </svg>\n",
              "      </button>\n",
              "      \n",
              "  <style>\n",
              "    .colab-df-container {\n",
              "      display:flex;\n",
              "      flex-wrap:wrap;\n",
              "      gap: 12px;\n",
              "    }\n",
              "\n",
              "    .colab-df-convert {\n",
              "      background-color: #E8F0FE;\n",
              "      border: none;\n",
              "      border-radius: 50%;\n",
              "      cursor: pointer;\n",
              "      display: none;\n",
              "      fill: #1967D2;\n",
              "      height: 32px;\n",
              "      padding: 0 0 0 0;\n",
              "      width: 32px;\n",
              "    }\n",
              "\n",
              "    .colab-df-convert:hover {\n",
              "      background-color: #E2EBFA;\n",
              "      box-shadow: 0px 1px 2px rgba(60, 64, 67, 0.3), 0px 1px 3px 1px rgba(60, 64, 67, 0.15);\n",
              "      fill: #174EA6;\n",
              "    }\n",
              "\n",
              "    [theme=dark] .colab-df-convert {\n",
              "      background-color: #3B4455;\n",
              "      fill: #D2E3FC;\n",
              "    }\n",
              "\n",
              "    [theme=dark] .colab-df-convert:hover {\n",
              "      background-color: #434B5C;\n",
              "      box-shadow: 0px 1px 3px 1px rgba(0, 0, 0, 0.15);\n",
              "      filter: drop-shadow(0px 1px 2px rgba(0, 0, 0, 0.3));\n",
              "      fill: #FFFFFF;\n",
              "    }\n",
              "  </style>\n",
              "\n",
              "      <script>\n",
              "        const buttonEl =\n",
              "          document.querySelector('#df-28c0564e-03f6-4b30-a833-ef5b1c81f794 button.colab-df-convert');\n",
              "        buttonEl.style.display =\n",
              "          google.colab.kernel.accessAllowed ? 'block' : 'none';\n",
              "\n",
              "        async function convertToInteractive(key) {\n",
              "          const element = document.querySelector('#df-28c0564e-03f6-4b30-a833-ef5b1c81f794');\n",
              "          const dataTable =\n",
              "            await google.colab.kernel.invokeFunction('convertToInteractive',\n",
              "                                                     [key], {});\n",
              "          if (!dataTable) return;\n",
              "\n",
              "          const docLinkHtml = 'Like what you see? Visit the ' +\n",
              "            '<a target=\"_blank\" href=https://colab.research.google.com/notebooks/data_table.ipynb>data table notebook</a>'\n",
              "            + ' to learn more about interactive tables.';\n",
              "          element.innerHTML = '';\n",
              "          dataTable['output_type'] = 'display_data';\n",
              "          await google.colab.output.renderOutput(dataTable, element);\n",
              "          const docLink = document.createElement('div');\n",
              "          docLink.innerHTML = docLinkHtml;\n",
              "          element.appendChild(docLink);\n",
              "        }\n",
              "      </script>\n",
              "    </div>\n",
              "  </div>\n",
              "  "
            ]
          },
          "metadata": {},
          "execution_count": 3
        }
      ]
    },
    {
      "cell_type": "code",
      "source": [
        "df = df.drop(['Item', 'Smu1.V[1][1]'], axis=1)\n",
        "df.head()"
      ],
      "metadata": {
        "colab": {
          "base_uri": "https://localhost:8080/",
          "height": 206
        },
        "id": "gdJcTv_NMvLQ",
        "outputId": "3e79e3d0-1a2d-460b-b47f-bee4841cff20"
      },
      "execution_count": null,
      "outputs": [
        {
          "output_type": "execute_result",
          "data": {
            "text/plain": [
              "   Smu1.Time[1][1]      CS_I         LFS_I label on/off\n",
              "0         0.000000  0.000027  2.464909e-07  blue    off\n",
              "1         0.141018  0.000018  2.429471e-07  blue    off\n",
              "2         0.282002  0.000015  2.427836e-07  blue    off\n",
              "3         0.422960  0.000012  2.423847e-07  blue    off\n",
              "4         0.563926  0.000011  2.409984e-07  blue    off"
            ],
            "text/html": [
              "\n",
              "  <div id=\"df-20e63b2f-d9d1-486f-a160-3cbc54336400\">\n",
              "    <div class=\"colab-df-container\">\n",
              "      <div>\n",
              "<style scoped>\n",
              "    .dataframe tbody tr th:only-of-type {\n",
              "        vertical-align: middle;\n",
              "    }\n",
              "\n",
              "    .dataframe tbody tr th {\n",
              "        vertical-align: top;\n",
              "    }\n",
              "\n",
              "    .dataframe thead th {\n",
              "        text-align: right;\n",
              "    }\n",
              "</style>\n",
              "<table border=\"1\" class=\"dataframe\">\n",
              "  <thead>\n",
              "    <tr style=\"text-align: right;\">\n",
              "      <th></th>\n",
              "      <th>Smu1.Time[1][1]</th>\n",
              "      <th>CS_I</th>\n",
              "      <th>LFS_I</th>\n",
              "      <th>label</th>\n",
              "      <th>on/off</th>\n",
              "    </tr>\n",
              "  </thead>\n",
              "  <tbody>\n",
              "    <tr>\n",
              "      <th>0</th>\n",
              "      <td>0.000000</td>\n",
              "      <td>0.000027</td>\n",
              "      <td>2.464909e-07</td>\n",
              "      <td>blue</td>\n",
              "      <td>off</td>\n",
              "    </tr>\n",
              "    <tr>\n",
              "      <th>1</th>\n",
              "      <td>0.141018</td>\n",
              "      <td>0.000018</td>\n",
              "      <td>2.429471e-07</td>\n",
              "      <td>blue</td>\n",
              "      <td>off</td>\n",
              "    </tr>\n",
              "    <tr>\n",
              "      <th>2</th>\n",
              "      <td>0.282002</td>\n",
              "      <td>0.000015</td>\n",
              "      <td>2.427836e-07</td>\n",
              "      <td>blue</td>\n",
              "      <td>off</td>\n",
              "    </tr>\n",
              "    <tr>\n",
              "      <th>3</th>\n",
              "      <td>0.422960</td>\n",
              "      <td>0.000012</td>\n",
              "      <td>2.423847e-07</td>\n",
              "      <td>blue</td>\n",
              "      <td>off</td>\n",
              "    </tr>\n",
              "    <tr>\n",
              "      <th>4</th>\n",
              "      <td>0.563926</td>\n",
              "      <td>0.000011</td>\n",
              "      <td>2.409984e-07</td>\n",
              "      <td>blue</td>\n",
              "      <td>off</td>\n",
              "    </tr>\n",
              "  </tbody>\n",
              "</table>\n",
              "</div>\n",
              "      <button class=\"colab-df-convert\" onclick=\"convertToInteractive('df-20e63b2f-d9d1-486f-a160-3cbc54336400')\"\n",
              "              title=\"Convert this dataframe to an interactive table.\"\n",
              "              style=\"display:none;\">\n",
              "        \n",
              "  <svg xmlns=\"http://www.w3.org/2000/svg\" height=\"24px\"viewBox=\"0 0 24 24\"\n",
              "       width=\"24px\">\n",
              "    <path d=\"M0 0h24v24H0V0z\" fill=\"none\"/>\n",
              "    <path d=\"M18.56 5.44l.94 2.06.94-2.06 2.06-.94-2.06-.94-.94-2.06-.94 2.06-2.06.94zm-11 1L8.5 8.5l.94-2.06 2.06-.94-2.06-.94L8.5 2.5l-.94 2.06-2.06.94zm10 10l.94 2.06.94-2.06 2.06-.94-2.06-.94-.94-2.06-.94 2.06-2.06.94z\"/><path d=\"M17.41 7.96l-1.37-1.37c-.4-.4-.92-.59-1.43-.59-.52 0-1.04.2-1.43.59L10.3 9.45l-7.72 7.72c-.78.78-.78 2.05 0 2.83L4 21.41c.39.39.9.59 1.41.59.51 0 1.02-.2 1.41-.59l7.78-7.78 2.81-2.81c.8-.78.8-2.07 0-2.86zM5.41 20L4 18.59l7.72-7.72 1.47 1.35L5.41 20z\"/>\n",
              "  </svg>\n",
              "      </button>\n",
              "      \n",
              "  <style>\n",
              "    .colab-df-container {\n",
              "      display:flex;\n",
              "      flex-wrap:wrap;\n",
              "      gap: 12px;\n",
              "    }\n",
              "\n",
              "    .colab-df-convert {\n",
              "      background-color: #E8F0FE;\n",
              "      border: none;\n",
              "      border-radius: 50%;\n",
              "      cursor: pointer;\n",
              "      display: none;\n",
              "      fill: #1967D2;\n",
              "      height: 32px;\n",
              "      padding: 0 0 0 0;\n",
              "      width: 32px;\n",
              "    }\n",
              "\n",
              "    .colab-df-convert:hover {\n",
              "      background-color: #E2EBFA;\n",
              "      box-shadow: 0px 1px 2px rgba(60, 64, 67, 0.3), 0px 1px 3px 1px rgba(60, 64, 67, 0.15);\n",
              "      fill: #174EA6;\n",
              "    }\n",
              "\n",
              "    [theme=dark] .colab-df-convert {\n",
              "      background-color: #3B4455;\n",
              "      fill: #D2E3FC;\n",
              "    }\n",
              "\n",
              "    [theme=dark] .colab-df-convert:hover {\n",
              "      background-color: #434B5C;\n",
              "      box-shadow: 0px 1px 3px 1px rgba(0, 0, 0, 0.15);\n",
              "      filter: drop-shadow(0px 1px 2px rgba(0, 0, 0, 0.3));\n",
              "      fill: #FFFFFF;\n",
              "    }\n",
              "  </style>\n",
              "\n",
              "      <script>\n",
              "        const buttonEl =\n",
              "          document.querySelector('#df-20e63b2f-d9d1-486f-a160-3cbc54336400 button.colab-df-convert');\n",
              "        buttonEl.style.display =\n",
              "          google.colab.kernel.accessAllowed ? 'block' : 'none';\n",
              "\n",
              "        async function convertToInteractive(key) {\n",
              "          const element = document.querySelector('#df-20e63b2f-d9d1-486f-a160-3cbc54336400');\n",
              "          const dataTable =\n",
              "            await google.colab.kernel.invokeFunction('convertToInteractive',\n",
              "                                                     [key], {});\n",
              "          if (!dataTable) return;\n",
              "\n",
              "          const docLinkHtml = 'Like what you see? Visit the ' +\n",
              "            '<a target=\"_blank\" href=https://colab.research.google.com/notebooks/data_table.ipynb>data table notebook</a>'\n",
              "            + ' to learn more about interactive tables.';\n",
              "          element.innerHTML = '';\n",
              "          dataTable['output_type'] = 'display_data';\n",
              "          await google.colab.output.renderOutput(dataTable, element);\n",
              "          const docLink = document.createElement('div');\n",
              "          docLink.innerHTML = docLinkHtml;\n",
              "          element.appendChild(docLink);\n",
              "        }\n",
              "      </script>\n",
              "    </div>\n",
              "  </div>\n",
              "  "
            ]
          },
          "metadata": {},
          "execution_count": 4
        }
      ]
    },
    {
      "cell_type": "code",
      "source": [
        "# BLUE LED\n",
        "df_blue = df[df.label=='blue']\n",
        "df_blue.head()"
      ],
      "metadata": {
        "colab": {
          "base_uri": "https://localhost:8080/",
          "height": 206
        },
        "id": "LhGUQnhyNBTD",
        "outputId": "87fe7a74-35c7-47f3-9bd5-5fd90f11aa9d"
      },
      "execution_count": null,
      "outputs": [
        {
          "output_type": "execute_result",
          "data": {
            "text/plain": [
              "   Smu1.Time[1][1]      CS_I         LFS_I label on/off\n",
              "0         0.000000  0.000027  2.464909e-07  blue    off\n",
              "1         0.141018  0.000018  2.429471e-07  blue    off\n",
              "2         0.282002  0.000015  2.427836e-07  blue    off\n",
              "3         0.422960  0.000012  2.423847e-07  blue    off\n",
              "4         0.563926  0.000011  2.409984e-07  blue    off"
            ],
            "text/html": [
              "\n",
              "  <div id=\"df-94338695-89ab-4e7b-bd8d-10ce5d538a0c\">\n",
              "    <div class=\"colab-df-container\">\n",
              "      <div>\n",
              "<style scoped>\n",
              "    .dataframe tbody tr th:only-of-type {\n",
              "        vertical-align: middle;\n",
              "    }\n",
              "\n",
              "    .dataframe tbody tr th {\n",
              "        vertical-align: top;\n",
              "    }\n",
              "\n",
              "    .dataframe thead th {\n",
              "        text-align: right;\n",
              "    }\n",
              "</style>\n",
              "<table border=\"1\" class=\"dataframe\">\n",
              "  <thead>\n",
              "    <tr style=\"text-align: right;\">\n",
              "      <th></th>\n",
              "      <th>Smu1.Time[1][1]</th>\n",
              "      <th>CS_I</th>\n",
              "      <th>LFS_I</th>\n",
              "      <th>label</th>\n",
              "      <th>on/off</th>\n",
              "    </tr>\n",
              "  </thead>\n",
              "  <tbody>\n",
              "    <tr>\n",
              "      <th>0</th>\n",
              "      <td>0.000000</td>\n",
              "      <td>0.000027</td>\n",
              "      <td>2.464909e-07</td>\n",
              "      <td>blue</td>\n",
              "      <td>off</td>\n",
              "    </tr>\n",
              "    <tr>\n",
              "      <th>1</th>\n",
              "      <td>0.141018</td>\n",
              "      <td>0.000018</td>\n",
              "      <td>2.429471e-07</td>\n",
              "      <td>blue</td>\n",
              "      <td>off</td>\n",
              "    </tr>\n",
              "    <tr>\n",
              "      <th>2</th>\n",
              "      <td>0.282002</td>\n",
              "      <td>0.000015</td>\n",
              "      <td>2.427836e-07</td>\n",
              "      <td>blue</td>\n",
              "      <td>off</td>\n",
              "    </tr>\n",
              "    <tr>\n",
              "      <th>3</th>\n",
              "      <td>0.422960</td>\n",
              "      <td>0.000012</td>\n",
              "      <td>2.423847e-07</td>\n",
              "      <td>blue</td>\n",
              "      <td>off</td>\n",
              "    </tr>\n",
              "    <tr>\n",
              "      <th>4</th>\n",
              "      <td>0.563926</td>\n",
              "      <td>0.000011</td>\n",
              "      <td>2.409984e-07</td>\n",
              "      <td>blue</td>\n",
              "      <td>off</td>\n",
              "    </tr>\n",
              "  </tbody>\n",
              "</table>\n",
              "</div>\n",
              "      <button class=\"colab-df-convert\" onclick=\"convertToInteractive('df-94338695-89ab-4e7b-bd8d-10ce5d538a0c')\"\n",
              "              title=\"Convert this dataframe to an interactive table.\"\n",
              "              style=\"display:none;\">\n",
              "        \n",
              "  <svg xmlns=\"http://www.w3.org/2000/svg\" height=\"24px\"viewBox=\"0 0 24 24\"\n",
              "       width=\"24px\">\n",
              "    <path d=\"M0 0h24v24H0V0z\" fill=\"none\"/>\n",
              "    <path d=\"M18.56 5.44l.94 2.06.94-2.06 2.06-.94-2.06-.94-.94-2.06-.94 2.06-2.06.94zm-11 1L8.5 8.5l.94-2.06 2.06-.94-2.06-.94L8.5 2.5l-.94 2.06-2.06.94zm10 10l.94 2.06.94-2.06 2.06-.94-2.06-.94-.94-2.06-.94 2.06-2.06.94z\"/><path d=\"M17.41 7.96l-1.37-1.37c-.4-.4-.92-.59-1.43-.59-.52 0-1.04.2-1.43.59L10.3 9.45l-7.72 7.72c-.78.78-.78 2.05 0 2.83L4 21.41c.39.39.9.59 1.41.59.51 0 1.02-.2 1.41-.59l7.78-7.78 2.81-2.81c.8-.78.8-2.07 0-2.86zM5.41 20L4 18.59l7.72-7.72 1.47 1.35L5.41 20z\"/>\n",
              "  </svg>\n",
              "      </button>\n",
              "      \n",
              "  <style>\n",
              "    .colab-df-container {\n",
              "      display:flex;\n",
              "      flex-wrap:wrap;\n",
              "      gap: 12px;\n",
              "    }\n",
              "\n",
              "    .colab-df-convert {\n",
              "      background-color: #E8F0FE;\n",
              "      border: none;\n",
              "      border-radius: 50%;\n",
              "      cursor: pointer;\n",
              "      display: none;\n",
              "      fill: #1967D2;\n",
              "      height: 32px;\n",
              "      padding: 0 0 0 0;\n",
              "      width: 32px;\n",
              "    }\n",
              "\n",
              "    .colab-df-convert:hover {\n",
              "      background-color: #E2EBFA;\n",
              "      box-shadow: 0px 1px 2px rgba(60, 64, 67, 0.3), 0px 1px 3px 1px rgba(60, 64, 67, 0.15);\n",
              "      fill: #174EA6;\n",
              "    }\n",
              "\n",
              "    [theme=dark] .colab-df-convert {\n",
              "      background-color: #3B4455;\n",
              "      fill: #D2E3FC;\n",
              "    }\n",
              "\n",
              "    [theme=dark] .colab-df-convert:hover {\n",
              "      background-color: #434B5C;\n",
              "      box-shadow: 0px 1px 3px 1px rgba(0, 0, 0, 0.15);\n",
              "      filter: drop-shadow(0px 1px 2px rgba(0, 0, 0, 0.3));\n",
              "      fill: #FFFFFF;\n",
              "    }\n",
              "  </style>\n",
              "\n",
              "      <script>\n",
              "        const buttonEl =\n",
              "          document.querySelector('#df-94338695-89ab-4e7b-bd8d-10ce5d538a0c button.colab-df-convert');\n",
              "        buttonEl.style.display =\n",
              "          google.colab.kernel.accessAllowed ? 'block' : 'none';\n",
              "\n",
              "        async function convertToInteractive(key) {\n",
              "          const element = document.querySelector('#df-94338695-89ab-4e7b-bd8d-10ce5d538a0c');\n",
              "          const dataTable =\n",
              "            await google.colab.kernel.invokeFunction('convertToInteractive',\n",
              "                                                     [key], {});\n",
              "          if (!dataTable) return;\n",
              "\n",
              "          const docLinkHtml = 'Like what you see? Visit the ' +\n",
              "            '<a target=\"_blank\" href=https://colab.research.google.com/notebooks/data_table.ipynb>data table notebook</a>'\n",
              "            + ' to learn more about interactive tables.';\n",
              "          element.innerHTML = '';\n",
              "          dataTable['output_type'] = 'display_data';\n",
              "          await google.colab.output.renderOutput(dataTable, element);\n",
              "          const docLink = document.createElement('div');\n",
              "          docLink.innerHTML = docLinkHtml;\n",
              "          element.appendChild(docLink);\n",
              "        }\n",
              "      </script>\n",
              "    </div>\n",
              "  </div>\n",
              "  "
            ]
          },
          "metadata": {},
          "execution_count": 6
        }
      ]
    },
    {
      "cell_type": "code",
      "source": [
        "plt.scatter(df_blue['Smu1.Time[1][1]'], df_blue['CS_I'], color='blue')\n",
        "plt.xlabel('Time (sec)')\n",
        "plt.ylabel('Current (ampere)')\n",
        "plt.title('BLUE LED (Commercial Sensor)')"
      ],
      "metadata": {
        "colab": {
          "base_uri": "https://localhost:8080/",
          "height": 312
        },
        "id": "KKVHjpPZPt0_",
        "outputId": "de3d5602-d02d-4310-b1fe-ce9181a2617a"
      },
      "execution_count": null,
      "outputs": [
        {
          "output_type": "execute_result",
          "data": {
            "text/plain": [
              "Text(0.5, 1.0, 'BLUE LED (Commercial Sensor)')"
            ]
          },
          "metadata": {},
          "execution_count": 7
        },
        {
          "output_type": "display_data",
          "data": {
            "text/plain": [
              "<Figure size 432x288 with 1 Axes>"
            ],
            "image/png": "[encoded data removed]"
          },
          "metadata": {
            "needs_background": "light"
          }
        }
      ]
    },
    {
      "cell_type": "code",
      "source": [
        "plt.bar(df_blue['Smu1.Time[1][1]'], df_blue['CS_I'], color='blue')\n",
        "plt.xlabel('Time (sec)')\n",
        "plt.ylabel('Current (ampere)')\n",
        "plt.title('BLUE LED (Commercial Sensor)')"
      ],
      "metadata": {
        "colab": {
          "base_uri": "https://localhost:8080/",
          "height": 312
        },
        "id": "dPavgUNF0BKb",
        "outputId": "9fe9c7e8-eac6-486e-e8be-a8273350e598"
      },
      "execution_count": null,
      "outputs": [
        {
          "output_type": "execute_result",
          "data": {
            "text/plain": [
              "Text(0.5, 1.0, 'BLUE LED (Commercial Sensor)')"
            ]
          },
          "metadata": {},
          "execution_count": 8
        },
        {
          "output_type": "display_data",
          "data": {
            "text/plain": [
              "<Figure size 432x288 with 1 Axes>"
            ],
            "image/png": "[encoded data removed]"
          },
          "metadata": {
            "needs_background": "light"
          }
        }
      ]
    },
    {
      "cell_type": "code",
      "source": [
        "# FLASHLIGHT\n",
        "df_flashlight = df[df.label=='flashlight']\n",
        "df_flashlight.head()"
      ],
      "metadata": {
        "colab": {
          "base_uri": "https://localhost:8080/",
          "height": 206
        },
        "id": "mKltyxcvRJoF",
        "outputId": "90f0cb8d-34c0-41b3-a77e-1131e02dacf4"
      },
      "execution_count": null,
      "outputs": [
        {
          "output_type": "execute_result",
          "data": {
            "text/plain": [
              "      Smu1.Time[1][1]      CS_I         LFS_I       label on/off\n",
              "2107         0.000000  0.000036  2.821663e-07  flashlight    off\n",
              "2108         0.140985  0.000022  2.763977e-07  flashlight    off\n",
              "2109         0.281940  0.000015  2.711628e-07  flashlight    off\n",
              "2110         0.422888  0.000012  2.647126e-07  flashlight    off\n",
              "2111         0.563841  0.000010  2.611094e-07  flashlight    off"
            ],
            "text/html": [
              "\n",
              "  <div id=\"df-67fcd9f3-12e0-4d47-9280-fbce951091bd\">\n",
              "    <div class=\"colab-df-container\">\n",
              "      <div>\n",
              "<style scoped>\n",
              "    .dataframe tbody tr th:only-of-type {\n",
              "        vertical-align: middle;\n",
              "    }\n",
              "\n",
              "    .dataframe tbody tr th {\n",
              "        vertical-align: top;\n",
              "    }\n",
              "\n",
              "    .dataframe thead th {\n",
              "        text-align: right;\n",
              "    }\n",
              "</style>\n",
              "<table border=\"1\" class=\"dataframe\">\n",
              "  <thead>\n",
              "    <tr style=\"text-align: right;\">\n",
              "      <th></th>\n",
              "      <th>Smu1.Time[1][1]</th>\n",
              "      <th>CS_I</th>\n",
              "      <th>LFS_I</th>\n",
              "      <th>label</th>\n",
              "      <th>on/off</th>\n",
              "    </tr>\n",
              "  </thead>\n",
              "  <tbody>\n",
              "    <tr>\n",
              "      <th>2107</th>\n",
              "      <td>0.000000</td>\n",
              "      <td>0.000036</td>\n",
              "      <td>2.821663e-07</td>\n",
              "      <td>flashlight</td>\n",
              "      <td>off</td>\n",
              "    </tr>\n",
              "    <tr>\n",
              "      <th>2108</th>\n",
              "      <td>0.140985</td>\n",
              "      <td>0.000022</td>\n",
              "      <td>2.763977e-07</td>\n",
              "      <td>flashlight</td>\n",
              "      <td>off</td>\n",
              "    </tr>\n",
              "    <tr>\n",
              "      <th>2109</th>\n",
              "      <td>0.281940</td>\n",
              "      <td>0.000015</td>\n",
              "      <td>2.711628e-07</td>\n",
              "      <td>flashlight</td>\n",
              "      <td>off</td>\n",
              "    </tr>\n",
              "    <tr>\n",
              "      <th>2110</th>\n",
              "      <td>0.422888</td>\n",
              "      <td>0.000012</td>\n",
              "      <td>2.647126e-07</td>\n",
              "      <td>flashlight</td>\n",
              "      <td>off</td>\n",
              "    </tr>\n",
              "    <tr>\n",
              "      <th>2111</th>\n",
              "      <td>0.563841</td>\n",
              "      <td>0.000010</td>\n",
              "      <td>2.611094e-07</td>\n",
              "      <td>flashlight</td>\n",
              "      <td>off</td>\n",
              "    </tr>\n",
              "  </tbody>\n",
              "</table>\n",
              "</div>\n",
              "      <button class=\"colab-df-convert\" onclick=\"convertToInteractive('df-67fcd9f3-12e0-4d47-9280-fbce951091bd')\"\n",
              "              title=\"Convert this dataframe to an interactive table.\"\n",
              "              style=\"display:none;\">\n",
              "        \n",
              "  <svg xmlns=\"http://www.w3.org/2000/svg\" height=\"24px\"viewBox=\"0 0 24 24\"\n",
              "       width=\"24px\">\n",
              "    <path d=\"M0 0h24v24H0V0z\" fill=\"none\"/>\n",
              "    <path d=\"M18.56 5.44l.94 2.06.94-2.06 2.06-.94-2.06-.94-.94-2.06-.94 2.06-2.06.94zm-11 1L8.5 8.5l.94-2.06 2.06-.94-2.06-.94L8.5 2.5l-.94 2.06-2.06.94zm10 10l.94 2.06.94-2.06 2.06-.94-2.06-.94-.94-2.06-.94 2.06-2.06.94z\"/><path d=\"M17.41 7.96l-1.37-1.37c-.4-.4-.92-.59-1.43-.59-.52 0-1.04.2-1.43.59L10.3 9.45l-7.72 7.72c-.78.78-.78 2.05 0 2.83L4 21.41c.39.39.9.59 1.41.59.51 0 1.02-.2 1.41-.59l7.78-7.78 2.81-2.81c.8-.78.8-2.07 0-2.86zM5.41 20L4 18.59l7.72-7.72 1.47 1.35L5.41 20z\"/>\n",
              "  </svg>\n",
              "      </button>\n",
              "      \n",
              "  <style>\n",
              "    .colab-df-container {\n",
              "      display:flex;\n",
              "      flex-wrap:wrap;\n",
              "      gap: 12px;\n",
              "    }\n",
              "\n",
              "    .colab-df-convert {\n",
              "      background-color: #E8F0FE;\n",
              "      border: none;\n",
              "      border-radius: 50%;\n",
              "      cursor: pointer;\n",
              "      display: none;\n",
              "      fill: #1967D2;\n",
              "      height: 32px;\n",
              "      padding: 0 0 0 0;\n",
              "      width: 32px;\n",
              "    }\n",
              "\n",
              "    .colab-df-convert:hover {\n",
              "      background-color: #E2EBFA;\n",
              "      box-shadow: 0px 1px 2px rgba(60, 64, 67, 0.3), 0px 1px 3px 1px rgba(60, 64, 67, 0.15);\n",
              "      fill: #174EA6;\n",
              "    }\n",
              "\n",
              "    [theme=dark] .colab-df-convert {\n",
              "      background-color: #3B4455;\n",
              "      fill: #D2E3FC;\n",
              "    }\n",
              "\n",
              "    [theme=dark] .colab-df-convert:hover {\n",
              "      background-color: #434B5C;\n",
              "      box-shadow: 0px 1px 3px 1px rgba(0, 0, 0, 0.15);\n",
              "      filter: drop-shadow(0px 1px 2px rgba(0, 0, 0, 0.3));\n",
              "      fill: #FFFFFF;\n",
              "    }\n",
              "  </style>\n",
              "\n",
              "      <script>\n",
              "        const buttonEl =\n",
              "          document.querySelector('#df-67fcd9f3-12e0-4d47-9280-fbce951091bd button.colab-df-convert');\n",
              "        buttonEl.style.display =\n",
              "          google.colab.kernel.accessAllowed ? 'block' : 'none';\n",
              "\n",
              "        async function convertToInteractive(key) {\n",
              "          const element = document.querySelector('#df-67fcd9f3-12e0-4d47-9280-fbce951091bd');\n",
              "          const dataTable =\n",
              "            await google.colab.kernel.invokeFunction('convertToInteractive',\n",
              "                                                     [key], {});\n",
              "          if (!dataTable) return;\n",
              "\n",
              "          const docLinkHtml = 'Like what you see? Visit the ' +\n",
              "            '<a target=\"_blank\" href=https://colab.research.google.com/notebooks/data_table.ipynb>data table notebook</a>'\n",
              "            + ' to learn more about interactive tables.';\n",
              "          element.innerHTML = '';\n",
              "          dataTable['output_type'] = 'display_data';\n",
              "          await google.colab.output.renderOutput(dataTable, element);\n",
              "          const docLink = document.createElement('div');\n",
              "          docLink.innerHTML = docLinkHtml;\n",
              "          element.appendChild(docLink);\n",
              "        }\n",
              "      </script>\n",
              "    </div>\n",
              "  </div>\n",
              "  "
            ]
          },
          "metadata": {},
          "execution_count": 7
        }
      ]
    },
    {
      "cell_type": "code",
      "source": [
        "plt.bar(df_flashlight['Smu1.Time[1][1]'], df_flashlight['CS_I'], color='cyan')\n",
        "plt.xlabel('Time (sec)')\n",
        "plt.ylabel('Current (ampere)')\n",
        "plt.title('FLASHLIGHT (Commercial Sensor)')"
      ],
      "metadata": {
        "colab": {
          "base_uri": "https://localhost:8080/",
          "height": 312
        },
        "id": "_Sl4_7jc0jqk",
        "outputId": "6ab1f0c6-15c7-493a-e1dd-31524b573fca"
      },
      "execution_count": null,
      "outputs": [
        {
          "output_type": "execute_result",
          "data": {
            "text/plain": [
              "Text(0.5, 1.0, 'FLASHLIGHT (Commercial Sensor)')"
            ]
          },
          "metadata": {},
          "execution_count": 10
        },
        {
          "output_type": "display_data",
          "data": {
            "text/plain": [
              "<Figure size 432x288 with 1 Axes>"
            ],
            "image/png": "[encoded data removed]"
          },
          "metadata": {
            "needs_background": "light"
          }
        }
      ]
    },
    {
      "cell_type": "code",
      "source": [
        "# GREEN LED\n",
        "df_green = df[df.label=='green']\n",
        "df_green.head()"
      ],
      "metadata": {
        "colab": {
          "base_uri": "https://localhost:8080/",
          "height": 206
        },
        "id": "ERHxlqbuzgUY",
        "outputId": "78e6d4d7-74ed-4922-802f-71396f8c67fb"
      },
      "execution_count": null,
      "outputs": [
        {
          "output_type": "execute_result",
          "data": {
            "text/plain": [
              "      Smu1.Time[1][1]      CS_I         LFS_I  label on/off\n",
              "4209         0.000000  0.000026  2.348062e-07  green    off\n",
              "4210         0.141000  0.000019  2.344035e-07  green    off\n",
              "4211         0.281938  0.000015  2.344418e-07  green    off\n",
              "4212         0.422898  0.000013  2.343508e-07  green    off\n",
              "4213         0.563848  0.000011  2.342695e-07  green    off"
            ],
            "text/html": [
              "\n",
              "  <div id=\"df-76778efc-4502-4c5f-bff7-0dc0f34523de\">\n",
              "    <div class=\"colab-df-container\">\n",
              "      <div>\n",
              "<style scoped>\n",
              "    .dataframe tbody tr th:only-of-type {\n",
              "        vertical-align: middle;\n",
              "    }\n",
              "\n",
              "    .dataframe tbody tr th {\n",
              "        vertical-align: top;\n",
              "    }\n",
              "\n",
              "    .dataframe thead th {\n",
              "        text-align: right;\n",
              "    }\n",
              "</style>\n",
              "<table border=\"1\" class=\"dataframe\">\n",
              "  <thead>\n",
              "    <tr style=\"text-align: right;\">\n",
              "      <th></th>\n",
              "      <th>Smu1.Time[1][1]</th>\n",
              "      <th>CS_I</th>\n",
              "      <th>LFS_I</th>\n",
              "      <th>label</th>\n",
              "      <th>on/off</th>\n",
              "    </tr>\n",
              "  </thead>\n",
              "  <tbody>\n",
              "    <tr>\n",
              "      <th>4209</th>\n",
              "      <td>0.000000</td>\n",
              "      <td>0.000026</td>\n",
              "      <td>2.348062e-07</td>\n",
              "      <td>green</td>\n",
              "      <td>off</td>\n",
              "    </tr>\n",
              "    <tr>\n",
              "      <th>4210</th>\n",
              "      <td>0.141000</td>\n",
              "      <td>0.000019</td>\n",
              "      <td>2.344035e-07</td>\n",
              "      <td>green</td>\n",
              "      <td>off</td>\n",
              "    </tr>\n",
              "    <tr>\n",
              "      <th>4211</th>\n",
              "      <td>0.281938</td>\n",
              "      <td>0.000015</td>\n",
              "      <td>2.344418e-07</td>\n",
              "      <td>green</td>\n",
              "      <td>off</td>\n",
              "    </tr>\n",
              "    <tr>\n",
              "      <th>4212</th>\n",
              "      <td>0.422898</td>\n",
              "      <td>0.000013</td>\n",
              "      <td>2.343508e-07</td>\n",
              "      <td>green</td>\n",
              "      <td>off</td>\n",
              "    </tr>\n",
              "    <tr>\n",
              "      <th>4213</th>\n",
              "      <td>0.563848</td>\n",
              "      <td>0.000011</td>\n",
              "      <td>2.342695e-07</td>\n",
              "      <td>green</td>\n",
              "      <td>off</td>\n",
              "    </tr>\n",
              "  </tbody>\n",
              "</table>\n",
              "</div>\n",
              "      <button class=\"colab-df-convert\" onclick=\"convertToInteractive('df-76778efc-4502-4c5f-bff7-0dc0f34523de')\"\n",
              "              title=\"Convert this dataframe to an interactive table.\"\n",
              "              style=\"display:none;\">\n",
              "        \n",
              "  <svg xmlns=\"http://www.w3.org/2000/svg\" height=\"24px\"viewBox=\"0 0 24 24\"\n",
              "       width=\"24px\">\n",
              "    <path d=\"M0 0h24v24H0V0z\" fill=\"none\"/>\n",
              "    <path d=\"M18.56 5.44l.94 2.06.94-2.06 2.06-.94-2.06-.94-.94-2.06-.94 2.06-2.06.94zm-11 1L8.5 8.5l.94-2.06 2.06-.94-2.06-.94L8.5 2.5l-.94 2.06-2.06.94zm10 10l.94 2.06.94-2.06 2.06-.94-2.06-.94-.94-2.06-.94 2.06-2.06.94z\"/><path d=\"M17.41 7.96l-1.37-1.37c-.4-.4-.92-.59-1.43-.59-.52 0-1.04.2-1.43.59L10.3 9.45l-7.72 7.72c-.78.78-.78 2.05 0 2.83L4 21.41c.39.39.9.59 1.41.59.51 0 1.02-.2 1.41-.59l7.78-7.78 2.81-2.81c.8-.78.8-2.07 0-2.86zM5.41 20L4 18.59l7.72-7.72 1.47 1.35L5.41 20z\"/>\n",
              "  </svg>\n",
              "      </button>\n",
              "      \n",
              "  <style>\n",
              "    .colab-df-container {\n",
              "      display:flex;\n",
              "      flex-wrap:wrap;\n",
              "      gap: 12px;\n",
              "    }\n",
              "\n",
              "    .colab-df-convert {\n",
              "      background-color: #E8F0FE;\n",
              "      border: none;\n",
              "      border-radius: 50%;\n",
              "      cursor: pointer;\n",
              "      display: none;\n",
              "      fill: #1967D2;\n",
              "      height: 32px;\n",
              "      padding: 0 0 0 0;\n",
              "      width: 32px;\n",
              "    }\n",
              "\n",
              "    .colab-df-convert:hover {\n",
              "      background-color: #E2EBFA;\n",
              "      box-shadow: 0px 1px 2px rgba(60, 64, 67, 0.3), 0px 1px 3px 1px rgba(60, 64, 67, 0.15);\n",
              "      fill: #174EA6;\n",
              "    }\n",
              "\n",
              "    [theme=dark] .colab-df-convert {\n",
              "      background-color: #3B4455;\n",
              "      fill: #D2E3FC;\n",
              "    }\n",
              "\n",
              "    [theme=dark] .colab-df-convert:hover {\n",
              "      background-color: #434B5C;\n",
              "      box-shadow: 0px 1px 3px 1px rgba(0, 0, 0, 0.15);\n",
              "      filter: drop-shadow(0px 1px 2px rgba(0, 0, 0, 0.3));\n",
              "      fill: #FFFFFF;\n",
              "    }\n",
              "  </style>\n",
              "\n",
              "      <script>\n",
              "        const buttonEl =\n",
              "          document.querySelector('#df-76778efc-4502-4c5f-bff7-0dc0f34523de button.colab-df-convert');\n",
              "        buttonEl.style.display =\n",
              "          google.colab.kernel.accessAllowed ? 'block' : 'none';\n",
              "\n",
              "        async function convertToInteractive(key) {\n",
              "          const element = document.querySelector('#df-76778efc-4502-4c5f-bff7-0dc0f34523de');\n",
              "          const dataTable =\n",
              "            await google.colab.kernel.invokeFunction('convertToInteractive',\n",
              "                                                     [key], {});\n",
              "          if (!dataTable) return;\n",
              "\n",
              "          const docLinkHtml = 'Like what you see? Visit the ' +\n",
              "            '<a target=\"_blank\" href=https://colab.research.google.com/notebooks/data_table.ipynb>data table notebook</a>'\n",
              "            + ' to learn more about interactive tables.';\n",
              "          element.innerHTML = '';\n",
              "          dataTable['output_type'] = 'display_data';\n",
              "          await google.colab.output.renderOutput(dataTable, element);\n",
              "          const docLink = document.createElement('div');\n",
              "          docLink.innerHTML = docLinkHtml;\n",
              "          element.appendChild(docLink);\n",
              "        }\n",
              "      </script>\n",
              "    </div>\n",
              "  </div>\n",
              "  "
            ]
          },
          "metadata": {},
          "execution_count": 8
        }
      ]
    },
    {
      "cell_type": "code",
      "source": [
        "plt.bar(df_green['Smu1.Time[1][1]'], df_green['CS_I'], color='green')\n",
        "plt.xlabel('Time (sec)')\n",
        "plt.ylabel('Current (ampere)')\n",
        "plt.title('GREEN LED (Commercial Sensor)')"
      ],
      "metadata": {
        "colab": {
          "base_uri": "https://localhost:8080/",
          "height": 312
        },
        "id": "jMRb9KOJ0r2R",
        "outputId": "745c6103-f0d1-40bf-a80a-4f3d224157d5"
      },
      "execution_count": null,
      "outputs": [
        {
          "output_type": "execute_result",
          "data": {
            "text/plain": [
              "Text(0.5, 1.0, 'GREEN LED (Commercial Sensor)')"
            ]
          },
          "metadata": {},
          "execution_count": 12
        },
        {
          "output_type": "display_data",
          "data": {
            "text/plain": [
              "<Figure size 432x288 with 1 Axes>"
            ],
            "image/png": "[encoded data removed]"
          },
          "metadata": {
            "needs_background": "light"
          }
        }
      ]
    },
    {
      "cell_type": "code",
      "source": [
        "plt.bar(df_green['Smu1.Time[1][1]'], df_green['CS_I'], color='green')\n",
        "plt.ylim(0.000005, 0.00037)\n",
        "plt.xlabel('Time (sec)')\n",
        "plt.ylabel('Current (ampere)')\n",
        "plt.title('GREEN LED (Commercial Sensor)')"
      ],
      "metadata": {
        "colab": {
          "base_uri": "https://localhost:8080/",
          "height": 312
        },
        "id": "g7wdUxST2FVa",
        "outputId": "e0ad44ce-131b-472b-a3f8-bc8f2628dcc6"
      },
      "execution_count": null,
      "outputs": [
        {
          "output_type": "execute_result",
          "data": {
            "text/plain": [
              "Text(0.5, 1.0, 'GREEN LED (Commercial Sensor)')"
            ]
          },
          "metadata": {},
          "execution_count": 13
        },
        {
          "output_type": "display_data",
          "data": {
            "text/plain": [
              "<Figure size 432x288 with 1 Axes>"
            ],
            "image/png": "[encoded data removed]"
          },
          "metadata": {
            "needs_background": "light"
          }
        }
      ]
    },
    {
      "cell_type": "code",
      "source": [
        "# RED LED\n",
        "df_red = df[df.label=='red']\n",
        "df_red.head()"
      ],
      "metadata": {
        "colab": {
          "base_uri": "https://localhost:8080/",
          "height": 206
        },
        "id": "w9MvZMtmzgO9",
        "outputId": "f9b44456-282a-4589-b0d4-cc047058e115"
      },
      "execution_count": null,
      "outputs": [
        {
          "output_type": "execute_result",
          "data": {
            "text/plain": [
              "      Smu1.Time[1][1]      CS_I         LFS_I label on/off\n",
              "6333         0.000000  0.000030  2.351745e-07   red    off\n",
              "6334         0.141001  0.000021  2.349294e-07   red    off\n",
              "6335         0.281940  0.000017  2.346292e-07   red    off\n",
              "6336         0.422915  0.000014  2.347634e-07   red    off\n",
              "6337         0.563860  0.000013  2.347431e-07   red    off"
            ],
            "text/html": [
              "\n",
              "  <div id=\"df-43b9244e-f7fb-412b-965c-fa5902fef4c6\">\n",
              "    <div class=\"colab-df-container\">\n",
              "      <div>\n",
              "<style scoped>\n",
              "    .dataframe tbody tr th:only-of-type {\n",
              "        vertical-align: middle;\n",
              "    }\n",
              "\n",
              "    .dataframe tbody tr th {\n",
              "        vertical-align: top;\n",
              "    }\n",
              "\n",
              "    .dataframe thead th {\n",
              "        text-align: right;\n",
              "    }\n",
              "</style>\n",
              "<table border=\"1\" class=\"dataframe\">\n",
              "  <thead>\n",
              "    <tr style=\"text-align: right;\">\n",
              "      <th></th>\n",
              "      <th>Smu1.Time[1][1]</th>\n",
              "      <th>CS_I</th>\n",
              "      <th>LFS_I</th>\n",
              "      <th>label</th>\n",
              "      <th>on/off</th>\n",
              "    </tr>\n",
              "  </thead>\n",
              "  <tbody>\n",
              "    <tr>\n",
              "      <th>6333</th>\n",
              "      <td>0.000000</td>\n",
              "      <td>0.000030</td>\n",
              "      <td>2.351745e-07</td>\n",
              "      <td>red</td>\n",
              "      <td>off</td>\n",
              "    </tr>\n",
              "    <tr>\n",
              "      <th>6334</th>\n",
              "      <td>0.141001</td>\n",
              "      <td>0.000021</td>\n",
              "      <td>2.349294e-07</td>\n",
              "      <td>red</td>\n",
              "      <td>off</td>\n",
              "    </tr>\n",
              "    <tr>\n",
              "      <th>6335</th>\n",
              "      <td>0.281940</td>\n",
              "      <td>0.000017</td>\n",
              "      <td>2.346292e-07</td>\n",
              "      <td>red</td>\n",
              "      <td>off</td>\n",
              "    </tr>\n",
              "    <tr>\n",
              "      <th>6336</th>\n",
              "      <td>0.422915</td>\n",
              "      <td>0.000014</td>\n",
              "      <td>2.347634e-07</td>\n",
              "      <td>red</td>\n",
              "      <td>off</td>\n",
              "    </tr>\n",
              "    <tr>\n",
              "      <th>6337</th>\n",
              "      <td>0.563860</td>\n",
              "      <td>0.000013</td>\n",
              "      <td>2.347431e-07</td>\n",
              "      <td>red</td>\n",
              "      <td>off</td>\n",
              "    </tr>\n",
              "  </tbody>\n",
              "</table>\n",
              "</div>\n",
              "      <button class=\"colab-df-convert\" onclick=\"convertToInteractive('df-43b9244e-f7fb-412b-965c-fa5902fef4c6')\"\n",
              "              title=\"Convert this dataframe to an interactive table.\"\n",
              "              style=\"display:none;\">\n",
              "        \n",
              "  <svg xmlns=\"http://www.w3.org/2000/svg\" height=\"24px\"viewBox=\"0 0 24 24\"\n",
              "       width=\"24px\">\n",
              "    <path d=\"M0 0h24v24H0V0z\" fill=\"none\"/>\n",
              "    <path d=\"M18.56 5.44l.94 2.06.94-2.06 2.06-.94-2.06-.94-.94-2.06-.94 2.06-2.06.94zm-11 1L8.5 8.5l.94-2.06 2.06-.94-2.06-.94L8.5 2.5l-.94 2.06-2.06.94zm10 10l.94 2.06.94-2.06 2.06-.94-2.06-.94-.94-2.06-.94 2.06-2.06.94z\"/><path d=\"M17.41 7.96l-1.37-1.37c-.4-.4-.92-.59-1.43-.59-.52 0-1.04.2-1.43.59L10.3 9.45l-7.72 7.72c-.78.78-.78 2.05 0 2.83L4 21.41c.39.39.9.59 1.41.59.51 0 1.02-.2 1.41-.59l7.78-7.78 2.81-2.81c.8-.78.8-2.07 0-2.86zM5.41 20L4 18.59l7.72-7.72 1.47 1.35L5.41 20z\"/>\n",
              "  </svg>\n",
              "      </button>\n",
              "      \n",
              "  <style>\n",
              "    .colab-df-container {\n",
              "      display:flex;\n",
              "      flex-wrap:wrap;\n",
              "      gap: 12px;\n",
              "    }\n",
              "\n",
              "    .colab-df-convert {\n",
              "      background-color: #E8F0FE;\n",
              "      border: none;\n",
              "      border-radius: 50%;\n",
              "      cursor: pointer;\n",
              "      display: none;\n",
              "      fill: #1967D2;\n",
              "      height: 32px;\n",
              "      padding: 0 0 0 0;\n",
              "      width: 32px;\n",
              "    }\n",
              "\n",
              "    .colab-df-convert:hover {\n",
              "      background-color: #E2EBFA;\n",
              "      box-shadow: 0px 1px 2px rgba(60, 64, 67, 0.3), 0px 1px 3px 1px rgba(60, 64, 67, 0.15);\n",
              "      fill: #174EA6;\n",
              "    }\n",
              "\n",
              "    [theme=dark] .colab-df-convert {\n",
              "      background-color: #3B4455;\n",
              "      fill: #D2E3FC;\n",
              "    }\n",
              "\n",
              "    [theme=dark] .colab-df-convert:hover {\n",
              "      background-color: #434B5C;\n",
              "      box-shadow: 0px 1px 3px 1px rgba(0, 0, 0, 0.15);\n",
              "      filter: drop-shadow(0px 1px 2px rgba(0, 0, 0, 0.3));\n",
              "      fill: #FFFFFF;\n",
              "    }\n",
              "  </style>\n",
              "\n",
              "      <script>\n",
              "        const buttonEl =\n",
              "          document.querySelector('#df-43b9244e-f7fb-412b-965c-fa5902fef4c6 button.colab-df-convert');\n",
              "        buttonEl.style.display =\n",
              "          google.colab.kernel.accessAllowed ? 'block' : 'none';\n",
              "\n",
              "        async function convertToInteractive(key) {\n",
              "          const element = document.querySelector('#df-43b9244e-f7fb-412b-965c-fa5902fef4c6');\n",
              "          const dataTable =\n",
              "            await google.colab.kernel.invokeFunction('convertToInteractive',\n",
              "                                                     [key], {});\n",
              "          if (!dataTable) return;\n",
              "\n",
              "          const docLinkHtml = 'Like what you see? Visit the ' +\n",
              "            '<a target=\"_blank\" href=https://colab.research.google.com/notebooks/data_table.ipynb>data table notebook</a>'\n",
              "            + ' to learn more about interactive tables.';\n",
              "          element.innerHTML = '';\n",
              "          dataTable['output_type'] = 'display_data';\n",
              "          await google.colab.output.renderOutput(dataTable, element);\n",
              "          const docLink = document.createElement('div');\n",
              "          docLink.innerHTML = docLinkHtml;\n",
              "          element.appendChild(docLink);\n",
              "        }\n",
              "      </script>\n",
              "    </div>\n",
              "  </div>\n",
              "  "
            ]
          },
          "metadata": {},
          "execution_count": 9
        }
      ]
    },
    {
      "cell_type": "code",
      "source": [
        "plt.bar(df_red['Smu1.Time[1][1]'], df_red['CS_I'], color='red')\n",
        "plt.xlabel('Time (sec)')\n",
        "plt.ylabel('Current (ampere)')\n",
        "plt.title('RED LED (Commercial Sensor)')"
      ],
      "metadata": {
        "colab": {
          "base_uri": "https://localhost:8080/",
          "height": 312
        },
        "id": "8XBKcg1D02Fo",
        "outputId": "28a24e53-4ad5-4ba6-d26e-942f15a69bed"
      },
      "execution_count": null,
      "outputs": [
        {
          "output_type": "execute_result",
          "data": {
            "text/plain": [
              "Text(0.5, 1.0, 'RED LED (Commercial Sensor)')"
            ]
          },
          "metadata": {},
          "execution_count": 15
        },
        {
          "output_type": "display_data",
          "data": {
            "text/plain": [
              "<Figure size 432x288 with 1 Axes>"
            ],
            "image/png": "[encoded data removed]"
          },
          "metadata": {
            "needs_background": "light"
          }
        }
      ]
    },
    {
      "cell_type": "code",
      "source": [
        "plt.bar(df_red['Smu1.Time[1][1]'], df_red['CS_I'], color='red')\n",
        "plt.ylim(0.00001, 0.00055)\n",
        "plt.xlabel('Time (sec)')\n",
        "plt.ylabel('Current (ampere)')\n",
        "plt.title('RED LED (Commercial Sensor)')"
      ],
      "metadata": {
        "colab": {
          "base_uri": "https://localhost:8080/",
          "height": 312
        },
        "id": "GujHmdJzMYgX",
        "outputId": "ba26a656-f717-4906-d4bf-c6ce1f5c7fda"
      },
      "execution_count": null,
      "outputs": [
        {
          "output_type": "execute_result",
          "data": {
            "text/plain": [
              "Text(0.5, 1.0, 'RED LED (Commercial Sensor)')"
            ]
          },
          "metadata": {},
          "execution_count": 16
        },
        {
          "output_type": "display_data",
          "data": {
            "text/plain": [
              "<Figure size 432x288 with 1 Axes>"
            ],
            "image/png": "[encoded data removed]"
          },
          "metadata": {
            "needs_background": "light"
          }
        }
      ]
    },
    {
      "cell_type": "code",
      "source": [
        "# UV LED\n",
        "df_UV = df[df.label=='UV']\n",
        "df_UV.head()"
      ],
      "metadata": {
        "colab": {
          "base_uri": "https://localhost:8080/",
          "height": 206
        },
        "id": "qObHIiEvzgMJ",
        "outputId": "b3bd5eae-4105-433e-8f36-8edc4163e328"
      },
      "execution_count": null,
      "outputs": [
        {
          "output_type": "execute_result",
          "data": {
            "text/plain": [
              "      Smu1.Time[1][1]      CS_I         LFS_I label on/off\n",
              "8447         0.000000  0.000021  2.302697e-07    UV    off\n",
              "8448         0.141012  0.000015  2.303155e-07    UV    off\n",
              "8449         0.281993  0.000012  2.302155e-07    UV    off\n",
              "8450         0.422975  0.000010  2.301637e-07    UV    off\n",
              "8451         0.563933  0.000009  2.300327e-07    UV    off"
            ],
            "text/html": [
              "\n",
              "  <div id=\"df-31e64880-14f7-4fd8-8135-dfd5d95d6b93\">\n",
              "    <div class=\"colab-df-container\">\n",
              "      <div>\n",
              "<style scoped>\n",
              "    .dataframe tbody tr th:only-of-type {\n",
              "        vertical-align: middle;\n",
              "    }\n",
              "\n",
              "    .dataframe tbody tr th {\n",
              "        vertical-align: top;\n",
              "    }\n",
              "\n",
              "    .dataframe thead th {\n",
              "        text-align: right;\n",
              "    }\n",
              "</style>\n",
              "<table border=\"1\" class=\"dataframe\">\n",
              "  <thead>\n",
              "    <tr style=\"text-align: right;\">\n",
              "      <th></th>\n",
              "      <th>Smu1.Time[1][1]</th>\n",
              "      <th>CS_I</th>\n",
              "      <th>LFS_I</th>\n",
              "      <th>label</th>\n",
              "      <th>on/off</th>\n",
              "    </tr>\n",
              "  </thead>\n",
              "  <tbody>\n",
              "    <tr>\n",
              "      <th>8447</th>\n",
              "      <td>0.000000</td>\n",
              "      <td>0.000021</td>\n",
              "      <td>2.302697e-07</td>\n",
              "      <td>UV</td>\n",
              "      <td>off</td>\n",
              "    </tr>\n",
              "    <tr>\n",
              "      <th>8448</th>\n",
              "      <td>0.141012</td>\n",
              "      <td>0.000015</td>\n",
              "      <td>2.303155e-07</td>\n",
              "      <td>UV</td>\n",
              "      <td>off</td>\n",
              "    </tr>\n",
              "    <tr>\n",
              "      <th>8449</th>\n",
              "      <td>0.281993</td>\n",
              "      <td>0.000012</td>\n",
              "      <td>2.302155e-07</td>\n",
              "      <td>UV</td>\n",
              "      <td>off</td>\n",
              "    </tr>\n",
              "    <tr>\n",
              "      <th>8450</th>\n",
              "      <td>0.422975</td>\n",
              "      <td>0.000010</td>\n",
              "      <td>2.301637e-07</td>\n",
              "      <td>UV</td>\n",
              "      <td>off</td>\n",
              "    </tr>\n",
              "    <tr>\n",
              "      <th>8451</th>\n",
              "      <td>0.563933</td>\n",
              "      <td>0.000009</td>\n",
              "      <td>2.300327e-07</td>\n",
              "      <td>UV</td>\n",
              "      <td>off</td>\n",
              "    </tr>\n",
              "  </tbody>\n",
              "</table>\n",
              "</div>\n",
              "      <button class=\"colab-df-convert\" onclick=\"convertToInteractive('df-31e64880-14f7-4fd8-8135-dfd5d95d6b93')\"\n",
              "              title=\"Convert this dataframe to an interactive table.\"\n",
              "              style=\"display:none;\">\n",
              "        \n",
              "  <svg xmlns=\"http://www.w3.org/2000/svg\" height=\"24px\"viewBox=\"0 0 24 24\"\n",
              "       width=\"24px\">\n",
              "    <path d=\"M0 0h24v24H0V0z\" fill=\"none\"/>\n",
              "    <path d=\"M18.56 5.44l.94 2.06.94-2.06 2.06-.94-2.06-.94-.94-2.06-.94 2.06-2.06.94zm-11 1L8.5 8.5l.94-2.06 2.06-.94-2.06-.94L8.5 2.5l-.94 2.06-2.06.94zm10 10l.94 2.06.94-2.06 2.06-.94-2.06-.94-.94-2.06-.94 2.06-2.06.94z\"/><path d=\"M17.41 7.96l-1.37-1.37c-.4-.4-.92-.59-1.43-.59-.52 0-1.04.2-1.43.59L10.3 9.45l-7.72 7.72c-.78.78-.78 2.05 0 2.83L4 21.41c.39.39.9.59 1.41.59.51 0 1.02-.2 1.41-.59l7.78-7.78 2.81-2.81c.8-.78.8-2.07 0-2.86zM5.41 20L4 18.59l7.72-7.72 1.47 1.35L5.41 20z\"/>\n",
              "  </svg>\n",
              "      </button>\n",
              "      \n",
              "  <style>\n",
              "    .colab-df-container {\n",
              "      display:flex;\n",
              "      flex-wrap:wrap;\n",
              "      gap: 12px;\n",
              "    }\n",
              "\n",
              "    .colab-df-convert {\n",
              "      background-color: #E8F0FE;\n",
              "      border: none;\n",
              "      border-radius: 50%;\n",
              "      cursor: pointer;\n",
              "      display: none;\n",
              "      fill: #1967D2;\n",
              "      height: 32px;\n",
              "      padding: 0 0 0 0;\n",
              "      width: 32px;\n",
              "    }\n",
              "\n",
              "    .colab-df-convert:hover {\n",
              "      background-color: #E2EBFA;\n",
              "      box-shadow: 0px 1px 2px rgba(60, 64, 67, 0.3), 0px 1px 3px 1px rgba(60, 64, 67, 0.15);\n",
              "      fill: #174EA6;\n",
              "    }\n",
              "\n",
              "    [theme=dark] .colab-df-convert {\n",
              "      background-color: #3B4455;\n",
              "      fill: #D2E3FC;\n",
              "    }\n",
              "\n",
              "    [theme=dark] .colab-df-convert:hover {\n",
              "      background-color: #434B5C;\n",
              "      box-shadow: 0px 1px 3px 1px rgba(0, 0, 0, 0.15);\n",
              "      filter: drop-shadow(0px 1px 2px rgba(0, 0, 0, 0.3));\n",
              "      fill: #FFFFFF;\n",
              "    }\n",
              "  </style>\n",
              "\n",
              "      <script>\n",
              "        const buttonEl =\n",
              "          document.querySelector('#df-31e64880-14f7-4fd8-8135-dfd5d95d6b93 button.colab-df-convert');\n",
              "        buttonEl.style.display =\n",
              "          google.colab.kernel.accessAllowed ? 'block' : 'none';\n",
              "\n",
              "        async function convertToInteractive(key) {\n",
              "          const element = document.querySelector('#df-31e64880-14f7-4fd8-8135-dfd5d95d6b93');\n",
              "          const dataTable =\n",
              "            await google.colab.kernel.invokeFunction('convertToInteractive',\n",
              "                                                     [key], {});\n",
              "          if (!dataTable) return;\n",
              "\n",
              "          const docLinkHtml = 'Like what you see? Visit the ' +\n",
              "            '<a target=\"_blank\" href=https://colab.research.google.com/notebooks/data_table.ipynb>data table notebook</a>'\n",
              "            + ' to learn more about interactive tables.';\n",
              "          element.innerHTML = '';\n",
              "          dataTable['output_type'] = 'display_data';\n",
              "          await google.colab.output.renderOutput(dataTable, element);\n",
              "          const docLink = document.createElement('div');\n",
              "          docLink.innerHTML = docLinkHtml;\n",
              "          element.appendChild(docLink);\n",
              "        }\n",
              "      </script>\n",
              "    </div>\n",
              "  </div>\n",
              "  "
            ]
          },
          "metadata": {},
          "execution_count": 10
        }
      ]
    },
    {
      "cell_type": "code",
      "source": [
        "plt.bar(df_UV['Smu1.Time[1][1]'], df_UV['CS_I'], color='violet')\n",
        "plt.xlabel('Time (sec)')\n",
        "plt.ylabel('Current (ampere)')\n",
        "plt.title('UV LED (Commercial Sensor)')"
      ],
      "metadata": {
        "colab": {
          "base_uri": "https://localhost:8080/",
          "height": 312
        },
        "id": "eRuVMzbc06sR",
        "outputId": "7f4263e0-41fd-4409-ca45-d6ee8ab5e7bf"
      },
      "execution_count": null,
      "outputs": [
        {
          "output_type": "execute_result",
          "data": {
            "text/plain": [
              "Text(0.5, 1.0, 'UV LED (Commercial Sensor)')"
            ]
          },
          "metadata": {},
          "execution_count": 18
        },
        {
          "output_type": "display_data",
          "data": {
            "text/plain": [
              "<Figure size 432x288 with 1 Axes>"
            ],
            "image/png": "[encoded data removed]"
          },
          "metadata": {
            "needs_background": "light"
          }
        }
      ]
    },
    {
      "cell_type": "code",
      "source": [
        "plt.bar(df_UV['Smu1.Time[1][1]'], df_UV['CS_I'], color='violet')\n",
        "plt.ylim(0.000005, 0.00021)\n",
        "plt.xlabel('Time (sec)')\n",
        "plt.ylabel('Current (ampere)')\n",
        "plt.title('UV LED (Commercial Sensor)')"
      ],
      "metadata": {
        "colab": {
          "base_uri": "https://localhost:8080/",
          "height": 312
        },
        "id": "QjO8oeyo2_ko",
        "outputId": "66ee87d8-f9a1-4b90-c861-9e8e471ec03f"
      },
      "execution_count": null,
      "outputs": [
        {
          "output_type": "execute_result",
          "data": {
            "text/plain": [
              "Text(0.5, 1.0, 'UV LED (Commercial Sensor)')"
            ]
          },
          "metadata": {},
          "execution_count": 19
        },
        {
          "output_type": "display_data",
          "data": {
            "text/plain": [
              "<Figure size 432x288 with 1 Axes>"
            ],
            "image/png": "[encoded data removed]"
          },
          "metadata": {
            "needs_background": "light"
          }
        }
      ]
    },
    {
      "cell_type": "code",
      "source": [
        "# IR LED\n",
        "df_IR = df[df.label=='IR']\n",
        "df_IR.head()"
      ],
      "metadata": {
        "colab": {
          "base_uri": "https://localhost:8080/",
          "height": 206
        },
        "id": "aInHTqY1zgR7",
        "outputId": "bca973e5-f514-44a0-ce0f-70c98b04057a"
      },
      "execution_count": null,
      "outputs": [
        {
          "output_type": "execute_result",
          "data": {
            "text/plain": [
              "       Smu1.Time[1][1]      CS_I         LFS_I label on/off\n",
              "10558         0.000000  0.000006  2.391077e-07    IR    off\n",
              "10559         0.140998  0.000006  2.434755e-07    IR    off\n",
              "10560         0.281955  0.000006  2.378559e-07    IR    off\n",
              "10561         0.422919  0.000006  2.374398e-07    IR    off\n",
              "10562         0.563883  0.000006  2.373503e-07    IR    off"
            ],
            "text/html": [
              "\n",
              "  <div id=\"df-82962e19-6b07-4601-ab2f-0b9cca17841f\">\n",
              "    <div class=\"colab-df-container\">\n",
              "      <div>\n",
              "<style scoped>\n",
              "    .dataframe tbody tr th:only-of-type {\n",
              "        vertical-align: middle;\n",
              "    }\n",
              "\n",
              "    .dataframe tbody tr th {\n",
              "        vertical-align: top;\n",
              "    }\n",
              "\n",
              "    .dataframe thead th {\n",
              "        text-align: right;\n",
              "    }\n",
              "</style>\n",
              "<table border=\"1\" class=\"dataframe\">\n",
              "  <thead>\n",
              "    <tr style=\"text-align: right;\">\n",
              "      <th></th>\n",
              "      <th>Smu1.Time[1][1]</th>\n",
              "      <th>CS_I</th>\n",
              "      <th>LFS_I</th>\n",
              "      <th>label</th>\n",
              "      <th>on/off</th>\n",
              "    </tr>\n",
              "  </thead>\n",
              "  <tbody>\n",
              "    <tr>\n",
              "      <th>10558</th>\n",
              "      <td>0.000000</td>\n",
              "      <td>0.000006</td>\n",
              "      <td>2.391077e-07</td>\n",
              "      <td>IR</td>\n",
              "      <td>off</td>\n",
              "    </tr>\n",
              "    <tr>\n",
              "      <th>10559</th>\n",
              "      <td>0.140998</td>\n",
              "      <td>0.000006</td>\n",
              "      <td>2.434755e-07</td>\n",
              "      <td>IR</td>\n",
              "      <td>off</td>\n",
              "    </tr>\n",
              "    <tr>\n",
              "      <th>10560</th>\n",
              "      <td>0.281955</td>\n",
              "      <td>0.000006</td>\n",
              "      <td>2.378559e-07</td>\n",
              "      <td>IR</td>\n",
              "      <td>off</td>\n",
              "    </tr>\n",
              "    <tr>\n",
              "      <th>10561</th>\n",
              "      <td>0.422919</td>\n",
              "      <td>0.000006</td>\n",
              "      <td>2.374398e-07</td>\n",
              "      <td>IR</td>\n",
              "      <td>off</td>\n",
              "    </tr>\n",
              "    <tr>\n",
              "      <th>10562</th>\n",
              "      <td>0.563883</td>\n",
              "      <td>0.000006</td>\n",
              "      <td>2.373503e-07</td>\n",
              "      <td>IR</td>\n",
              "      <td>off</td>\n",
              "    </tr>\n",
              "  </tbody>\n",
              "</table>\n",
              "</div>\n",
              "      <button class=\"colab-df-convert\" onclick=\"convertToInteractive('df-82962e19-6b07-4601-ab2f-0b9cca17841f')\"\n",
              "              title=\"Convert this dataframe to an interactive table.\"\n",
              "              style=\"display:none;\">\n",
              "        \n",
              "  <svg xmlns=\"http://www.w3.org/2000/svg\" height=\"24px\"viewBox=\"0 0 24 24\"\n",
              "       width=\"24px\">\n",
              "    <path d=\"M0 0h24v24H0V0z\" fill=\"none\"/>\n",
              "    <path d=\"M18.56 5.44l.94 2.06.94-2.06 2.06-.94-2.06-.94-.94-2.06-.94 2.06-2.06.94zm-11 1L8.5 8.5l.94-2.06 2.06-.94-2.06-.94L8.5 2.5l-.94 2.06-2.06.94zm10 10l.94 2.06.94-2.06 2.06-.94-2.06-.94-.94-2.06-.94 2.06-2.06.94z\"/><path d=\"M17.41 7.96l-1.37-1.37c-.4-.4-.92-.59-1.43-.59-.52 0-1.04.2-1.43.59L10.3 9.45l-7.72 7.72c-.78.78-.78 2.05 0 2.83L4 21.41c.39.39.9.59 1.41.59.51 0 1.02-.2 1.41-.59l7.78-7.78 2.81-2.81c.8-.78.8-2.07 0-2.86zM5.41 20L4 18.59l7.72-7.72 1.47 1.35L5.41 20z\"/>\n",
              "  </svg>\n",
              "      </button>\n",
              "      \n",
              "  <style>\n",
              "    .colab-df-container {\n",
              "      display:flex;\n",
              "      flex-wrap:wrap;\n",
              "      gap: 12px;\n",
              "    }\n",
              "\n",
              "    .colab-df-convert {\n",
              "      background-color: #E8F0FE;\n",
              "      border: none;\n",
              "      border-radius: 50%;\n",
              "      cursor: pointer;\n",
              "      display: none;\n",
              "      fill: #1967D2;\n",
              "      height: 32px;\n",
              "      padding: 0 0 0 0;\n",
              "      width: 32px;\n",
              "    }\n",
              "\n",
              "    .colab-df-convert:hover {\n",
              "      background-color: #E2EBFA;\n",
              "      box-shadow: 0px 1px 2px rgba(60, 64, 67, 0.3), 0px 1px 3px 1px rgba(60, 64, 67, 0.15);\n",
              "      fill: #174EA6;\n",
              "    }\n",
              "\n",
              "    [theme=dark] .colab-df-convert {\n",
              "      background-color: #3B4455;\n",
              "      fill: #D2E3FC;\n",
              "    }\n",
              "\n",
              "    [theme=dark] .colab-df-convert:hover {\n",
              "      background-color: #434B5C;\n",
              "      box-shadow: 0px 1px 3px 1px rgba(0, 0, 0, 0.15);\n",
              "      filter: drop-shadow(0px 1px 2px rgba(0, 0, 0, 0.3));\n",
              "      fill: #FFFFFF;\n",
              "    }\n",
              "  </style>\n",
              "\n",
              "      <script>\n",
              "        const buttonEl =\n",
              "          document.querySelector('#df-82962e19-6b07-4601-ab2f-0b9cca17841f button.colab-df-convert');\n",
              "        buttonEl.style.display =\n",
              "          google.colab.kernel.accessAllowed ? 'block' : 'none';\n",
              "\n",
              "        async function convertToInteractive(key) {\n",
              "          const element = document.querySelector('#df-82962e19-6b07-4601-ab2f-0b9cca17841f');\n",
              "          const dataTable =\n",
              "            await google.colab.kernel.invokeFunction('convertToInteractive',\n",
              "                                                     [key], {});\n",
              "          if (!dataTable) return;\n",
              "\n",
              "          const docLinkHtml = 'Like what you see? Visit the ' +\n",
              "            '<a target=\"_blank\" href=https://colab.research.google.com/notebooks/data_table.ipynb>data table notebook</a>'\n",
              "            + ' to learn more about interactive tables.';\n",
              "          element.innerHTML = '';\n",
              "          dataTable['output_type'] = 'display_data';\n",
              "          await google.colab.output.renderOutput(dataTable, element);\n",
              "          const docLink = document.createElement('div');\n",
              "          docLink.innerHTML = docLinkHtml;\n",
              "          element.appendChild(docLink);\n",
              "        }\n",
              "      </script>\n",
              "    </div>\n",
              "  </div>\n",
              "  "
            ]
          },
          "metadata": {},
          "execution_count": 11
        }
      ]
    },
    {
      "cell_type": "code",
      "source": [
        "plt.bar(df_IR['Smu1.Time[1][1]'], df_IR['CS_I'], color='DarkMagenta')\n",
        "plt.xlabel('Time (sec)')\n",
        "plt.ylabel('Current (ampere)')\n",
        "plt.title('IR LED (Commercial Sensor)')"
      ],
      "metadata": {
        "colab": {
          "base_uri": "https://localhost:8080/",
          "height": 312
        },
        "id": "9P5xQqkR0xAx",
        "outputId": "d1fa65e0-86fe-4fed-db34-50aae014e965"
      },
      "execution_count": null,
      "outputs": [
        {
          "output_type": "execute_result",
          "data": {
            "text/plain": [
              "Text(0.5, 1.0, 'IR LED (Commercial Sensor)')"
            ]
          },
          "metadata": {},
          "execution_count": 21
        },
        {
          "output_type": "display_data",
          "data": {
            "text/plain": [
              "<Figure size 432x288 with 1 Axes>"
            ],
            "image/png": "[encoded data removed]"
          },
          "metadata": {
            "needs_background": "light"
          }
        }
      ]
    },
    {
      "cell_type": "code",
      "source": [
        "plt.bar(df_IR['Smu1.Time[1][1]'], df_IR['CS_I'], color='DarkMagenta')\n",
        "plt.ylim(0.6*1e-5, 1*1e-5)\n",
        "plt.xlabel('Time (sec)')\n",
        "plt.ylabel('Current (ampere)')\n",
        "plt.title('IR LED (Commercial Sensor)')"
      ],
      "metadata": {
        "colab": {
          "base_uri": "https://localhost:8080/",
          "height": 312
        },
        "id": "vCX4MBzQ1evs",
        "outputId": "e92a0620-8aa5-4fa4-d24c-de4cd2eb6e03"
      },
      "execution_count": null,
      "outputs": [
        {
          "output_type": "execute_result",
          "data": {
            "text/plain": [
              "Text(0.5, 1.0, 'IR LED (Commercial Sensor)')"
            ]
          },
          "metadata": {},
          "execution_count": 22
        },
        {
          "output_type": "display_data",
          "data": {
            "text/plain": [
              "<Figure size 432x288 with 1 Axes>"
            ],
            "image/png": "[encoded data removed]"
          },
          "metadata": {
            "needs_background": "light"
          }
        }
      ]
    },
    {
      "cell_type": "code",
      "source": [
        "# All Light Source\n",
        "# UBGRI\n",
        "df_all_light_source = df[df.label=='UBGRI']\n",
        "df_all_light_source.head()"
      ],
      "metadata": {
        "id": "rY132kIkzgI4",
        "colab": {
          "base_uri": "https://localhost:8080/",
          "height": 206
        },
        "outputId": "79e0aa73-95c8-4501-90bb-ec0185339a4b"
      },
      "execution_count": null,
      "outputs": [
        {
          "output_type": "execute_result",
          "data": {
            "text/plain": [
              "       Smu1.Time[1][1]      CS_I         LFS_I  label on/off\n",
              "12711         0.000000  0.000017  1.998571e-07  UBGRI    off\n",
              "12712         0.141014  0.000014  1.980626e-07  UBGRI    off\n",
              "12713         0.281984  0.000012  1.973560e-07  UBGRI    off\n",
              "12714         0.422937  0.000010  1.966085e-07  UBGRI    off\n",
              "12715         0.563905  0.000009  1.959135e-07  UBGRI    off"
            ],
            "text/html": [
              "\n",
              "  <div id=\"df-ca49786d-a93f-450b-9cfc-78bc28b8cc7e\">\n",
              "    <div class=\"colab-df-container\">\n",
              "      <div>\n",
              "<style scoped>\n",
              "    .dataframe tbody tr th:only-of-type {\n",
              "        vertical-align: middle;\n",
              "    }\n",
              "\n",
              "    .dataframe tbody tr th {\n",
              "        vertical-align: top;\n",
              "    }\n",
              "\n",
              "    .dataframe thead th {\n",
              "        text-align: right;\n",
              "    }\n",
              "</style>\n",
              "<table border=\"1\" class=\"dataframe\">\n",
              "  <thead>\n",
              "    <tr style=\"text-align: right;\">\n",
              "      <th></th>\n",
              "      <th>Smu1.Time[1][1]</th>\n",
              "      <th>CS_I</th>\n",
              "      <th>LFS_I</th>\n",
              "      <th>label</th>\n",
              "      <th>on/off</th>\n",
              "    </tr>\n",
              "  </thead>\n",
              "  <tbody>\n",
              "    <tr>\n",
              "      <th>12711</th>\n",
              "      <td>0.000000</td>\n",
              "      <td>0.000017</td>\n",
              "      <td>1.998571e-07</td>\n",
              "      <td>UBGRI</td>\n",
              "      <td>off</td>\n",
              "    </tr>\n",
              "    <tr>\n",
              "      <th>12712</th>\n",
              "      <td>0.141014</td>\n",
              "      <td>0.000014</td>\n",
              "      <td>1.980626e-07</td>\n",
              "      <td>UBGRI</td>\n",
              "      <td>off</td>\n",
              "    </tr>\n",
              "    <tr>\n",
              "      <th>12713</th>\n",
              "      <td>0.281984</td>\n",
              "      <td>0.000012</td>\n",
              "      <td>1.973560e-07</td>\n",
              "      <td>UBGRI</td>\n",
              "      <td>off</td>\n",
              "    </tr>\n",
              "    <tr>\n",
              "      <th>12714</th>\n",
              "      <td>0.422937</td>\n",
              "      <td>0.000010</td>\n",
              "      <td>1.966085e-07</td>\n",
              "      <td>UBGRI</td>\n",
              "      <td>off</td>\n",
              "    </tr>\n",
              "    <tr>\n",
              "      <th>12715</th>\n",
              "      <td>0.563905</td>\n",
              "      <td>0.000009</td>\n",
              "      <td>1.959135e-07</td>\n",
              "      <td>UBGRI</td>\n",
              "      <td>off</td>\n",
              "    </tr>\n",
              "  </tbody>\n",
              "</table>\n",
              "</div>\n",
              "      <button class=\"colab-df-convert\" onclick=\"convertToInteractive('df-ca49786d-a93f-450b-9cfc-78bc28b8cc7e')\"\n",
              "              title=\"Convert this dataframe to an interactive table.\"\n",
              "              style=\"display:none;\">\n",
              "        \n",
              "  <svg xmlns=\"http://www.w3.org/2000/svg\" height=\"24px\"viewBox=\"0 0 24 24\"\n",
              "       width=\"24px\">\n",
              "    <path d=\"M0 0h24v24H0V0z\" fill=\"none\"/>\n",
              "    <path d=\"M18.56 5.44l.94 2.06.94-2.06 2.06-.94-2.06-.94-.94-2.06-.94 2.06-2.06.94zm-11 1L8.5 8.5l.94-2.06 2.06-.94-2.06-.94L8.5 2.5l-.94 2.06-2.06.94zm10 10l.94 2.06.94-2.06 2.06-.94-2.06-.94-.94-2.06-.94 2.06-2.06.94z\"/><path d=\"M17.41 7.96l-1.37-1.37c-.4-.4-.92-.59-1.43-.59-.52 0-1.04.2-1.43.59L10.3 9.45l-7.72 7.72c-.78.78-.78 2.05 0 2.83L4 21.41c.39.39.9.59 1.41.59.51 0 1.02-.2 1.41-.59l7.78-7.78 2.81-2.81c.8-.78.8-2.07 0-2.86zM5.41 20L4 18.59l7.72-7.72 1.47 1.35L5.41 20z\"/>\n",
              "  </svg>\n",
              "      </button>\n",
              "      \n",
              "  <style>\n",
              "    .colab-df-container {\n",
              "      display:flex;\n",
              "      flex-wrap:wrap;\n",
              "      gap: 12px;\n",
              "    }\n",
              "\n",
              "    .colab-df-convert {\n",
              "      background-color: #E8F0FE;\n",
              "      border: none;\n",
              "      border-radius: 50%;\n",
              "      cursor: pointer;\n",
              "      display: none;\n",
              "      fill: #1967D2;\n",
              "      height: 32px;\n",
              "      padding: 0 0 0 0;\n",
              "      width: 32px;\n",
              "    }\n",
              "\n",
              "    .colab-df-convert:hover {\n",
              "      background-color: #E2EBFA;\n",
              "      box-shadow: 0px 1px 2px rgba(60, 64, 67, 0.3), 0px 1px 3px 1px rgba(60, 64, 67, 0.15);\n",
              "      fill: #174EA6;\n",
              "    }\n",
              "\n",
              "    [theme=dark] .colab-df-convert {\n",
              "      background-color: #3B4455;\n",
              "      fill: #D2E3FC;\n",
              "    }\n",
              "\n",
              "    [theme=dark] .colab-df-convert:hover {\n",
              "      background-color: #434B5C;\n",
              "      box-shadow: 0px 1px 3px 1px rgba(0, 0, 0, 0.15);\n",
              "      filter: drop-shadow(0px 1px 2px rgba(0, 0, 0, 0.3));\n",
              "      fill: #FFFFFF;\n",
              "    }\n",
              "  </style>\n",
              "\n",
              "      <script>\n",
              "        const buttonEl =\n",
              "          document.querySelector('#df-ca49786d-a93f-450b-9cfc-78bc28b8cc7e button.colab-df-convert');\n",
              "        buttonEl.style.display =\n",
              "          google.colab.kernel.accessAllowed ? 'block' : 'none';\n",
              "\n",
              "        async function convertToInteractive(key) {\n",
              "          const element = document.querySelector('#df-ca49786d-a93f-450b-9cfc-78bc28b8cc7e');\n",
              "          const dataTable =\n",
              "            await google.colab.kernel.invokeFunction('convertToInteractive',\n",
              "                                                     [key], {});\n",
              "          if (!dataTable) return;\n",
              "\n",
              "          const docLinkHtml = 'Like what you see? Visit the ' +\n",
              "            '<a target=\"_blank\" href=https://colab.research.google.com/notebooks/data_table.ipynb>data table notebook</a>'\n",
              "            + ' to learn more about interactive tables.';\n",
              "          element.innerHTML = '';\n",
              "          dataTable['output_type'] = 'display_data';\n",
              "          await google.colab.output.renderOutput(dataTable, element);\n",
              "          const docLink = document.createElement('div');\n",
              "          docLink.innerHTML = docLinkHtml;\n",
              "          element.appendChild(docLink);\n",
              "        }\n",
              "      </script>\n",
              "    </div>\n",
              "  </div>\n",
              "  "
            ]
          },
          "metadata": {},
          "execution_count": 12
        }
      ]
    },
    {
      "cell_type": "code",
      "source": [
        "plt.bar(df_all_light_source['Smu1.Time[1][1]'], df_all_light_source['CS_I'], color='LawnGreen')\n",
        "plt.xlabel('Time (sec)')\n",
        "plt.ylabel('Current (ampere)')\n",
        "plt.title('All Light Source (commercial sensor)')"
      ],
      "metadata": {
        "colab": {
          "base_uri": "https://localhost:8080/",
          "height": 312
        },
        "id": "Y3cUpgQcVNRf",
        "outputId": "5e90654a-65de-49a1-e5f0-1608919ad9f1"
      },
      "execution_count": null,
      "outputs": [
        {
          "output_type": "execute_result",
          "data": {
            "text/plain": [
              "Text(0.5, 1.0, 'All Light Source (commercial sensor)')"
            ]
          },
          "metadata": {},
          "execution_count": 24
        },
        {
          "output_type": "display_data",
          "data": {
            "text/plain": [
              "<Figure size 432x288 with 1 Axes>"
            ],
            "image/png": "[encoded data removed]"
          },
          "metadata": {
            "needs_background": "light"
          }
        }
      ]
    },
    {
      "cell_type": "code",
      "source": [],
      "metadata": {
        "id": "LkpPxqBbzgFc"
      },
      "execution_count": null,
      "outputs": []
    },
    {
      "cell_type": "code",
      "source": [],
      "metadata": {
        "id": "gwIUuRtUc14Z"
      },
      "execution_count": null,
      "outputs": []
    },
    {
      "cell_type": "code",
      "source": [
        "# Imax - Imin\n",
        "UVmax = df_UV['CS_I'].max()\n",
        "UVmin = df_UV['CS_I'].min()\n",
        "Bluemax = df_blue['CS_I'].max()\n",
        "Bluemin = df_blue['CS_I'].min()\n",
        "Greenmax = df_green['CS_I'].max()\n",
        "Greenmin = df_green['CS_I'].min()\n",
        "Redmax = df_red['CS_I'].max()\n",
        "Redmin = df_red['CS_I'].min()\n",
        "IRmax = df_IR['CS_I'].max()\n",
        "IRmin = df_IR['CS_I'].min()\n",
        "Flashlightmax = df_flashlight['CS_I'].max()\n",
        "Flashlightmin = df_flashlight['CS_I'].min()\n",
        "All_light_sourcemax = df_all_light_source['CS_I'].max()\n",
        "All_light_sourcemin = df_all_light_source['CS_I'].min()\n",
        "\n",
        "difference = [UVmax-UVmin, Bluemax-Bluemin, Greenmax-Greenmin, Redmax-Redmin, IRmax-IRmin, Flashlightmax-Flashlightmin, All_light_sourcemax-All_light_sourcemin]\n",
        "\n",
        "difference"
      ],
      "metadata": {
        "colab": {
          "base_uri": "https://localhost:8080/"
        },
        "id": "iS3EkvmtDem8",
        "outputId": "639d53b2-8a8b-4421-b3cb-617c075b1352"
      },
      "execution_count": null,
      "outputs": [
        {
          "output_type": "execute_result",
          "data": {
            "text/plain": [
              "[0.00019997092931589623,\n",
              " 0.0010152459444725571,\n",
              " 0.00035484237378113876,\n",
              " 0.0005047456361353397,\n",
              " 4.03211652155733e-06,\n",
              " 0.006796359843065143,\n",
              " 0.002609374656458386]"
            ]
          },
          "metadata": {},
          "execution_count": 13
        }
      ]
    },
    {
      "cell_type": "code",
      "source": [
        "leds = ['UV', 'BLUE', 'GREEN', 'RED', 'IR', 'FLASHLIGHT', 'UBGRI']\n",
        "plt.scatter(leds, difference)\n",
        "plt.xlabel('leds')\n",
        "plt.ylabel('I_max - I_min (Ampere)')"
      ],
      "metadata": {
        "colab": {
          "base_uri": "https://localhost:8080/",
          "height": 296
        },
        "id": "7EabXViJDl9Z",
        "outputId": "0024503d-0a59-4906-80c9-f52c913d01ff"
      },
      "execution_count": null,
      "outputs": [
        {
          "output_type": "execute_result",
          "data": {
            "text/plain": [
              "Text(0, 0.5, 'I_max - I_min (Ampere)')"
            ]
          },
          "metadata": {},
          "execution_count": 14
        },
        {
          "output_type": "display_data",
          "data": {
            "text/plain": [
              "<Figure size 432x288 with 1 Axes>"
            ],
            "image/png": "[encoded data removed]"
          },
          "metadata": {
            "needs_background": "light"
          }
        }
      ]
    },
    {
      "cell_type": "code",
      "source": [
        "plt.bar(leds, difference, color='g')\n",
        "plt.xlabel('light sources')\n",
        "plt.ylabel('I_max - I_min (Ampere)')"
      ],
      "metadata": {
        "colab": {
          "base_uri": "https://localhost:8080/",
          "height": 296
        },
        "id": "Ai0UrR0eETNs",
        "outputId": "ad5df17c-947a-49f2-97f6-7b14b0048be2"
      },
      "execution_count": null,
      "outputs": [
        {
          "output_type": "execute_result",
          "data": {
            "text/plain": [
              "Text(0, 0.5, 'I_max - I_min (Ampere)')"
            ]
          },
          "metadata": {},
          "execution_count": 15
        },
        {
          "output_type": "display_data",
          "data": {
            "text/plain": [
              "<Figure size 432x288 with 1 Axes>"
            ],
            "image/png": "[encoded data removed]"
          },
          "metadata": {
            "needs_background": "light"
          }
        }
      ]
    },
    {
      "cell_type": "code",
      "source": [
        "# diff = difference\n",
        "# diff = [0.00019997092931589623,\n",
        "#  0.0010152459444725571,\n",
        "#  0.00035484237378113876,\n",
        "#  0.0005047456361353397,\n",
        "#  4.03211652155733e-06,\n",
        "#  0.006796359843065143,\n",
        "#  0.002609374656458386]\n",
        "\n",
        "# diff = ['1.99e-4', '1.01e-3', '3.55e-4', '5.05e-4', '4.03e-6', '6.79e-3', '2.61e-3']\n",
        "diff = [1.99e-4, 1.01e-3, 3.55e-4, 5.05e-4, 4.03e-6, 6.79e-3, 2.61e-3]\n",
        "diff"
      ],
      "metadata": {
        "colab": {
          "base_uri": "https://localhost:8080/"
        },
        "id": "5bncVwe6ExZl",
        "outputId": "06134441-6c07-49f3-d230-5a871f4f86cb"
      },
      "execution_count": null,
      "outputs": [
        {
          "output_type": "execute_result",
          "data": {
            "text/plain": [
              "[0.000199, 0.00101, 0.000355, 0.000505, 4.03e-06, 0.00679, 0.00261]"
            ]
          },
          "metadata": {},
          "execution_count": 16
        }
      ]
    },
    {
      "cell_type": "code",
      "source": [
        "# function to add value labels\n",
        "def addlabels(x,y):\n",
        "    for i in range(len(x)):\n",
        "        # plt.text(i, y[i], y[i])\n",
        "        # plt.text(i, y[i], y[i], ha = 'center')\n",
        "        # plt.text(i, y[i], y[i], ha = 'center', Bbox = dict(facecolor = 'white', alpha =.2))\n",
        "        # plt.text(i, y[i], y[i], ha = 'center', Bbox = dict(facecolor = 'red', alpha =.8))\n",
        "        # plt.text(i, y[i]//2, y[i], ha = 'center')\n",
        "        # plt.text(i, y[i]//2,y[i], ha = 'center', Bbox = dict(facecolor = 'white', alpha = .5))\n",
        "\n",
        "        plt.text(i, y[i]+0.0001, y[i], ha = 'center')\n",
        "\n",
        "\n",
        "# plt.figure(figsize=(10,7))\n",
        "plt.figure(figsize = (10,5))\n",
        "plt.bar(leds, difference, color='g')\n",
        "addlabels(leds, diff)\n",
        "plt.title('I_max - I_min for different light sources')\n",
        "plt.xlabel('light sources')\n",
        "plt.ylabel('I_max - I_min (Ampere)')"
      ],
      "metadata": {
        "colab": {
          "base_uri": "https://localhost:8080/",
          "height": 367
        },
        "id": "C1T6mbKcB-EH",
        "outputId": "22adaba1-85c1-4b7b-e9ca-ec3fbb171c24"
      },
      "execution_count": null,
      "outputs": [
        {
          "output_type": "execute_result",
          "data": {
            "text/plain": [
              "Text(0, 0.5, 'I_max - I_min (Ampere)')"
            ]
          },
          "metadata": {},
          "execution_count": 17
        },
        {
          "output_type": "display_data",
          "data": {
            "text/plain": [
              "<Figure size 720x360 with 1 Axes>"
            ],
            "image/png": "[encoded data removed]"
          },
          "metadata": {
            "needs_background": "light"
          }
        }
      ]
    },
    {
      "cell_type": "code",
      "source": [
        "ratio = [ (Flashlightmax-Flashlightmin) / (UVmax-UVmin), \n",
        "          (Flashlightmax-Flashlightmin) / (Bluemax-Bluemin), \n",
        "          (Flashlightmax-Flashlightmin) / (Greenmax-Greenmin), \n",
        "          (Flashlightmax-Flashlightmin) / (Redmax-Redmin), \n",
        "          (Flashlightmax-Flashlightmin) / (IRmax-IRmin),\n",
        "          (Flashlightmax-Flashlightmin) / (Flashlightmax-Flashlightmin),\n",
        "          (Flashlightmax-Flashlightmin) / (All_light_sourcemax-All_light_sourcemin) ]\n",
        "\n",
        "ratio"
      ],
      "metadata": {
        "colab": {
          "base_uri": "https://localhost:8080/"
        },
        "id": "mC2V9q3QrqwO",
        "outputId": "1451d299-69b5-43cd-f97d-dec357297685"
      },
      "execution_count": null,
      "outputs": [
        {
          "output_type": "execute_result",
          "data": {
            "text/plain": [
              "[33.98673930413585,\n",
              " 6.6942989332461735,\n",
              " 19.153179961694857,\n",
              " 13.464920459941935,\n",
              " 1685.5564085831963,\n",
              " 1.0,\n",
              " 2.604593336661592]"
            ]
          },
          "metadata": {},
          "execution_count": 18
        }
      ]
    },
    {
      "cell_type": "code",
      "source": [],
      "metadata": {
        "id": "VSIpX666tPO-"
      },
      "execution_count": null,
      "outputs": []
    },
    {
      "cell_type": "code",
      "source": [],
      "metadata": {
        "id": "vhZ6yuhrLD5a"
      },
      "execution_count": null,
      "outputs": []
    },
    {
      "cell_type": "markdown",
      "source": [
        "# LAB FABRICATED SENSOR DISTANCE CONSTANT"
      ],
      "metadata": {
        "id": "XhrUrtd-RGRu"
      }
    },
    {
      "cell_type": "code",
      "source": [
        "# BLUE LED\n",
        "plt.scatter(df_blue['Smu1.Time[1][1]'], df_blue['LFS_I'], color='blue')\n",
        "plt.xlabel('Time (sec)')\n",
        "plt.ylabel('Current (ampere)')\n",
        "plt.title('BLUE LED (Lab Fabricated Sensor)')"
      ],
      "metadata": {
        "colab": {
          "base_uri": "https://localhost:8080/",
          "height": 312
        },
        "id": "U9X65wTwRKhV",
        "outputId": "8c4673cf-6abf-4e2c-8989-b9fa4c1c4842"
      },
      "execution_count": null,
      "outputs": [
        {
          "output_type": "execute_result",
          "data": {
            "text/plain": [
              "Text(0.5, 1.0, 'BLUE LED (Lab Fabricated Sensor)')"
            ]
          },
          "metadata": {},
          "execution_count": 31
        },
        {
          "output_type": "display_data",
          "data": {
            "text/plain": [
              "<Figure size 432x288 with 1 Axes>"
            ],
            "image/png": "[encoded data removed]"
          },
          "metadata": {
            "needs_background": "light"
          }
        }
      ]
    },
    {
      "cell_type": "code",
      "source": [
        "plt.bar(df_blue['Smu1.Time[1][1]'], df_blue['LFS_I'], color='blue')\n",
        "plt.xlabel('Time (sec)')\n",
        "plt.ylabel('Current (ampere)')\n",
        "plt.title('BLUE LED (Lab Fabricated Sensor)')"
      ],
      "metadata": {
        "colab": {
          "base_uri": "https://localhost:8080/",
          "height": 312
        },
        "id": "v1lMOJh4RKeE",
        "outputId": "94c29bfe-6f04-4350-a0a0-195a624bea05"
      },
      "execution_count": null,
      "outputs": [
        {
          "output_type": "execute_result",
          "data": {
            "text/plain": [
              "Text(0.5, 1.0, 'BLUE LED (Lab Fabricated Sensor)')"
            ]
          },
          "metadata": {},
          "execution_count": 32
        },
        {
          "output_type": "display_data",
          "data": {
            "text/plain": [
              "<Figure size 432x288 with 1 Axes>"
            ],
            "image/png": "[encoded data removed]"
          },
          "metadata": {
            "needs_background": "light"
          }
        }
      ]
    },
    {
      "cell_type": "code",
      "source": [
        "plt.bar(df_blue['Smu1.Time[1][1]'], df_blue['LFS_I'], color='blue')\n",
        "plt.ylim(0.24*1e-6, 1.1*1e-6)\n",
        "plt.xlabel('Time (sec)')\n",
        "plt.ylabel('Current (ampere)')\n",
        "plt.title('BLUE LED (Lab Fabricated Sensor)')"
      ],
      "metadata": {
        "colab": {
          "base_uri": "https://localhost:8080/",
          "height": 312
        },
        "id": "oZVfzRnpRKa2",
        "outputId": "d8f1541d-61ec-4eab-d9b8-7a0437096660"
      },
      "execution_count": null,
      "outputs": [
        {
          "output_type": "execute_result",
          "data": {
            "text/plain": [
              "Text(0.5, 1.0, 'BLUE LED (Lab Fabricated Sensor)')"
            ]
          },
          "metadata": {},
          "execution_count": 33
        },
        {
          "output_type": "display_data",
          "data": {
            "text/plain": [
              "<Figure size 432x288 with 1 Axes>"
            ],
            "image/png": "[encoded data removed]"
          },
          "metadata": {
            "needs_background": "light"
          }
        }
      ]
    },
    {
      "cell_type": "code",
      "source": [
        "# FLASHLIGHT\n",
        "plt.bar(df_flashlight['Smu1.Time[1][1]'], df_flashlight['LFS_I'], color='cyan')\n",
        "plt.xlabel('Time (sec)')\n",
        "plt.ylabel('Current (ampere)')\n",
        "plt.title('FLASHLIGHT (Lab Fabricated Sensor)')"
      ],
      "metadata": {
        "colab": {
          "base_uri": "https://localhost:8080/",
          "height": 312
        },
        "id": "UO7Jw_XcRKUP",
        "outputId": "c74226ee-3a73-4437-97a2-05e724f24c86"
      },
      "execution_count": null,
      "outputs": [
        {
          "output_type": "execute_result",
          "data": {
            "text/plain": [
              "Text(0.5, 1.0, 'FLASHLIGHT (Lab Fabricated Sensor)')"
            ]
          },
          "metadata": {},
          "execution_count": 34
        },
        {
          "output_type": "display_data",
          "data": {
            "text/plain": [
              "<Figure size 432x288 with 1 Axes>"
            ],
            "image/png": "[encoded data removed]"
          },
          "metadata": {
            "needs_background": "light"
          }
        }
      ]
    },
    {
      "cell_type": "code",
      "source": [
        "plt.bar(df_flashlight['Smu1.Time[1][1]'], df_flashlight['LFS_I'], color='cyan')\n",
        "plt.ylim(0.02*1e-5, 1.4*1e-5)\n",
        "plt.xlabel('Time (sec)')\n",
        "plt.ylabel('Current (ampere)')\n",
        "plt.title('FLASHLIGHT (Lab Fabricated Sensor)')"
      ],
      "metadata": {
        "colab": {
          "base_uri": "https://localhost:8080/",
          "height": 312
        },
        "id": "OYwLWl6KRKRK",
        "outputId": "e38b4903-a8e4-4ee1-b3dc-8e80f84fc1f8"
      },
      "execution_count": null,
      "outputs": [
        {
          "output_type": "execute_result",
          "data": {
            "text/plain": [
              "Text(0.5, 1.0, 'FLASHLIGHT (Lab Fabricated Sensor)')"
            ]
          },
          "metadata": {},
          "execution_count": 35
        },
        {
          "output_type": "display_data",
          "data": {
            "text/plain": [
              "<Figure size 432x288 with 1 Axes>"
            ],
            "image/png": "[encoded data removed]"
          },
          "metadata": {
            "needs_background": "light"
          }
        }
      ]
    },
    {
      "cell_type": "code",
      "source": [
        "# GREEN LED\n",
        "plt.bar(df_green['Smu1.Time[1][1]'], df_green['LFS_I'], color='green')\n",
        "plt.xlabel('Time (sec)')\n",
        "plt.ylabel('Current (ampere)')\n",
        "plt.title('GREEN LED (Lab Fabricated Sensor)')"
      ],
      "metadata": {
        "colab": {
          "base_uri": "https://localhost:8080/",
          "height": 312
        },
        "id": "hiwJxxI_RuEU",
        "outputId": "17dc6c83-6828-4d48-d620-8fff62025792"
      },
      "execution_count": null,
      "outputs": [
        {
          "output_type": "execute_result",
          "data": {
            "text/plain": [
              "Text(0.5, 1.0, 'GREEN LED (Lab Fabricated Sensor)')"
            ]
          },
          "metadata": {},
          "execution_count": 36
        },
        {
          "output_type": "display_data",
          "data": {
            "text/plain": [
              "<Figure size 432x288 with 1 Axes>"
            ],
            "image/png": "[encoded data removed]"
          },
          "metadata": {
            "needs_background": "light"
          }
        }
      ]
    },
    {
      "cell_type": "code",
      "source": [
        "plt.bar(df_green['Smu1.Time[1][1]'], df_green['LFS_I'], color='green')\n",
        "plt.ylim(2.36*1e-7, 3.5*1e-7)\n",
        "plt.xlabel('Time (sec)')\n",
        "plt.ylabel('Current (ampere)')\n",
        "plt.title('GREEN LED (Lab Fabricated Sensor)')"
      ],
      "metadata": {
        "colab": {
          "base_uri": "https://localhost:8080/",
          "height": 312
        },
        "id": "AT-v6XOQRuAK",
        "outputId": "351f9e10-64a0-4a44-b8b7-7c4fe25ddd92"
      },
      "execution_count": null,
      "outputs": [
        {
          "output_type": "execute_result",
          "data": {
            "text/plain": [
              "Text(0.5, 1.0, 'GREEN LED (Lab Fabricated Sensor)')"
            ]
          },
          "metadata": {},
          "execution_count": 37
        },
        {
          "output_type": "display_data",
          "data": {
            "text/plain": [
              "<Figure size 432x288 with 1 Axes>"
            ],
            "image/png": "[encoded data removed]"
          },
          "metadata": {
            "needs_background": "light"
          }
        }
      ]
    },
    {
      "cell_type": "code",
      "source": [
        "# RED LED\n",
        "plt.bar(df_red['Smu1.Time[1][1]'], df_red['LFS_I'], color='red')\n",
        "plt.xlabel('Time (sec)')\n",
        "plt.ylabel('Current (ampere)')\n",
        "plt.title('RED LED (Lab Fabricated Sensor)')"
      ],
      "metadata": {
        "colab": {
          "base_uri": "https://localhost:8080/",
          "height": 312
        },
        "id": "rLVwURVsRtxD",
        "outputId": "62e68fce-b24b-46bb-93a1-36fc0963f828"
      },
      "execution_count": null,
      "outputs": [
        {
          "output_type": "execute_result",
          "data": {
            "text/plain": [
              "Text(0.5, 1.0, 'RED LED (Lab Fabricated Sensor)')"
            ]
          },
          "metadata": {},
          "execution_count": 38
        },
        {
          "output_type": "display_data",
          "data": {
            "text/plain": [
              "<Figure size 432x288 with 1 Axes>"
            ],
            "image/png": "[encoded data removed]"
          },
          "metadata": {
            "needs_background": "light"
          }
        }
      ]
    },
    {
      "cell_type": "code",
      "source": [
        "plt.bar(df_red['Smu1.Time[1][1]'], df_red['LFS_I'], color='red')\n",
        "plt.ylim(2.4*1e-7, 2.85*1e-7)\n",
        "plt.xlabel('Time (sec)')\n",
        "plt.ylabel('Current (ampere)')\n",
        "plt.title('RED LED (Lab Fabricated Sensor)')"
      ],
      "metadata": {
        "colab": {
          "base_uri": "https://localhost:8080/",
          "height": 312
        },
        "id": "NG5_obaYRtuZ",
        "outputId": "56aa0d77-f55c-4aa8-cb6b-96e89565785f"
      },
      "execution_count": null,
      "outputs": [
        {
          "output_type": "execute_result",
          "data": {
            "text/plain": [
              "Text(0.5, 1.0, 'RED LED (Lab Fabricated Sensor)')"
            ]
          },
          "metadata": {},
          "execution_count": 39
        },
        {
          "output_type": "display_data",
          "data": {
            "text/plain": [
              "<Figure size 432x288 with 1 Axes>"
            ],
            "image/png": "[encoded data removed]"
          },
          "metadata": {
            "needs_background": "light"
          }
        }
      ]
    },
    {
      "cell_type": "code",
      "source": [
        "# UV LED\n",
        "plt.bar(df_UV['Smu1.Time[1][1]'], df_UV['LFS_I'], color='violet')\n",
        "plt.xlabel('Time (sec)')\n",
        "plt.ylabel('Current (ampere)')\n",
        "plt.title('UV LED (Lab Fabricated Sensor)')"
      ],
      "metadata": {
        "colab": {
          "base_uri": "https://localhost:8080/",
          "height": 312
        },
        "id": "MkW-FmRqSD09",
        "outputId": "d754ab8f-52c7-4a2f-dd24-85c1b98475ef"
      },
      "execution_count": null,
      "outputs": [
        {
          "output_type": "execute_result",
          "data": {
            "text/plain": [
              "Text(0.5, 1.0, 'UV LED (Lab Fabricated Sensor)')"
            ]
          },
          "metadata": {},
          "execution_count": 40
        },
        {
          "output_type": "display_data",
          "data": {
            "text/plain": [
              "<Figure size 432x288 with 1 Axes>"
            ],
            "image/png": "[encoded data removed]"
          },
          "metadata": {
            "needs_background": "light"
          }
        }
      ]
    },
    {
      "cell_type": "code",
      "source": [
        "plt.bar(df_UV['Smu1.Time[1][1]'], df_UV['LFS_I'], color='violet')\n",
        "plt.ylim(2.35*1e-7, 2.56*1e-7)\n",
        "plt.xlabel('Time (sec)')\n",
        "plt.ylabel('Current (ampere)')\n",
        "plt.title('UV LED (Lab Fabricated Sensor)')"
      ],
      "metadata": {
        "colab": {
          "base_uri": "https://localhost:8080/",
          "height": 312
        },
        "id": "u8ej9xlYSDyZ",
        "outputId": "bd5b18c4-de5d-415b-a6a0-ed121dc8b044"
      },
      "execution_count": null,
      "outputs": [
        {
          "output_type": "execute_result",
          "data": {
            "text/plain": [
              "Text(0.5, 1.0, 'UV LED (Lab Fabricated Sensor)')"
            ]
          },
          "metadata": {},
          "execution_count": 41
        },
        {
          "output_type": "display_data",
          "data": {
            "text/plain": [
              "<Figure size 432x288 with 1 Axes>"
            ],
            "image/png": "[encoded data removed]"
          },
          "metadata": {
            "needs_background": "light"
          }
        }
      ]
    },
    {
      "cell_type": "code",
      "source": [
        "# IR LED\n",
        "plt.bar(df_IR['Smu1.Time[1][1]'], df_IR['LFS_I'], color='DarkMagenta')\n",
        "plt.xlabel('Time (sec)')\n",
        "plt.ylabel('Current (ampere)')\n",
        "plt.title('IR LED (Lab Fabricated Sensor)')"
      ],
      "metadata": {
        "colab": {
          "base_uri": "https://localhost:8080/",
          "height": 312
        },
        "id": "zoK_J0DvRt5Q",
        "outputId": "43564d24-184c-4ec4-edb0-06ba359db809"
      },
      "execution_count": null,
      "outputs": [
        {
          "output_type": "execute_result",
          "data": {
            "text/plain": [
              "Text(0.5, 1.0, 'IR LED (Lab Fabricated Sensor)')"
            ]
          },
          "metadata": {},
          "execution_count": 42
        },
        {
          "output_type": "display_data",
          "data": {
            "text/plain": [
              "<Figure size 432x288 with 1 Axes>"
            ],
            "image/png": "[encoded data removed]"
          },
          "metadata": {
            "needs_background": "light"
          }
        }
      ]
    },
    {
      "cell_type": "code",
      "source": [
        "plt.bar(df_IR['Smu1.Time[1][1]'], df_IR['LFS_I'], color='DarkMagenta')\n",
        "plt.ylim(2.4*1e-7, 6.5*1e-7)\n",
        "plt.xlabel('Time (sec)')\n",
        "plt.ylabel('Current (ampere)')\n",
        "plt.title('IR LED (Lab Fabricated Sensor)')"
      ],
      "metadata": {
        "colab": {
          "base_uri": "https://localhost:8080/",
          "height": 312
        },
        "id": "_4I3y5H0Rt2Z",
        "outputId": "b73ccf01-7d90-4eb3-bc04-f0a53500b22f"
      },
      "execution_count": null,
      "outputs": [
        {
          "output_type": "execute_result",
          "data": {
            "text/plain": [
              "Text(0.5, 1.0, 'IR LED (Lab Fabricated Sensor)')"
            ]
          },
          "metadata": {},
          "execution_count": 43
        },
        {
          "output_type": "display_data",
          "data": {
            "text/plain": [
              "<Figure size 432x288 with 1 Axes>"
            ],
            "image/png": "[encoded data removed]"
          },
          "metadata": {
            "needs_background": "light"
          }
        }
      ]
    },
    {
      "cell_type": "code",
      "source": [
        "# All Light Source\n",
        "# UBGRI\n",
        "plt.bar(df_all_light_source['Smu1.Time[1][1]'], df_all_light_source['LFS_I'], color='LawnGreen')\n",
        "plt.xlabel('Time (sec)')\n",
        "plt.ylabel('Current (ampere)')\n",
        "plt.title('All Light Source (Lab Fabricated Sensor)')"
      ],
      "metadata": {
        "colab": {
          "base_uri": "https://localhost:8080/",
          "height": 312
        },
        "id": "RIxVCoCDSDqq",
        "outputId": "8c50b742-ac36-4f84-951f-ebaf122a7095"
      },
      "execution_count": null,
      "outputs": [
        {
          "output_type": "execute_result",
          "data": {
            "text/plain": [
              "Text(0.5, 1.0, 'All Light Source (Lab Fabricated Sensor)')"
            ]
          },
          "metadata": {},
          "execution_count": 44
        },
        {
          "output_type": "display_data",
          "data": {
            "text/plain": [
              "<Figure size 432x288 with 1 Axes>"
            ],
            "image/png": "[encoded data removed]"
          },
          "metadata": {
            "needs_background": "light"
          }
        }
      ]
    },
    {
      "cell_type": "code",
      "source": [
        "plt.bar(df_all_light_source['Smu1.Time[1][1]'], df_all_light_source['LFS_I'], color='LawnGreen')\n",
        "plt.ylim(0.21*1e-6, 1.2*1e-6)\n",
        "plt.xlabel('Time (sec)')\n",
        "plt.ylabel('Current (ampere)')\n",
        "plt.title('All Light Source (Lab Fabricated Sensor)')"
      ],
      "metadata": {
        "colab": {
          "base_uri": "https://localhost:8080/",
          "height": 312
        },
        "id": "TIScVA0mSRtZ",
        "outputId": "3afe24de-ad4c-47c8-e56b-33ecb4936f23"
      },
      "execution_count": null,
      "outputs": [
        {
          "output_type": "execute_result",
          "data": {
            "text/plain": [
              "Text(0.5, 1.0, 'All Light Source (Lab Fabricated Sensor)')"
            ]
          },
          "metadata": {},
          "execution_count": 45
        },
        {
          "output_type": "display_data",
          "data": {
            "text/plain": [
              "<Figure size 432x288 with 1 Axes>"
            ],
            "image/png": "[encoded data removed]"
          },
          "metadata": {
            "needs_background": "light"
          }
        }
      ]
    },
    {
      "cell_type": "code",
      "source": [],
      "metadata": {
        "id": "K5OBrWf-Zn9h"
      },
      "execution_count": null,
      "outputs": []
    },
    {
      "cell_type": "code",
      "source": [],
      "metadata": {
        "id": "GtMiGtT_Znzp"
      },
      "execution_count": null,
      "outputs": []
    },
    {
      "cell_type": "code",
      "source": [
        "# Imax - Imin\n",
        "UVmax_IH = df_UV['LFS_I'].max()\n",
        "UVmin_IH = df_UV['LFS_I'].min()\n",
        "Bluemax_IH = df_blue['LFS_I'].max()\n",
        "Bluemin_IH = df_blue['LFS_I'].min()\n",
        "Greenmax_IH = df_green['LFS_I'].max()\n",
        "Greenmin_IH = df_green['LFS_I'].min()\n",
        "Redmax_IH = df_red['LFS_I'].max()\n",
        "Redmin_IH = df_red['LFS_I'].min()\n",
        "IRmax_IH = df_IR['LFS_I'].max()\n",
        "IRmin_IH = df_IR['LFS_I'].min()\n",
        "Flashlightmax_IH = df_flashlight['LFS_I'].max()\n",
        "Flashlightmin_IH = df_flashlight['LFS_I'].min()\n",
        "All_light_sourcemax_IH = df_all_light_source['LFS_I'].max()\n",
        "All_light_sourcemin_IH = df_all_light_source['LFS_I'].min()\n",
        "\n",
        "difference_IH = [UVmax_IH-UVmin_IH, Bluemax_IH-Bluemin_IH, Greenmax_IH-Greenmin_IH, Redmax_IH-Redmin_IH, IRmax_IH-IRmin_IH, Flashlightmax_IH-Flashlightmin_IH, All_light_sourcemax_IH-All_light_sourcemin_IH]\n",
        "\n",
        "difference_IH"
      ],
      "metadata": {
        "colab": {
          "base_uri": "https://localhost:8080/"
        },
        "id": "eVImGbmsSRqE",
        "outputId": "8adb0f0d-4158-460b-9764-c41fe798e60a"
      },
      "execution_count": null,
      "outputs": [
        {
          "output_type": "execute_result",
          "data": {
            "text/plain": [
              "[3.9376232052745975e-08,\n",
              " 8.32551677376611e-07,\n",
              " 1.13676264845708e-07,\n",
              " 5.320259788277297e-08,\n",
              " 4.0538577650295306e-07,\n",
              " 1.2984543445782054e-05,\n",
              " 9.204995876643771e-07]"
            ]
          },
          "metadata": {},
          "execution_count": 19
        }
      ]
    },
    {
      "cell_type": "code",
      "source": [
        "leds_IH = ['UV', 'BLUE', 'GREEN', 'RED', 'IR', 'FLASHLIGHT', 'UBGRI']\n",
        "plt.scatter(leds_IH, difference_IH)\n",
        "plt.xlabel('leds')\n",
        "plt.ylabel('I_max - I_min')"
      ],
      "metadata": {
        "colab": {
          "base_uri": "https://localhost:8080/",
          "height": 307
        },
        "id": "uBwUuj6zSRm4",
        "outputId": "eceffb87-4bd8-46a6-e5e9-b601fb0ee1e5"
      },
      "execution_count": null,
      "outputs": [
        {
          "output_type": "execute_result",
          "data": {
            "text/plain": [
              "Text(0, 0.5, 'I_max - I_min')"
            ]
          },
          "metadata": {},
          "execution_count": 20
        },
        {
          "output_type": "display_data",
          "data": {
            "text/plain": [
              "<Figure size 432x288 with 1 Axes>"
            ],
            "image/png": "[encoded data removed]"
          },
          "metadata": {
            "needs_background": "light"
          }
        }
      ]
    },
    {
      "cell_type": "code",
      "source": [
        "plt.bar(leds_IH, difference_IH, color='g')\n",
        "plt.xlabel('light sources')\n",
        "plt.ylabel('I_max - I_min (Ampere)')"
      ],
      "metadata": {
        "colab": {
          "base_uri": "https://localhost:8080/",
          "height": 307
        },
        "id": "8s9bqeyzSRkF",
        "outputId": "6b27c899-aaef-4df6-f7a1-1da7492df88a"
      },
      "execution_count": null,
      "outputs": [
        {
          "output_type": "execute_result",
          "data": {
            "text/plain": [
              "Text(0, 0.5, 'I_max - I_min (Ampere)')"
            ]
          },
          "metadata": {},
          "execution_count": 21
        },
        {
          "output_type": "display_data",
          "data": {
            "text/plain": [
              "<Figure size 432x288 with 1 Axes>"
            ],
            "image/png": "[encoded data removed]"
          },
          "metadata": {
            "needs_background": "light"
          }
        }
      ]
    },
    {
      "cell_type": "code",
      "source": [
        "# diff_IH = difference_IH\n",
        "diff_IH = [3.94e-8, 8.32e-7, 1.14e-7, 5.32e-8, 4.05e-7, 1.29e-5, 9.21e-7]\n",
        "diff_IH"
      ],
      "metadata": {
        "colab": {
          "base_uri": "https://localhost:8080/"
        },
        "id": "mvMgASouIPoB",
        "outputId": "bba44353-900d-4c17-a132-1323ff8b2b90"
      },
      "execution_count": null,
      "outputs": [
        {
          "output_type": "execute_result",
          "data": {
            "text/plain": [
              "[3.94e-08, 8.32e-07, 1.14e-07, 5.32e-08, 4.05e-07, 1.29e-05, 9.21e-07]"
            ]
          },
          "metadata": {},
          "execution_count": 22
        }
      ]
    },
    {
      "cell_type": "code",
      "source": [
        "# function to add value labels\n",
        "def addlabels(x,y):\n",
        "    for i in range(len(x)):\n",
        "        # plt.text(i, y[i], y[i])\n",
        "        # plt.text(i, y[i], y[i], ha = 'center')\n",
        "        # plt.text(i, y[i], y[i], ha = 'center', Bbox = dict(facecolor = 'white', alpha =.2))\n",
        "        # plt.text(i, y[i], y[i], ha = 'center', Bbox = dict(facecolor = 'red', alpha =.8))\n",
        "        # plt.text(i, y[i]//2, y[i], ha = 'center')\n",
        "        # plt.text(i, y[i]//2,y[i], ha = 'center', Bbox = dict(facecolor = 'white', alpha = .5))\n",
        "\n",
        "        plt.text(i, y[i]+2*1e-7, y[i], ha = 'center')\n",
        "\n",
        "\n",
        "plt.figure(figsize = (10,5))\n",
        "plt.bar(leds_IH, difference_IH, color='g')\n",
        "addlabels(leds, diff_IH)\n",
        "plt.title('I_max - I_min for different light sources')\n",
        "plt.xlabel('light sources')\n",
        "plt.ylabel('I_max - I_min (Ampere)')"
      ],
      "metadata": {
        "colab": {
          "base_uri": "https://localhost:8080/",
          "height": 367
        },
        "id": "JfCCX4PZIPdR",
        "outputId": "e6dfb208-c04f-417c-c88e-960a3db33cde"
      },
      "execution_count": null,
      "outputs": [
        {
          "output_type": "execute_result",
          "data": {
            "text/plain": [
              "Text(0, 0.5, 'I_max - I_min (Ampere)')"
            ]
          },
          "metadata": {},
          "execution_count": 23
        },
        {
          "output_type": "display_data",
          "data": {
            "text/plain": [
              "<Figure size 720x360 with 1 Axes>"
            ],
            "image/png": "[encoded data removed]"
          },
          "metadata": {
            "needs_background": "light"
          }
        }
      ]
    },
    {
      "cell_type": "code",
      "source": [
        "ratio_IH = [ (Flashlightmax_IH-Flashlightmin_IH) / (UVmax_IH-UVmin_IH), \n",
        "             (Flashlightmax_IH-Flashlightmin_IH) / (Bluemax_IH-Bluemin_IH), \n",
        "             (Flashlightmax_IH-Flashlightmin_IH) / (Greenmax_IH-Greenmin_IH), \n",
        "             (Flashlightmax_IH-Flashlightmin_IH) / (Redmax_IH-Redmin_IH), \n",
        "             (Flashlightmax_IH-Flashlightmin_IH) / (IRmax_IH-IRmin_IH),\n",
        "             (Flashlightmax_IH-Flashlightmin_IH) / (Flashlightmax_IH-Flashlightmin_IH),\n",
        "             (Flashlightmax_IH-Flashlightmin_IH) / (All_light_sourcemax_IH-All_light_sourcemin_IH) ]\n",
        "\n",
        "ratio_IH"
      ],
      "metadata": {
        "colab": {
          "base_uri": "https://localhost:8080/"
        },
        "id": "IBqrNrwCScus",
        "outputId": "a845ddaa-d76e-4ee7-ed40-3e4aa794ca94"
      },
      "execution_count": null,
      "outputs": [
        {
          "output_type": "execute_result",
          "data": {
            "text/plain": [
              "[329.7558646136776,\n",
              " 15.596081058531576,\n",
              " 114.22387482035836,\n",
              " 244.05844756664519,\n",
              " 32.03009133125683,\n",
              " 1.0,\n",
              " 14.105974212034457]"
            ]
          },
          "metadata": {},
          "execution_count": 24
        }
      ]
    },
    {
      "cell_type": "code",
      "source": [],
      "metadata": {
        "id": "7gO5CwSwSsLd"
      },
      "execution_count": null,
      "outputs": []
    },
    {
      "cell_type": "code",
      "source": [],
      "metadata": {
        "id": "208gILEHSsHx"
      },
      "execution_count": null,
      "outputs": []
    },
    {
      "cell_type": "markdown",
      "source": [
        "# PCA"
      ],
      "metadata": {
        "id": "-auaRnNw-nX_"
      }
    },
    {
      "cell_type": "code",
      "source": [
        "df_dc = pd.read_excel('/content/drive/MyDrive/sensor_data/COMMERCIAL_SENSOR/DIST_CONST/csdccopy.xlsx')\n",
        "df_dc.head()"
      ],
      "metadata": {
        "colab": {
          "base_uri": "https://localhost:8080/",
          "height": 206
        },
        "id": "qW7TeGPH7QqC",
        "outputId": "37ce1ced-f74c-44d6-9bf4-ead98d9057e5"
      },
      "execution_count": null,
      "outputs": [
        {
          "output_type": "execute_result",
          "data": {
            "text/plain": [
              "   Item  Smu1.Time[1][1] Smu1.V[1][1]      CS_I         LFS_I label\n",
              "0     1         0.000000     3.999983  0.000995  9.015524e-07  blue\n",
              "1     2         0.141018     3.999985  0.001003  9.050650e-07  blue\n",
              "2     3         0.282002     3.999985  0.001007  9.075392e-07  blue\n",
              "3     4         0.422960     3.999983  0.001009  9.098959e-07  blue\n",
              "4     5         0.563926     3.999985  0.001011  9.116214e-07  blue"
            ],
            "text/html": [
              "\n",
              "  <div id=\"df-67ece6e7-c386-4bd0-b1c7-284ed8293834\">\n",
              "    <div class=\"colab-df-container\">\n",
              "      <div>\n",
              "<style scoped>\n",
              "    .dataframe tbody tr th:only-of-type {\n",
              "        vertical-align: middle;\n",
              "    }\n",
              "\n",
              "    .dataframe tbody tr th {\n",
              "        vertical-align: top;\n",
              "    }\n",
              "\n",
              "    .dataframe thead th {\n",
              "        text-align: right;\n",
              "    }\n",
              "</style>\n",
              "<table border=\"1\" class=\"dataframe\">\n",
              "  <thead>\n",
              "    <tr style=\"text-align: right;\">\n",
              "      <th></th>\n",
              "      <th>Item</th>\n",
              "      <th>Smu1.Time[1][1]</th>\n",
              "      <th>Smu1.V[1][1]</th>\n",
              "      <th>CS_I</th>\n",
              "      <th>LFS_I</th>\n",
              "      <th>label</th>\n",
              "    </tr>\n",
              "  </thead>\n",
              "  <tbody>\n",
              "    <tr>\n",
              "      <th>0</th>\n",
              "      <td>1</td>\n",
              "      <td>0.000000</td>\n",
              "      <td>3.999983</td>\n",
              "      <td>0.000995</td>\n",
              "      <td>9.015524e-07</td>\n",
              "      <td>blue</td>\n",
              "    </tr>\n",
              "    <tr>\n",
              "      <th>1</th>\n",
              "      <td>2</td>\n",
              "      <td>0.141018</td>\n",
              "      <td>3.999985</td>\n",
              "      <td>0.001003</td>\n",
              "      <td>9.050650e-07</td>\n",
              "      <td>blue</td>\n",
              "    </tr>\n",
              "    <tr>\n",
              "      <th>2</th>\n",
              "      <td>3</td>\n",
              "      <td>0.282002</td>\n",
              "      <td>3.999985</td>\n",
              "      <td>0.001007</td>\n",
              "      <td>9.075392e-07</td>\n",
              "      <td>blue</td>\n",
              "    </tr>\n",
              "    <tr>\n",
              "      <th>3</th>\n",
              "      <td>4</td>\n",
              "      <td>0.422960</td>\n",
              "      <td>3.999983</td>\n",
              "      <td>0.001009</td>\n",
              "      <td>9.098959e-07</td>\n",
              "      <td>blue</td>\n",
              "    </tr>\n",
              "    <tr>\n",
              "      <th>4</th>\n",
              "      <td>5</td>\n",
              "      <td>0.563926</td>\n",
              "      <td>3.999985</td>\n",
              "      <td>0.001011</td>\n",
              "      <td>9.116214e-07</td>\n",
              "      <td>blue</td>\n",
              "    </tr>\n",
              "  </tbody>\n",
              "</table>\n",
              "</div>\n",
              "      <button class=\"colab-df-convert\" onclick=\"convertToInteractive('df-67ece6e7-c386-4bd0-b1c7-284ed8293834')\"\n",
              "              title=\"Convert this dataframe to an interactive table.\"\n",
              "              style=\"display:none;\">\n",
              "        \n",
              "  <svg xmlns=\"http://www.w3.org/2000/svg\" height=\"24px\"viewBox=\"0 0 24 24\"\n",
              "       width=\"24px\">\n",
              "    <path d=\"M0 0h24v24H0V0z\" fill=\"none\"/>\n",
              "    <path d=\"M18.56 5.44l.94 2.06.94-2.06 2.06-.94-2.06-.94-.94-2.06-.94 2.06-2.06.94zm-11 1L8.5 8.5l.94-2.06 2.06-.94-2.06-.94L8.5 2.5l-.94 2.06-2.06.94zm10 10l.94 2.06.94-2.06 2.06-.94-2.06-.94-.94-2.06-.94 2.06-2.06.94z\"/><path d=\"M17.41 7.96l-1.37-1.37c-.4-.4-.92-.59-1.43-.59-.52 0-1.04.2-1.43.59L10.3 9.45l-7.72 7.72c-.78.78-.78 2.05 0 2.83L4 21.41c.39.39.9.59 1.41.59.51 0 1.02-.2 1.41-.59l7.78-7.78 2.81-2.81c.8-.78.8-2.07 0-2.86zM5.41 20L4 18.59l7.72-7.72 1.47 1.35L5.41 20z\"/>\n",
              "  </svg>\n",
              "      </button>\n",
              "      \n",
              "  <style>\n",
              "    .colab-df-container {\n",
              "      display:flex;\n",
              "      flex-wrap:wrap;\n",
              "      gap: 12px;\n",
              "    }\n",
              "\n",
              "    .colab-df-convert {\n",
              "      background-color: #E8F0FE;\n",
              "      border: none;\n",
              "      border-radius: 50%;\n",
              "      cursor: pointer;\n",
              "      display: none;\n",
              "      fill: #1967D2;\n",
              "      height: 32px;\n",
              "      padding: 0 0 0 0;\n",
              "      width: 32px;\n",
              "    }\n",
              "\n",
              "    .colab-df-convert:hover {\n",
              "      background-color: #E2EBFA;\n",
              "      box-shadow: 0px 1px 2px rgba(60, 64, 67, 0.3), 0px 1px 3px 1px rgba(60, 64, 67, 0.15);\n",
              "      fill: #174EA6;\n",
              "    }\n",
              "\n",
              "    [theme=dark] .colab-df-convert {\n",
              "      background-color: #3B4455;\n",
              "      fill: #D2E3FC;\n",
              "    }\n",
              "\n",
              "    [theme=dark] .colab-df-convert:hover {\n",
              "      background-color: #434B5C;\n",
              "      box-shadow: 0px 1px 3px 1px rgba(0, 0, 0, 0.15);\n",
              "      filter: drop-shadow(0px 1px 2px rgba(0, 0, 0, 0.3));\n",
              "      fill: #FFFFFF;\n",
              "    }\n",
              "  </style>\n",
              "\n",
              "      <script>\n",
              "        const buttonEl =\n",
              "          document.querySelector('#df-67ece6e7-c386-4bd0-b1c7-284ed8293834 button.colab-df-convert');\n",
              "        buttonEl.style.display =\n",
              "          google.colab.kernel.accessAllowed ? 'block' : 'none';\n",
              "\n",
              "        async function convertToInteractive(key) {\n",
              "          const element = document.querySelector('#df-67ece6e7-c386-4bd0-b1c7-284ed8293834');\n",
              "          const dataTable =\n",
              "            await google.colab.kernel.invokeFunction('convertToInteractive',\n",
              "                                                     [key], {});\n",
              "          if (!dataTable) return;\n",
              "\n",
              "          const docLinkHtml = 'Like what you see? Visit the ' +\n",
              "            '<a target=\"_blank\" href=https://colab.research.google.com/notebooks/data_table.ipynb>data table notebook</a>'\n",
              "            + ' to learn more about interactive tables.';\n",
              "          element.innerHTML = '';\n",
              "          dataTable['output_type'] = 'display_data';\n",
              "          await google.colab.output.renderOutput(dataTable, element);\n",
              "          const docLink = document.createElement('div');\n",
              "          docLink.innerHTML = docLinkHtml;\n",
              "          element.appendChild(docLink);\n",
              "        }\n",
              "      </script>\n",
              "    </div>\n",
              "  </div>\n",
              "  "
            ]
          },
          "metadata": {},
          "execution_count": 25
        }
      ]
    },
    {
      "cell_type": "code",
      "source": [
        "# Getting rows from df\n",
        "# df_dc = df_dc.iloc[:120]\n",
        "df_dc = pd.concat([df_dc.iloc[:120], df_dc.iloc[140:]])\n",
        "# df_dc.head()\n",
        "df_dc.shape"
      ],
      "metadata": {
        "colab": {
          "base_uri": "https://localhost:8080/"
        },
        "id": "ARkOh5MUbzfO",
        "outputId": "2c20efcf-7947-4728-8ca3-223be646c9b7"
      },
      "execution_count": null,
      "outputs": [
        {
          "output_type": "execute_result",
          "data": {
            "text/plain": [
              "(140, 6)"
            ]
          },
          "metadata": {},
          "execution_count": 26
        }
      ]
    },
    {
      "cell_type": "code",
      "source": [
        "plt.scatter(df_dc['CS_I'], df_dc['LFS_I'], color='blue')\n",
        "plt.xlabel('commercial_I')\n",
        "plt.ylabel('In_house_I')"
      ],
      "metadata": {
        "colab": {
          "base_uri": "https://localhost:8080/",
          "height": 308
        },
        "outputId": "b381351b-b0a7-4dd1-cb6c-6dcc218020bc",
        "id": "Q_qKFbYG_RZU"
      },
      "execution_count": null,
      "outputs": [
        {
          "output_type": "execute_result",
          "data": {
            "text/plain": [
              "Text(0, 0.5, 'In_house_I')"
            ]
          },
          "metadata": {},
          "execution_count": 27
        },
        {
          "output_type": "display_data",
          "data": {
            "text/plain": [
              "<Figure size 432x288 with 1 Axes>"
            ],
            "image/png": "[encoded data removed]"
          },
          "metadata": {
            "needs_background": "light"
          }
        }
      ]
    },
    {
      "cell_type": "code",
      "source": [
        "df_dc.describe()"
      ],
      "metadata": {
        "colab": {
          "base_uri": "https://localhost:8080/",
          "height": 300
        },
        "id": "npMGmLFy_Q9m",
        "outputId": "c571c885-034e-48f5-fd71-84dbb0ad264e"
      },
      "execution_count": null,
      "outputs": [
        {
          "output_type": "execute_result",
          "data": {
            "text/plain": [
              "             Item  Smu1.Time[1][1]        CS_I         LFS_I\n",
              "count  140.000000       120.000000  140.000000  1.400000e+02\n",
              "mean    73.357143         8.560226    0.001267  1.870807e-06\n",
              "std     45.162548         5.055864    0.002281  3.525495e-06\n",
              "min      1.000000         0.000000    0.000006  1.989860e-07\n",
              "25%     35.750000         4.193822    0.000009  2.551078e-07\n",
              "50%     70.500000         8.616814    0.000358  3.446796e-07\n",
              "75%    105.250000        12.930875    0.001011  9.121248e-07\n",
              "max    160.000000        17.124217    0.006790  1.060162e-05"
            ],
            "text/html": [
              "\n",
              "  <div id=\"df-27731ebb-33aa-411d-967e-5092f51910fa\">\n",
              "    <div class=\"colab-df-container\">\n",
              "      <div>\n",
              "<style scoped>\n",
              "    .dataframe tbody tr th:only-of-type {\n",
              "        vertical-align: middle;\n",
              "    }\n",
              "\n",
              "    .dataframe tbody tr th {\n",
              "        vertical-align: top;\n",
              "    }\n",
              "\n",
              "    .dataframe thead th {\n",
              "        text-align: right;\n",
              "    }\n",
              "</style>\n",
              "<table border=\"1\" class=\"dataframe\">\n",
              "  <thead>\n",
              "    <tr style=\"text-align: right;\">\n",
              "      <th></th>\n",
              "      <th>Item</th>\n",
              "      <th>Smu1.Time[1][1]</th>\n",
              "      <th>CS_I</th>\n",
              "      <th>LFS_I</th>\n",
              "    </tr>\n",
              "  </thead>\n",
              "  <tbody>\n",
              "    <tr>\n",
              "      <th>count</th>\n",
              "      <td>140.000000</td>\n",
              "      <td>120.000000</td>\n",
              "      <td>140.000000</td>\n",
              "      <td>1.400000e+02</td>\n",
              "    </tr>\n",
              "    <tr>\n",
              "      <th>mean</th>\n",
              "      <td>73.357143</td>\n",
              "      <td>8.560226</td>\n",
              "      <td>0.001267</td>\n",
              "      <td>1.870807e-06</td>\n",
              "    </tr>\n",
              "    <tr>\n",
              "      <th>std</th>\n",
              "      <td>45.162548</td>\n",
              "      <td>5.055864</td>\n",
              "      <td>0.002281</td>\n",
              "      <td>3.525495e-06</td>\n",
              "    </tr>\n",
              "    <tr>\n",
              "      <th>min</th>\n",
              "      <td>1.000000</td>\n",
              "      <td>0.000000</td>\n",
              "      <td>0.000006</td>\n",
              "      <td>1.989860e-07</td>\n",
              "    </tr>\n",
              "    <tr>\n",
              "      <th>25%</th>\n",
              "      <td>35.750000</td>\n",
              "      <td>4.193822</td>\n",
              "      <td>0.000009</td>\n",
              "      <td>2.551078e-07</td>\n",
              "    </tr>\n",
              "    <tr>\n",
              "      <th>50%</th>\n",
              "      <td>70.500000</td>\n",
              "      <td>8.616814</td>\n",
              "      <td>0.000358</td>\n",
              "      <td>3.446796e-07</td>\n",
              "    </tr>\n",
              "    <tr>\n",
              "      <th>75%</th>\n",
              "      <td>105.250000</td>\n",
              "      <td>12.930875</td>\n",
              "      <td>0.001011</td>\n",
              "      <td>9.121248e-07</td>\n",
              "    </tr>\n",
              "    <tr>\n",
              "      <th>max</th>\n",
              "      <td>160.000000</td>\n",
              "      <td>17.124217</td>\n",
              "      <td>0.006790</td>\n",
              "      <td>1.060162e-05</td>\n",
              "    </tr>\n",
              "  </tbody>\n",
              "</table>\n",
              "</div>\n",
              "      <button class=\"colab-df-convert\" onclick=\"convertToInteractive('df-27731ebb-33aa-411d-967e-5092f51910fa')\"\n",
              "              title=\"Convert this dataframe to an interactive table.\"\n",
              "              style=\"display:none;\">\n",
              "        \n",
              "  <svg xmlns=\"http://www.w3.org/2000/svg\" height=\"24px\"viewBox=\"0 0 24 24\"\n",
              "       width=\"24px\">\n",
              "    <path d=\"M0 0h24v24H0V0z\" fill=\"none\"/>\n",
              "    <path d=\"M18.56 5.44l.94 2.06.94-2.06 2.06-.94-2.06-.94-.94-2.06-.94 2.06-2.06.94zm-11 1L8.5 8.5l.94-2.06 2.06-.94-2.06-.94L8.5 2.5l-.94 2.06-2.06.94zm10 10l.94 2.06.94-2.06 2.06-.94-2.06-.94-.94-2.06-.94 2.06-2.06.94z\"/><path d=\"M17.41 7.96l-1.37-1.37c-.4-.4-.92-.59-1.43-.59-.52 0-1.04.2-1.43.59L10.3 9.45l-7.72 7.72c-.78.78-.78 2.05 0 2.83L4 21.41c.39.39.9.59 1.41.59.51 0 1.02-.2 1.41-.59l7.78-7.78 2.81-2.81c.8-.78.8-2.07 0-2.86zM5.41 20L4 18.59l7.72-7.72 1.47 1.35L5.41 20z\"/>\n",
              "  </svg>\n",
              "      </button>\n",
              "      \n",
              "  <style>\n",
              "    .colab-df-container {\n",
              "      display:flex;\n",
              "      flex-wrap:wrap;\n",
              "      gap: 12px;\n",
              "    }\n",
              "\n",
              "    .colab-df-convert {\n",
              "      background-color: #E8F0FE;\n",
              "      border: none;\n",
              "      border-radius: 50%;\n",
              "      cursor: pointer;\n",
              "      display: none;\n",
              "      fill: #1967D2;\n",
              "      height: 32px;\n",
              "      padding: 0 0 0 0;\n",
              "      width: 32px;\n",
              "    }\n",
              "\n",
              "    .colab-df-convert:hover {\n",
              "      background-color: #E2EBFA;\n",
              "      box-shadow: 0px 1px 2px rgba(60, 64, 67, 0.3), 0px 1px 3px 1px rgba(60, 64, 67, 0.15);\n",
              "      fill: #174EA6;\n",
              "    }\n",
              "\n",
              "    [theme=dark] .colab-df-convert {\n",
              "      background-color: #3B4455;\n",
              "      fill: #D2E3FC;\n",
              "    }\n",
              "\n",
              "    [theme=dark] .colab-df-convert:hover {\n",
              "      background-color: #434B5C;\n",
              "      box-shadow: 0px 1px 3px 1px rgba(0, 0, 0, 0.15);\n",
              "      filter: drop-shadow(0px 1px 2px rgba(0, 0, 0, 0.3));\n",
              "      fill: #FFFFFF;\n",
              "    }\n",
              "  </style>\n",
              "\n",
              "      <script>\n",
              "        const buttonEl =\n",
              "          document.querySelector('#df-27731ebb-33aa-411d-967e-5092f51910fa button.colab-df-convert');\n",
              "        buttonEl.style.display =\n",
              "          google.colab.kernel.accessAllowed ? 'block' : 'none';\n",
              "\n",
              "        async function convertToInteractive(key) {\n",
              "          const element = document.querySelector('#df-27731ebb-33aa-411d-967e-5092f51910fa');\n",
              "          const dataTable =\n",
              "            await google.colab.kernel.invokeFunction('convertToInteractive',\n",
              "                                                     [key], {});\n",
              "          if (!dataTable) return;\n",
              "\n",
              "          const docLinkHtml = 'Like what you see? Visit the ' +\n",
              "            '<a target=\"_blank\" href=https://colab.research.google.com/notebooks/data_table.ipynb>data table notebook</a>'\n",
              "            + ' to learn more about interactive tables.';\n",
              "          element.innerHTML = '';\n",
              "          dataTable['output_type'] = 'display_data';\n",
              "          await google.colab.output.renderOutput(dataTable, element);\n",
              "          const docLink = document.createElement('div');\n",
              "          docLink.innerHTML = docLinkHtml;\n",
              "          element.appendChild(docLink);\n",
              "        }\n",
              "      </script>\n",
              "    </div>\n",
              "  </div>\n",
              "  "
            ]
          },
          "metadata": {},
          "execution_count": 28
        }
      ]
    },
    {
      "cell_type": "code",
      "source": [
        "X = df_dc.drop(['Item', 'Smu1.Time[1][1]', 'Smu1.V[1][1]', 'label'], axis=1)\n",
        "X.head()"
      ],
      "metadata": {
        "colab": {
          "base_uri": "https://localhost:8080/",
          "height": 206
        },
        "id": "cxjLeAAoEKFD",
        "outputId": "25758ac9-61cf-4e07-c6f6-446c84656c9e"
      },
      "execution_count": null,
      "outputs": [
        {
          "output_type": "execute_result",
          "data": {
            "text/plain": [
              "       CS_I         LFS_I\n",
              "0  0.000995  9.015524e-07\n",
              "1  0.001003  9.050650e-07\n",
              "2  0.001007  9.075392e-07\n",
              "3  0.001009  9.098959e-07\n",
              "4  0.001011  9.116214e-07"
            ],
            "text/html": [
              "\n",
              "  <div id=\"df-6dac3424-9cf9-4817-804e-bb44561af45f\">\n",
              "    <div class=\"colab-df-container\">\n",
              "      <div>\n",
              "<style scoped>\n",
              "    .dataframe tbody tr th:only-of-type {\n",
              "        vertical-align: middle;\n",
              "    }\n",
              "\n",
              "    .dataframe tbody tr th {\n",
              "        vertical-align: top;\n",
              "    }\n",
              "\n",
              "    .dataframe thead th {\n",
              "        text-align: right;\n",
              "    }\n",
              "</style>\n",
              "<table border=\"1\" class=\"dataframe\">\n",
              "  <thead>\n",
              "    <tr style=\"text-align: right;\">\n",
              "      <th></th>\n",
              "      <th>CS_I</th>\n",
              "      <th>LFS_I</th>\n",
              "    </tr>\n",
              "  </thead>\n",
              "  <tbody>\n",
              "    <tr>\n",
              "      <th>0</th>\n",
              "      <td>0.000995</td>\n",
              "      <td>9.015524e-07</td>\n",
              "    </tr>\n",
              "    <tr>\n",
              "      <th>1</th>\n",
              "      <td>0.001003</td>\n",
              "      <td>9.050650e-07</td>\n",
              "    </tr>\n",
              "    <tr>\n",
              "      <th>2</th>\n",
              "      <td>0.001007</td>\n",
              "      <td>9.075392e-07</td>\n",
              "    </tr>\n",
              "    <tr>\n",
              "      <th>3</th>\n",
              "      <td>0.001009</td>\n",
              "      <td>9.098959e-07</td>\n",
              "    </tr>\n",
              "    <tr>\n",
              "      <th>4</th>\n",
              "      <td>0.001011</td>\n",
              "      <td>9.116214e-07</td>\n",
              "    </tr>\n",
              "  </tbody>\n",
              "</table>\n",
              "</div>\n",
              "      <button class=\"colab-df-convert\" onclick=\"convertToInteractive('df-6dac3424-9cf9-4817-804e-bb44561af45f')\"\n",
              "              title=\"Convert this dataframe to an interactive table.\"\n",
              "              style=\"display:none;\">\n",
              "        \n",
              "  <svg xmlns=\"http://www.w3.org/2000/svg\" height=\"24px\"viewBox=\"0 0 24 24\"\n",
              "       width=\"24px\">\n",
              "    <path d=\"M0 0h24v24H0V0z\" fill=\"none\"/>\n",
              "    <path d=\"M18.56 5.44l.94 2.06.94-2.06 2.06-.94-2.06-.94-.94-2.06-.94 2.06-2.06.94zm-11 1L8.5 8.5l.94-2.06 2.06-.94-2.06-.94L8.5 2.5l-.94 2.06-2.06.94zm10 10l.94 2.06.94-2.06 2.06-.94-2.06-.94-.94-2.06-.94 2.06-2.06.94z\"/><path d=\"M17.41 7.96l-1.37-1.37c-.4-.4-.92-.59-1.43-.59-.52 0-1.04.2-1.43.59L10.3 9.45l-7.72 7.72c-.78.78-.78 2.05 0 2.83L4 21.41c.39.39.9.59 1.41.59.51 0 1.02-.2 1.41-.59l7.78-7.78 2.81-2.81c.8-.78.8-2.07 0-2.86zM5.41 20L4 18.59l7.72-7.72 1.47 1.35L5.41 20z\"/>\n",
              "  </svg>\n",
              "      </button>\n",
              "      \n",
              "  <style>\n",
              "    .colab-df-container {\n",
              "      display:flex;\n",
              "      flex-wrap:wrap;\n",
              "      gap: 12px;\n",
              "    }\n",
              "\n",
              "    .colab-df-convert {\n",
              "      background-color: #E8F0FE;\n",
              "      border: none;\n",
              "      border-radius: 50%;\n",
              "      cursor: pointer;\n",
              "      display: none;\n",
              "      fill: #1967D2;\n",
              "      height: 32px;\n",
              "      padding: 0 0 0 0;\n",
              "      width: 32px;\n",
              "    }\n",
              "\n",
              "    .colab-df-convert:hover {\n",
              "      background-color: #E2EBFA;\n",
              "      box-shadow: 0px 1px 2px rgba(60, 64, 67, 0.3), 0px 1px 3px 1px rgba(60, 64, 67, 0.15);\n",
              "      fill: #174EA6;\n",
              "    }\n",
              "\n",
              "    [theme=dark] .colab-df-convert {\n",
              "      background-color: #3B4455;\n",
              "      fill: #D2E3FC;\n",
              "    }\n",
              "\n",
              "    [theme=dark] .colab-df-convert:hover {\n",
              "      background-color: #434B5C;\n",
              "      box-shadow: 0px 1px 3px 1px rgba(0, 0, 0, 0.15);\n",
              "      filter: drop-shadow(0px 1px 2px rgba(0, 0, 0, 0.3));\n",
              "      fill: #FFFFFF;\n",
              "    }\n",
              "  </style>\n",
              "\n",
              "      <script>\n",
              "        const buttonEl =\n",
              "          document.querySelector('#df-6dac3424-9cf9-4817-804e-bb44561af45f button.colab-df-convert');\n",
              "        buttonEl.style.display =\n",
              "          google.colab.kernel.accessAllowed ? 'block' : 'none';\n",
              "\n",
              "        async function convertToInteractive(key) {\n",
              "          const element = document.querySelector('#df-6dac3424-9cf9-4817-804e-bb44561af45f');\n",
              "          const dataTable =\n",
              "            await google.colab.kernel.invokeFunction('convertToInteractive',\n",
              "                                                     [key], {});\n",
              "          if (!dataTable) return;\n",
              "\n",
              "          const docLinkHtml = 'Like what you see? Visit the ' +\n",
              "            '<a target=\"_blank\" href=https://colab.research.google.com/notebooks/data_table.ipynb>data table notebook</a>'\n",
              "            + ' to learn more about interactive tables.';\n",
              "          element.innerHTML = '';\n",
              "          dataTable['output_type'] = 'display_data';\n",
              "          await google.colab.output.renderOutput(dataTable, element);\n",
              "          const docLink = document.createElement('div');\n",
              "          docLink.innerHTML = docLinkHtml;\n",
              "          element.appendChild(docLink);\n",
              "        }\n",
              "      </script>\n",
              "    </div>\n",
              "  </div>\n",
              "  "
            ]
          },
          "metadata": {},
          "execution_count": 29
        }
      ]
    },
    {
      "cell_type": "code",
      "source": [
        "y = df_dc['label']\n",
        "y"
      ],
      "metadata": {
        "colab": {
          "base_uri": "https://localhost:8080/"
        },
        "id": "LvmQUy-y7o78",
        "outputId": "e10ecd5c-4981-4c75-d7cc-a7cf8fda2905"
      },
      "execution_count": null,
      "outputs": [
        {
          "output_type": "execute_result",
          "data": {
            "text/plain": [
              "0      blue\n",
              "1      blue\n",
              "2      blue\n",
              "3      blue\n",
              "4      blue\n",
              "       ... \n",
              "155     off\n",
              "156     off\n",
              "157     off\n",
              "158     off\n",
              "159     off\n",
              "Name: label, Length: 140, dtype: object"
            ]
          },
          "metadata": {},
          "execution_count": 30
        }
      ]
    },
    {
      "cell_type": "code",
      "source": [
        "from sklearn.preprocessing import StandardScaler\n",
        "\n",
        "scaler = StandardScaler()\n",
        "\n",
        "X = scaler.fit_transform(X)\n",
        "X"
      ],
      "metadata": {
        "id": "pdsA62cmH8Bk",
        "colab": {
          "base_uri": "https://localhost:8080/"
        },
        "outputId": "2a5e7c7f-931d-4118-8b99-9e7bcaa3683f"
      },
      "execution_count": null,
      "outputs": [
        {
          "output_type": "execute_result",
          "data": {
            "text/plain": [
              "array([[-0.11934813, -0.27591439],\n",
              "       [-0.11608406, -0.27491447],\n",
              "       [-0.11429632, -0.27421016],\n",
              "       [-0.11312352, -0.27353928],\n",
              "       [-0.11235148, -0.27304807],\n",
              "       [-0.11193188, -0.27247493],\n",
              "       [-0.11164361, -0.27201884],\n",
              "       [-0.11133066, -0.27153382],\n",
              "       [-0.11112711, -0.27132388],\n",
              "       [-0.11096044, -0.27082481],\n",
              "       [-0.11078362, -0.27041439],\n",
              "       [-0.11071827, -0.27024911],\n",
              "       [-0.11075894, -0.26987163],\n",
              "       [-0.11064287, -0.26973059],\n",
              "       [-0.11055457, -0.26884537],\n",
              "       [-0.11042488, -0.26793002],\n",
              "       [-0.110304  , -0.2689345 ],\n",
              "       [-0.11041397, -0.26874333],\n",
              "       [-0.11034036, -0.26719833],\n",
              "       [-0.11029765, -0.26551407],\n",
              "       [ 2.42878436,  2.40412259],\n",
              "       [ 2.43009069,  2.40916705],\n",
              "       [ 2.42925108,  2.4118001 ],\n",
              "       [ 2.42808039,  2.41856989],\n",
              "       [ 2.4276735 ,  2.42192941],\n",
              "       [ 2.4270146 ,  2.42789634],\n",
              "       [ 2.42652616,  2.43361835],\n",
              "       [ 2.4257427 ,  2.43622317],\n",
              "       [ 2.42508749,  2.43840054],\n",
              "       [ 2.42479778,  2.43828481],\n",
              "       [ 2.42407291,  2.44196253],\n",
              "       [ 2.42351973,  2.44658498],\n",
              "       [ 2.42333083,  2.44606847],\n",
              "       [ 2.4228637 ,  2.46077   ],\n",
              "       [ 2.42264079,  2.46422066],\n",
              "       [ 2.42272684,  2.46981296],\n",
              "       [ 2.42223882,  2.47033077],\n",
              "       [ 2.4219065 ,  2.47400926],\n",
              "       [ 2.42177414,  2.47634559],\n",
              "       [ 2.42171186,  2.48537198],\n",
              "       [-0.41303628, -0.43449509],\n",
              "       [-0.40723378, -0.43437244],\n",
              "       [-0.40448177, -0.43441493],\n",
              "       [-0.40294664, -0.43442253],\n",
              "       [-0.40201515, -0.43439982],\n",
              "       [-0.40133837, -0.43436907],\n",
              "       [-0.40083672, -0.43444321],\n",
              "       [-0.4004978 , -0.43444703],\n",
              "       [-0.400248  , -0.43448208],\n",
              "       [-0.40003871, -0.4344616 ],\n",
              "       [-0.39979203, -0.43444995],\n",
              "       [-0.39963668, -0.43448894],\n",
              "       [-0.39951037, -0.4344092 ],\n",
              "       [-0.39938918, -0.43445542],\n",
              "       [-0.39930887, -0.43443179],\n",
              "       [-0.39923537, -0.43446849],\n",
              "       [-0.39922682, -0.43442328],\n",
              "       [-0.39913344, -0.43438904],\n",
              "       [-0.39909313, -0.43438729],\n",
              "       [-0.39904924, -0.43445936],\n",
              "       [-0.3444268 , -0.45350134],\n",
              "       [-0.339707  , -0.45346186],\n",
              "       [-0.33750745, -0.45348658],\n",
              "       [-0.33622627, -0.45347529],\n",
              "       [-0.33541141, -0.45349907],\n",
              "       [-0.33488184, -0.45354296],\n",
              "       [-0.33451736, -0.45345881],\n",
              "       [-0.33423129, -0.45340597],\n",
              "       [-0.33401535, -0.453427  ],\n",
              "       [-0.33381743, -0.45342137],\n",
              "       [-0.33367222, -0.45343975],\n",
              "       [-0.33358965, -0.45344085],\n",
              "       [-0.33348998, -0.45339224],\n",
              "       [-0.33347349, -0.45337105],\n",
              "       [-0.33342437, -0.45336881],\n",
              "       [-0.3333692 , -0.45338399],\n",
              "       [-0.3333189 , -0.45341237],\n",
              "       [-0.33329442, -0.45339703],\n",
              "       [-0.33327362, -0.45342691],\n",
              "       [-0.33325488, -0.45340658],\n",
              "       [-0.4742394 , -0.46013543],\n",
              "       [-0.4722458 , -0.46005365],\n",
              "       [-0.47110881, -0.45996562],\n",
              "       [-0.470376  , -0.46002025],\n",
              "       [-0.46974917, -0.46005546],\n",
              "       [-0.46937572, -0.45994763],\n",
              "       [-0.46904796, -0.45998122],\n",
              "       [-0.46878198, -0.45999553],\n",
              "       [-0.4686174 , -0.46000708],\n",
              "       [-0.46852162, -0.45994284],\n",
              "       [-0.46835685, -0.46000436],\n",
              "       [-0.4682564 , -0.45998818],\n",
              "       [-0.46816938, -0.45999164],\n",
              "       [-0.46808656, -0.4599019 ],\n",
              "       [-0.46801746, -0.45993355],\n",
              "       [-0.46794754, -0.45992604],\n",
              "       [-0.46787199, -0.45994168],\n",
              "       [-0.46788337, -0.45990837],\n",
              "       [-0.4677569 , -0.45987734],\n",
              "       [-0.46777724, -0.45995106],\n",
              "       [-0.55314609, -0.35054483],\n",
              "       [-0.55314554, -0.35052764],\n",
              "       [-0.55314495, -0.3505459 ],\n",
              "       [-0.5531445 , -0.35045972],\n",
              "       [-0.55314453, -0.35049735],\n",
              "       [-0.55314392, -0.35040162],\n",
              "       [-0.55314327, -0.3503991 ],\n",
              "       [-0.55314242, -0.35030363],\n",
              "       [-0.55314184, -0.35026884],\n",
              "       [-0.55314144, -0.35029965],\n",
              "       [-0.55314064, -0.35021415],\n",
              "       [-0.55314008, -0.35022751],\n",
              "       [-0.55313945, -0.35017217],\n",
              "       [-0.55313916, -0.3501969 ],\n",
              "       [-0.55313847, -0.35014068],\n",
              "       [-0.55313813, -0.35011787],\n",
              "       [-0.55313748, -0.35011838],\n",
              "       [-0.55313707, -0.35010411],\n",
              "       [-0.55313653, -0.35005719],\n",
              "       [-0.55313596, -0.35002453],\n",
              "       [-0.5546057 , -0.47320345],\n",
              "       [-0.55460804, -0.47341682],\n",
              "       [-0.55461042, -0.47356048],\n",
              "       [-0.55461252, -0.47378081],\n",
              "       [-0.5546142 , -0.47390696],\n",
              "       [-0.55461609, -0.47411877],\n",
              "       [-0.55461788, -0.47438661],\n",
              "       [-0.55461943, -0.47450266],\n",
              "       [-0.55462077, -0.47475778],\n",
              "       [-0.55462232, -0.47495975],\n",
              "       [-0.55462342, -0.47500995],\n",
              "       [-0.55462495, -0.47519289],\n",
              "       [-0.55462649, -0.47525976],\n",
              "       [-0.55462758, -0.47544866],\n",
              "       [-0.55462863, -0.47556727],\n",
              "       [-0.5546298 , -0.47559727],\n",
              "       [-0.55463091, -0.47568614],\n",
              "       [-0.55463207, -0.47569258],\n",
              "       [-0.55463332, -0.47575423],\n",
              "       [-0.55463372, -0.47591161]])"
            ]
          },
          "metadata": {},
          "execution_count": 31
        }
      ]
    },
    {
      "cell_type": "code",
      "source": [
        "df_x = pd. DataFrame(X, columns=['Column1', 'Column2'])\n",
        "df_x.head()"
      ],
      "metadata": {
        "colab": {
          "base_uri": "https://localhost:8080/",
          "height": 206
        },
        "id": "xrJD0AqB5PF-",
        "outputId": "f5f54408-397c-47b9-b90c-21e5026cf4ad"
      },
      "execution_count": null,
      "outputs": [
        {
          "output_type": "execute_result",
          "data": {
            "text/plain": [
              "    Column1   Column2\n",
              "0 -0.119348 -0.275914\n",
              "1 -0.116084 -0.274914\n",
              "2 -0.114296 -0.274210\n",
              "3 -0.113124 -0.273539\n",
              "4 -0.112351 -0.273048"
            ],
            "text/html": [
              "\n",
              "  <div id=\"df-c54d154d-17d9-4788-8267-7d72da3bffca\">\n",
              "    <div class=\"colab-df-container\">\n",
              "      <div>\n",
              "<style scoped>\n",
              "    .dataframe tbody tr th:only-of-type {\n",
              "        vertical-align: middle;\n",
              "    }\n",
              "\n",
              "    .dataframe tbody tr th {\n",
              "        vertical-align: top;\n",
              "    }\n",
              "\n",
              "    .dataframe thead th {\n",
              "        text-align: right;\n",
              "    }\n",
              "</style>\n",
              "<table border=\"1\" class=\"dataframe\">\n",
              "  <thead>\n",
              "    <tr style=\"text-align: right;\">\n",
              "      <th></th>\n",
              "      <th>Column1</th>\n",
              "      <th>Column2</th>\n",
              "    </tr>\n",
              "  </thead>\n",
              "  <tbody>\n",
              "    <tr>\n",
              "      <th>0</th>\n",
              "      <td>-0.119348</td>\n",
              "      <td>-0.275914</td>\n",
              "    </tr>\n",
              "    <tr>\n",
              "      <th>1</th>\n",
              "      <td>-0.116084</td>\n",
              "      <td>-0.274914</td>\n",
              "    </tr>\n",
              "    <tr>\n",
              "      <th>2</th>\n",
              "      <td>-0.114296</td>\n",
              "      <td>-0.274210</td>\n",
              "    </tr>\n",
              "    <tr>\n",
              "      <th>3</th>\n",
              "      <td>-0.113124</td>\n",
              "      <td>-0.273539</td>\n",
              "    </tr>\n",
              "    <tr>\n",
              "      <th>4</th>\n",
              "      <td>-0.112351</td>\n",
              "      <td>-0.273048</td>\n",
              "    </tr>\n",
              "  </tbody>\n",
              "</table>\n",
              "</div>\n",
              "      <button class=\"colab-df-convert\" onclick=\"convertToInteractive('df-c54d154d-17d9-4788-8267-7d72da3bffca')\"\n",
              "              title=\"Convert this dataframe to an interactive table.\"\n",
              "              style=\"display:none;\">\n",
              "        \n",
              "  <svg xmlns=\"http://www.w3.org/2000/svg\" height=\"24px\"viewBox=\"0 0 24 24\"\n",
              "       width=\"24px\">\n",
              "    <path d=\"M0 0h24v24H0V0z\" fill=\"none\"/>\n",
              "    <path d=\"M18.56 5.44l.94 2.06.94-2.06 2.06-.94-2.06-.94-.94-2.06-.94 2.06-2.06.94zm-11 1L8.5 8.5l.94-2.06 2.06-.94-2.06-.94L8.5 2.5l-.94 2.06-2.06.94zm10 10l.94 2.06.94-2.06 2.06-.94-2.06-.94-.94-2.06-.94 2.06-2.06.94z\"/><path d=\"M17.41 7.96l-1.37-1.37c-.4-.4-.92-.59-1.43-.59-.52 0-1.04.2-1.43.59L10.3 9.45l-7.72 7.72c-.78.78-.78 2.05 0 2.83L4 21.41c.39.39.9.59 1.41.59.51 0 1.02-.2 1.41-.59l7.78-7.78 2.81-2.81c.8-.78.8-2.07 0-2.86zM5.41 20L4 18.59l7.72-7.72 1.47 1.35L5.41 20z\"/>\n",
              "  </svg>\n",
              "      </button>\n",
              "      \n",
              "  <style>\n",
              "    .colab-df-container {\n",
              "      display:flex;\n",
              "      flex-wrap:wrap;\n",
              "      gap: 12px;\n",
              "    }\n",
              "\n",
              "    .colab-df-convert {\n",
              "      background-color: #E8F0FE;\n",
              "      border: none;\n",
              "      border-radius: 50%;\n",
              "      cursor: pointer;\n",
              "      display: none;\n",
              "      fill: #1967D2;\n",
              "      height: 32px;\n",
              "      padding: 0 0 0 0;\n",
              "      width: 32px;\n",
              "    }\n",
              "\n",
              "    .colab-df-convert:hover {\n",
              "      background-color: #E2EBFA;\n",
              "      box-shadow: 0px 1px 2px rgba(60, 64, 67, 0.3), 0px 1px 3px 1px rgba(60, 64, 67, 0.15);\n",
              "      fill: #174EA6;\n",
              "    }\n",
              "\n",
              "    [theme=dark] .colab-df-convert {\n",
              "      background-color: #3B4455;\n",
              "      fill: #D2E3FC;\n",
              "    }\n",
              "\n",
              "    [theme=dark] .colab-df-convert:hover {\n",
              "      background-color: #434B5C;\n",
              "      box-shadow: 0px 1px 3px 1px rgba(0, 0, 0, 0.15);\n",
              "      filter: drop-shadow(0px 1px 2px rgba(0, 0, 0, 0.3));\n",
              "      fill: #FFFFFF;\n",
              "    }\n",
              "  </style>\n",
              "\n",
              "      <script>\n",
              "        const buttonEl =\n",
              "          document.querySelector('#df-c54d154d-17d9-4788-8267-7d72da3bffca button.colab-df-convert');\n",
              "        buttonEl.style.display =\n",
              "          google.colab.kernel.accessAllowed ? 'block' : 'none';\n",
              "\n",
              "        async function convertToInteractive(key) {\n",
              "          const element = document.querySelector('#df-c54d154d-17d9-4788-8267-7d72da3bffca');\n",
              "          const dataTable =\n",
              "            await google.colab.kernel.invokeFunction('convertToInteractive',\n",
              "                                                     [key], {});\n",
              "          if (!dataTable) return;\n",
              "\n",
              "          const docLinkHtml = 'Like what you see? Visit the ' +\n",
              "            '<a target=\"_blank\" href=https://colab.research.google.com/notebooks/data_table.ipynb>data table notebook</a>'\n",
              "            + ' to learn more about interactive tables.';\n",
              "          element.innerHTML = '';\n",
              "          dataTable['output_type'] = 'display_data';\n",
              "          await google.colab.output.renderOutput(dataTable, element);\n",
              "          const docLink = document.createElement('div');\n",
              "          docLink.innerHTML = docLinkHtml;\n",
              "          element.appendChild(docLink);\n",
              "        }\n",
              "      </script>\n",
              "    </div>\n",
              "  </div>\n",
              "  "
            ]
          },
          "metadata": {},
          "execution_count": 32
        }
      ]
    },
    {
      "cell_type": "code",
      "source": [
        "# use pca"
      ],
      "metadata": {
        "id": "qlfQSqpdHRsj"
      },
      "execution_count": null,
      "outputs": []
    },
    {
      "cell_type": "code",
      "source": [
        "from sklearn.decomposition import PCA\n",
        "\n",
        "pca = PCA(n_components=2)\n",
        "X_pca = pca.fit_transform(df_x)\n",
        "\n",
        "X_pca.shape"
      ],
      "metadata": {
        "colab": {
          "base_uri": "https://localhost:8080/"
        },
        "id": "6DLe-iVpKus5",
        "outputId": "048351d5-30bc-4c05-c2ad-791b89dc3aba"
      },
      "execution_count": null,
      "outputs": [
        {
          "output_type": "execute_result",
          "data": {
            "text/plain": [
              "(140, 2)"
            ]
          },
          "metadata": {},
          "execution_count": 34
        }
      ]
    },
    {
      "cell_type": "code",
      "source": [
        "X_pca"
      ],
      "metadata": {
        "colab": {
          "base_uri": "https://localhost:8080/"
        },
        "id": "amMocpI6Kup0",
        "outputId": "86879cc4-7498-4196-eb9c-ef7902698f70"
      },
      "execution_count": null,
      "outputs": [
        {
          "output_type": "execute_result",
          "data": {
            "text/plain": [
              "array([[-2.79492803e-01, -1.10709065e-01],\n",
              "       [-2.76477712e-01, -1.12310063e-01],\n",
              "       [-2.74715563e-01, -1.13076164e-01],\n",
              "       [-2.73411889e-01, -1.13431068e-01],\n",
              "       [-2.72518638e-01, -1.13629652e-01],\n",
              "       [-2.71816662e-01, -1.13521076e-01],\n",
              "       [-2.71290322e-01, -1.13402409e-01],\n",
              "       [-2.70726066e-01, -1.13280740e-01],\n",
              "       [-2.70433687e-01, -1.13276223e-01],\n",
              "       [-2.69962938e-01, -1.13041183e-01],\n",
              "       [-2.69547698e-01, -1.12875993e-01],\n",
              "       [-2.69384615e-01, -1.12805339e-01],\n",
              "       [-2.69146454e-01, -1.12509663e-01],\n",
              "       [-2.68964655e-01, -1.12492005e-01],\n",
              "       [-2.68276269e-01, -1.11928500e-01],\n",
              "       [-2.67537313e-01, -1.11372954e-01],\n",
              "       [-2.68162112e-01, -1.12168702e-01],\n",
              "       [-2.68104696e-01, -1.11955766e-01],\n",
              "       [-2.66960169e-01, -1.10915330e-01],\n",
              "       [-2.65739012e-01, -1.09754584e-01],\n",
              "       [ 3.41738128e+00, -1.74385060e-02],\n",
              "       [ 3.42187196e+00, -1.47952429e-02],\n",
              "       [ 3.42314012e+00, -1.23397121e-02],\n",
              "       [ 3.42709928e+00, -6.72494352e-03],\n",
              "       [ 3.42918710e+00, -4.06168465e-03],\n",
              "       [ 3.43294045e+00,  6.23485215e-04],\n",
              "       [ 3.43664114e+00,  5.01493474e-03],\n",
              "       [ 3.43792903e+00,  7.41081550e-03],\n",
              "       [ 3.43900537e+00,  9.41375405e-03],\n",
              "       [ 3.43871868e+00,  9.53677129e-03],\n",
              "       [ 3.44080666e+00,  1.26498684e-02],\n",
              "       [ 3.44368407e+00,  1.63095914e-02],\n",
              "       [ 3.44318527e+00,  1.60779358e-02],\n",
              "       [ 3.45325051e+00,  2.68038017e-02],\n",
              "       [ 3.45553287e+00,  2.94014059e-02],\n",
              "       [ 3.45954807e+00,  3.32949126e-02],\n",
              "       [ 3.45956913e+00,  3.40061439e-02],\n",
              "       [ 3.46193523e+00,  3.68422136e-02],\n",
              "       [ 3.46349368e+00,  3.85878424e-02],\n",
              "       [ 3.46983226e+00,  4.50145030e-02],\n",
              "       [-5.99295179e-01, -1.51736731e-02],\n",
              "       [-5.95105465e-01, -1.91899264e-02],\n",
              "       [-5.93189542e-01, -2.11659431e-02],\n",
              "       [-5.92109423e-01, -2.22568178e-02],\n",
              "       [-5.91434693e-01, -2.28994182e-02],\n",
              "       [-5.90934402e-01, -2.33562300e-02],\n",
              "       [-5.90632108e-01, -2.37633787e-02],\n",
              "       [-5.90395152e-01, -2.40057351e-02],\n",
              "       [-5.90243299e-01, -2.42071549e-02],\n",
              "       [-5.90080825e-01, -2.43406570e-02],\n",
              "       [-5.89898160e-01, -2.45068459e-02],\n",
              "       [-5.89815885e-01, -2.46442710e-02],\n",
              "       [-5.89670185e-01, -2.46771990e-02],\n",
              "       [-5.89617171e-01, -2.47955697e-02],\n",
              "       [-5.89543676e-01, -2.48356546e-02],\n",
              "       [-5.89517653e-01, -2.49135782e-02],\n",
              "       [-5.89479635e-01, -2.48876578e-02],\n",
              "       [-5.89389398e-01, -2.49294724e-02],\n",
              "       [-5.89359659e-01, -2.49567404e-02],\n",
              "       [-5.89379582e-01, -2.50387421e-02],\n",
              "       [-5.64220398e-01, -7.71273471e-02],\n",
              "       [-5.60855077e-01, -8.04368310e-02],\n",
              "       [-5.59317241e-01, -8.20096344e-02],\n",
              "       [-5.58403327e-01, -8.29075748e-02],\n",
              "       [-5.57843951e-01, -8.35005905e-02],\n",
              "       [-5.57500521e-01, -8.39060816e-02],\n",
              "       [-5.57183294e-01, -8.41043123e-02],\n",
              "       [-5.56943645e-01, -8.42692216e-02],\n",
              "       [-5.56805824e-01, -8.44367923e-02],\n",
              "       [-5.56661895e-01, -8.45727578e-02],\n",
              "       [-5.56572214e-01, -8.46884346e-02],\n",
              "       [-5.56514608e-01, -8.47475965e-02],\n",
              "       [-5.56409756e-01, -8.47837054e-02],\n",
              "       [-5.56383105e-01, -8.47803787e-02],\n",
              "       [-5.56346792e-01, -8.48135330e-02],\n",
              "       [-5.56318518e-01, -8.48632726e-02],\n",
              "       [-5.56303021e-01, -8.49189082e-02],\n",
              "       [-5.56274862e-01, -8.49253735e-02],\n",
              "       [-5.56281279e-01, -8.49612000e-02],\n",
              "       [-5.56253652e-01, -8.49600847e-02],\n",
              "       [-6.60702779e-01,  9.97301056e-03],\n",
              "       [-6.59235265e-01,  8.62115196e-03],\n",
              "       [-6.58369048e-01,  7.87942386e-03],\n",
              "       [-6.57889502e-01,  7.32262129e-03],\n",
              "       [-6.57471161e-01,  6.85448465e-03],\n",
              "       [-6.57130844e-01,  6.66666690e-03],\n",
              "       [-6.56922837e-01,  6.41115278e-03],\n",
              "       [-6.56744871e-01,  6.21295672e-03],\n",
              "       [-6.56636671e-01,  6.08841792e-03],\n",
              "       [-6.56523518e-01,  6.06611453e-03],\n",
              "       [-6.56450507e-01,  5.90609798e-03],\n",
              "       [-6.56368041e-01,  5.84651600e-03],\n",
              "       [-6.56308954e-01,  5.78253262e-03],\n",
              "       [-6.56186932e-01,  5.78742502e-03],\n",
              "       [-6.56160454e-01,  5.71618607e-03],\n",
              "       [-6.56105707e-01,  5.67205725e-03],\n",
              "       [-6.56063338e-01,  5.60758238e-03],\n",
              "       [-6.56047831e-01,  5.63917045e-03],\n",
              "       [-6.55936463e-01,  5.57169336e-03],\n",
              "       [-6.56002971e-01,  5.53394227e-03],\n",
              "       [-6.39005977e-01,  1.43260725e-01],\n",
              "       [-6.38993438e-01,  1.43272489e-01],\n",
              "       [-6.39005928e-01,  1.43259166e-01],\n",
              "       [-6.38944670e-01,  1.43319788e-01],\n",
              "       [-6.38971304e-01,  1.43293194e-01],\n",
              "       [-6.38903182e-01,  1.43360454e-01],\n",
              "       [-6.38900936e-01,  1.43361778e-01],\n",
              "       [-6.38832830e-01,  1.43428687e-01],\n",
              "       [-6.38807820e-01,  1.43452878e-01],\n",
              "       [-6.38829323e-01,  1.43430809e-01],\n",
              "       [-6.38768294e-01,  1.43490700e-01],\n",
              "       [-6.38777347e-01,  1.43480850e-01],\n",
              "       [-6.38737770e-01,  1.43519536e-01],\n",
              "       [-6.38755054e-01,  1.43501854e-01],\n",
              "       [-6.38714811e-01,  1.43541110e-01],\n",
              "       [-6.38698443e-01,  1.43557008e-01],\n",
              "       [-6.38698346e-01,  1.43556179e-01],\n",
              "       [-6.38687966e-01,  1.43565982e-01],\n",
              "       [-6.38654402e-01,  1.43598782e-01],\n",
              "       [-6.38630906e-01,  1.43621466e-01],\n",
              "       [-7.26770820e-01,  5.75600790e-02],\n",
              "       [-7.26923354e-01,  5.74108644e-02],\n",
              "       [-7.27026613e-01,  5.73109592e-02],\n",
              "       [-7.27183894e-01,  5.71566519e-02],\n",
              "       [-7.27274283e-01,  5.70686371e-02],\n",
              "       [-7.27425397e-01,  5.69202001e-02],\n",
              "       [-7.27616053e-01,  5.67320801e-02],\n",
              "       [-7.27699212e-01,  5.66511148e-02],\n",
              "       [-7.27880552e-01,  5.64716660e-02],\n",
              "       [-7.28024462e-01,  5.63299384e-02],\n",
              "       [-7.28060737e-01,  5.62952277e-02],\n",
              "       [-7.28191180e-01,  5.61669437e-02],\n",
              "       [-7.28239545e-01,  5.61207522e-02],\n",
              "       [-7.28373893e-01,  5.59879528e-02],\n",
              "       [-7.28458504e-01,  5.59048237e-02],\n",
              "       [-7.28480543e-01,  5.58844356e-02],\n",
              "       [-7.28544168e-01,  5.58223825e-02],\n",
              "       [-7.28549546e-01,  5.58186520e-02],\n",
              "       [-7.28594026e-01,  5.57759442e-02],\n",
              "       [-7.28705590e-01,  5.56649390e-02]])"
            ]
          },
          "metadata": {},
          "execution_count": 35
        }
      ]
    },
    {
      "cell_type": "code",
      "source": [
        "df_X_pca = pd. DataFrame(X_pca, columns=['Column1', 'Column2'])\n",
        "df_X_pca.head()"
      ],
      "metadata": {
        "colab": {
          "base_uri": "https://localhost:8080/",
          "height": 206
        },
        "id": "udGtub_3MNjC",
        "outputId": "73a24896-4a79-46d3-ae54-7986a10b0042"
      },
      "execution_count": null,
      "outputs": [
        {
          "output_type": "execute_result",
          "data": {
            "text/plain": [
              "    Column1   Column2\n",
              "0 -0.279493 -0.110709\n",
              "1 -0.276478 -0.112310\n",
              "2 -0.274716 -0.113076\n",
              "3 -0.273412 -0.113431\n",
              "4 -0.272519 -0.113630"
            ],
            "text/html": [
              "\n",
              "  <div id=\"df-14fc550a-43e6-4f33-9eae-492a70b86eb1\">\n",
              "    <div class=\"colab-df-container\">\n",
              "      <div>\n",
              "<style scoped>\n",
              "    .dataframe tbody tr th:only-of-type {\n",
              "        vertical-align: middle;\n",
              "    }\n",
              "\n",
              "    .dataframe tbody tr th {\n",
              "        vertical-align: top;\n",
              "    }\n",
              "\n",
              "    .dataframe thead th {\n",
              "        text-align: right;\n",
              "    }\n",
              "</style>\n",
              "<table border=\"1\" class=\"dataframe\">\n",
              "  <thead>\n",
              "    <tr style=\"text-align: right;\">\n",
              "      <th></th>\n",
              "      <th>Column1</th>\n",
              "      <th>Column2</th>\n",
              "    </tr>\n",
              "  </thead>\n",
              "  <tbody>\n",
              "    <tr>\n",
              "      <th>0</th>\n",
              "      <td>-0.279493</td>\n",
              "      <td>-0.110709</td>\n",
              "    </tr>\n",
              "    <tr>\n",
              "      <th>1</th>\n",
              "      <td>-0.276478</td>\n",
              "      <td>-0.112310</td>\n",
              "    </tr>\n",
              "    <tr>\n",
              "      <th>2</th>\n",
              "      <td>-0.274716</td>\n",
              "      <td>-0.113076</td>\n",
              "    </tr>\n",
              "    <tr>\n",
              "      <th>3</th>\n",
              "      <td>-0.273412</td>\n",
              "      <td>-0.113431</td>\n",
              "    </tr>\n",
              "    <tr>\n",
              "      <th>4</th>\n",
              "      <td>-0.272519</td>\n",
              "      <td>-0.113630</td>\n",
              "    </tr>\n",
              "  </tbody>\n",
              "</table>\n",
              "</div>\n",
              "      <button class=\"colab-df-convert\" onclick=\"convertToInteractive('df-14fc550a-43e6-4f33-9eae-492a70b86eb1')\"\n",
              "              title=\"Convert this dataframe to an interactive table.\"\n",
              "              style=\"display:none;\">\n",
              "        \n",
              "  <svg xmlns=\"http://www.w3.org/2000/svg\" height=\"24px\"viewBox=\"0 0 24 24\"\n",
              "       width=\"24px\">\n",
              "    <path d=\"M0 0h24v24H0V0z\" fill=\"none\"/>\n",
              "    <path d=\"M18.56 5.44l.94 2.06.94-2.06 2.06-.94-2.06-.94-.94-2.06-.94 2.06-2.06.94zm-11 1L8.5 8.5l.94-2.06 2.06-.94-2.06-.94L8.5 2.5l-.94 2.06-2.06.94zm10 10l.94 2.06.94-2.06 2.06-.94-2.06-.94-.94-2.06-.94 2.06-2.06.94z\"/><path d=\"M17.41 7.96l-1.37-1.37c-.4-.4-.92-.59-1.43-.59-.52 0-1.04.2-1.43.59L10.3 9.45l-7.72 7.72c-.78.78-.78 2.05 0 2.83L4 21.41c.39.39.9.59 1.41.59.51 0 1.02-.2 1.41-.59l7.78-7.78 2.81-2.81c.8-.78.8-2.07 0-2.86zM5.41 20L4 18.59l7.72-7.72 1.47 1.35L5.41 20z\"/>\n",
              "  </svg>\n",
              "      </button>\n",
              "      \n",
              "  <style>\n",
              "    .colab-df-container {\n",
              "      display:flex;\n",
              "      flex-wrap:wrap;\n",
              "      gap: 12px;\n",
              "    }\n",
              "\n",
              "    .colab-df-convert {\n",
              "      background-color: #E8F0FE;\n",
              "      border: none;\n",
              "      border-radius: 50%;\n",
              "      cursor: pointer;\n",
              "      display: none;\n",
              "      fill: #1967D2;\n",
              "      height: 32px;\n",
              "      padding: 0 0 0 0;\n",
              "      width: 32px;\n",
              "    }\n",
              "\n",
              "    .colab-df-convert:hover {\n",
              "      background-color: #E2EBFA;\n",
              "      box-shadow: 0px 1px 2px rgba(60, 64, 67, 0.3), 0px 1px 3px 1px rgba(60, 64, 67, 0.15);\n",
              "      fill: #174EA6;\n",
              "    }\n",
              "\n",
              "    [theme=dark] .colab-df-convert {\n",
              "      background-color: #3B4455;\n",
              "      fill: #D2E3FC;\n",
              "    }\n",
              "\n",
              "    [theme=dark] .colab-df-convert:hover {\n",
              "      background-color: #434B5C;\n",
              "      box-shadow: 0px 1px 3px 1px rgba(0, 0, 0, 0.15);\n",
              "      filter: drop-shadow(0px 1px 2px rgba(0, 0, 0, 0.3));\n",
              "      fill: #FFFFFF;\n",
              "    }\n",
              "  </style>\n",
              "\n",
              "      <script>\n",
              "        const buttonEl =\n",
              "          document.querySelector('#df-14fc550a-43e6-4f33-9eae-492a70b86eb1 button.colab-df-convert');\n",
              "        buttonEl.style.display =\n",
              "          google.colab.kernel.accessAllowed ? 'block' : 'none';\n",
              "\n",
              "        async function convertToInteractive(key) {\n",
              "          const element = document.querySelector('#df-14fc550a-43e6-4f33-9eae-492a70b86eb1');\n",
              "          const dataTable =\n",
              "            await google.colab.kernel.invokeFunction('convertToInteractive',\n",
              "                                                     [key], {});\n",
              "          if (!dataTable) return;\n",
              "\n",
              "          const docLinkHtml = 'Like what you see? Visit the ' +\n",
              "            '<a target=\"_blank\" href=https://colab.research.google.com/notebooks/data_table.ipynb>data table notebook</a>'\n",
              "            + ' to learn more about interactive tables.';\n",
              "          element.innerHTML = '';\n",
              "          dataTable['output_type'] = 'display_data';\n",
              "          await google.colab.output.renderOutput(dataTable, element);\n",
              "          const docLink = document.createElement('div');\n",
              "          docLink.innerHTML = docLinkHtml;\n",
              "          element.appendChild(docLink);\n",
              "        }\n",
              "      </script>\n",
              "    </div>\n",
              "  </div>\n",
              "  "
            ]
          },
          "metadata": {},
          "execution_count": 36
        }
      ]
    },
    {
      "cell_type": "code",
      "source": [
        "plt.scatter(df_X_pca['Column1'], df_X_pca['Column2'], color='blue')\n",
        "plt.xlabel('pca1')\n",
        "plt.ylabel('pca2')"
      ],
      "metadata": {
        "colab": {
          "base_uri": "https://localhost:8080/",
          "height": 296
        },
        "id": "_OrlKanPMONe",
        "outputId": "554e4d7c-f665-454d-d074-ceca8da60361"
      },
      "execution_count": null,
      "outputs": [
        {
          "output_type": "execute_result",
          "data": {
            "text/plain": [
              "Text(0, 0.5, 'pca2')"
            ]
          },
          "metadata": {},
          "execution_count": 37
        },
        {
          "output_type": "display_data",
          "data": {
            "text/plain": [
              "<Figure size 432x288 with 1 Axes>"
            ],
            "image/png": "[encoded data removed]"
          },
          "metadata": {
            "needs_background": "light"
          }
        }
      ]
    },
    {
      "cell_type": "code",
      "source": [
        "pca.explained_variance_ratio_"
      ],
      "metadata": {
        "colab": {
          "base_uri": "https://localhost:8080/"
        },
        "id": "t-5PZaTWKuli",
        "outputId": "e7db0355-a026-46a1-db69-ac1387e6cb15"
      },
      "execution_count": null,
      "outputs": [
        {
          "output_type": "execute_result",
          "data": {
            "text/plain": [
              "array([0.99681824, 0.00318176])"
            ]
          },
          "metadata": {},
          "execution_count": 38
        }
      ]
    },
    {
      "cell_type": "code",
      "source": [],
      "metadata": {
        "id": "KhOWRTLGMMLS"
      },
      "execution_count": null,
      "outputs": []
    },
    {
      "cell_type": "code",
      "source": [],
      "metadata": {
        "id": "4-O-N9dKMMHs"
      },
      "execution_count": null,
      "outputs": []
    },
    {
      "cell_type": "markdown",
      "source": [
        "# Clustering With K Means"
      ],
      "metadata": {
        "id": "oIW0dGelyika"
      }
    },
    {
      "cell_type": "code",
      "source": [
        "from sklearn.cluster import KMeans\n",
        "import pandas as pd\n",
        "from sklearn.preprocessing import MinMaxScaler\n",
        "from matplotlib import pyplot as plt\n",
        "%matplotlib inline"
      ],
      "metadata": {
        "id": "eLRDoQIDMME6"
      },
      "execution_count": null,
      "outputs": []
    },
    {
      "cell_type": "code",
      "source": [
        "df_X_pca.head()"
      ],
      "metadata": {
        "id": "YWDFsg9QMMBy",
        "colab": {
          "base_uri": "https://localhost:8080/",
          "height": 206
        },
        "outputId": "67ce6cca-625e-455f-b86b-0b2b2f0af835"
      },
      "execution_count": null,
      "outputs": [
        {
          "output_type": "execute_result",
          "data": {
            "text/plain": [
              "    Column1   Column2\n",
              "0 -0.279493 -0.110709\n",
              "1 -0.276478 -0.112310\n",
              "2 -0.274716 -0.113076\n",
              "3 -0.273412 -0.113431\n",
              "4 -0.272519 -0.113630"
            ],
            "text/html": [
              "\n",
              "  <div id=\"df-7bbd2cf7-691c-47d2-bd29-5142cb31ce19\">\n",
              "    <div class=\"colab-df-container\">\n",
              "      <div>\n",
              "<style scoped>\n",
              "    .dataframe tbody tr th:only-of-type {\n",
              "        vertical-align: middle;\n",
              "    }\n",
              "\n",
              "    .dataframe tbody tr th {\n",
              "        vertical-align: top;\n",
              "    }\n",
              "\n",
              "    .dataframe thead th {\n",
              "        text-align: right;\n",
              "    }\n",
              "</style>\n",
              "<table border=\"1\" class=\"dataframe\">\n",
              "  <thead>\n",
              "    <tr style=\"text-align: right;\">\n",
              "      <th></th>\n",
              "      <th>Column1</th>\n",
              "      <th>Column2</th>\n",
              "    </tr>\n",
              "  </thead>\n",
              "  <tbody>\n",
              "    <tr>\n",
              "      <th>0</th>\n",
              "      <td>-0.279493</td>\n",
              "      <td>-0.110709</td>\n",
              "    </tr>\n",
              "    <tr>\n",
              "      <th>1</th>\n",
              "      <td>-0.276478</td>\n",
              "      <td>-0.112310</td>\n",
              "    </tr>\n",
              "    <tr>\n",
              "      <th>2</th>\n",
              "      <td>-0.274716</td>\n",
              "      <td>-0.113076</td>\n",
              "    </tr>\n",
              "    <tr>\n",
              "      <th>3</th>\n",
              "      <td>-0.273412</td>\n",
              "      <td>-0.113431</td>\n",
              "    </tr>\n",
              "    <tr>\n",
              "      <th>4</th>\n",
              "      <td>-0.272519</td>\n",
              "      <td>-0.113630</td>\n",
              "    </tr>\n",
              "  </tbody>\n",
              "</table>\n",
              "</div>\n",
              "      <button class=\"colab-df-convert\" onclick=\"convertToInteractive('df-7bbd2cf7-691c-47d2-bd29-5142cb31ce19')\"\n",
              "              title=\"Convert this dataframe to an interactive table.\"\n",
              "              style=\"display:none;\">\n",
              "        \n",
              "  <svg xmlns=\"http://www.w3.org/2000/svg\" height=\"24px\"viewBox=\"0 0 24 24\"\n",
              "       width=\"24px\">\n",
              "    <path d=\"M0 0h24v24H0V0z\" fill=\"none\"/>\n",
              "    <path d=\"M18.56 5.44l.94 2.06.94-2.06 2.06-.94-2.06-.94-.94-2.06-.94 2.06-2.06.94zm-11 1L8.5 8.5l.94-2.06 2.06-.94-2.06-.94L8.5 2.5l-.94 2.06-2.06.94zm10 10l.94 2.06.94-2.06 2.06-.94-2.06-.94-.94-2.06-.94 2.06-2.06.94z\"/><path d=\"M17.41 7.96l-1.37-1.37c-.4-.4-.92-.59-1.43-.59-.52 0-1.04.2-1.43.59L10.3 9.45l-7.72 7.72c-.78.78-.78 2.05 0 2.83L4 21.41c.39.39.9.59 1.41.59.51 0 1.02-.2 1.41-.59l7.78-7.78 2.81-2.81c.8-.78.8-2.07 0-2.86zM5.41 20L4 18.59l7.72-7.72 1.47 1.35L5.41 20z\"/>\n",
              "  </svg>\n",
              "      </button>\n",
              "      \n",
              "  <style>\n",
              "    .colab-df-container {\n",
              "      display:flex;\n",
              "      flex-wrap:wrap;\n",
              "      gap: 12px;\n",
              "    }\n",
              "\n",
              "    .colab-df-convert {\n",
              "      background-color: #E8F0FE;\n",
              "      border: none;\n",
              "      border-radius: 50%;\n",
              "      cursor: pointer;\n",
              "      display: none;\n",
              "      fill: #1967D2;\n",
              "      height: 32px;\n",
              "      padding: 0 0 0 0;\n",
              "      width: 32px;\n",
              "    }\n",
              "\n",
              "    .colab-df-convert:hover {\n",
              "      background-color: #E2EBFA;\n",
              "      box-shadow: 0px 1px 2px rgba(60, 64, 67, 0.3), 0px 1px 3px 1px rgba(60, 64, 67, 0.15);\n",
              "      fill: #174EA6;\n",
              "    }\n",
              "\n",
              "    [theme=dark] .colab-df-convert {\n",
              "      background-color: #3B4455;\n",
              "      fill: #D2E3FC;\n",
              "    }\n",
              "\n",
              "    [theme=dark] .colab-df-convert:hover {\n",
              "      background-color: #434B5C;\n",
              "      box-shadow: 0px 1px 3px 1px rgba(0, 0, 0, 0.15);\n",
              "      filter: drop-shadow(0px 1px 2px rgba(0, 0, 0, 0.3));\n",
              "      fill: #FFFFFF;\n",
              "    }\n",
              "  </style>\n",
              "\n",
              "      <script>\n",
              "        const buttonEl =\n",
              "          document.querySelector('#df-7bbd2cf7-691c-47d2-bd29-5142cb31ce19 button.colab-df-convert');\n",
              "        buttonEl.style.display =\n",
              "          google.colab.kernel.accessAllowed ? 'block' : 'none';\n",
              "\n",
              "        async function convertToInteractive(key) {\n",
              "          const element = document.querySelector('#df-7bbd2cf7-691c-47d2-bd29-5142cb31ce19');\n",
              "          const dataTable =\n",
              "            await google.colab.kernel.invokeFunction('convertToInteractive',\n",
              "                                                     [key], {});\n",
              "          if (!dataTable) return;\n",
              "\n",
              "          const docLinkHtml = 'Like what you see? Visit the ' +\n",
              "            '<a target=\"_blank\" href=https://colab.research.google.com/notebooks/data_table.ipynb>data table notebook</a>'\n",
              "            + ' to learn more about interactive tables.';\n",
              "          element.innerHTML = '';\n",
              "          dataTable['output_type'] = 'display_data';\n",
              "          await google.colab.output.renderOutput(dataTable, element);\n",
              "          const docLink = document.createElement('div');\n",
              "          docLink.innerHTML = docLinkHtml;\n",
              "          element.appendChild(docLink);\n",
              "        }\n",
              "      </script>\n",
              "    </div>\n",
              "  </div>\n",
              "  "
            ]
          },
          "metadata": {},
          "execution_count": 40
        }
      ]
    },
    {
      "cell_type": "code",
      "source": [
        "plt.scatter(df_X_pca.Column1,df_X_pca.Column2)\n",
        "plt.xlabel('pca1')\n",
        "plt.ylabel('pca2')"
      ],
      "metadata": {
        "colab": {
          "base_uri": "https://localhost:8080/",
          "height": 296
        },
        "id": "lMAUNDbyypb5",
        "outputId": "e0c2aa91-ef32-4663-e9a5-2a7c388cffb4"
      },
      "execution_count": null,
      "outputs": [
        {
          "output_type": "execute_result",
          "data": {
            "text/plain": [
              "Text(0, 0.5, 'pca2')"
            ]
          },
          "metadata": {},
          "execution_count": 41
        },
        {
          "output_type": "display_data",
          "data": {
            "text/plain": [
              "<Figure size 432x288 with 1 Axes>"
            ],
            "image/png": "[encoded data removed]"
          },
          "metadata": {
            "needs_background": "light"
          }
        }
      ]
    },
    {
      "cell_type": "code",
      "source": [
        "km = KMeans(n_clusters=7)\n",
        "y_predicted = km.fit_predict(df_X_pca[['Column1','Column2']])\n",
        "y_predicted"
      ],
      "metadata": {
        "colab": {
          "base_uri": "https://localhost:8080/"
        },
        "id": "tJTtev-VypYZ",
        "outputId": "3bec7ee5-c01a-4cdd-9d20-6b7cd3b6ba2d"
      },
      "execution_count": null,
      "outputs": [
        {
          "output_type": "execute_result",
          "data": {
            "text/plain": [
              "array([2, 2, 2, 2, 2, 2, 2, 2, 2, 2, 2, 2, 2, 2, 2, 2, 2, 2, 2, 2, 1, 1,\n",
              "       1, 1, 1, 1, 1, 1, 1, 1, 1, 1, 1, 1, 1, 1, 1, 1, 1, 1, 6, 6, 6, 6,\n",
              "       6, 6, 6, 6, 6, 6, 6, 6, 6, 6, 6, 6, 6, 6, 6, 6, 3, 3, 3, 3, 3, 3,\n",
              "       3, 3, 3, 3, 3, 3, 3, 3, 3, 3, 3, 3, 3, 3, 5, 5, 5, 5, 5, 5, 5, 5,\n",
              "       5, 5, 5, 5, 5, 5, 5, 5, 5, 5, 5, 5, 0, 0, 0, 0, 0, 0, 0, 0, 0, 0,\n",
              "       0, 0, 0, 0, 0, 0, 0, 0, 0, 0, 4, 4, 4, 4, 4, 4, 4, 4, 4, 4, 4, 4,\n",
              "       4, 4, 4, 4, 4, 4, 4, 4], dtype=int32)"
            ]
          },
          "metadata": {},
          "execution_count": 43
        }
      ]
    },
    {
      "cell_type": "code",
      "source": [
        "y_predicted.shape"
      ],
      "metadata": {
        "colab": {
          "base_uri": "https://localhost:8080/"
        },
        "id": "vIhYnq0Ge6jJ",
        "outputId": "661413b8-34ac-4d5a-f369-6db56887aeae"
      },
      "execution_count": null,
      "outputs": [
        {
          "output_type": "execute_result",
          "data": {
            "text/plain": [
              "(140,)"
            ]
          },
          "metadata": {},
          "execution_count": 44
        }
      ]
    },
    {
      "cell_type": "code",
      "source": [],
      "metadata": {
        "id": "LSFcTNYifDk2"
      },
      "execution_count": null,
      "outputs": []
    },
    {
      "cell_type": "code",
      "source": [
        "df_X_pca['cluster']=y_predicted\n",
        "df_X_pca.head()"
      ],
      "metadata": {
        "colab": {
          "base_uri": "https://localhost:8080/",
          "height": 206
        },
        "id": "b-EZlz7ZypVt",
        "outputId": "762069a5-8c21-4bc1-ea78-37b07db1c2e0"
      },
      "execution_count": null,
      "outputs": [
        {
          "output_type": "execute_result",
          "data": {
            "text/plain": [
              "    Column1   Column2  cluster\n",
              "0 -0.279493 -0.110709        2\n",
              "1 -0.276478 -0.112310        2\n",
              "2 -0.274716 -0.113076        2\n",
              "3 -0.273412 -0.113431        2\n",
              "4 -0.272519 -0.113630        2"
            ],
            "text/html": [
              "\n",
              "  <div id=\"df-3adaa509-24a9-46da-9f7d-57cfbbd4cd38\">\n",
              "    <div class=\"colab-df-container\">\n",
              "      <div>\n",
              "<style scoped>\n",
              "    .dataframe tbody tr th:only-of-type {\n",
              "        vertical-align: middle;\n",
              "    }\n",
              "\n",
              "    .dataframe tbody tr th {\n",
              "        vertical-align: top;\n",
              "    }\n",
              "\n",
              "    .dataframe thead th {\n",
              "        text-align: right;\n",
              "    }\n",
              "</style>\n",
              "<table border=\"1\" class=\"dataframe\">\n",
              "  <thead>\n",
              "    <tr style=\"text-align: right;\">\n",
              "      <th></th>\n",
              "      <th>Column1</th>\n",
              "      <th>Column2</th>\n",
              "      <th>cluster</th>\n",
              "    </tr>\n",
              "  </thead>\n",
              "  <tbody>\n",
              "    <tr>\n",
              "      <th>0</th>\n",
              "      <td>-0.279493</td>\n",
              "      <td>-0.110709</td>\n",
              "      <td>2</td>\n",
              "    </tr>\n",
              "    <tr>\n",
              "      <th>1</th>\n",
              "      <td>-0.276478</td>\n",
              "      <td>-0.112310</td>\n",
              "      <td>2</td>\n",
              "    </tr>\n",
              "    <tr>\n",
              "      <th>2</th>\n",
              "      <td>-0.274716</td>\n",
              "      <td>-0.113076</td>\n",
              "      <td>2</td>\n",
              "    </tr>\n",
              "    <tr>\n",
              "      <th>3</th>\n",
              "      <td>-0.273412</td>\n",
              "      <td>-0.113431</td>\n",
              "      <td>2</td>\n",
              "    </tr>\n",
              "    <tr>\n",
              "      <th>4</th>\n",
              "      <td>-0.272519</td>\n",
              "      <td>-0.113630</td>\n",
              "      <td>2</td>\n",
              "    </tr>\n",
              "  </tbody>\n",
              "</table>\n",
              "</div>\n",
              "      <button class=\"colab-df-convert\" onclick=\"convertToInteractive('df-3adaa509-24a9-46da-9f7d-57cfbbd4cd38')\"\n",
              "              title=\"Convert this dataframe to an interactive table.\"\n",
              "              style=\"display:none;\">\n",
              "        \n",
              "  <svg xmlns=\"http://www.w3.org/2000/svg\" height=\"24px\"viewBox=\"0 0 24 24\"\n",
              "       width=\"24px\">\n",
              "    <path d=\"M0 0h24v24H0V0z\" fill=\"none\"/>\n",
              "    <path d=\"M18.56 5.44l.94 2.06.94-2.06 2.06-.94-2.06-.94-.94-2.06-.94 2.06-2.06.94zm-11 1L8.5 8.5l.94-2.06 2.06-.94-2.06-.94L8.5 2.5l-.94 2.06-2.06.94zm10 10l.94 2.06.94-2.06 2.06-.94-2.06-.94-.94-2.06-.94 2.06-2.06.94z\"/><path d=\"M17.41 7.96l-1.37-1.37c-.4-.4-.92-.59-1.43-.59-.52 0-1.04.2-1.43.59L10.3 9.45l-7.72 7.72c-.78.78-.78 2.05 0 2.83L4 21.41c.39.39.9.59 1.41.59.51 0 1.02-.2 1.41-.59l7.78-7.78 2.81-2.81c.8-.78.8-2.07 0-2.86zM5.41 20L4 18.59l7.72-7.72 1.47 1.35L5.41 20z\"/>\n",
              "  </svg>\n",
              "      </button>\n",
              "      \n",
              "  <style>\n",
              "    .colab-df-container {\n",
              "      display:flex;\n",
              "      flex-wrap:wrap;\n",
              "      gap: 12px;\n",
              "    }\n",
              "\n",
              "    .colab-df-convert {\n",
              "      background-color: #E8F0FE;\n",
              "      border: none;\n",
              "      border-radius: 50%;\n",
              "      cursor: pointer;\n",
              "      display: none;\n",
              "      fill: #1967D2;\n",
              "      height: 32px;\n",
              "      padding: 0 0 0 0;\n",
              "      width: 32px;\n",
              "    }\n",
              "\n",
              "    .colab-df-convert:hover {\n",
              "      background-color: #E2EBFA;\n",
              "      box-shadow: 0px 1px 2px rgba(60, 64, 67, 0.3), 0px 1px 3px 1px rgba(60, 64, 67, 0.15);\n",
              "      fill: #174EA6;\n",
              "    }\n",
              "\n",
              "    [theme=dark] .colab-df-convert {\n",
              "      background-color: #3B4455;\n",
              "      fill: #D2E3FC;\n",
              "    }\n",
              "\n",
              "    [theme=dark] .colab-df-convert:hover {\n",
              "      background-color: #434B5C;\n",
              "      box-shadow: 0px 1px 3px 1px rgba(0, 0, 0, 0.15);\n",
              "      filter: drop-shadow(0px 1px 2px rgba(0, 0, 0, 0.3));\n",
              "      fill: #FFFFFF;\n",
              "    }\n",
              "  </style>\n",
              "\n",
              "      <script>\n",
              "        const buttonEl =\n",
              "          document.querySelector('#df-3adaa509-24a9-46da-9f7d-57cfbbd4cd38 button.colab-df-convert');\n",
              "        buttonEl.style.display =\n",
              "          google.colab.kernel.accessAllowed ? 'block' : 'none';\n",
              "\n",
              "        async function convertToInteractive(key) {\n",
              "          const element = document.querySelector('#df-3adaa509-24a9-46da-9f7d-57cfbbd4cd38');\n",
              "          const dataTable =\n",
              "            await google.colab.kernel.invokeFunction('convertToInteractive',\n",
              "                                                     [key], {});\n",
              "          if (!dataTable) return;\n",
              "\n",
              "          const docLinkHtml = 'Like what you see? Visit the ' +\n",
              "            '<a target=\"_blank\" href=https://colab.research.google.com/notebooks/data_table.ipynb>data table notebook</a>'\n",
              "            + ' to learn more about interactive tables.';\n",
              "          element.innerHTML = '';\n",
              "          dataTable['output_type'] = 'display_data';\n",
              "          await google.colab.output.renderOutput(dataTable, element);\n",
              "          const docLink = document.createElement('div');\n",
              "          docLink.innerHTML = docLinkHtml;\n",
              "          element.appendChild(docLink);\n",
              "        }\n",
              "      </script>\n",
              "    </div>\n",
              "  </div>\n",
              "  "
            ]
          },
          "metadata": {},
          "execution_count": 45
        }
      ]
    },
    {
      "cell_type": "code",
      "source": [
        "km.cluster_centers_"
      ],
      "metadata": {
        "colab": {
          "base_uri": "https://localhost:8080/"
        },
        "id": "DYKf2oiXypSo",
        "outputId": "a546a1d3-adaa-4c27-827a-cf4e8716644d"
      },
      "execution_count": null,
      "outputs": [
        {
          "output_type": "execute_result",
          "data": {
            "text/plain": [
              "array([[-0.63881594,  0.14344367],\n",
              "       [ 3.44273761,  0.01328139],\n",
              "       [-0.27063346, -0.11242282],\n",
              "       [-0.55746965, -0.08378568],\n",
              "       [-0.72790112,  0.05645271],\n",
              "       [-0.65696288,  0.00645796],\n",
              "       [-0.59095455, -0.02342723]])"
            ]
          },
          "metadata": {},
          "execution_count": 46
        }
      ]
    },
    {
      "cell_type": "code",
      "source": [
        "df1 = df_X_pca[df_X_pca.cluster==0]\n",
        "df2 = df_X_pca[df_X_pca.cluster==1]\n",
        "df3 = df_X_pca[df_X_pca.cluster==2]\n",
        "df4 = df_X_pca[df_X_pca.cluster==3]\n",
        "df5 = df_X_pca[df_X_pca.cluster==4]\n",
        "df6 = df_X_pca[df_X_pca.cluster==5]\n",
        "df7 = df_X_pca[df_X_pca.cluster==6]\n",
        "# df8 = df_X_pca[df_X_pca.cluster==7]\n",
        "\n",
        "plt.scatter(df1.Column1, df1.Column2, color='DarkMagenta', label='IR')\n",
        "plt.scatter(df2.Column1, df2.Column2, color='cyan', label='FLASHLIGHT')\n",
        "plt.scatter(df3.Column1, df3.Column2, color='blue', label='BLUE')\n",
        "plt.scatter(df4.Column1, df4.Column2, color='red', label='RED')\n",
        "plt.scatter(df5.Column1, df5.Column2, color='black', label='OFF')\n",
        "plt.scatter(df6.Column1, df6.Column2, color='violet', label='UV')\n",
        "plt.scatter(df7.Column1, df7.Column2, color='green', label='GREEN')\n",
        "# plt.scatter(df3.Column1, df3.Column2, color='LawnGreen', label='UBGRI')\n",
        "\n",
        "# plt.scatter(km.cluster_centers_[:,0],km.cluster_centers_[:,1],color='purple',marker='*',label='centroid')\n",
        "\n",
        "plt.xlabel('pca1')\n",
        "plt.ylabel('pca2')\n",
        "plt.legend(loc = \"upper center\")\n",
        "# blue - 4,flashlight - 0, green - 7, red - 1, UV - 5, IR - 3, UBGRI - 2, off - 6\n",
        "# blue - 2,flashlight - 1, green - 6, red - 3, UV - 5, IR - 0, off - 4"
      ],
      "metadata": {
        "colab": {
          "base_uri": "https://localhost:8080/",
          "height": 296
        },
        "id": "IE7ZrxOo1Cii",
        "outputId": "aaf1801b-0992-401e-dec5-2a74d1762605"
      },
      "execution_count": null,
      "outputs": [
        {
          "output_type": "execute_result",
          "data": {
            "text/plain": [
              "<matplotlib.legend.Legend at 0x7f9a87d23d00>"
            ]
          },
          "metadata": {},
          "execution_count": 47
        },
        {
          "output_type": "display_data",
          "data": {
            "text/plain": [
              "<Figure size 432x288 with 1 Axes>"
            ],
            "image/png": "[encoded data removed]"
          },
          "metadata": {
            "needs_background": "light"
          }
        }
      ]
    },
    {
      "cell_type": "markdown",
      "source": [
        "Preprocessing using min max scaler"
      ],
      "metadata": {
        "id": "u2S_Tc802WyB"
      }
    },
    {
      "cell_type": "code",
      "source": [
        "scaler = MinMaxScaler()\n",
        "\n",
        "scaler.fit(df_X_pca[['Column1']])\n",
        "df_X_pca['Column1'] = scaler.transform(df_X_pca[['Column1']])\n",
        "\n",
        "scaler.fit(df_X_pca[['Column2']])\n",
        "df_X_pca['Column2'] = scaler.transform(df_X_pca[['Column2']])"
      ],
      "metadata": {
        "id": "n5C-zeGs1CfG"
      },
      "execution_count": null,
      "outputs": []
    },
    {
      "cell_type": "code",
      "source": [
        "df_X_pca.head()"
      ],
      "metadata": {
        "colab": {
          "base_uri": "https://localhost:8080/",
          "height": 206
        },
        "id": "DmPbmaSP2tpM",
        "outputId": "affbc9d8-cb32-43b9-bd8e-8d364d9442e3"
      },
      "execution_count": null,
      "outputs": [
        {
          "output_type": "execute_result",
          "data": {
            "text/plain": [
              "    Column1   Column2  cluster\n",
              "0  0.106993  0.011353        2\n",
              "1  0.107711  0.005130        2\n",
              "2  0.108131  0.002152        2\n",
              "3  0.108441  0.000772        2\n",
              "4  0.108654  0.000000        2"
            ],
            "text/html": [
              "\n",
              "  <div id=\"df-c7b4e24c-f2b8-418e-ae0d-9396083c31c2\">\n",
              "    <div class=\"colab-df-container\">\n",
              "      <div>\n",
              "<style scoped>\n",
              "    .dataframe tbody tr th:only-of-type {\n",
              "        vertical-align: middle;\n",
              "    }\n",
              "\n",
              "    .dataframe tbody tr th {\n",
              "        vertical-align: top;\n",
              "    }\n",
              "\n",
              "    .dataframe thead th {\n",
              "        text-align: right;\n",
              "    }\n",
              "</style>\n",
              "<table border=\"1\" class=\"dataframe\">\n",
              "  <thead>\n",
              "    <tr style=\"text-align: right;\">\n",
              "      <th></th>\n",
              "      <th>Column1</th>\n",
              "      <th>Column2</th>\n",
              "      <th>cluster</th>\n",
              "    </tr>\n",
              "  </thead>\n",
              "  <tbody>\n",
              "    <tr>\n",
              "      <th>0</th>\n",
              "      <td>0.106993</td>\n",
              "      <td>0.011353</td>\n",
              "      <td>2</td>\n",
              "    </tr>\n",
              "    <tr>\n",
              "      <th>1</th>\n",
              "      <td>0.107711</td>\n",
              "      <td>0.005130</td>\n",
              "      <td>2</td>\n",
              "    </tr>\n",
              "    <tr>\n",
              "      <th>2</th>\n",
              "      <td>0.108131</td>\n",
              "      <td>0.002152</td>\n",
              "      <td>2</td>\n",
              "    </tr>\n",
              "    <tr>\n",
              "      <th>3</th>\n",
              "      <td>0.108441</td>\n",
              "      <td>0.000772</td>\n",
              "      <td>2</td>\n",
              "    </tr>\n",
              "    <tr>\n",
              "      <th>4</th>\n",
              "      <td>0.108654</td>\n",
              "      <td>0.000000</td>\n",
              "      <td>2</td>\n",
              "    </tr>\n",
              "  </tbody>\n",
              "</table>\n",
              "</div>\n",
              "      <button class=\"colab-df-convert\" onclick=\"convertToInteractive('df-c7b4e24c-f2b8-418e-ae0d-9396083c31c2')\"\n",
              "              title=\"Convert this dataframe to an interactive table.\"\n",
              "              style=\"display:none;\">\n",
              "        \n",
              "  <svg xmlns=\"http://www.w3.org/2000/svg\" height=\"24px\"viewBox=\"0 0 24 24\"\n",
              "       width=\"24px\">\n",
              "    <path d=\"M0 0h24v24H0V0z\" fill=\"none\"/>\n",
              "    <path d=\"M18.56 5.44l.94 2.06.94-2.06 2.06-.94-2.06-.94-.94-2.06-.94 2.06-2.06.94zm-11 1L8.5 8.5l.94-2.06 2.06-.94-2.06-.94L8.5 2.5l-.94 2.06-2.06.94zm10 10l.94 2.06.94-2.06 2.06-.94-2.06-.94-.94-2.06-.94 2.06-2.06.94z\"/><path d=\"M17.41 7.96l-1.37-1.37c-.4-.4-.92-.59-1.43-.59-.52 0-1.04.2-1.43.59L10.3 9.45l-7.72 7.72c-.78.78-.78 2.05 0 2.83L4 21.41c.39.39.9.59 1.41.59.51 0 1.02-.2 1.41-.59l7.78-7.78 2.81-2.81c.8-.78.8-2.07 0-2.86zM5.41 20L4 18.59l7.72-7.72 1.47 1.35L5.41 20z\"/>\n",
              "  </svg>\n",
              "      </button>\n",
              "      \n",
              "  <style>\n",
              "    .colab-df-container {\n",
              "      display:flex;\n",
              "      flex-wrap:wrap;\n",
              "      gap: 12px;\n",
              "    }\n",
              "\n",
              "    .colab-df-convert {\n",
              "      background-color: #E8F0FE;\n",
              "      border: none;\n",
              "      border-radius: 50%;\n",
              "      cursor: pointer;\n",
              "      display: none;\n",
              "      fill: #1967D2;\n",
              "      height: 32px;\n",
              "      padding: 0 0 0 0;\n",
              "      width: 32px;\n",
              "    }\n",
              "\n",
              "    .colab-df-convert:hover {\n",
              "      background-color: #E2EBFA;\n",
              "      box-shadow: 0px 1px 2px rgba(60, 64, 67, 0.3), 0px 1px 3px 1px rgba(60, 64, 67, 0.15);\n",
              "      fill: #174EA6;\n",
              "    }\n",
              "\n",
              "    [theme=dark] .colab-df-convert {\n",
              "      background-color: #3B4455;\n",
              "      fill: #D2E3FC;\n",
              "    }\n",
              "\n",
              "    [theme=dark] .colab-df-convert:hover {\n",
              "      background-color: #434B5C;\n",
              "      box-shadow: 0px 1px 3px 1px rgba(0, 0, 0, 0.15);\n",
              "      filter: drop-shadow(0px 1px 2px rgba(0, 0, 0, 0.3));\n",
              "      fill: #FFFFFF;\n",
              "    }\n",
              "  </style>\n",
              "\n",
              "      <script>\n",
              "        const buttonEl =\n",
              "          document.querySelector('#df-c7b4e24c-f2b8-418e-ae0d-9396083c31c2 button.colab-df-convert');\n",
              "        buttonEl.style.display =\n",
              "          google.colab.kernel.accessAllowed ? 'block' : 'none';\n",
              "\n",
              "        async function convertToInteractive(key) {\n",
              "          const element = document.querySelector('#df-c7b4e24c-f2b8-418e-ae0d-9396083c31c2');\n",
              "          const dataTable =\n",
              "            await google.colab.kernel.invokeFunction('convertToInteractive',\n",
              "                                                     [key], {});\n",
              "          if (!dataTable) return;\n",
              "\n",
              "          const docLinkHtml = 'Like what you see? Visit the ' +\n",
              "            '<a target=\"_blank\" href=https://colab.research.google.com/notebooks/data_table.ipynb>data table notebook</a>'\n",
              "            + ' to learn more about interactive tables.';\n",
              "          element.innerHTML = '';\n",
              "          dataTable['output_type'] = 'display_data';\n",
              "          await google.colab.output.renderOutput(dataTable, element);\n",
              "          const docLink = document.createElement('div');\n",
              "          docLink.innerHTML = docLinkHtml;\n",
              "          element.appendChild(docLink);\n",
              "        }\n",
              "      </script>\n",
              "    </div>\n",
              "  </div>\n",
              "  "
            ]
          },
          "metadata": {},
          "execution_count": 49
        }
      ]
    },
    {
      "cell_type": "code",
      "source": [
        "plt.scatter(df_X_pca.Column1,df_X_pca.Column2)"
      ],
      "metadata": {
        "colab": {
          "base_uri": "https://localhost:8080/",
          "height": 282
        },
        "id": "KvlTD0Kb1CcP",
        "outputId": "4e7b6077-4dae-404e-9395-ecdb89702dad"
      },
      "execution_count": null,
      "outputs": [
        {
          "output_type": "execute_result",
          "data": {
            "text/plain": [
              "<matplotlib.collections.PathCollection at 0x7f9a87ca6160>"
            ]
          },
          "metadata": {},
          "execution_count": 50
        },
        {
          "output_type": "display_data",
          "data": {
            "text/plain": [
              "<Figure size 432x288 with 1 Axes>"
            ],
            "image/png": "[encoded data removed]"
          },
          "metadata": {
            "needs_background": "light"
          }
        }
      ]
    },
    {
      "cell_type": "code",
      "source": [
        "km = KMeans(n_clusters=7)\n",
        "y_predicted = km.fit_predict(df_X_pca[['Column1','Column2']])\n",
        "y_predicted"
      ],
      "metadata": {
        "colab": {
          "base_uri": "https://localhost:8080/"
        },
        "id": "jJVdlolY1CZD",
        "outputId": "b074c20d-54d8-4727-fca2-71e54e9e7417"
      },
      "execution_count": null,
      "outputs": [
        {
          "output_type": "execute_result",
          "data": {
            "text/plain": [
              "array([3, 3, 3, 3, 3, 3, 3, 3, 3, 3, 3, 3, 3, 3, 3, 3, 3, 3, 3, 3, 1, 1,\n",
              "       1, 1, 1, 1, 1, 1, 1, 1, 1, 1, 1, 1, 1, 1, 1, 1, 1, 1, 0, 0, 0, 0,\n",
              "       0, 0, 0, 0, 0, 0, 0, 0, 0, 0, 0, 0, 0, 0, 0, 0, 5, 5, 5, 5, 5, 5,\n",
              "       5, 5, 5, 5, 5, 5, 5, 5, 5, 5, 5, 5, 5, 5, 6, 6, 6, 6, 6, 6, 6, 6,\n",
              "       6, 6, 6, 6, 6, 6, 6, 6, 6, 6, 6, 6, 2, 2, 2, 2, 2, 2, 2, 2, 2, 2,\n",
              "       2, 2, 2, 2, 2, 2, 2, 2, 2, 2, 4, 4, 4, 4, 4, 4, 4, 4, 4, 4, 4, 4,\n",
              "       4, 4, 4, 4, 4, 4, 4, 4], dtype=int32)"
            ]
          },
          "metadata": {},
          "execution_count": 51
        }
      ]
    },
    {
      "cell_type": "code",
      "source": [
        "df_X_pca['cluster']=y_predicted\n",
        "df_X_pca.head()"
      ],
      "metadata": {
        "colab": {
          "base_uri": "https://localhost:8080/",
          "height": 206
        },
        "id": "iq9kY75Y1CWK",
        "outputId": "be3d7ede-83c5-4d09-fff1-fe1d39c1f49b"
      },
      "execution_count": null,
      "outputs": [
        {
          "output_type": "execute_result",
          "data": {
            "text/plain": [
              "    Column1   Column2  cluster\n",
              "0  0.106993  0.011353        3\n",
              "1  0.107711  0.005130        3\n",
              "2  0.108131  0.002152        3\n",
              "3  0.108441  0.000772        3\n",
              "4  0.108654  0.000000        3"
            ],
            "text/html": [
              "\n",
              "  <div id=\"df-7560edd2-1213-4534-93d9-9ed7a1ffe1f3\">\n",
              "    <div class=\"colab-df-container\">\n",
              "      <div>\n",
              "<style scoped>\n",
              "    .dataframe tbody tr th:only-of-type {\n",
              "        vertical-align: middle;\n",
              "    }\n",
              "\n",
              "    .dataframe tbody tr th {\n",
              "        vertical-align: top;\n",
              "    }\n",
              "\n",
              "    .dataframe thead th {\n",
              "        text-align: right;\n",
              "    }\n",
              "</style>\n",
              "<table border=\"1\" class=\"dataframe\">\n",
              "  <thead>\n",
              "    <tr style=\"text-align: right;\">\n",
              "      <th></th>\n",
              "      <th>Column1</th>\n",
              "      <th>Column2</th>\n",
              "      <th>cluster</th>\n",
              "    </tr>\n",
              "  </thead>\n",
              "  <tbody>\n",
              "    <tr>\n",
              "      <th>0</th>\n",
              "      <td>0.106993</td>\n",
              "      <td>0.011353</td>\n",
              "      <td>3</td>\n",
              "    </tr>\n",
              "    <tr>\n",
              "      <th>1</th>\n",
              "      <td>0.107711</td>\n",
              "      <td>0.005130</td>\n",
              "      <td>3</td>\n",
              "    </tr>\n",
              "    <tr>\n",
              "      <th>2</th>\n",
              "      <td>0.108131</td>\n",
              "      <td>0.002152</td>\n",
              "      <td>3</td>\n",
              "    </tr>\n",
              "    <tr>\n",
              "      <th>3</th>\n",
              "      <td>0.108441</td>\n",
              "      <td>0.000772</td>\n",
              "      <td>3</td>\n",
              "    </tr>\n",
              "    <tr>\n",
              "      <th>4</th>\n",
              "      <td>0.108654</td>\n",
              "      <td>0.000000</td>\n",
              "      <td>3</td>\n",
              "    </tr>\n",
              "  </tbody>\n",
              "</table>\n",
              "</div>\n",
              "      <button class=\"colab-df-convert\" onclick=\"convertToInteractive('df-7560edd2-1213-4534-93d9-9ed7a1ffe1f3')\"\n",
              "              title=\"Convert this dataframe to an interactive table.\"\n",
              "              style=\"display:none;\">\n",
              "        \n",
              "  <svg xmlns=\"http://www.w3.org/2000/svg\" height=\"24px\"viewBox=\"0 0 24 24\"\n",
              "       width=\"24px\">\n",
              "    <path d=\"M0 0h24v24H0V0z\" fill=\"none\"/>\n",
              "    <path d=\"M18.56 5.44l.94 2.06.94-2.06 2.06-.94-2.06-.94-.94-2.06-.94 2.06-2.06.94zm-11 1L8.5 8.5l.94-2.06 2.06-.94-2.06-.94L8.5 2.5l-.94 2.06-2.06.94zm10 10l.94 2.06.94-2.06 2.06-.94-2.06-.94-.94-2.06-.94 2.06-2.06.94z\"/><path d=\"M17.41 7.96l-1.37-1.37c-.4-.4-.92-.59-1.43-.59-.52 0-1.04.2-1.43.59L10.3 9.45l-7.72 7.72c-.78.78-.78 2.05 0 2.83L4 21.41c.39.39.9.59 1.41.59.51 0 1.02-.2 1.41-.59l7.78-7.78 2.81-2.81c.8-.78.8-2.07 0-2.86zM5.41 20L4 18.59l7.72-7.72 1.47 1.35L5.41 20z\"/>\n",
              "  </svg>\n",
              "      </button>\n",
              "      \n",
              "  <style>\n",
              "    .colab-df-container {\n",
              "      display:flex;\n",
              "      flex-wrap:wrap;\n",
              "      gap: 12px;\n",
              "    }\n",
              "\n",
              "    .colab-df-convert {\n",
              "      background-color: #E8F0FE;\n",
              "      border: none;\n",
              "      border-radius: 50%;\n",
              "      cursor: pointer;\n",
              "      display: none;\n",
              "      fill: #1967D2;\n",
              "      height: 32px;\n",
              "      padding: 0 0 0 0;\n",
              "      width: 32px;\n",
              "    }\n",
              "\n",
              "    .colab-df-convert:hover {\n",
              "      background-color: #E2EBFA;\n",
              "      box-shadow: 0px 1px 2px rgba(60, 64, 67, 0.3), 0px 1px 3px 1px rgba(60, 64, 67, 0.15);\n",
              "      fill: #174EA6;\n",
              "    }\n",
              "\n",
              "    [theme=dark] .colab-df-convert {\n",
              "      background-color: #3B4455;\n",
              "      fill: #D2E3FC;\n",
              "    }\n",
              "\n",
              "    [theme=dark] .colab-df-convert:hover {\n",
              "      background-color: #434B5C;\n",
              "      box-shadow: 0px 1px 3px 1px rgba(0, 0, 0, 0.15);\n",
              "      filter: drop-shadow(0px 1px 2px rgba(0, 0, 0, 0.3));\n",
              "      fill: #FFFFFF;\n",
              "    }\n",
              "  </style>\n",
              "\n",
              "      <script>\n",
              "        const buttonEl =\n",
              "          document.querySelector('#df-7560edd2-1213-4534-93d9-9ed7a1ffe1f3 button.colab-df-convert');\n",
              "        buttonEl.style.display =\n",
              "          google.colab.kernel.accessAllowed ? 'block' : 'none';\n",
              "\n",
              "        async function convertToInteractive(key) {\n",
              "          const element = document.querySelector('#df-7560edd2-1213-4534-93d9-9ed7a1ffe1f3');\n",
              "          const dataTable =\n",
              "            await google.colab.kernel.invokeFunction('convertToInteractive',\n",
              "                                                     [key], {});\n",
              "          if (!dataTable) return;\n",
              "\n",
              "          const docLinkHtml = 'Like what you see? Visit the ' +\n",
              "            '<a target=\"_blank\" href=https://colab.research.google.com/notebooks/data_table.ipynb>data table notebook</a>'\n",
              "            + ' to learn more about interactive tables.';\n",
              "          element.innerHTML = '';\n",
              "          dataTable['output_type'] = 'display_data';\n",
              "          await google.colab.output.renderOutput(dataTable, element);\n",
              "          const docLink = document.createElement('div');\n",
              "          docLink.innerHTML = docLinkHtml;\n",
              "          element.appendChild(docLink);\n",
              "        }\n",
              "      </script>\n",
              "    </div>\n",
              "  </div>\n",
              "  "
            ]
          },
          "metadata": {},
          "execution_count": 52
        }
      ]
    },
    {
      "cell_type": "code",
      "source": [
        "km.cluster_centers_"
      ],
      "metadata": {
        "colab": {
          "base_uri": "https://localhost:8080/"
        },
        "id": "I7h1Q4e23ERX",
        "outputId": "40222b74-86e4-4ce9-d2ff-1e700bc2c7a7"
      },
      "execution_count": null,
      "outputs": [
        {
          "output_type": "execute_result",
          "data": {
            "text/plain": [
              "array([[3.28092876e-02, 3.50639559e-01],\n",
              "       [9.93546646e-01, 4.93335257e-01],\n",
              "       [2.14097517e-02, 9.99308868e-01],\n",
              "       [1.09102774e-01, 4.69124546e-03],\n",
              "       [1.91607618e-04, 6.61153061e-01],\n",
              "       [4.07846606e-02, 1.16011043e-01],\n",
              "       [1.70875453e-02, 4.66810847e-01]])"
            ]
          },
          "metadata": {},
          "execution_count": 53
        }
      ]
    },
    {
      "cell_type": "code",
      "source": [
        "df1 = df_X_pca[df_X_pca.cluster==0]\n",
        "df2 = df_X_pca[df_X_pca.cluster==1]\n",
        "df3 = df_X_pca[df_X_pca.cluster==2]\n",
        "df4 = df_X_pca[df_X_pca.cluster==3]\n",
        "df5 = df_X_pca[df_X_pca.cluster==4]\n",
        "df6 = df_X_pca[df_X_pca.cluster==5]\n",
        "df7 = df_X_pca[df_X_pca.cluster==6]\n",
        "# df8 = df_X_pca[df_X_pca.cluster==7]\n",
        "\n",
        "plt.scatter(df1.Column1, df1.Column2, color='green', label='GREEN')\n",
        "plt.scatter(df2.Column1, df2.Column2, color='cyan', label='FLASHLIGHT')\n",
        "plt.scatter(df3.Column1, df3.Column2, color='DarkMagenta', label='IR')\n",
        "plt.scatter(df4.Column1, df4.Column2, color='blue', label='BLUE')\n",
        "plt.scatter(df5.Column1, df5.Column2, color='black', label='OFF')\n",
        "plt.scatter(df6.Column1, df6.Column2, color='red', label='RED')\n",
        "plt.scatter(df7.Column1, df7.Column2, color='violet', label='UV')\n",
        "# plt.scatter(df1.Column1, df1.Column2, color='LawnGreen', label='UBGRI')\n",
        "# plt.scatter(km.cluster_centers_[:,0],km.cluster_centers_[:,1],color='purple',marker='*',label='centroid')\n",
        "\n",
        "plt.xlabel('pca1')\n",
        "plt.ylabel('pca2')\n",
        "plt.legend(loc = \"upper center\")\n",
        "# blue - 4, flashlight - 2, green - 1, red - 6, UV - 7, IR - 3, UBGRI - 0, off - 5\n",
        "# blue - 3, flashlight - 1, green - 0, red - 5, UV - 6, IR - 2, off - 4"
      ],
      "metadata": {
        "colab": {
          "base_uri": "https://localhost:8080/",
          "height": 296
        },
        "id": "xEV7HT193EOn",
        "outputId": "ae837561-c87c-4456-eca1-a54073b51f30"
      },
      "execution_count": null,
      "outputs": [
        {
          "output_type": "execute_result",
          "data": {
            "text/plain": [
              "<matplotlib.legend.Legend at 0x7f9a886157c0>"
            ]
          },
          "metadata": {},
          "execution_count": 55
        },
        {
          "output_type": "display_data",
          "data": {
            "text/plain": [
              "<Figure size 432x288 with 1 Axes>"
            ],
            "image/png": "[encoded data removed]"
          },
          "metadata": {
            "needs_background": "light"
          }
        }
      ]
    },
    {
      "cell_type": "code",
      "source": [],
      "metadata": {
        "id": "KYae7nAD3EM3"
      },
      "execution_count": null,
      "outputs": []
    },
    {
      "cell_type": "code",
      "source": [],
      "metadata": {
        "id": "FoUMpVhY3EH7"
      },
      "execution_count": null,
      "outputs": []
    },
    {
      "cell_type": "code",
      "source": [],
      "metadata": {
        "id": "pWFKyS2E6LWn"
      },
      "execution_count": null,
      "outputs": []
    },
    {
      "cell_type": "code",
      "source": [],
      "metadata": {
        "id": "GDkklY-u6LS4"
      },
      "execution_count": null,
      "outputs": []
    },
    {
      "cell_type": "markdown",
      "source": [
        "# LDA"
      ],
      "metadata": {
        "id": "ROHUHInA6Mff"
      }
    },
    {
      "cell_type": "code",
      "source": [
        "from sklearn.discriminant_analysis import LinearDiscriminantAnalysis\n",
        "LDA = LinearDiscriminantAnalysis()\n",
        "X_lda = LDA.fit_transform(df_x,y)\n",
        "X_lda.shape"
      ],
      "metadata": {
        "colab": {
          "base_uri": "https://localhost:8080/"
        },
        "id": "urymOJ6m6LQG",
        "outputId": "09235974-d7d3-448f-e05e-26ebfbfe5a95"
      },
      "execution_count": null,
      "outputs": [
        {
          "output_type": "execute_result",
          "data": {
            "text/plain": [
              "(140, 2)"
            ]
          },
          "metadata": {},
          "execution_count": 56
        }
      ]
    },
    {
      "cell_type": "code",
      "source": [
        "X_lda"
      ],
      "metadata": {
        "colab": {
          "base_uri": "https://localhost:8080/"
        },
        "id": "HMxjdJnEALB4",
        "outputId": "f5220af6-f2c2-4d1b-c8f8-3581cce7da62"
      },
      "execution_count": null,
      "outputs": [
        {
          "output_type": "execute_result",
          "data": {
            "text/plain": [
              "array([[-7.54424595e+01, -1.52000810e+01],\n",
              "       [-7.38240789e+01, -1.54175894e+01],\n",
              "       [-7.29270379e+01, -1.55215662e+01],\n",
              "       [-7.23243690e+01, -1.55695753e+01],\n",
              "       [-7.19242660e+01, -1.55963851e+01],\n",
              "       [-7.16860049e+01, -1.55813382e+01],\n",
              "       [-7.15180805e+01, -1.55649713e+01],\n",
              "       [-7.13364628e+01, -1.55481825e+01],\n",
              "       [-7.12255090e+01, -1.55474706e+01],\n",
              "       [-7.11124218e+01, -1.55152402e+01],\n",
              "       [-7.10005419e+01, -1.54925607e+01],\n",
              "       [-7.09582644e+01, -1.54828651e+01],\n",
              "       [-7.09519267e+01, -1.54424355e+01],\n",
              "       [-7.08872104e+01, -1.54399663e+01],\n",
              "       [-7.07851025e+01, -1.53628381e+01],\n",
              "       [-7.06612886e+01, -1.52867797e+01],\n",
              "       [-7.06721401e+01, -1.53955820e+01],\n",
              "       [-7.07113829e+01, -1.53665032e+01],\n",
              "       [-7.05714156e+01, -1.52241379e+01],\n",
              "       [-7.04366544e+01, -1.50653286e+01],\n",
              "       [ 1.31706080e+03, -1.26392015e+00],\n",
              "       [ 1.31802415e+03, -9.01719345e-01],\n",
              "       [ 1.31780429e+03, -5.66191289e-01],\n",
              "       [ 1.31770832e+03,  2.01366545e-01],\n",
              "       [ 1.31774338e+03,  5.65511567e-01],\n",
              "       [ 1.31783595e+03,  1.20613696e+00],\n",
              "       [ 1.31799283e+03,  1.80666024e+00],\n",
              "       [ 1.31779773e+03,  2.13405412e+00],\n",
              "       [ 1.31763449e+03,  2.40775286e+00],\n",
              "       [ 1.31748902e+03,  2.42444779e+00],\n",
              "       [ 1.31739466e+03,  2.84998368e+00],\n",
              "       [ 1.31744606e+03,  3.35037710e+00],\n",
              "       [ 1.31732123e+03,  3.31859946e+00],\n",
              "       [ 1.31809853e+03,  4.78567864e+00],\n",
              "       [ 1.31822718e+03,  5.14092710e+00],\n",
              "       [ 1.31864813e+03,  5.67359727e+00],\n",
              "       [ 1.31845151e+03,  5.77066809e+00],\n",
              "       [ 1.31854367e+03,  6.15848802e+00],\n",
              "       [ 1.31863959e+03,  6.39722835e+00],\n",
              "       [ 1.31922348e+03,  7.27636463e+00],\n",
              "       [-2.25721332e+02, -2.26650197e+00],\n",
              "       [-2.22956828e+02, -2.81324439e+00],\n",
              "       [-2.21652516e+02, -3.08229188e+00],\n",
              "       [-2.20923854e+02, -3.23081422e+00],\n",
              "       [-2.20479854e+02, -3.31829156e+00],\n",
              "       [-2.20156298e+02, -3.38047073e+00],\n",
              "       [-2.19923054e+02, -3.43593686e+00],\n",
              "       [-2.19762326e+02, -3.46893462e+00],\n",
              "       [-2.19646053e+02, -3.49637340e+00],\n",
              "       [-2.19545250e+02, -3.51453981e+00],\n",
              "       [-2.19427288e+02, -3.53716046e+00],\n",
              "       [-2.19356147e+02, -3.55588843e+00],\n",
              "       [-2.19290730e+02, -3.56033464e+00],\n",
              "       [-2.19236308e+02, -3.57647175e+00],\n",
              "       [-2.19196553e+02, -3.58191826e+00],\n",
              "       [-2.19164135e+02, -3.59254424e+00],\n",
              "       [-2.19156999e+02, -3.58899437e+00],\n",
              "       [-2.19110319e+02, -3.59467148e+00],\n",
              "       [-2.19091053e+02, -3.59838312e+00],\n",
              "       [-2.19075101e+02, -3.60958065e+00],\n",
              "       [-1.94423797e+02, -1.07100589e+01],\n",
              "       [-1.92179224e+02, -1.11606155e+01],\n",
              "       [-1.91136123e+02, -1.13747587e+01],\n",
              "       [-1.90526801e+02, -1.14970049e+01],\n",
              "       [-1.90141360e+02, -1.15777530e+01],\n",
              "       [-1.89892800e+02, -1.16329795e+01],\n",
              "       [-1.89713952e+02, -1.16599290e+01],\n",
              "       [-1.89574480e+02, -1.16823564e+01],\n",
              "       [-1.89473337e+02, -1.17051803e+01],\n",
              "       [-1.89378945e+02, -1.17236890e+01],\n",
              "       [-1.89311220e+02, -1.17394465e+01],\n",
              "       [-1.89272076e+02, -1.17475017e+01],\n",
              "       [-1.89221427e+02, -1.17523953e+01],\n",
              "       [-1.89212152e+02, -1.17519326e+01],\n",
              "       [-1.89188668e+02, -1.17564454e+01],\n",
              "       [-1.89163497e+02, -1.17632243e+01],\n",
              "       [-1.89141534e+02, -1.17708120e+01],\n",
              "       [-1.89128862e+02, -1.17716851e+01],\n",
              "       [-1.89121015e+02, -1.17765766e+01],\n",
              "       [-1.89110729e+02, -1.17764154e+01],\n",
              "       [-2.56535266e+02,  1.14529121e+00],\n",
              "       [-2.55582755e+02,  9.61278085e-01],\n",
              "       [-2.55036706e+02,  8.60335011e-01],\n",
              "       [-2.54692337e+02,  7.84503029e-01],\n",
              "       [-2.54396985e+02,  7.20751577e-01],\n",
              "       [-2.54212270e+02,  6.95230635e-01],\n",
              "       [-2.54058869e+02,  6.60427754e-01],\n",
              "       [-2.53933498e+02,  6.33437437e-01],\n",
              "       [-2.53856112e+02,  6.16476573e-01],\n",
              "       [-2.53806250e+02,  6.13469710e-01],\n",
              "       [-2.53732163e+02,  5.91655595e-01],\n",
              "       [-2.53683353e+02,  5.83551187e-01],\n",
              "       [-2.53642253e+02,  5.74838471e-01],\n",
              "       [-2.53596813e+02,  5.75545999e-01],\n",
              "       [-2.53566144e+02,  5.65832444e-01],\n",
              "       [-2.53532423e+02,  5.59827926e-01],\n",
              "       [-2.53497600e+02,  5.51042675e-01],\n",
              "       [-2.53500738e+02,  5.55358661e-01],\n",
              "       [-2.53438559e+02,  5.46186220e-01],\n",
              "       [-2.53453228e+02,  5.41012493e-01],\n",
              "       [-2.86567395e+02,  1.93425659e+01],\n",
              "       [-2.86565967e+02,  1.93441753e+01],\n",
              "       [-2.86566928e+02,  1.93423531e+01],\n",
              "       [-2.86560857e+02,  1.93506464e+01],\n",
              "       [-2.86563428e+02,  1.93470083e+01],\n",
              "       [-2.86556632e+02,  1.93562097e+01],\n",
              "       [-2.86556151e+02,  1.93563911e+01],\n",
              "       [-2.86549260e+02,  1.93655446e+01],\n",
              "       [-2.86546621e+02,  1.93688542e+01],\n",
              "       [-2.86548525e+02,  1.93658354e+01],\n",
              "       [-2.86542331e+02,  1.93740288e+01],\n",
              "       [-2.86542972e+02,  1.93726816e+01],\n",
              "       [-2.86538912e+02,  1.93779742e+01],\n",
              "       [-2.86540459e+02,  1.93755554e+01],\n",
              "       [-2.86536306e+02,  1.93809259e+01],\n",
              "       [-2.86534598e+02,  1.93831009e+01],\n",
              "       [-2.86534322e+02,  1.93829878e+01],\n",
              "       [-2.86533158e+02,  1.93843291e+01],\n",
              "       [-2.86529712e+02,  1.93888163e+01],\n",
              "       [-2.86527220e+02,  1.93919198e+01],\n",
              "       [-2.95597175e+02,  7.61807168e+00],\n",
              "       [-2.95612791e+02,  7.59765809e+00],\n",
              "       [-2.95623681e+02,  7.58398999e+00],\n",
              "       [-2.95639654e+02,  7.56287983e+00],\n",
              "       [-2.95649025e+02,  7.55083866e+00],\n",
              "       [-2.95664321e+02,  7.53053165e+00],\n",
              "       [-2.95683376e+02,  7.50479607e+00],\n",
              "       [-2.95692000e+02,  7.49371934e+00],\n",
              "       [-2.95709974e+02,  7.46917017e+00],\n",
              "       [-2.95724435e+02,  7.44978117e+00],\n",
              "       [-2.95728372e+02,  7.44503225e+00],\n",
              "       [-2.95741530e+02,  7.42748233e+00],\n",
              "       [-2.95746805e+02,  7.42116264e+00],\n",
              "       [-2.95760164e+02,  7.40299522e+00],\n",
              "       [-2.95768723e+02,  7.39162271e+00],\n",
              "       [-2.95771316e+02,  7.38883309e+00],\n",
              "       [-2.95777884e+02,  7.38034374e+00],\n",
              "       [-2.95778875e+02,  7.37983286e+00],\n",
              "       [-2.95783660e+02,  7.37398987e+00],\n",
              "       [-2.95794545e+02,  7.35880421e+00]])"
            ]
          },
          "metadata": {},
          "execution_count": 57
        }
      ]
    },
    {
      "cell_type": "code",
      "source": [
        "df_X_lda = pd. DataFrame(X_lda, columns=['Column1', 'Column2'])\n",
        "df_X_lda.head()"
      ],
      "metadata": {
        "colab": {
          "base_uri": "https://localhost:8080/",
          "height": 206
        },
        "id": "joLjK9rlAU5B",
        "outputId": "bbb65630-39e9-4507-d3b1-faaa318e5ada"
      },
      "execution_count": null,
      "outputs": [
        {
          "output_type": "execute_result",
          "data": {
            "text/plain": [
              "     Column1    Column2\n",
              "0 -75.442460 -15.200081\n",
              "1 -73.824079 -15.417589\n",
              "2 -72.927038 -15.521566\n",
              "3 -72.324369 -15.569575\n",
              "4 -71.924266 -15.596385"
            ],
            "text/html": [
              "\n",
              "  <div id=\"df-a9657b50-842a-451d-94ae-8342447a206f\">\n",
              "    <div class=\"colab-df-container\">\n",
              "      <div>\n",
              "<style scoped>\n",
              "    .dataframe tbody tr th:only-of-type {\n",
              "        vertical-align: middle;\n",
              "    }\n",
              "\n",
              "    .dataframe tbody tr th {\n",
              "        vertical-align: top;\n",
              "    }\n",
              "\n",
              "    .dataframe thead th {\n",
              "        text-align: right;\n",
              "    }\n",
              "</style>\n",
              "<table border=\"1\" class=\"dataframe\">\n",
              "  <thead>\n",
              "    <tr style=\"text-align: right;\">\n",
              "      <th></th>\n",
              "      <th>Column1</th>\n",
              "      <th>Column2</th>\n",
              "    </tr>\n",
              "  </thead>\n",
              "  <tbody>\n",
              "    <tr>\n",
              "      <th>0</th>\n",
              "      <td>-75.442460</td>\n",
              "      <td>-15.200081</td>\n",
              "    </tr>\n",
              "    <tr>\n",
              "      <th>1</th>\n",
              "      <td>-73.824079</td>\n",
              "      <td>-15.417589</td>\n",
              "    </tr>\n",
              "    <tr>\n",
              "      <th>2</th>\n",
              "      <td>-72.927038</td>\n",
              "      <td>-15.521566</td>\n",
              "    </tr>\n",
              "    <tr>\n",
              "      <th>3</th>\n",
              "      <td>-72.324369</td>\n",
              "      <td>-15.569575</td>\n",
              "    </tr>\n",
              "    <tr>\n",
              "      <th>4</th>\n",
              "      <td>-71.924266</td>\n",
              "      <td>-15.596385</td>\n",
              "    </tr>\n",
              "  </tbody>\n",
              "</table>\n",
              "</div>\n",
              "      <button class=\"colab-df-convert\" onclick=\"convertToInteractive('df-a9657b50-842a-451d-94ae-8342447a206f')\"\n",
              "              title=\"Convert this dataframe to an interactive table.\"\n",
              "              style=\"display:none;\">\n",
              "        \n",
              "  <svg xmlns=\"http://www.w3.org/2000/svg\" height=\"24px\"viewBox=\"0 0 24 24\"\n",
              "       width=\"24px\">\n",
              "    <path d=\"M0 0h24v24H0V0z\" fill=\"none\"/>\n",
              "    <path d=\"M18.56 5.44l.94 2.06.94-2.06 2.06-.94-2.06-.94-.94-2.06-.94 2.06-2.06.94zm-11 1L8.5 8.5l.94-2.06 2.06-.94-2.06-.94L8.5 2.5l-.94 2.06-2.06.94zm10 10l.94 2.06.94-2.06 2.06-.94-2.06-.94-.94-2.06-.94 2.06-2.06.94z\"/><path d=\"M17.41 7.96l-1.37-1.37c-.4-.4-.92-.59-1.43-.59-.52 0-1.04.2-1.43.59L10.3 9.45l-7.72 7.72c-.78.78-.78 2.05 0 2.83L4 21.41c.39.39.9.59 1.41.59.51 0 1.02-.2 1.41-.59l7.78-7.78 2.81-2.81c.8-.78.8-2.07 0-2.86zM5.41 20L4 18.59l7.72-7.72 1.47 1.35L5.41 20z\"/>\n",
              "  </svg>\n",
              "      </button>\n",
              "      \n",
              "  <style>\n",
              "    .colab-df-container {\n",
              "      display:flex;\n",
              "      flex-wrap:wrap;\n",
              "      gap: 12px;\n",
              "    }\n",
              "\n",
              "    .colab-df-convert {\n",
              "      background-color: #E8F0FE;\n",
              "      border: none;\n",
              "      border-radius: 50%;\n",
              "      cursor: pointer;\n",
              "      display: none;\n",
              "      fill: #1967D2;\n",
              "      height: 32px;\n",
              "      padding: 0 0 0 0;\n",
              "      width: 32px;\n",
              "    }\n",
              "\n",
              "    .colab-df-convert:hover {\n",
              "      background-color: #E2EBFA;\n",
              "      box-shadow: 0px 1px 2px rgba(60, 64, 67, 0.3), 0px 1px 3px 1px rgba(60, 64, 67, 0.15);\n",
              "      fill: #174EA6;\n",
              "    }\n",
              "\n",
              "    [theme=dark] .colab-df-convert {\n",
              "      background-color: #3B4455;\n",
              "      fill: #D2E3FC;\n",
              "    }\n",
              "\n",
              "    [theme=dark] .colab-df-convert:hover {\n",
              "      background-color: #434B5C;\n",
              "      box-shadow: 0px 1px 3px 1px rgba(0, 0, 0, 0.15);\n",
              "      filter: drop-shadow(0px 1px 2px rgba(0, 0, 0, 0.3));\n",
              "      fill: #FFFFFF;\n",
              "    }\n",
              "  </style>\n",
              "\n",
              "      <script>\n",
              "        const buttonEl =\n",
              "          document.querySelector('#df-a9657b50-842a-451d-94ae-8342447a206f button.colab-df-convert');\n",
              "        buttonEl.style.display =\n",
              "          google.colab.kernel.accessAllowed ? 'block' : 'none';\n",
              "\n",
              "        async function convertToInteractive(key) {\n",
              "          const element = document.querySelector('#df-a9657b50-842a-451d-94ae-8342447a206f');\n",
              "          const dataTable =\n",
              "            await google.colab.kernel.invokeFunction('convertToInteractive',\n",
              "                                                     [key], {});\n",
              "          if (!dataTable) return;\n",
              "\n",
              "          const docLinkHtml = 'Like what you see? Visit the ' +\n",
              "            '<a target=\"_blank\" href=https://colab.research.google.com/notebooks/data_table.ipynb>data table notebook</a>'\n",
              "            + ' to learn more about interactive tables.';\n",
              "          element.innerHTML = '';\n",
              "          dataTable['output_type'] = 'display_data';\n",
              "          await google.colab.output.renderOutput(dataTable, element);\n",
              "          const docLink = document.createElement('div');\n",
              "          docLink.innerHTML = docLinkHtml;\n",
              "          element.appendChild(docLink);\n",
              "        }\n",
              "      </script>\n",
              "    </div>\n",
              "  </div>\n",
              "  "
            ]
          },
          "metadata": {},
          "execution_count": 58
        }
      ]
    },
    {
      "cell_type": "code",
      "source": [
        "plt.scatter(df_X_lda['Column1'], df_X_lda['Column2'], color='blue')\n",
        "plt.xlabel('lda1')\n",
        "plt.ylabel('lda2')"
      ],
      "metadata": {
        "colab": {
          "base_uri": "https://localhost:8080/",
          "height": 296
        },
        "id": "kCCMjEwUAauT",
        "outputId": "fd2a5c5e-2e4c-45a9-cdc9-0007db08e7d7"
      },
      "execution_count": null,
      "outputs": [
        {
          "output_type": "execute_result",
          "data": {
            "text/plain": [
              "Text(0, 0.5, 'lda2')"
            ]
          },
          "metadata": {},
          "execution_count": 59
        },
        {
          "output_type": "display_data",
          "data": {
            "text/plain": [
              "<Figure size 432x288 with 1 Axes>"
            ],
            "image/png": "[encoded data removed]"
          },
          "metadata": {
            "needs_background": "light"
          }
        }
      ]
    },
    {
      "cell_type": "code",
      "source": [
        "LDA.explained_variance_ratio_"
      ],
      "metadata": {
        "colab": {
          "base_uri": "https://localhost:8080/"
        },
        "id": "0oP6hx8N6yjR",
        "outputId": "8c9491d9-44d6-4732-8859-8d1bd1dd2508"
      },
      "execution_count": null,
      "outputs": [
        {
          "output_type": "execute_result",
          "data": {
            "text/plain": [
              "array([9.99600077e-01, 3.99922653e-04])"
            ]
          },
          "metadata": {},
          "execution_count": 60
        }
      ]
    },
    {
      "cell_type": "code",
      "source": [
        "km = KMeans(n_clusters=7)\n",
        "y_predicted = km.fit_predict(df_X_lda[['Column1','Column2']])\n",
        "y_predicted"
      ],
      "metadata": {
        "colab": {
          "base_uri": "https://localhost:8080/"
        },
        "id": "N_tjfAV0HdJL",
        "outputId": "cbdb0465-4a1a-416d-c001-b32db1d465b1"
      },
      "execution_count": null,
      "outputs": [
        {
          "output_type": "execute_result",
          "data": {
            "text/plain": [
              "array([2, 2, 2, 2, 2, 2, 2, 2, 2, 2, 2, 2, 2, 2, 2, 2, 2, 2, 2, 2, 1, 1,\n",
              "       1, 1, 1, 1, 1, 1, 1, 1, 1, 1, 1, 1, 1, 1, 1, 1, 1, 1, 0, 0, 0, 0,\n",
              "       0, 0, 0, 0, 0, 0, 0, 0, 0, 0, 0, 0, 0, 0, 0, 0, 5, 5, 5, 5, 5, 5,\n",
              "       5, 5, 5, 5, 5, 5, 5, 5, 5, 5, 5, 5, 5, 5, 4, 4, 4, 4, 4, 4, 4, 4,\n",
              "       4, 4, 4, 4, 4, 4, 4, 4, 4, 4, 4, 4, 3, 3, 3, 3, 3, 3, 3, 3, 3, 3,\n",
              "       3, 3, 3, 3, 3, 3, 3, 3, 3, 3, 6, 6, 6, 6, 6, 6, 6, 6, 6, 6, 6, 6,\n",
              "       6, 6, 6, 6, 6, 6, 6, 6], dtype=int32)"
            ]
          },
          "metadata": {},
          "execution_count": 61
        }
      ]
    },
    {
      "cell_type": "code",
      "source": [
        "df_X_lda['cluster']=y_predicted\n",
        "df_X_lda.head()"
      ],
      "metadata": {
        "colab": {
          "base_uri": "https://localhost:8080/",
          "height": 206
        },
        "id": "YB2KbsnWHerc",
        "outputId": "91fb7d76-0c84-422d-e959-ffa39808521c"
      },
      "execution_count": null,
      "outputs": [
        {
          "output_type": "execute_result",
          "data": {
            "text/plain": [
              "     Column1    Column2  cluster\n",
              "0 -75.442460 -15.200081        2\n",
              "1 -73.824079 -15.417589        2\n",
              "2 -72.927038 -15.521566        2\n",
              "3 -72.324369 -15.569575        2\n",
              "4 -71.924266 -15.596385        2"
            ],
            "text/html": [
              "\n",
              "  <div id=\"df-25225404-e4b2-42e5-bc32-6c6ef43f9388\">\n",
              "    <div class=\"colab-df-container\">\n",
              "      <div>\n",
              "<style scoped>\n",
              "    .dataframe tbody tr th:only-of-type {\n",
              "        vertical-align: middle;\n",
              "    }\n",
              "\n",
              "    .dataframe tbody tr th {\n",
              "        vertical-align: top;\n",
              "    }\n",
              "\n",
              "    .dataframe thead th {\n",
              "        text-align: right;\n",
              "    }\n",
              "</style>\n",
              "<table border=\"1\" class=\"dataframe\">\n",
              "  <thead>\n",
              "    <tr style=\"text-align: right;\">\n",
              "      <th></th>\n",
              "      <th>Column1</th>\n",
              "      <th>Column2</th>\n",
              "      <th>cluster</th>\n",
              "    </tr>\n",
              "  </thead>\n",
              "  <tbody>\n",
              "    <tr>\n",
              "      <th>0</th>\n",
              "      <td>-75.442460</td>\n",
              "      <td>-15.200081</td>\n",
              "      <td>2</td>\n",
              "    </tr>\n",
              "    <tr>\n",
              "      <th>1</th>\n",
              "      <td>-73.824079</td>\n",
              "      <td>-15.417589</td>\n",
              "      <td>2</td>\n",
              "    </tr>\n",
              "    <tr>\n",
              "      <th>2</th>\n",
              "      <td>-72.927038</td>\n",
              "      <td>-15.521566</td>\n",
              "      <td>2</td>\n",
              "    </tr>\n",
              "    <tr>\n",
              "      <th>3</th>\n",
              "      <td>-72.324369</td>\n",
              "      <td>-15.569575</td>\n",
              "      <td>2</td>\n",
              "    </tr>\n",
              "    <tr>\n",
              "      <th>4</th>\n",
              "      <td>-71.924266</td>\n",
              "      <td>-15.596385</td>\n",
              "      <td>2</td>\n",
              "    </tr>\n",
              "  </tbody>\n",
              "</table>\n",
              "</div>\n",
              "      <button class=\"colab-df-convert\" onclick=\"convertToInteractive('df-25225404-e4b2-42e5-bc32-6c6ef43f9388')\"\n",
              "              title=\"Convert this dataframe to an interactive table.\"\n",
              "              style=\"display:none;\">\n",
              "        \n",
              "  <svg xmlns=\"http://www.w3.org/2000/svg\" height=\"24px\"viewBox=\"0 0 24 24\"\n",
              "       width=\"24px\">\n",
              "    <path d=\"M0 0h24v24H0V0z\" fill=\"none\"/>\n",
              "    <path d=\"M18.56 5.44l.94 2.06.94-2.06 2.06-.94-2.06-.94-.94-2.06-.94 2.06-2.06.94zm-11 1L8.5 8.5l.94-2.06 2.06-.94-2.06-.94L8.5 2.5l-.94 2.06-2.06.94zm10 10l.94 2.06.94-2.06 2.06-.94-2.06-.94-.94-2.06-.94 2.06-2.06.94z\"/><path d=\"M17.41 7.96l-1.37-1.37c-.4-.4-.92-.59-1.43-.59-.52 0-1.04.2-1.43.59L10.3 9.45l-7.72 7.72c-.78.78-.78 2.05 0 2.83L4 21.41c.39.39.9.59 1.41.59.51 0 1.02-.2 1.41-.59l7.78-7.78 2.81-2.81c.8-.78.8-2.07 0-2.86zM5.41 20L4 18.59l7.72-7.72 1.47 1.35L5.41 20z\"/>\n",
              "  </svg>\n",
              "      </button>\n",
              "      \n",
              "  <style>\n",
              "    .colab-df-container {\n",
              "      display:flex;\n",
              "      flex-wrap:wrap;\n",
              "      gap: 12px;\n",
              "    }\n",
              "\n",
              "    .colab-df-convert {\n",
              "      background-color: #E8F0FE;\n",
              "      border: none;\n",
              "      border-radius: 50%;\n",
              "      cursor: pointer;\n",
              "      display: none;\n",
              "      fill: #1967D2;\n",
              "      height: 32px;\n",
              "      padding: 0 0 0 0;\n",
              "      width: 32px;\n",
              "    }\n",
              "\n",
              "    .colab-df-convert:hover {\n",
              "      background-color: #E2EBFA;\n",
              "      box-shadow: 0px 1px 2px rgba(60, 64, 67, 0.3), 0px 1px 3px 1px rgba(60, 64, 67, 0.15);\n",
              "      fill: #174EA6;\n",
              "    }\n",
              "\n",
              "    [theme=dark] .colab-df-convert {\n",
              "      background-color: #3B4455;\n",
              "      fill: #D2E3FC;\n",
              "    }\n",
              "\n",
              "    [theme=dark] .colab-df-convert:hover {\n",
              "      background-color: #434B5C;\n",
              "      box-shadow: 0px 1px 3px 1px rgba(0, 0, 0, 0.15);\n",
              "      filter: drop-shadow(0px 1px 2px rgba(0, 0, 0, 0.3));\n",
              "      fill: #FFFFFF;\n",
              "    }\n",
              "  </style>\n",
              "\n",
              "      <script>\n",
              "        const buttonEl =\n",
              "          document.querySelector('#df-25225404-e4b2-42e5-bc32-6c6ef43f9388 button.colab-df-convert');\n",
              "        buttonEl.style.display =\n",
              "          google.colab.kernel.accessAllowed ? 'block' : 'none';\n",
              "\n",
              "        async function convertToInteractive(key) {\n",
              "          const element = document.querySelector('#df-25225404-e4b2-42e5-bc32-6c6ef43f9388');\n",
              "          const dataTable =\n",
              "            await google.colab.kernel.invokeFunction('convertToInteractive',\n",
              "                                                     [key], {});\n",
              "          if (!dataTable) return;\n",
              "\n",
              "          const docLinkHtml = 'Like what you see? Visit the ' +\n",
              "            '<a target=\"_blank\" href=https://colab.research.google.com/notebooks/data_table.ipynb>data table notebook</a>'\n",
              "            + ' to learn more about interactive tables.';\n",
              "          element.innerHTML = '';\n",
              "          dataTable['output_type'] = 'display_data';\n",
              "          await google.colab.output.renderOutput(dataTable, element);\n",
              "          const docLink = document.createElement('div');\n",
              "          docLink.innerHTML = docLinkHtml;\n",
              "          element.appendChild(docLink);\n",
              "        }\n",
              "      </script>\n",
              "    </div>\n",
              "  </div>\n",
              "  "
            ]
          },
          "metadata": {},
          "execution_count": 62
        }
      ]
    },
    {
      "cell_type": "code",
      "source": [
        "km.cluster_centers_"
      ],
      "metadata": {
        "colab": {
          "base_uri": "https://localhost:8080/"
        },
        "id": "M8S7da_SHeV1",
        "outputId": "f83448a7-8c38-43a4-faf3-8f4e98fad534"
      },
      "execution_count": null,
      "outputs": [
        {
          "output_type": "execute_result",
          "data": {
            "text/plain": [
              "array([[-2.20143600e+02, -3.39016734e+00],\n",
              "       [ 1.31795425e+03,  2.93680058e+00],\n",
              "       [-7.15478309e+01, -1.54310698e+01],\n",
              "       [-2.86547088e+02,  1.93675952e+01],\n",
              "       [-2.54087716e+02,  6.66802635e-01],\n",
              "       [-1.89915600e+02, -1.16165380e+01],\n",
              "       [-2.95712415e+02,  7.46657678e+00]])"
            ]
          },
          "metadata": {},
          "execution_count": 63
        }
      ]
    },
    {
      "cell_type": "code",
      "source": [
        "df1 = df_X_lda[df_X_lda.cluster==0]\n",
        "df2 = df_X_lda[df_X_lda.cluster==1]\n",
        "df3 = df_X_lda[df_X_lda.cluster==2]\n",
        "df4 = df_X_lda[df_X_lda.cluster==3]\n",
        "df5 = df_X_lda[df_X_lda.cluster==4]\n",
        "df6 = df_X_lda[df_X_lda.cluster==5]\n",
        "df7 = df_X_lda[df_X_lda.cluster==6]\n",
        "# df8 = df_X_lda[df_X_lda.cluster==7]\n",
        "\n",
        "plt.scatter(df1.Column1, df1.Column2, color='green', label='GREEN')\n",
        "plt.scatter(df2.Column1, df2.Column2, color='cyan', label='FLASHLIGHT')\n",
        "plt.scatter(df3.Column1, df3.Column2, color='blue', label='BLUE')\n",
        "plt.scatter(df4.Column1, df4.Column2, color='DarkMagenta', label='IR')\n",
        "plt.scatter(df5.Column1, df5.Column2, color='violet', label='UV')\n",
        "plt.scatter(df6.Column1, df6.Column2, color='red', label='RED')\n",
        "plt.scatter(df7.Column1, df7.Column2, color='black', label='OFF')\n",
        "# plt.scatter(df3.Column1, df3.Column2, color='LawnGreen', label='UBGRI')\n",
        "# plt.scatter(km.cluster_centers_[:,0],km.cluster_centers_[:,1],color='purple',marker='*',label='centroid')\n",
        "\n",
        "plt.xlabel('lda1')\n",
        "plt.ylabel('lda2')\n",
        "plt.legend(loc = \"upper center\")\n",
        "# blue - 3,flashlight - 1, green - 4, red - 6, UV - 0, IR - 7, UBGRI - 2, off - 5\n",
        "# blue - 2,flashlight - 1, green - 0, red - 5, UV - 4, IR - 3, off - 6"
      ],
      "metadata": {
        "colab": {
          "base_uri": "https://localhost:8080/",
          "height": 296
        },
        "id": "s9S1MuS26LKQ",
        "outputId": "825c8d71-7755-4e8a-f9e7-171f55080079"
      },
      "execution_count": null,
      "outputs": [
        {
          "output_type": "execute_result",
          "data": {
            "text/plain": [
              "<matplotlib.legend.Legend at 0x7f9a87ac2dc0>"
            ]
          },
          "metadata": {},
          "execution_count": 64
        },
        {
          "output_type": "display_data",
          "data": {
            "text/plain": [
              "<Figure size 432x288 with 1 Axes>"
            ],
            "image/png": "[encoded data removed]"
          },
          "metadata": {
            "needs_background": "light"
          }
        }
      ]
    },
    {
      "cell_type": "code",
      "source": [
        "scaler = MinMaxScaler()\n",
        "\n",
        "scaler.fit(df_X_lda[['Column1']])\n",
        "df_X_lda['Column1'] = scaler.transform(df_X_lda[['Column1']])\n",
        "\n",
        "scaler.fit(df_X_lda[['Column2']])\n",
        "df_X_lda['Column2'] = scaler.transform(df_X_lda[['Column2']])"
      ],
      "metadata": {
        "id": "bfVPx4iuIhFh"
      },
      "execution_count": null,
      "outputs": []
    },
    {
      "cell_type": "code",
      "source": [
        "df_X_lda.head()"
      ],
      "metadata": {
        "colab": {
          "base_uri": "https://localhost:8080/",
          "height": 206
        },
        "id": "WcfT3EuZI8Kd",
        "outputId": "779201b3-4c3e-4d88-f804-438fcc3f9b03"
      },
      "execution_count": null,
      "outputs": [
        {
          "output_type": "execute_result",
          "data": {
            "text/plain": [
              "    Column1   Column2  cluster\n",
              "0  0.136202  0.636591        3\n",
              "1  0.137202  0.634422        3\n",
              "2  0.137757  0.633396        3\n",
              "3  0.138129  0.632940        3\n",
              "4  0.138377  0.632690        3"
            ],
            "text/html": [
              "\n",
              "  <div id=\"df-cd051a04-f4f6-4bdf-b7ed-d2a2eea04b26\">\n",
              "    <div class=\"colab-df-container\">\n",
              "      <div>\n",
              "<style scoped>\n",
              "    .dataframe tbody tr th:only-of-type {\n",
              "        vertical-align: middle;\n",
              "    }\n",
              "\n",
              "    .dataframe tbody tr th {\n",
              "        vertical-align: top;\n",
              "    }\n",
              "\n",
              "    .dataframe thead th {\n",
              "        text-align: right;\n",
              "    }\n",
              "</style>\n",
              "<table border=\"1\" class=\"dataframe\">\n",
              "  <thead>\n",
              "    <tr style=\"text-align: right;\">\n",
              "      <th></th>\n",
              "      <th>Column1</th>\n",
              "      <th>Column2</th>\n",
              "      <th>cluster</th>\n",
              "    </tr>\n",
              "  </thead>\n",
              "  <tbody>\n",
              "    <tr>\n",
              "      <th>0</th>\n",
              "      <td>0.136202</td>\n",
              "      <td>0.636591</td>\n",
              "      <td>3</td>\n",
              "    </tr>\n",
              "    <tr>\n",
              "      <th>1</th>\n",
              "      <td>0.137202</td>\n",
              "      <td>0.634422</td>\n",
              "      <td>3</td>\n",
              "    </tr>\n",
              "    <tr>\n",
              "      <th>2</th>\n",
              "      <td>0.137757</td>\n",
              "      <td>0.633396</td>\n",
              "      <td>3</td>\n",
              "    </tr>\n",
              "    <tr>\n",
              "      <th>3</th>\n",
              "      <td>0.138129</td>\n",
              "      <td>0.632940</td>\n",
              "      <td>3</td>\n",
              "    </tr>\n",
              "    <tr>\n",
              "      <th>4</th>\n",
              "      <td>0.138377</td>\n",
              "      <td>0.632690</td>\n",
              "      <td>3</td>\n",
              "    </tr>\n",
              "  </tbody>\n",
              "</table>\n",
              "</div>\n",
              "      <button class=\"colab-df-convert\" onclick=\"convertToInteractive('df-cd051a04-f4f6-4bdf-b7ed-d2a2eea04b26')\"\n",
              "              title=\"Convert this dataframe to an interactive table.\"\n",
              "              style=\"display:none;\">\n",
              "        \n",
              "  <svg xmlns=\"http://www.w3.org/2000/svg\" height=\"24px\"viewBox=\"0 0 24 24\"\n",
              "       width=\"24px\">\n",
              "    <path d=\"M0 0h24v24H0V0z\" fill=\"none\"/>\n",
              "    <path d=\"M18.56 5.44l.94 2.06.94-2.06 2.06-.94-2.06-.94-.94-2.06-.94 2.06-2.06.94zm-11 1L8.5 8.5l.94-2.06 2.06-.94-2.06-.94L8.5 2.5l-.94 2.06-2.06.94zm10 10l.94 2.06.94-2.06 2.06-.94-2.06-.94-.94-2.06-.94 2.06-2.06.94z\"/><path d=\"M17.41 7.96l-1.37-1.37c-.4-.4-.92-.59-1.43-.59-.52 0-1.04.2-1.43.59L10.3 9.45l-7.72 7.72c-.78.78-.78 2.05 0 2.83L4 21.41c.39.39.9.59 1.41.59.51 0 1.02-.2 1.41-.59l7.78-7.78 2.81-2.81c.8-.78.8-2.07 0-2.86zM5.41 20L4 18.59l7.72-7.72 1.47 1.35L5.41 20z\"/>\n",
              "  </svg>\n",
              "      </button>\n",
              "      \n",
              "  <style>\n",
              "    .colab-df-container {\n",
              "      display:flex;\n",
              "      flex-wrap:wrap;\n",
              "      gap: 12px;\n",
              "    }\n",
              "\n",
              "    .colab-df-convert {\n",
              "      background-color: #E8F0FE;\n",
              "      border: none;\n",
              "      border-radius: 50%;\n",
              "      cursor: pointer;\n",
              "      display: none;\n",
              "      fill: #1967D2;\n",
              "      height: 32px;\n",
              "      padding: 0 0 0 0;\n",
              "      width: 32px;\n",
              "    }\n",
              "\n",
              "    .colab-df-convert:hover {\n",
              "      background-color: #E2EBFA;\n",
              "      box-shadow: 0px 1px 2px rgba(60, 64, 67, 0.3), 0px 1px 3px 1px rgba(60, 64, 67, 0.15);\n",
              "      fill: #174EA6;\n",
              "    }\n",
              "\n",
              "    [theme=dark] .colab-df-convert {\n",
              "      background-color: #3B4455;\n",
              "      fill: #D2E3FC;\n",
              "    }\n",
              "\n",
              "    [theme=dark] .colab-df-convert:hover {\n",
              "      background-color: #434B5C;\n",
              "      box-shadow: 0px 1px 3px 1px rgba(0, 0, 0, 0.15);\n",
              "      filter: drop-shadow(0px 1px 2px rgba(0, 0, 0, 0.3));\n",
              "      fill: #FFFFFF;\n",
              "    }\n",
              "  </style>\n",
              "\n",
              "      <script>\n",
              "        const buttonEl =\n",
              "          document.querySelector('#df-cd051a04-f4f6-4bdf-b7ed-d2a2eea04b26 button.colab-df-convert');\n",
              "        buttonEl.style.display =\n",
              "          google.colab.kernel.accessAllowed ? 'block' : 'none';\n",
              "\n",
              "        async function convertToInteractive(key) {\n",
              "          const element = document.querySelector('#df-cd051a04-f4f6-4bdf-b7ed-d2a2eea04b26');\n",
              "          const dataTable =\n",
              "            await google.colab.kernel.invokeFunction('convertToInteractive',\n",
              "                                                     [key], {});\n",
              "          if (!dataTable) return;\n",
              "\n",
              "          const docLinkHtml = 'Like what you see? Visit the ' +\n",
              "            '<a target=\"_blank\" href=https://colab.research.google.com/notebooks/data_table.ipynb>data table notebook</a>'\n",
              "            + ' to learn more about interactive tables.';\n",
              "          element.innerHTML = '';\n",
              "          dataTable['output_type'] = 'display_data';\n",
              "          await google.colab.output.renderOutput(dataTable, element);\n",
              "          const docLink = document.createElement('div');\n",
              "          docLink.innerHTML = docLinkHtml;\n",
              "          element.appendChild(docLink);\n",
              "        }\n",
              "      </script>\n",
              "    </div>\n",
              "  </div>\n",
              "  "
            ]
          },
          "metadata": {},
          "execution_count": 264
        }
      ]
    },
    {
      "cell_type": "code",
      "source": [
        "plt.scatter(df_X_lda.Column1,df_X_lda.Column2)"
      ],
      "metadata": {
        "colab": {
          "base_uri": "https://localhost:8080/",
          "height": 282
        },
        "id": "dfj7vd1OI8w2",
        "outputId": "0b22c327-6479-472f-ec40-4ab38c146576"
      },
      "execution_count": null,
      "outputs": [
        {
          "output_type": "execute_result",
          "data": {
            "text/plain": [
              "<matplotlib.collections.PathCollection at 0x7f9a87ab2a60>"
            ]
          },
          "metadata": {},
          "execution_count": 66
        },
        {
          "output_type": "display_data",
          "data": {
            "text/plain": [
              "<Figure size 432x288 with 1 Axes>"
            ],
            "image/png": "[encoded data removed]"
          },
          "metadata": {
            "needs_background": "light"
          }
        }
      ]
    },
    {
      "cell_type": "code",
      "source": [
        "km = KMeans(n_clusters=7)\n",
        "y_predicted = km.fit_predict(df_X_lda[['Column1','Column2']])\n",
        "y_predicted"
      ],
      "metadata": {
        "colab": {
          "base_uri": "https://localhost:8080/"
        },
        "id": "3Aw8O11MI8tf",
        "outputId": "1ba7cf07-604a-4182-b027-cc976a3511a7"
      },
      "execution_count": null,
      "outputs": [
        {
          "output_type": "execute_result",
          "data": {
            "text/plain": [
              "array([6, 6, 6, 6, 6, 6, 6, 6, 6, 6, 6, 6, 6, 6, 6, 6, 6, 6, 6, 6, 1, 1,\n",
              "       1, 1, 1, 1, 1, 1, 1, 1, 1, 1, 1, 1, 1, 1, 1, 1, 1, 1, 3, 3, 3, 3,\n",
              "       3, 3, 3, 3, 3, 3, 3, 3, 3, 3, 3, 3, 3, 3, 3, 3, 2, 2, 2, 2, 2, 2,\n",
              "       2, 2, 2, 2, 2, 2, 2, 2, 2, 2, 2, 2, 2, 2, 5, 5, 5, 5, 5, 5, 5, 5,\n",
              "       5, 5, 5, 5, 5, 5, 5, 5, 5, 5, 5, 5, 4, 4, 4, 4, 4, 4, 4, 4, 4, 4,\n",
              "       4, 4, 4, 4, 4, 4, 4, 4, 4, 4, 0, 0, 0, 0, 0, 0, 0, 0, 0, 0, 0, 0,\n",
              "       0, 0, 0, 0, 0, 0, 0, 0], dtype=int32)"
            ]
          },
          "metadata": {},
          "execution_count": 67
        }
      ]
    },
    {
      "cell_type": "code",
      "source": [
        "df_X_lda['cluster']=y_predicted\n",
        "df_X_lda.head()"
      ],
      "metadata": {
        "colab": {
          "base_uri": "https://localhost:8080/",
          "height": 206
        },
        "id": "9mw33SjIJCBS",
        "outputId": "60fefc57-9834-4afc-9a10-8e4a835b8e9c"
      },
      "execution_count": null,
      "outputs": [
        {
          "output_type": "execute_result",
          "data": {
            "text/plain": [
              "    Column1   Column2  cluster\n",
              "0  0.136439  0.011327        6\n",
              "1  0.137441  0.005110        6\n",
              "2  0.137997  0.002138        6\n",
              "3  0.138370  0.000766        6\n",
              "4  0.138618  0.000000        6"
            ],
            "text/html": [
              "\n",
              "  <div id=\"df-2cc08788-1deb-459a-ba73-6527c00371f0\">\n",
              "    <div class=\"colab-df-container\">\n",
              "      <div>\n",
              "<style scoped>\n",
              "    .dataframe tbody tr th:only-of-type {\n",
              "        vertical-align: middle;\n",
              "    }\n",
              "\n",
              "    .dataframe tbody tr th {\n",
              "        vertical-align: top;\n",
              "    }\n",
              "\n",
              "    .dataframe thead th {\n",
              "        text-align: right;\n",
              "    }\n",
              "</style>\n",
              "<table border=\"1\" class=\"dataframe\">\n",
              "  <thead>\n",
              "    <tr style=\"text-align: right;\">\n",
              "      <th></th>\n",
              "      <th>Column1</th>\n",
              "      <th>Column2</th>\n",
              "      <th>cluster</th>\n",
              "    </tr>\n",
              "  </thead>\n",
              "  <tbody>\n",
              "    <tr>\n",
              "      <th>0</th>\n",
              "      <td>0.136439</td>\n",
              "      <td>0.011327</td>\n",
              "      <td>6</td>\n",
              "    </tr>\n",
              "    <tr>\n",
              "      <th>1</th>\n",
              "      <td>0.137441</td>\n",
              "      <td>0.005110</td>\n",
              "      <td>6</td>\n",
              "    </tr>\n",
              "    <tr>\n",
              "      <th>2</th>\n",
              "      <td>0.137997</td>\n",
              "      <td>0.002138</td>\n",
              "      <td>6</td>\n",
              "    </tr>\n",
              "    <tr>\n",
              "      <th>3</th>\n",
              "      <td>0.138370</td>\n",
              "      <td>0.000766</td>\n",
              "      <td>6</td>\n",
              "    </tr>\n",
              "    <tr>\n",
              "      <th>4</th>\n",
              "      <td>0.138618</td>\n",
              "      <td>0.000000</td>\n",
              "      <td>6</td>\n",
              "    </tr>\n",
              "  </tbody>\n",
              "</table>\n",
              "</div>\n",
              "      <button class=\"colab-df-convert\" onclick=\"convertToInteractive('df-2cc08788-1deb-459a-ba73-6527c00371f0')\"\n",
              "              title=\"Convert this dataframe to an interactive table.\"\n",
              "              style=\"display:none;\">\n",
              "        \n",
              "  <svg xmlns=\"http://www.w3.org/2000/svg\" height=\"24px\"viewBox=\"0 0 24 24\"\n",
              "       width=\"24px\">\n",
              "    <path d=\"M0 0h24v24H0V0z\" fill=\"none\"/>\n",
              "    <path d=\"M18.56 5.44l.94 2.06.94-2.06 2.06-.94-2.06-.94-.94-2.06-.94 2.06-2.06.94zm-11 1L8.5 8.5l.94-2.06 2.06-.94-2.06-.94L8.5 2.5l-.94 2.06-2.06.94zm10 10l.94 2.06.94-2.06 2.06-.94-2.06-.94-.94-2.06-.94 2.06-2.06.94z\"/><path d=\"M17.41 7.96l-1.37-1.37c-.4-.4-.92-.59-1.43-.59-.52 0-1.04.2-1.43.59L10.3 9.45l-7.72 7.72c-.78.78-.78 2.05 0 2.83L4 21.41c.39.39.9.59 1.41.59.51 0 1.02-.2 1.41-.59l7.78-7.78 2.81-2.81c.8-.78.8-2.07 0-2.86zM5.41 20L4 18.59l7.72-7.72 1.47 1.35L5.41 20z\"/>\n",
              "  </svg>\n",
              "      </button>\n",
              "      \n",
              "  <style>\n",
              "    .colab-df-container {\n",
              "      display:flex;\n",
              "      flex-wrap:wrap;\n",
              "      gap: 12px;\n",
              "    }\n",
              "\n",
              "    .colab-df-convert {\n",
              "      background-color: #E8F0FE;\n",
              "      border: none;\n",
              "      border-radius: 50%;\n",
              "      cursor: pointer;\n",
              "      display: none;\n",
              "      fill: #1967D2;\n",
              "      height: 32px;\n",
              "      padding: 0 0 0 0;\n",
              "      width: 32px;\n",
              "    }\n",
              "\n",
              "    .colab-df-convert:hover {\n",
              "      background-color: #E2EBFA;\n",
              "      box-shadow: 0px 1px 2px rgba(60, 64, 67, 0.3), 0px 1px 3px 1px rgba(60, 64, 67, 0.15);\n",
              "      fill: #174EA6;\n",
              "    }\n",
              "\n",
              "    [theme=dark] .colab-df-convert {\n",
              "      background-color: #3B4455;\n",
              "      fill: #D2E3FC;\n",
              "    }\n",
              "\n",
              "    [theme=dark] .colab-df-convert:hover {\n",
              "      background-color: #434B5C;\n",
              "      box-shadow: 0px 1px 3px 1px rgba(0, 0, 0, 0.15);\n",
              "      filter: drop-shadow(0px 1px 2px rgba(0, 0, 0, 0.3));\n",
              "      fill: #FFFFFF;\n",
              "    }\n",
              "  </style>\n",
              "\n",
              "      <script>\n",
              "        const buttonEl =\n",
              "          document.querySelector('#df-2cc08788-1deb-459a-ba73-6527c00371f0 button.colab-df-convert');\n",
              "        buttonEl.style.display =\n",
              "          google.colab.kernel.accessAllowed ? 'block' : 'none';\n",
              "\n",
              "        async function convertToInteractive(key) {\n",
              "          const element = document.querySelector('#df-2cc08788-1deb-459a-ba73-6527c00371f0');\n",
              "          const dataTable =\n",
              "            await google.colab.kernel.invokeFunction('convertToInteractive',\n",
              "                                                     [key], {});\n",
              "          if (!dataTable) return;\n",
              "\n",
              "          const docLinkHtml = 'Like what you see? Visit the ' +\n",
              "            '<a target=\"_blank\" href=https://colab.research.google.com/notebooks/data_table.ipynb>data table notebook</a>'\n",
              "            + ' to learn more about interactive tables.';\n",
              "          element.innerHTML = '';\n",
              "          dataTable['output_type'] = 'display_data';\n",
              "          await google.colab.output.renderOutput(dataTable, element);\n",
              "          const docLink = document.createElement('div');\n",
              "          docLink.innerHTML = docLinkHtml;\n",
              "          element.appendChild(docLink);\n",
              "        }\n",
              "      </script>\n",
              "    </div>\n",
              "  </div>\n",
              "  "
            ]
          },
          "metadata": {},
          "execution_count": 68
        }
      ]
    },
    {
      "cell_type": "code",
      "source": [
        "km.cluster_centers_"
      ],
      "metadata": {
        "colab": {
          "base_uri": "https://localhost:8080/"
        },
        "id": "-FQG7Yf3JEEl",
        "outputId": "e86865f5-6a9e-40da-a689-07604be3c004"
      },
      "execution_count": null,
      "outputs": [
        {
          "output_type": "execute_result",
          "data": {
            "text/plain": [
              "array([[5.08535078e-05, 6.59162024e-01],\n",
              "       [9.99214106e-01, 5.29696587e-01],\n",
              "       [6.55589863e-02, 1.13747924e-01],\n",
              "       [4.68421673e-02, 3.48865650e-01],\n",
              "       [5.72591555e-03, 9.99304780e-01],\n",
              "       [2.58243734e-02, 4.64817823e-01],\n",
              "       [1.38850904e-01, 4.72487050e-03]])"
            ]
          },
          "metadata": {},
          "execution_count": 69
        }
      ]
    },
    {
      "cell_type": "code",
      "source": [
        "df1 = df_X_lda[df_X_lda.cluster==0]\n",
        "df2 = df_X_lda[df_X_lda.cluster==1]\n",
        "df3 = df_X_lda[df_X_lda.cluster==2]\n",
        "df4 = df_X_lda[df_X_lda.cluster==3]\n",
        "df5 = df_X_lda[df_X_lda.cluster==4]\n",
        "df6 = df_X_lda[df_X_lda.cluster==5]\n",
        "df7 = df_X_lda[df_X_lda.cluster==6]\n",
        "# df8 = df_X_lda[df_X_lda.cluster==7]\n",
        "\n",
        "plt.scatter(df1.Column1, df1.Column2, color='black', label='OFF')\n",
        "plt.scatter(df2.Column1, df2.Column2, color='cyan', label='FLASHLIGHT')\n",
        "plt.scatter(df3.Column1, df3.Column2, color='red', label='RED')\n",
        "plt.scatter(df4.Column1, df4.Column2, color='green', label='GREEN')\n",
        "plt.scatter(df5.Column1, df5.Column2, color='DarkMagenta', label='IR')\n",
        "plt.scatter(df6.Column1, df6.Column2, color='violet', label='UV')\n",
        "plt.scatter(df7.Column1, df7.Column2, color='blue', label='BLUE')\n",
        "# plt.scatter(df3.Column1, df3.Column2, color='LawnGreen', label='UBGRI')\n",
        "# plt.scatter(km.cluster_centers_[:,0],km.cluster_centers_[:,1],color='purple',marker='*',label='centroid')\n",
        "\n",
        "plt.xlabel('lda1')\n",
        "plt.ylabel('lda2')\n",
        "plt.legend(loc = \"upper center\")\n",
        "# blue - 6,flashlight - 1, green - 7, red - 3, UV - 5, IR - 4, UBGRI - 2, off - 0\n",
        "# blue - 6,flashlight - 1, green - 3, red - 2, UV - 5, IR - 4, off - 0"
      ],
      "metadata": {
        "colab": {
          "base_uri": "https://localhost:8080/",
          "height": 296
        },
        "id": "KOdPPyh16LC1",
        "outputId": "74233f91-abdb-49a6-d314-1d6d334d89ed"
      },
      "execution_count": null,
      "outputs": [
        {
          "output_type": "execute_result",
          "data": {
            "text/plain": [
              "<matplotlib.legend.Legend at 0x7f9a87a1ff70>"
            ]
          },
          "metadata": {},
          "execution_count": 70
        },
        {
          "output_type": "display_data",
          "data": {
            "text/plain": [
              "<Figure size 432x288 with 1 Axes>"
            ],
            "image/png": "[encoded data removed]"
          },
          "metadata": {
            "needs_background": "light"
          }
        }
      ]
    },
    {
      "cell_type": "code",
      "source": [],
      "metadata": {
        "id": "bUIPxkLNojfE"
      },
      "execution_count": null,
      "outputs": []
    },
    {
      "cell_type": "code",
      "source": [],
      "metadata": {
        "id": "UPY91-qDojbU"
      },
      "execution_count": null,
      "outputs": []
    },
    {
      "cell_type": "code",
      "source": [],
      "metadata": {
        "id": "Wum3aqceu9UF"
      },
      "execution_count": null,
      "outputs": []
    },
    {
      "cell_type": "code",
      "source": [],
      "metadata": {
        "id": "USNZ6eWpu9QR"
      },
      "execution_count": null,
      "outputs": []
    },
    {
      "cell_type": "markdown",
      "source": [
        "# Random Forest, SVM, KNN"
      ],
      "metadata": {
        "id": "4bH-2XpDu-E7"
      }
    },
    {
      "cell_type": "code",
      "source": [
        "df.head()"
      ],
      "metadata": {
        "colab": {
          "base_uri": "https://localhost:8080/",
          "height": 206
        },
        "id": "oDrENM_eu859",
        "outputId": "2346a551-91e8-4833-8e0d-9d11bb416cdb"
      },
      "execution_count": null,
      "outputs": [
        {
          "output_type": "execute_result",
          "data": {
            "text/plain": [
              "   Smu1.Time[1][1]      CS_I         LFS_I label on/off\n",
              "0         0.000000  0.000027  2.464909e-07  blue    off\n",
              "1         0.141018  0.000018  2.429471e-07  blue    off\n",
              "2         0.282002  0.000015  2.427836e-07  blue    off\n",
              "3         0.422960  0.000012  2.423847e-07  blue    off\n",
              "4         0.563926  0.000011  2.409984e-07  blue    off"
            ],
            "text/html": [
              "\n",
              "  <div id=\"df-b5fc8272-c3a7-48c0-9553-3005aef3203f\">\n",
              "    <div class=\"colab-df-container\">\n",
              "      <div>\n",
              "<style scoped>\n",
              "    .dataframe tbody tr th:only-of-type {\n",
              "        vertical-align: middle;\n",
              "    }\n",
              "\n",
              "    .dataframe tbody tr th {\n",
              "        vertical-align: top;\n",
              "    }\n",
              "\n",
              "    .dataframe thead th {\n",
              "        text-align: right;\n",
              "    }\n",
              "</style>\n",
              "<table border=\"1\" class=\"dataframe\">\n",
              "  <thead>\n",
              "    <tr style=\"text-align: right;\">\n",
              "      <th></th>\n",
              "      <th>Smu1.Time[1][1]</th>\n",
              "      <th>CS_I</th>\n",
              "      <th>LFS_I</th>\n",
              "      <th>label</th>\n",
              "      <th>on/off</th>\n",
              "    </tr>\n",
              "  </thead>\n",
              "  <tbody>\n",
              "    <tr>\n",
              "      <th>0</th>\n",
              "      <td>0.000000</td>\n",
              "      <td>0.000027</td>\n",
              "      <td>2.464909e-07</td>\n",
              "      <td>blue</td>\n",
              "      <td>off</td>\n",
              "    </tr>\n",
              "    <tr>\n",
              "      <th>1</th>\n",
              "      <td>0.141018</td>\n",
              "      <td>0.000018</td>\n",
              "      <td>2.429471e-07</td>\n",
              "      <td>blue</td>\n",
              "      <td>off</td>\n",
              "    </tr>\n",
              "    <tr>\n",
              "      <th>2</th>\n",
              "      <td>0.282002</td>\n",
              "      <td>0.000015</td>\n",
              "      <td>2.427836e-07</td>\n",
              "      <td>blue</td>\n",
              "      <td>off</td>\n",
              "    </tr>\n",
              "    <tr>\n",
              "      <th>3</th>\n",
              "      <td>0.422960</td>\n",
              "      <td>0.000012</td>\n",
              "      <td>2.423847e-07</td>\n",
              "      <td>blue</td>\n",
              "      <td>off</td>\n",
              "    </tr>\n",
              "    <tr>\n",
              "      <th>4</th>\n",
              "      <td>0.563926</td>\n",
              "      <td>0.000011</td>\n",
              "      <td>2.409984e-07</td>\n",
              "      <td>blue</td>\n",
              "      <td>off</td>\n",
              "    </tr>\n",
              "  </tbody>\n",
              "</table>\n",
              "</div>\n",
              "      <button class=\"colab-df-convert\" onclick=\"convertToInteractive('df-b5fc8272-c3a7-48c0-9553-3005aef3203f')\"\n",
              "              title=\"Convert this dataframe to an interactive table.\"\n",
              "              style=\"display:none;\">\n",
              "        \n",
              "  <svg xmlns=\"http://www.w3.org/2000/svg\" height=\"24px\"viewBox=\"0 0 24 24\"\n",
              "       width=\"24px\">\n",
              "    <path d=\"M0 0h24v24H0V0z\" fill=\"none\"/>\n",
              "    <path d=\"M18.56 5.44l.94 2.06.94-2.06 2.06-.94-2.06-.94-.94-2.06-.94 2.06-2.06.94zm-11 1L8.5 8.5l.94-2.06 2.06-.94-2.06-.94L8.5 2.5l-.94 2.06-2.06.94zm10 10l.94 2.06.94-2.06 2.06-.94-2.06-.94-.94-2.06-.94 2.06-2.06.94z\"/><path d=\"M17.41 7.96l-1.37-1.37c-.4-.4-.92-.59-1.43-.59-.52 0-1.04.2-1.43.59L10.3 9.45l-7.72 7.72c-.78.78-.78 2.05 0 2.83L4 21.41c.39.39.9.59 1.41.59.51 0 1.02-.2 1.41-.59l7.78-7.78 2.81-2.81c.8-.78.8-2.07 0-2.86zM5.41 20L4 18.59l7.72-7.72 1.47 1.35L5.41 20z\"/>\n",
              "  </svg>\n",
              "      </button>\n",
              "      \n",
              "  <style>\n",
              "    .colab-df-container {\n",
              "      display:flex;\n",
              "      flex-wrap:wrap;\n",
              "      gap: 12px;\n",
              "    }\n",
              "\n",
              "    .colab-df-convert {\n",
              "      background-color: #E8F0FE;\n",
              "      border: none;\n",
              "      border-radius: 50%;\n",
              "      cursor: pointer;\n",
              "      display: none;\n",
              "      fill: #1967D2;\n",
              "      height: 32px;\n",
              "      padding: 0 0 0 0;\n",
              "      width: 32px;\n",
              "    }\n",
              "\n",
              "    .colab-df-convert:hover {\n",
              "      background-color: #E2EBFA;\n",
              "      box-shadow: 0px 1px 2px rgba(60, 64, 67, 0.3), 0px 1px 3px 1px rgba(60, 64, 67, 0.15);\n",
              "      fill: #174EA6;\n",
              "    }\n",
              "\n",
              "    [theme=dark] .colab-df-convert {\n",
              "      background-color: #3B4455;\n",
              "      fill: #D2E3FC;\n",
              "    }\n",
              "\n",
              "    [theme=dark] .colab-df-convert:hover {\n",
              "      background-color: #434B5C;\n",
              "      box-shadow: 0px 1px 3px 1px rgba(0, 0, 0, 0.15);\n",
              "      filter: drop-shadow(0px 1px 2px rgba(0, 0, 0, 0.3));\n",
              "      fill: #FFFFFF;\n",
              "    }\n",
              "  </style>\n",
              "\n",
              "      <script>\n",
              "        const buttonEl =\n",
              "          document.querySelector('#df-b5fc8272-c3a7-48c0-9553-3005aef3203f button.colab-df-convert');\n",
              "        buttonEl.style.display =\n",
              "          google.colab.kernel.accessAllowed ? 'block' : 'none';\n",
              "\n",
              "        async function convertToInteractive(key) {\n",
              "          const element = document.querySelector('#df-b5fc8272-c3a7-48c0-9553-3005aef3203f');\n",
              "          const dataTable =\n",
              "            await google.colab.kernel.invokeFunction('convertToInteractive',\n",
              "                                                     [key], {});\n",
              "          if (!dataTable) return;\n",
              "\n",
              "          const docLinkHtml = 'Like what you see? Visit the ' +\n",
              "            '<a target=\"_blank\" href=https://colab.research.google.com/notebooks/data_table.ipynb>data table notebook</a>'\n",
              "            + ' to learn more about interactive tables.';\n",
              "          element.innerHTML = '';\n",
              "          dataTable['output_type'] = 'display_data';\n",
              "          await google.colab.output.renderOutput(dataTable, element);\n",
              "          const docLink = document.createElement('div');\n",
              "          docLink.innerHTML = docLinkHtml;\n",
              "          element.appendChild(docLink);\n",
              "        }\n",
              "      </script>\n",
              "    </div>\n",
              "  </div>\n",
              "  "
            ]
          },
          "metadata": {},
          "execution_count": 5
        }
      ]
    },
    {
      "cell_type": "code",
      "source": [
        "df1 = df[df['on/off']=='on']\n",
        "# df1.head()\n",
        "df1 = df1.drop(['on/off'], axis=1)\n",
        "df1.head()"
      ],
      "metadata": {
        "colab": {
          "base_uri": "https://localhost:8080/",
          "height": 206
        },
        "id": "WUl_F9HTwXwQ",
        "outputId": "0cdf50e9-3d72-411a-d35c-5f5ae72ae556"
      },
      "execution_count": null,
      "outputs": [
        {
          "output_type": "execute_result",
          "data": {
            "text/plain": [
              "    Smu1.Time[1][1]      CS_I         LFS_I label\n",
              "70        10.217509  0.000998  8.889230e-07  blue\n",
              "71        10.358471  0.001006  9.172311e-07  blue\n",
              "72        10.499423  0.001011  9.274987e-07  blue\n",
              "73        10.640380  0.001013  9.339539e-07  blue\n",
              "74        10.781315  0.001015  9.374622e-07  blue"
            ],
            "text/html": [
              "\n",
              "  <div id=\"df-647d98f7-a68c-4aa7-9ba5-88c4355f44ba\">\n",
              "    <div class=\"colab-df-container\">\n",
              "      <div>\n",
              "<style scoped>\n",
              "    .dataframe tbody tr th:only-of-type {\n",
              "        vertical-align: middle;\n",
              "    }\n",
              "\n",
              "    .dataframe tbody tr th {\n",
              "        vertical-align: top;\n",
              "    }\n",
              "\n",
              "    .dataframe thead th {\n",
              "        text-align: right;\n",
              "    }\n",
              "</style>\n",
              "<table border=\"1\" class=\"dataframe\">\n",
              "  <thead>\n",
              "    <tr style=\"text-align: right;\">\n",
              "      <th></th>\n",
              "      <th>Smu1.Time[1][1]</th>\n",
              "      <th>CS_I</th>\n",
              "      <th>LFS_I</th>\n",
              "      <th>label</th>\n",
              "    </tr>\n",
              "  </thead>\n",
              "  <tbody>\n",
              "    <tr>\n",
              "      <th>70</th>\n",
              "      <td>10.217509</td>\n",
              "      <td>0.000998</td>\n",
              "      <td>8.889230e-07</td>\n",
              "      <td>blue</td>\n",
              "    </tr>\n",
              "    <tr>\n",
              "      <th>71</th>\n",
              "      <td>10.358471</td>\n",
              "      <td>0.001006</td>\n",
              "      <td>9.172311e-07</td>\n",
              "      <td>blue</td>\n",
              "    </tr>\n",
              "    <tr>\n",
              "      <th>72</th>\n",
              "      <td>10.499423</td>\n",
              "      <td>0.001011</td>\n",
              "      <td>9.274987e-07</td>\n",
              "      <td>blue</td>\n",
              "    </tr>\n",
              "    <tr>\n",
              "      <th>73</th>\n",
              "      <td>10.640380</td>\n",
              "      <td>0.001013</td>\n",
              "      <td>9.339539e-07</td>\n",
              "      <td>blue</td>\n",
              "    </tr>\n",
              "    <tr>\n",
              "      <th>74</th>\n",
              "      <td>10.781315</td>\n",
              "      <td>0.001015</td>\n",
              "      <td>9.374622e-07</td>\n",
              "      <td>blue</td>\n",
              "    </tr>\n",
              "  </tbody>\n",
              "</table>\n",
              "</div>\n",
              "      <button class=\"colab-df-convert\" onclick=\"convertToInteractive('df-647d98f7-a68c-4aa7-9ba5-88c4355f44ba')\"\n",
              "              title=\"Convert this dataframe to an interactive table.\"\n",
              "              style=\"display:none;\">\n",
              "        \n",
              "  <svg xmlns=\"http://www.w3.org/2000/svg\" height=\"24px\"viewBox=\"0 0 24 24\"\n",
              "       width=\"24px\">\n",
              "    <path d=\"M0 0h24v24H0V0z\" fill=\"none\"/>\n",
              "    <path d=\"M18.56 5.44l.94 2.06.94-2.06 2.06-.94-2.06-.94-.94-2.06-.94 2.06-2.06.94zm-11 1L8.5 8.5l.94-2.06 2.06-.94-2.06-.94L8.5 2.5l-.94 2.06-2.06.94zm10 10l.94 2.06.94-2.06 2.06-.94-2.06-.94-.94-2.06-.94 2.06-2.06.94z\"/><path d=\"M17.41 7.96l-1.37-1.37c-.4-.4-.92-.59-1.43-.59-.52 0-1.04.2-1.43.59L10.3 9.45l-7.72 7.72c-.78.78-.78 2.05 0 2.83L4 21.41c.39.39.9.59 1.41.59.51 0 1.02-.2 1.41-.59l7.78-7.78 2.81-2.81c.8-.78.8-2.07 0-2.86zM5.41 20L4 18.59l7.72-7.72 1.47 1.35L5.41 20z\"/>\n",
              "  </svg>\n",
              "      </button>\n",
              "      \n",
              "  <style>\n",
              "    .colab-df-container {\n",
              "      display:flex;\n",
              "      flex-wrap:wrap;\n",
              "      gap: 12px;\n",
              "    }\n",
              "\n",
              "    .colab-df-convert {\n",
              "      background-color: #E8F0FE;\n",
              "      border: none;\n",
              "      border-radius: 50%;\n",
              "      cursor: pointer;\n",
              "      display: none;\n",
              "      fill: #1967D2;\n",
              "      height: 32px;\n",
              "      padding: 0 0 0 0;\n",
              "      width: 32px;\n",
              "    }\n",
              "\n",
              "    .colab-df-convert:hover {\n",
              "      background-color: #E2EBFA;\n",
              "      box-shadow: 0px 1px 2px rgba(60, 64, 67, 0.3), 0px 1px 3px 1px rgba(60, 64, 67, 0.15);\n",
              "      fill: #174EA6;\n",
              "    }\n",
              "\n",
              "    [theme=dark] .colab-df-convert {\n",
              "      background-color: #3B4455;\n",
              "      fill: #D2E3FC;\n",
              "    }\n",
              "\n",
              "    [theme=dark] .colab-df-convert:hover {\n",
              "      background-color: #434B5C;\n",
              "      box-shadow: 0px 1px 3px 1px rgba(0, 0, 0, 0.15);\n",
              "      filter: drop-shadow(0px 1px 2px rgba(0, 0, 0, 0.3));\n",
              "      fill: #FFFFFF;\n",
              "    }\n",
              "  </style>\n",
              "\n",
              "      <script>\n",
              "        const buttonEl =\n",
              "          document.querySelector('#df-647d98f7-a68c-4aa7-9ba5-88c4355f44ba button.colab-df-convert');\n",
              "        buttonEl.style.display =\n",
              "          google.colab.kernel.accessAllowed ? 'block' : 'none';\n",
              "\n",
              "        async function convertToInteractive(key) {\n",
              "          const element = document.querySelector('#df-647d98f7-a68c-4aa7-9ba5-88c4355f44ba');\n",
              "          const dataTable =\n",
              "            await google.colab.kernel.invokeFunction('convertToInteractive',\n",
              "                                                     [key], {});\n",
              "          if (!dataTable) return;\n",
              "\n",
              "          const docLinkHtml = 'Like what you see? Visit the ' +\n",
              "            '<a target=\"_blank\" href=https://colab.research.google.com/notebooks/data_table.ipynb>data table notebook</a>'\n",
              "            + ' to learn more about interactive tables.';\n",
              "          element.innerHTML = '';\n",
              "          dataTable['output_type'] = 'display_data';\n",
              "          await google.colab.output.renderOutput(dataTable, element);\n",
              "          const docLink = document.createElement('div');\n",
              "          docLink.innerHTML = docLinkHtml;\n",
              "          element.appendChild(docLink);\n",
              "        }\n",
              "      </script>\n",
              "    </div>\n",
              "  </div>\n",
              "  "
            ]
          },
          "metadata": {},
          "execution_count": 6
        }
      ]
    },
    {
      "cell_type": "code",
      "source": [
        "df2 = df[df['on/off']=='off']\n",
        "# df2.head()\n",
        "df2 = df2.drop(['on/off'], axis=1)\n",
        "# df2.head()\n",
        "df2['label'] = 'off'\n",
        "df2.head()"
      ],
      "metadata": {
        "colab": {
          "base_uri": "https://localhost:8080/",
          "height": 206
        },
        "id": "EilORaW4vP7U",
        "outputId": "f73d46f7-4bcc-443c-c6b4-87268e67499d"
      },
      "execution_count": null,
      "outputs": [
        {
          "output_type": "execute_result",
          "data": {
            "text/plain": [
              "   Smu1.Time[1][1]      CS_I         LFS_I label\n",
              "0         0.000000  0.000027  2.464909e-07   off\n",
              "1         0.141018  0.000018  2.429471e-07   off\n",
              "2         0.282002  0.000015  2.427836e-07   off\n",
              "3         0.422960  0.000012  2.423847e-07   off\n",
              "4         0.563926  0.000011  2.409984e-07   off"
            ],
            "text/html": [
              "\n",
              "  <div id=\"df-ac2544a6-6c7f-4081-b95a-7e3299b17042\">\n",
              "    <div class=\"colab-df-container\">\n",
              "      <div>\n",
              "<style scoped>\n",
              "    .dataframe tbody tr th:only-of-type {\n",
              "        vertical-align: middle;\n",
              "    }\n",
              "\n",
              "    .dataframe tbody tr th {\n",
              "        vertical-align: top;\n",
              "    }\n",
              "\n",
              "    .dataframe thead th {\n",
              "        text-align: right;\n",
              "    }\n",
              "</style>\n",
              "<table border=\"1\" class=\"dataframe\">\n",
              "  <thead>\n",
              "    <tr style=\"text-align: right;\">\n",
              "      <th></th>\n",
              "      <th>Smu1.Time[1][1]</th>\n",
              "      <th>CS_I</th>\n",
              "      <th>LFS_I</th>\n",
              "      <th>label</th>\n",
              "    </tr>\n",
              "  </thead>\n",
              "  <tbody>\n",
              "    <tr>\n",
              "      <th>0</th>\n",
              "      <td>0.000000</td>\n",
              "      <td>0.000027</td>\n",
              "      <td>2.464909e-07</td>\n",
              "      <td>off</td>\n",
              "    </tr>\n",
              "    <tr>\n",
              "      <th>1</th>\n",
              "      <td>0.141018</td>\n",
              "      <td>0.000018</td>\n",
              "      <td>2.429471e-07</td>\n",
              "      <td>off</td>\n",
              "    </tr>\n",
              "    <tr>\n",
              "      <th>2</th>\n",
              "      <td>0.282002</td>\n",
              "      <td>0.000015</td>\n",
              "      <td>2.427836e-07</td>\n",
              "      <td>off</td>\n",
              "    </tr>\n",
              "    <tr>\n",
              "      <th>3</th>\n",
              "      <td>0.422960</td>\n",
              "      <td>0.000012</td>\n",
              "      <td>2.423847e-07</td>\n",
              "      <td>off</td>\n",
              "    </tr>\n",
              "    <tr>\n",
              "      <th>4</th>\n",
              "      <td>0.563926</td>\n",
              "      <td>0.000011</td>\n",
              "      <td>2.409984e-07</td>\n",
              "      <td>off</td>\n",
              "    </tr>\n",
              "  </tbody>\n",
              "</table>\n",
              "</div>\n",
              "      <button class=\"colab-df-convert\" onclick=\"convertToInteractive('df-ac2544a6-6c7f-4081-b95a-7e3299b17042')\"\n",
              "              title=\"Convert this dataframe to an interactive table.\"\n",
              "              style=\"display:none;\">\n",
              "        \n",
              "  <svg xmlns=\"http://www.w3.org/2000/svg\" height=\"24px\"viewBox=\"0 0 24 24\"\n",
              "       width=\"24px\">\n",
              "    <path d=\"M0 0h24v24H0V0z\" fill=\"none\"/>\n",
              "    <path d=\"M18.56 5.44l.94 2.06.94-2.06 2.06-.94-2.06-.94-.94-2.06-.94 2.06-2.06.94zm-11 1L8.5 8.5l.94-2.06 2.06-.94-2.06-.94L8.5 2.5l-.94 2.06-2.06.94zm10 10l.94 2.06.94-2.06 2.06-.94-2.06-.94-.94-2.06-.94 2.06-2.06.94z\"/><path d=\"M17.41 7.96l-1.37-1.37c-.4-.4-.92-.59-1.43-.59-.52 0-1.04.2-1.43.59L10.3 9.45l-7.72 7.72c-.78.78-.78 2.05 0 2.83L4 21.41c.39.39.9.59 1.41.59.51 0 1.02-.2 1.41-.59l7.78-7.78 2.81-2.81c.8-.78.8-2.07 0-2.86zM5.41 20L4 18.59l7.72-7.72 1.47 1.35L5.41 20z\"/>\n",
              "  </svg>\n",
              "      </button>\n",
              "      \n",
              "  <style>\n",
              "    .colab-df-container {\n",
              "      display:flex;\n",
              "      flex-wrap:wrap;\n",
              "      gap: 12px;\n",
              "    }\n",
              "\n",
              "    .colab-df-convert {\n",
              "      background-color: #E8F0FE;\n",
              "      border: none;\n",
              "      border-radius: 50%;\n",
              "      cursor: pointer;\n",
              "      display: none;\n",
              "      fill: #1967D2;\n",
              "      height: 32px;\n",
              "      padding: 0 0 0 0;\n",
              "      width: 32px;\n",
              "    }\n",
              "\n",
              "    .colab-df-convert:hover {\n",
              "      background-color: #E2EBFA;\n",
              "      box-shadow: 0px 1px 2px rgba(60, 64, 67, 0.3), 0px 1px 3px 1px rgba(60, 64, 67, 0.15);\n",
              "      fill: #174EA6;\n",
              "    }\n",
              "\n",
              "    [theme=dark] .colab-df-convert {\n",
              "      background-color: #3B4455;\n",
              "      fill: #D2E3FC;\n",
              "    }\n",
              "\n",
              "    [theme=dark] .colab-df-convert:hover {\n",
              "      background-color: #434B5C;\n",
              "      box-shadow: 0px 1px 3px 1px rgba(0, 0, 0, 0.15);\n",
              "      filter: drop-shadow(0px 1px 2px rgba(0, 0, 0, 0.3));\n",
              "      fill: #FFFFFF;\n",
              "    }\n",
              "  </style>\n",
              "\n",
              "      <script>\n",
              "        const buttonEl =\n",
              "          document.querySelector('#df-ac2544a6-6c7f-4081-b95a-7e3299b17042 button.colab-df-convert');\n",
              "        buttonEl.style.display =\n",
              "          google.colab.kernel.accessAllowed ? 'block' : 'none';\n",
              "\n",
              "        async function convertToInteractive(key) {\n",
              "          const element = document.querySelector('#df-ac2544a6-6c7f-4081-b95a-7e3299b17042');\n",
              "          const dataTable =\n",
              "            await google.colab.kernel.invokeFunction('convertToInteractive',\n",
              "                                                     [key], {});\n",
              "          if (!dataTable) return;\n",
              "\n",
              "          const docLinkHtml = 'Like what you see? Visit the ' +\n",
              "            '<a target=\"_blank\" href=https://colab.research.google.com/notebooks/data_table.ipynb>data table notebook</a>'\n",
              "            + ' to learn more about interactive tables.';\n",
              "          element.innerHTML = '';\n",
              "          dataTable['output_type'] = 'display_data';\n",
              "          await google.colab.output.renderOutput(dataTable, element);\n",
              "          const docLink = document.createElement('div');\n",
              "          docLink.innerHTML = docLinkHtml;\n",
              "          element.appendChild(docLink);\n",
              "        }\n",
              "      </script>\n",
              "    </div>\n",
              "  </div>\n",
              "  "
            ]
          },
          "metadata": {},
          "execution_count": 7
        }
      ]
    },
    {
      "cell_type": "code",
      "source": [
        "from sklearn.model_selection import train_test_split\n",
        "df2_1, df2_2 = train_test_split(df2, test_size=0.14)\n",
        "# df2_2.head()\n",
        "print(df2_2.shape)"
      ],
      "metadata": {
        "colab": {
          "base_uri": "https://localhost:8080/"
        },
        "id": "nHDkuDuUzPyG",
        "outputId": "007e2e97-e86d-42b4-ac51-6ecb2cd110ed"
      },
      "execution_count": null,
      "outputs": [
        {
          "output_type": "stream",
          "name": "stdout",
          "text": [
            "(1054, 4)\n"
          ]
        }
      ]
    },
    {
      "cell_type": "code",
      "source": [
        "df_final = pd.concat([df1, df2_2])\n",
        "df_final.head()"
      ],
      "metadata": {
        "colab": {
          "base_uri": "https://localhost:8080/",
          "height": 206
        },
        "id": "WrIyKvVTwUjb",
        "outputId": "dbcd08e0-f438-485a-f03b-124c74a02d34"
      },
      "execution_count": null,
      "outputs": [
        {
          "output_type": "execute_result",
          "data": {
            "text/plain": [
              "    Smu1.Time[1][1]      CS_I         LFS_I label\n",
              "70        10.217509  0.000998  8.889230e-07  blue\n",
              "71        10.358471  0.001006  9.172311e-07  blue\n",
              "72        10.499423  0.001011  9.274987e-07  blue\n",
              "73        10.640380  0.001013  9.339539e-07  blue\n",
              "74        10.781315  0.001015  9.374622e-07  blue"
            ],
            "text/html": [
              "\n",
              "  <div id=\"df-f9939b30-48ec-4100-9bfc-635933118553\">\n",
              "    <div class=\"colab-df-container\">\n",
              "      <div>\n",
              "<style scoped>\n",
              "    .dataframe tbody tr th:only-of-type {\n",
              "        vertical-align: middle;\n",
              "    }\n",
              "\n",
              "    .dataframe tbody tr th {\n",
              "        vertical-align: top;\n",
              "    }\n",
              "\n",
              "    .dataframe thead th {\n",
              "        text-align: right;\n",
              "    }\n",
              "</style>\n",
              "<table border=\"1\" class=\"dataframe\">\n",
              "  <thead>\n",
              "    <tr style=\"text-align: right;\">\n",
              "      <th></th>\n",
              "      <th>Smu1.Time[1][1]</th>\n",
              "      <th>CS_I</th>\n",
              "      <th>LFS_I</th>\n",
              "      <th>label</th>\n",
              "    </tr>\n",
              "  </thead>\n",
              "  <tbody>\n",
              "    <tr>\n",
              "      <th>70</th>\n",
              "      <td>10.217509</td>\n",
              "      <td>0.000998</td>\n",
              "      <td>8.889230e-07</td>\n",
              "      <td>blue</td>\n",
              "    </tr>\n",
              "    <tr>\n",
              "      <th>71</th>\n",
              "      <td>10.358471</td>\n",
              "      <td>0.001006</td>\n",
              "      <td>9.172311e-07</td>\n",
              "      <td>blue</td>\n",
              "    </tr>\n",
              "    <tr>\n",
              "      <th>72</th>\n",
              "      <td>10.499423</td>\n",
              "      <td>0.001011</td>\n",
              "      <td>9.274987e-07</td>\n",
              "      <td>blue</td>\n",
              "    </tr>\n",
              "    <tr>\n",
              "      <th>73</th>\n",
              "      <td>10.640380</td>\n",
              "      <td>0.001013</td>\n",
              "      <td>9.339539e-07</td>\n",
              "      <td>blue</td>\n",
              "    </tr>\n",
              "    <tr>\n",
              "      <th>74</th>\n",
              "      <td>10.781315</td>\n",
              "      <td>0.001015</td>\n",
              "      <td>9.374622e-07</td>\n",
              "      <td>blue</td>\n",
              "    </tr>\n",
              "  </tbody>\n",
              "</table>\n",
              "</div>\n",
              "      <button class=\"colab-df-convert\" onclick=\"convertToInteractive('df-f9939b30-48ec-4100-9bfc-635933118553')\"\n",
              "              title=\"Convert this dataframe to an interactive table.\"\n",
              "              style=\"display:none;\">\n",
              "        \n",
              "  <svg xmlns=\"http://www.w3.org/2000/svg\" height=\"24px\"viewBox=\"0 0 24 24\"\n",
              "       width=\"24px\">\n",
              "    <path d=\"M0 0h24v24H0V0z\" fill=\"none\"/>\n",
              "    <path d=\"M18.56 5.44l.94 2.06.94-2.06 2.06-.94-2.06-.94-.94-2.06-.94 2.06-2.06.94zm-11 1L8.5 8.5l.94-2.06 2.06-.94-2.06-.94L8.5 2.5l-.94 2.06-2.06.94zm10 10l.94 2.06.94-2.06 2.06-.94-2.06-.94-.94-2.06-.94 2.06-2.06.94z\"/><path d=\"M17.41 7.96l-1.37-1.37c-.4-.4-.92-.59-1.43-.59-.52 0-1.04.2-1.43.59L10.3 9.45l-7.72 7.72c-.78.78-.78 2.05 0 2.83L4 21.41c.39.39.9.59 1.41.59.51 0 1.02-.2 1.41-.59l7.78-7.78 2.81-2.81c.8-.78.8-2.07 0-2.86zM5.41 20L4 18.59l7.72-7.72 1.47 1.35L5.41 20z\"/>\n",
              "  </svg>\n",
              "      </button>\n",
              "      \n",
              "  <style>\n",
              "    .colab-df-container {\n",
              "      display:flex;\n",
              "      flex-wrap:wrap;\n",
              "      gap: 12px;\n",
              "    }\n",
              "\n",
              "    .colab-df-convert {\n",
              "      background-color: #E8F0FE;\n",
              "      border: none;\n",
              "      border-radius: 50%;\n",
              "      cursor: pointer;\n",
              "      display: none;\n",
              "      fill: #1967D2;\n",
              "      height: 32px;\n",
              "      padding: 0 0 0 0;\n",
              "      width: 32px;\n",
              "    }\n",
              "\n",
              "    .colab-df-convert:hover {\n",
              "      background-color: #E2EBFA;\n",
              "      box-shadow: 0px 1px 2px rgba(60, 64, 67, 0.3), 0px 1px 3px 1px rgba(60, 64, 67, 0.15);\n",
              "      fill: #174EA6;\n",
              "    }\n",
              "\n",
              "    [theme=dark] .colab-df-convert {\n",
              "      background-color: #3B4455;\n",
              "      fill: #D2E3FC;\n",
              "    }\n",
              "\n",
              "    [theme=dark] .colab-df-convert:hover {\n",
              "      background-color: #434B5C;\n",
              "      box-shadow: 0px 1px 3px 1px rgba(0, 0, 0, 0.15);\n",
              "      filter: drop-shadow(0px 1px 2px rgba(0, 0, 0, 0.3));\n",
              "      fill: #FFFFFF;\n",
              "    }\n",
              "  </style>\n",
              "\n",
              "      <script>\n",
              "        const buttonEl =\n",
              "          document.querySelector('#df-f9939b30-48ec-4100-9bfc-635933118553 button.colab-df-convert');\n",
              "        buttonEl.style.display =\n",
              "          google.colab.kernel.accessAllowed ? 'block' : 'none';\n",
              "\n",
              "        async function convertToInteractive(key) {\n",
              "          const element = document.querySelector('#df-f9939b30-48ec-4100-9bfc-635933118553');\n",
              "          const dataTable =\n",
              "            await google.colab.kernel.invokeFunction('convertToInteractive',\n",
              "                                                     [key], {});\n",
              "          if (!dataTable) return;\n",
              "\n",
              "          const docLinkHtml = 'Like what you see? Visit the ' +\n",
              "            '<a target=\"_blank\" href=https://colab.research.google.com/notebooks/data_table.ipynb>data table notebook</a>'\n",
              "            + ' to learn more about interactive tables.';\n",
              "          element.innerHTML = '';\n",
              "          dataTable['output_type'] = 'display_data';\n",
              "          await google.colab.output.renderOutput(dataTable, element);\n",
              "          const docLink = document.createElement('div');\n",
              "          docLink.innerHTML = docLinkHtml;\n",
              "          element.appendChild(docLink);\n",
              "        }\n",
              "      </script>\n",
              "    </div>\n",
              "  </div>\n",
              "  "
            ]
          },
          "metadata": {},
          "execution_count": 9
        }
      ]
    },
    {
      "cell_type": "code",
      "source": [
        "print(df1.shape)\n",
        "print(df2.shape)\n",
        "print(df2_1.shape)\n",
        "print(df2_2.shape)\n",
        "print(df_final.shape)"
      ],
      "metadata": {
        "colab": {
          "base_uri": "https://localhost:8080/"
        },
        "id": "nY2Sw-XGwzD6",
        "outputId": "0cc0526b-171b-4f47-f125-b320bab6215b"
      },
      "execution_count": null,
      "outputs": [
        {
          "output_type": "stream",
          "name": "stdout",
          "text": [
            "(7286, 4)\n",
            "(7522, 4)\n",
            "(6468, 4)\n",
            "(1054, 4)\n",
            "(8340, 4)\n"
          ]
        }
      ]
    },
    {
      "cell_type": "code",
      "source": [
        "X = df_final.drop(['Smu1.Time[1][1]', 'label'], axis=1)\n",
        "X.head()"
      ],
      "metadata": {
        "colab": {
          "base_uri": "https://localhost:8080/",
          "height": 206
        },
        "id": "tD19fqk0u82h",
        "outputId": "7642b47c-4c1b-4e62-adc0-f953623ff56f"
      },
      "execution_count": null,
      "outputs": [
        {
          "output_type": "execute_result",
          "data": {
            "text/plain": [
              "        CS_I         LFS_I\n",
              "70  0.000998  8.889230e-07\n",
              "71  0.001006  9.172311e-07\n",
              "72  0.001011  9.274987e-07\n",
              "73  0.001013  9.339539e-07\n",
              "74  0.001015  9.374622e-07"
            ],
            "text/html": [
              "\n",
              "  <div id=\"df-7d591d1e-e42f-4fdc-b3ba-ed0dd9ac020c\">\n",
              "    <div class=\"colab-df-container\">\n",
              "      <div>\n",
              "<style scoped>\n",
              "    .dataframe tbody tr th:only-of-type {\n",
              "        vertical-align: middle;\n",
              "    }\n",
              "\n",
              "    .dataframe tbody tr th {\n",
              "        vertical-align: top;\n",
              "    }\n",
              "\n",
              "    .dataframe thead th {\n",
              "        text-align: right;\n",
              "    }\n",
              "</style>\n",
              "<table border=\"1\" class=\"dataframe\">\n",
              "  <thead>\n",
              "    <tr style=\"text-align: right;\">\n",
              "      <th></th>\n",
              "      <th>CS_I</th>\n",
              "      <th>LFS_I</th>\n",
              "    </tr>\n",
              "  </thead>\n",
              "  <tbody>\n",
              "    <tr>\n",
              "      <th>70</th>\n",
              "      <td>0.000998</td>\n",
              "      <td>8.889230e-07</td>\n",
              "    </tr>\n",
              "    <tr>\n",
              "      <th>71</th>\n",
              "      <td>0.001006</td>\n",
              "      <td>9.172311e-07</td>\n",
              "    </tr>\n",
              "    <tr>\n",
              "      <th>72</th>\n",
              "      <td>0.001011</td>\n",
              "      <td>9.274987e-07</td>\n",
              "    </tr>\n",
              "    <tr>\n",
              "      <th>73</th>\n",
              "      <td>0.001013</td>\n",
              "      <td>9.339539e-07</td>\n",
              "    </tr>\n",
              "    <tr>\n",
              "      <th>74</th>\n",
              "      <td>0.001015</td>\n",
              "      <td>9.374622e-07</td>\n",
              "    </tr>\n",
              "  </tbody>\n",
              "</table>\n",
              "</div>\n",
              "      <button class=\"colab-df-convert\" onclick=\"convertToInteractive('df-7d591d1e-e42f-4fdc-b3ba-ed0dd9ac020c')\"\n",
              "              title=\"Convert this dataframe to an interactive table.\"\n",
              "              style=\"display:none;\">\n",
              "        \n",
              "  <svg xmlns=\"http://www.w3.org/2000/svg\" height=\"24px\"viewBox=\"0 0 24 24\"\n",
              "       width=\"24px\">\n",
              "    <path d=\"M0 0h24v24H0V0z\" fill=\"none\"/>\n",
              "    <path d=\"M18.56 5.44l.94 2.06.94-2.06 2.06-.94-2.06-.94-.94-2.06-.94 2.06-2.06.94zm-11 1L8.5 8.5l.94-2.06 2.06-.94-2.06-.94L8.5 2.5l-.94 2.06-2.06.94zm10 10l.94 2.06.94-2.06 2.06-.94-2.06-.94-.94-2.06-.94 2.06-2.06.94z\"/><path d=\"M17.41 7.96l-1.37-1.37c-.4-.4-.92-.59-1.43-.59-.52 0-1.04.2-1.43.59L10.3 9.45l-7.72 7.72c-.78.78-.78 2.05 0 2.83L4 21.41c.39.39.9.59 1.41.59.51 0 1.02-.2 1.41-.59l7.78-7.78 2.81-2.81c.8-.78.8-2.07 0-2.86zM5.41 20L4 18.59l7.72-7.72 1.47 1.35L5.41 20z\"/>\n",
              "  </svg>\n",
              "      </button>\n",
              "      \n",
              "  <style>\n",
              "    .colab-df-container {\n",
              "      display:flex;\n",
              "      flex-wrap:wrap;\n",
              "      gap: 12px;\n",
              "    }\n",
              "\n",
              "    .colab-df-convert {\n",
              "      background-color: #E8F0FE;\n",
              "      border: none;\n",
              "      border-radius: 50%;\n",
              "      cursor: pointer;\n",
              "      display: none;\n",
              "      fill: #1967D2;\n",
              "      height: 32px;\n",
              "      padding: 0 0 0 0;\n",
              "      width: 32px;\n",
              "    }\n",
              "\n",
              "    .colab-df-convert:hover {\n",
              "      background-color: #E2EBFA;\n",
              "      box-shadow: 0px 1px 2px rgba(60, 64, 67, 0.3), 0px 1px 3px 1px rgba(60, 64, 67, 0.15);\n",
              "      fill: #174EA6;\n",
              "    }\n",
              "\n",
              "    [theme=dark] .colab-df-convert {\n",
              "      background-color: #3B4455;\n",
              "      fill: #D2E3FC;\n",
              "    }\n",
              "\n",
              "    [theme=dark] .colab-df-convert:hover {\n",
              "      background-color: #434B5C;\n",
              "      box-shadow: 0px 1px 3px 1px rgba(0, 0, 0, 0.15);\n",
              "      filter: drop-shadow(0px 1px 2px rgba(0, 0, 0, 0.3));\n",
              "      fill: #FFFFFF;\n",
              "    }\n",
              "  </style>\n",
              "\n",
              "      <script>\n",
              "        const buttonEl =\n",
              "          document.querySelector('#df-7d591d1e-e42f-4fdc-b3ba-ed0dd9ac020c button.colab-df-convert');\n",
              "        buttonEl.style.display =\n",
              "          google.colab.kernel.accessAllowed ? 'block' : 'none';\n",
              "\n",
              "        async function convertToInteractive(key) {\n",
              "          const element = document.querySelector('#df-7d591d1e-e42f-4fdc-b3ba-ed0dd9ac020c');\n",
              "          const dataTable =\n",
              "            await google.colab.kernel.invokeFunction('convertToInteractive',\n",
              "                                                     [key], {});\n",
              "          if (!dataTable) return;\n",
              "\n",
              "          const docLinkHtml = 'Like what you see? Visit the ' +\n",
              "            '<a target=\"_blank\" href=https://colab.research.google.com/notebooks/data_table.ipynb>data table notebook</a>'\n",
              "            + ' to learn more about interactive tables.';\n",
              "          element.innerHTML = '';\n",
              "          dataTable['output_type'] = 'display_data';\n",
              "          await google.colab.output.renderOutput(dataTable, element);\n",
              "          const docLink = document.createElement('div');\n",
              "          docLink.innerHTML = docLinkHtml;\n",
              "          element.appendChild(docLink);\n",
              "        }\n",
              "      </script>\n",
              "    </div>\n",
              "  </div>\n",
              "  "
            ]
          },
          "metadata": {},
          "execution_count": 11
        }
      ]
    },
    {
      "cell_type": "code",
      "source": [
        "y = df_final['label']\n",
        "y.head()"
      ],
      "metadata": {
        "colab": {
          "base_uri": "https://localhost:8080/"
        },
        "id": "5O467pnyu8z8",
        "outputId": "16716499-2e31-41dc-a616-fca4d9c04475"
      },
      "execution_count": null,
      "outputs": [
        {
          "output_type": "execute_result",
          "data": {
            "text/plain": [
              "70    blue\n",
              "71    blue\n",
              "72    blue\n",
              "73    blue\n",
              "74    blue\n",
              "Name: label, dtype: object"
            ]
          },
          "metadata": {},
          "execution_count": 12
        }
      ]
    },
    {
      "cell_type": "code",
      "source": [
        "from sklearn.model_selection import train_test_split\n",
        "X_train, X_test, y_train, y_test = train_test_split(X,y,test_size=0.2)\n",
        "# X_train, X_test, y_train, y_test = train_test_split(X,y,test_size=0.2, random_state = 30)"
      ],
      "metadata": {
        "id": "YjdLFOqHu8wo"
      },
      "execution_count": null,
      "outputs": []
    },
    {
      "cell_type": "code",
      "source": [
        "print(len(X_train))\n",
        "print(len(X_test))"
      ],
      "metadata": {
        "colab": {
          "base_uri": "https://localhost:8080/"
        },
        "id": "ZFGUkeOQzCQV",
        "outputId": "4d0ab3f2-36de-450c-a9ab-9d77b4e1eed3"
      },
      "execution_count": null,
      "outputs": [
        {
          "output_type": "stream",
          "name": "stdout",
          "text": [
            "6672\n",
            "1668\n"
          ]
        }
      ]
    },
    {
      "cell_type": "code",
      "source": [
        "from sklearn.ensemble import RandomForestClassifier\n",
        "score = []\n",
        "for i in range(1, 100):\n",
        "  model = RandomForestClassifier(n_estimators=i)\n",
        "  model.fit(X_train, y_train)\n",
        "  score.append(model.score(X_test, y_test))"
      ],
      "metadata": {
        "id": "Mw7oWYRrxHjt"
      },
      "execution_count": null,
      "outputs": []
    },
    {
      "cell_type": "code",
      "source": [
        "score"
      ],
      "metadata": {
        "colab": {
          "base_uri": "https://localhost:8080/"
        },
        "id": "yRKGa2uuRPJQ",
        "outputId": "12ef4ba9-1f9c-4f16-e42c-4024cc75dcec"
      },
      "execution_count": null,
      "outputs": [
        {
          "output_type": "execute_result",
          "data": {
            "text/plain": [
              "[0.8711031175059952,\n",
              " 0.999400479616307,\n",
              " 0.8723021582733813,\n",
              " 0.999400479616307,\n",
              " 0.999400479616307,\n",
              " 1.0,\n",
              " 1.0,\n",
              " 0.999400479616307,\n",
              " 0.999400479616307,\n",
              " 0.999400479616307,\n",
              " 0.999400479616307,\n",
              " 0.999400479616307,\n",
              " 0.999400479616307,\n",
              " 0.999400479616307,\n",
              " 0.999400479616307,\n",
              " 0.999400479616307,\n",
              " 0.999400479616307,\n",
              " 0.999400479616307,\n",
              " 1.0,\n",
              " 0.999400479616307,\n",
              " 0.999400479616307,\n",
              " 0.999400479616307,\n",
              " 0.999400479616307,\n",
              " 0.999400479616307,\n",
              " 0.999400479616307,\n",
              " 0.999400479616307,\n",
              " 0.999400479616307,\n",
              " 0.999400479616307,\n",
              " 0.999400479616307,\n",
              " 0.999400479616307,\n",
              " 0.999400479616307,\n",
              " 0.999400479616307,\n",
              " 0.999400479616307,\n",
              " 0.999400479616307,\n",
              " 0.999400479616307,\n",
              " 0.999400479616307,\n",
              " 0.999400479616307,\n",
              " 0.999400479616307,\n",
              " 0.999400479616307,\n",
              " 0.999400479616307,\n",
              " 0.999400479616307,\n",
              " 0.999400479616307,\n",
              " 0.999400479616307,\n",
              " 0.999400479616307,\n",
              " 0.999400479616307,\n",
              " 0.999400479616307,\n",
              " 0.999400479616307,\n",
              " 0.999400479616307,\n",
              " 0.999400479616307,\n",
              " 0.999400479616307,\n",
              " 0.999400479616307,\n",
              " 0.999400479616307,\n",
              " 0.999400479616307,\n",
              " 0.999400479616307,\n",
              " 0.999400479616307,\n",
              " 0.999400479616307,\n",
              " 0.999400479616307,\n",
              " 0.999400479616307,\n",
              " 0.999400479616307,\n",
              " 0.999400479616307,\n",
              " 0.999400479616307,\n",
              " 0.999400479616307,\n",
              " 0.999400479616307,\n",
              " 0.999400479616307,\n",
              " 0.999400479616307,\n",
              " 0.999400479616307,\n",
              " 0.999400479616307,\n",
              " 0.999400479616307,\n",
              " 0.999400479616307,\n",
              " 0.999400479616307,\n",
              " 0.999400479616307,\n",
              " 0.999400479616307,\n",
              " 0.999400479616307,\n",
              " 0.999400479616307,\n",
              " 0.999400479616307,\n",
              " 0.999400479616307,\n",
              " 0.999400479616307,\n",
              " 0.999400479616307,\n",
              " 0.999400479616307,\n",
              " 0.999400479616307,\n",
              " 0.999400479616307,\n",
              " 0.999400479616307,\n",
              " 0.999400479616307,\n",
              " 0.999400479616307,\n",
              " 0.999400479616307,\n",
              " 0.999400479616307,\n",
              " 0.999400479616307,\n",
              " 0.999400479616307,\n",
              " 0.999400479616307,\n",
              " 0.999400479616307,\n",
              " 0.999400479616307,\n",
              " 0.999400479616307,\n",
              " 0.999400479616307,\n",
              " 0.999400479616307,\n",
              " 0.999400479616307,\n",
              " 0.999400479616307,\n",
              " 0.999400479616307,\n",
              " 0.999400479616307,\n",
              " 0.999400479616307]"
            ]
          },
          "metadata": {},
          "execution_count": 16
        }
      ]
    },
    {
      "cell_type": "code",
      "source": [
        "model.score(X_test, y_test)"
      ],
      "metadata": {
        "colab": {
          "base_uri": "https://localhost:8080/"
        },
        "id": "5y0PQoPhxHgf",
        "outputId": "d0c116b5-c013-4bb9-89ef-9b478abe97a2"
      },
      "execution_count": null,
      "outputs": [
        {
          "output_type": "execute_result",
          "data": {
            "text/plain": [
              "0.999400479616307"
            ]
          },
          "metadata": {},
          "execution_count": 17
        }
      ]
    },
    {
      "cell_type": "code",
      "source": [
        "y_predicted = model.predict(X_test)"
      ],
      "metadata": {
        "id": "j2IYn3wxxHdl"
      },
      "execution_count": null,
      "outputs": []
    },
    {
      "cell_type": "code",
      "source": [
        "y_test.head()"
      ],
      "metadata": {
        "colab": {
          "base_uri": "https://localhost:8080/"
        },
        "id": "v7WgtT8dyzzk",
        "outputId": "fc63be9b-7aad-4c63-c429-c1afe246185b"
      },
      "execution_count": null,
      "outputs": [
        {
          "output_type": "execute_result",
          "data": {
            "text/plain": [
              "10322       UV\n",
              "906       blue\n",
              "14764    UBGRI\n",
              "2051      blue\n",
              "12236       IR\n",
              "Name: label, dtype: object"
            ]
          },
          "metadata": {},
          "execution_count": 19
        }
      ]
    },
    {
      "cell_type": "code",
      "source": [
        "# y_test[0] - error\n",
        "y_test[0:10]"
      ],
      "metadata": {
        "colab": {
          "base_uri": "https://localhost:8080/"
        },
        "id": "3uJbwWnUx2uo",
        "outputId": "f67ab280-c3da-4924-b69f-09c04a352c14"
      },
      "execution_count": null,
      "outputs": [
        {
          "output_type": "execute_result",
          "data": {
            "text/plain": [
              "10322       UV\n",
              "906       blue\n",
              "14764    UBGRI\n",
              "2051      blue\n",
              "12236       IR\n",
              "12259       IR\n",
              "4564     green\n",
              "5005     green\n",
              "7568       red\n",
              "11244       IR\n",
              "Name: label, dtype: object"
            ]
          },
          "metadata": {},
          "execution_count": 20
        }
      ]
    },
    {
      "cell_type": "code",
      "source": [
        "y_predicted[0:10]"
      ],
      "metadata": {
        "colab": {
          "base_uri": "https://localhost:8080/"
        },
        "id": "KymLdGTr0U7J",
        "outputId": "2a9a6171-4617-425e-c538-30fe93bb0173"
      },
      "execution_count": null,
      "outputs": [
        {
          "output_type": "execute_result",
          "data": {
            "text/plain": [
              "array(['UV', 'blue', 'UBGRI', 'blue', 'IR', 'IR', 'green', 'green', 'red',\n",
              "       'IR'], dtype=object)"
            ]
          },
          "metadata": {},
          "execution_count": 21
        }
      ]
    },
    {
      "cell_type": "code",
      "source": [
        "# Confusion Matrix\n",
        "from sklearn.metrics import confusion_matrix\n",
        "cm = confusion_matrix(y_test, y_predicted)\n",
        "cm"
      ],
      "metadata": {
        "colab": {
          "base_uri": "https://localhost:8080/"
        },
        "id": "pj2oKewKxHay",
        "outputId": "2d5a73a9-d780-43bf-b2ba-5f7b84894d93"
      },
      "execution_count": null,
      "outputs": [
        {
          "output_type": "execute_result",
          "data": {
            "text/plain": [
              "array([[208,   0,   0,   0,   0,   0,   0,   0],\n",
              "       [  0, 210,   0,   0,   0,   0,   0,   0],\n",
              "       [  0,   0, 195,   0,   0,   0,   0,   0],\n",
              "       [  0,   0,   0, 214,   0,   0,   0,   0],\n",
              "       [  0,   0,   0,   0, 194,   0,   0,   0],\n",
              "       [  0,   0,   0,   0,   0, 238,   0,   1],\n",
              "       [  0,   0,   0,   0,   0,   0, 195,   0],\n",
              "       [  0,   0,   0,   0,   0,   0,   0, 213]])"
            ]
          },
          "metadata": {},
          "execution_count": 22
        }
      ]
    },
    {
      "cell_type": "code",
      "source": [
        "%matplotlib inline\n",
        "import matplotlib.pyplot as plt\n",
        "import seaborn as sn\n",
        "plt.figure(figsize=(10,7))\n",
        "# sn.heatmap(cm, annot=True)\n",
        "sn.heatmap(cm, annot=True, fmt = 'g')\n",
        "plt.xlabel('Predicted')\n",
        "plt.ylabel('Truth')"
      ],
      "metadata": {
        "colab": {
          "base_uri": "https://localhost:8080/",
          "height": 459
        },
        "id": "xhTzLQkZxYHo",
        "outputId": "5b7a8e49-96a9-4266-e334-5f39adba8708"
      },
      "execution_count": null,
      "outputs": [
        {
          "output_type": "execute_result",
          "data": {
            "text/plain": [
              "Text(69.0, 0.5, 'Truth')"
            ]
          },
          "metadata": {},
          "execution_count": 23
        },
        {
          "output_type": "display_data",
          "data": {
            "text/plain": [
              "<Figure size 720x504 with 2 Axes>"
            ],
            "image/png": "[encoded data removed]"
          },
          "metadata": {
            "needs_background": "light"
          }
        }
      ]
    },
    {
      "cell_type": "code",
      "source": [],
      "metadata": {
        "id": "lLLJsVFN2CRm"
      },
      "execution_count": null,
      "outputs": []
    },
    {
      "cell_type": "code",
      "source": [
        "# SVM\n",
        "from sklearn.svm import SVC\n",
        "model = SVC()"
      ],
      "metadata": {
        "id": "36xQs_khUjaD"
      },
      "execution_count": null,
      "outputs": []
    },
    {
      "cell_type": "code",
      "source": [
        "model.fit(X_train, y_train)"
      ],
      "metadata": {
        "colab": {
          "base_uri": "https://localhost:8080/"
        },
        "id": "FxHL_28IUjWs",
        "outputId": "17311029-e6a8-4017-f04f-2968a8151289"
      },
      "execution_count": null,
      "outputs": [
        {
          "output_type": "execute_result",
          "data": {
            "text/plain": [
              "SVC()"
            ]
          },
          "metadata": {},
          "execution_count": 25
        }
      ]
    },
    {
      "cell_type": "code",
      "source": [
        "model.score(X_test, y_test)"
      ],
      "metadata": {
        "colab": {
          "base_uri": "https://localhost:8080/"
        },
        "id": "-dFItytDUjTr",
        "outputId": "57b59bc7-cab7-479d-fb60-bde3732dd74a"
      },
      "execution_count": null,
      "outputs": [
        {
          "output_type": "execute_result",
          "data": {
            "text/plain": [
              "0.8735011990407674"
            ]
          },
          "metadata": {},
          "execution_count": 26
        }
      ]
    },
    {
      "cell_type": "code",
      "source": [
        "# Confusion Matrix\n",
        "from sklearn.metrics import confusion_matrix\n",
        "y_predicted = model.predict(X_test)\n",
        "cm = confusion_matrix(y_test, y_predicted)\n",
        "cm"
      ],
      "metadata": {
        "colab": {
          "base_uri": "https://localhost:8080/"
        },
        "id": "WfYH381WqU_6",
        "outputId": "ae1d0e07-d8b3-4e12-c517-859c97de7cbb"
      },
      "execution_count": null,
      "outputs": [
        {
          "output_type": "execute_result",
          "data": {
            "text/plain": [
              "array([[  0,   0,   0,   0,   0,   0, 208,   0],\n",
              "       [  0, 210,   0,   0,   0,   0,   0,   0],\n",
              "       [  0,   0, 195,   0,   0,   0,   0,   0],\n",
              "       [  0,   0,   2, 212,   0,   0,   0,   0],\n",
              "       [  0,   0,   0,   0, 194,   0,   0,   0],\n",
              "       [  0,   0,   1,   0,   0, 238,   0,   0],\n",
              "       [  0,   0,   0,   0,   0,   0, 195,   0],\n",
              "       [  0,   0,   0,   0,   0,   0,   0, 213]])"
            ]
          },
          "metadata": {},
          "execution_count": 27
        }
      ]
    },
    {
      "cell_type": "code",
      "source": [
        "%matplotlib inline\n",
        "import matplotlib.pyplot as plt\n",
        "import seaborn as sn\n",
        "plt.figure(figsize=(10,7))\n",
        "# sn.heatmap(cm, annot=True)\n",
        "sn.heatmap(cm, annot=True, fmt = 'g')\n",
        "plt.xlabel('Predicted')\n",
        "plt.ylabel('Truth')"
      ],
      "metadata": {
        "colab": {
          "base_uri": "https://localhost:8080/",
          "height": 459
        },
        "id": "zWdpamISqtDG",
        "outputId": "9bf972c7-b575-44fb-a648-991ab4964c3e"
      },
      "execution_count": null,
      "outputs": [
        {
          "output_type": "execute_result",
          "data": {
            "text/plain": [
              "Text(69.0, 0.5, 'Truth')"
            ]
          },
          "metadata": {},
          "execution_count": 28
        },
        {
          "output_type": "display_data",
          "data": {
            "text/plain": [
              "<Figure size 720x504 with 2 Axes>"
            ],
            "image/png": "[encoded data removed]"
          },
          "metadata": {
            "needs_background": "light"
          }
        }
      ]
    },
    {
      "cell_type": "code",
      "source": [
        "# Tune parameters\n",
        "\n",
        "# 1. Regularization (C)\n",
        "model_C = SVC(C=1)\n",
        "model_C.fit(X_train, y_train)\n",
        "model_C.score(X_test, y_test)"
      ],
      "metadata": {
        "colab": {
          "base_uri": "https://localhost:8080/"
        },
        "id": "pS-Wg7lBUspu",
        "outputId": "5d0c10ea-0ac9-4898-a914-b53967006c22"
      },
      "execution_count": null,
      "outputs": [
        {
          "output_type": "execute_result",
          "data": {
            "text/plain": [
              "0.8735011990407674"
            ]
          },
          "metadata": {},
          "execution_count": 29
        }
      ]
    },
    {
      "cell_type": "code",
      "source": [
        "model_C = SVC(C=10)\n",
        "model_C.fit(X_train, y_train)\n",
        "model_C.score(X_test, y_test)"
      ],
      "metadata": {
        "colab": {
          "base_uri": "https://localhost:8080/"
        },
        "id": "JmIKlSD-Usky",
        "outputId": "a0d73f5d-5a72-47bb-bccb-f3feaadc217d"
      },
      "execution_count": null,
      "outputs": [
        {
          "output_type": "execute_result",
          "data": {
            "text/plain": [
              "0.8735011990407674"
            ]
          },
          "metadata": {},
          "execution_count": 30
        }
      ]
    },
    {
      "cell_type": "code",
      "source": [
        "svm_score = []\n",
        "for i in range(1,20):\n",
        "  model_C = SVC(C=i)\n",
        "  model_C.fit(X_train, y_train)\n",
        "  svm_score.append(model_C.score(X_test, y_test))\n"
      ],
      "metadata": {
        "id": "GUOGjwx6VSq2"
      },
      "execution_count": null,
      "outputs": []
    },
    {
      "cell_type": "code",
      "source": [
        "svm_score"
      ],
      "metadata": {
        "colab": {
          "base_uri": "https://localhost:8080/"
        },
        "id": "7rY028pMVkp2",
        "outputId": "a79e29a1-dc9e-475a-c5e5-cc0e6cf5be31"
      },
      "execution_count": null,
      "outputs": [
        {
          "output_type": "execute_result",
          "data": {
            "text/plain": [
              "[0.8735011990407674,\n",
              " 0.8735011990407674,\n",
              " 0.8735011990407674,\n",
              " 0.8735011990407674,\n",
              " 0.8735011990407674,\n",
              " 0.8735011990407674,\n",
              " 0.8735011990407674,\n",
              " 0.8735011990407674,\n",
              " 0.8735011990407674,\n",
              " 0.8735011990407674,\n",
              " 0.8735011990407674,\n",
              " 0.8735011990407674,\n",
              " 0.8735011990407674,\n",
              " 0.8735011990407674,\n",
              " 0.8735011990407674,\n",
              " 0.8735011990407674,\n",
              " 0.8735011990407674,\n",
              " 0.8735011990407674,\n",
              " 0.8735011990407674]"
            ]
          },
          "metadata": {},
          "execution_count": 32
        }
      ]
    },
    {
      "cell_type": "code",
      "source": [
        "# 2. Gamma\n",
        "model_g = SVC(gamma=10)\n",
        "model_g.fit(X_train, y_train)\n",
        "model_g.score(X_test, y_test)"
      ],
      "metadata": {
        "colab": {
          "base_uri": "https://localhost:8080/"
        },
        "id": "IhXXCfA4U4ZB",
        "outputId": "9aba6ac8-9124-4148-92d4-31a008cb4075"
      },
      "execution_count": null,
      "outputs": [
        {
          "output_type": "execute_result",
          "data": {
            "text/plain": [
              "0.11690647482014388"
            ]
          },
          "metadata": {},
          "execution_count": 34
        }
      ]
    },
    {
      "cell_type": "code",
      "source": [
        "svm_score = []\n",
        "for i in range(1,20):\n",
        "  model_g = SVC(gamma=i)\n",
        "  model_g.fit(X_train, y_train)\n",
        "  svm_score.append(model_g.score(X_test, y_test))"
      ],
      "metadata": {
        "id": "EhyI09JFVv-X"
      },
      "execution_count": null,
      "outputs": []
    },
    {
      "cell_type": "code",
      "source": [
        "# print(svm_score)\n",
        "svm_score"
      ],
      "metadata": {
        "colab": {
          "base_uri": "https://localhost:8080/"
        },
        "id": "B84EpZekV8zY",
        "outputId": "6cb06dd9-ce08-4886-e6e7-ab5093982b28"
      },
      "execution_count": null,
      "outputs": [
        {
          "output_type": "execute_result",
          "data": {
            "text/plain": [
              "[0.11690647482014388,\n",
              " 0.11690647482014388,\n",
              " 0.11690647482014388,\n",
              " 0.11690647482014388,\n",
              " 0.11690647482014388,\n",
              " 0.11690647482014388,\n",
              " 0.11690647482014388,\n",
              " 0.11690647482014388,\n",
              " 0.11690647482014388,\n",
              " 0.11690647482014388,\n",
              " 0.11690647482014388,\n",
              " 0.11690647482014388,\n",
              " 0.11690647482014388,\n",
              " 0.23321342925659472,\n",
              " 0.23321342925659472,\n",
              " 0.23321342925659472,\n",
              " 0.23321342925659472,\n",
              " 0.23321342925659472,\n",
              " 0.23321342925659472]"
            ]
          },
          "metadata": {},
          "execution_count": 36
        }
      ]
    },
    {
      "cell_type": "code",
      "source": [
        "# 3. Kernel\n",
        "model_linear_kernal = SVC(kernel='linear')\n",
        "model_linear_kernal.fit(X_train, y_train)"
      ],
      "metadata": {
        "colab": {
          "base_uri": "https://localhost:8080/"
        },
        "id": "07hGnxYRU7Wq",
        "outputId": "dc0b13ee-cf34-4cd8-dea9-c05dae055b62"
      },
      "execution_count": null,
      "outputs": [
        {
          "output_type": "execute_result",
          "data": {
            "text/plain": [
              "SVC(kernel='linear')"
            ]
          },
          "metadata": {},
          "execution_count": 37
        }
      ]
    },
    {
      "cell_type": "code",
      "source": [
        "model_linear_kernal.score(X_test, y_test)"
      ],
      "metadata": {
        "colab": {
          "base_uri": "https://localhost:8080/"
        },
        "id": "EkyNTygMU7Tv",
        "outputId": "2f7eac2c-7c66-4ecb-9bbe-95ecdf94bb6c"
      },
      "execution_count": null,
      "outputs": [
        {
          "output_type": "execute_result",
          "data": {
            "text/plain": [
              "0.11690647482014388"
            ]
          },
          "metadata": {},
          "execution_count": 38
        }
      ]
    },
    {
      "cell_type": "code",
      "source": [
        "model_rbf_kernal = SVC(kernel='rbf')\n",
        "model_rbf_kernal.fit(X_train, y_train)"
      ],
      "metadata": {
        "colab": {
          "base_uri": "https://localhost:8080/"
        },
        "id": "FcG8H7m0VKMH",
        "outputId": "b4d924e7-ec08-4cb0-b000-389c213c0b03"
      },
      "execution_count": null,
      "outputs": [
        {
          "output_type": "execute_result",
          "data": {
            "text/plain": [
              "SVC()"
            ]
          },
          "metadata": {},
          "execution_count": 39
        }
      ]
    },
    {
      "cell_type": "code",
      "source": [
        "model_rbf_kernal.score(X_test, y_test)"
      ],
      "metadata": {
        "colab": {
          "base_uri": "https://localhost:8080/"
        },
        "id": "xH-Z7lxEVKIG",
        "outputId": "71a3987a-885f-414d-c5f1-ef578501fedd"
      },
      "execution_count": null,
      "outputs": [
        {
          "output_type": "execute_result",
          "data": {
            "text/plain": [
              "0.8735011990407674"
            ]
          },
          "metadata": {},
          "execution_count": 40
        }
      ]
    },
    {
      "cell_type": "code",
      "source": [],
      "metadata": {
        "id": "bMDqeRgyq8Fa"
      },
      "execution_count": null,
      "outputs": []
    },
    {
      "cell_type": "code",
      "source": [
        "# Create KNN (K Neighrest Neighbour Classifier)\n",
        "from sklearn.neighbors import KNeighborsClassifier\n",
        "knn = KNeighborsClassifier(n_neighbors=10)"
      ],
      "metadata": {
        "id": "ipJTG-3Bq8Bw"
      },
      "execution_count": null,
      "outputs": []
    },
    {
      "cell_type": "code",
      "source": [
        "knn.fit(X_train, y_train)"
      ],
      "metadata": {
        "colab": {
          "base_uri": "https://localhost:8080/"
        },
        "id": "TSOZb1osrDTn",
        "outputId": "b1ebc8fb-01f1-406e-9e87-c98582851d8e"
      },
      "execution_count": null,
      "outputs": [
        {
          "output_type": "execute_result",
          "data": {
            "text/plain": [
              "KNeighborsClassifier(n_neighbors=10)"
            ]
          },
          "metadata": {},
          "execution_count": 42
        }
      ]
    },
    {
      "cell_type": "code",
      "source": [
        "knn.score(X_test, y_test)"
      ],
      "metadata": {
        "colab": {
          "base_uri": "https://localhost:8080/"
        },
        "id": "aCwc9xAzrDP7",
        "outputId": "4764e28b-deb7-4126-de81-2a121ff2ec2a"
      },
      "execution_count": null,
      "outputs": [
        {
          "output_type": "execute_result",
          "data": {
            "text/plain": [
              "0.9982014388489209"
            ]
          },
          "metadata": {},
          "execution_count": 43
        }
      ]
    },
    {
      "cell_type": "code",
      "source": [
        "# Plot Confusion Matrix\n",
        "from sklearn.metrics import confusion_matrix\n",
        "y_pred = knn.predict(X_test)\n",
        "cm = confusion_matrix(y_test, y_pred)\n",
        "cm"
      ],
      "metadata": {
        "colab": {
          "base_uri": "https://localhost:8080/"
        },
        "id": "iuCakbarrDNI",
        "outputId": "d59be7ff-d683-40c7-cadb-e6307eb2deaa"
      },
      "execution_count": null,
      "outputs": [
        {
          "output_type": "execute_result",
          "data": {
            "text/plain": [
              "array([[208,   0,   0,   0,   0,   0,   0,   0],\n",
              "       [  0, 210,   0,   0,   0,   0,   0,   0],\n",
              "       [  0,   0, 195,   0,   0,   0,   0,   0],\n",
              "       [  0,   0,   1, 212,   0,   0,   0,   1],\n",
              "       [  0,   0,   0,   0, 194,   0,   0,   0],\n",
              "       [  0,   0,   0,   0,   0, 238,   0,   1],\n",
              "       [  0,   0,   0,   0,   0,   0, 195,   0],\n",
              "       [  0,   0,   0,   0,   0,   0,   0, 213]])"
            ]
          },
          "metadata": {},
          "execution_count": 44
        }
      ]
    },
    {
      "cell_type": "code",
      "source": [
        "%matplotlib inline\n",
        "import matplotlib.pyplot as plt\n",
        "import seaborn as sn\n",
        "plt.figure(figsize=(10,7))\n",
        "sn.heatmap(cm, annot=True, fmt='g')\n",
        "plt.xlabel('Predicted')\n",
        "plt.ylabel('Truth')"
      ],
      "metadata": {
        "colab": {
          "base_uri": "https://localhost:8080/",
          "height": 459
        },
        "id": "VN7llQN9XD5R",
        "outputId": "6ecbd409-7d3c-49f2-9629-eae7d3f4b3d8"
      },
      "execution_count": null,
      "outputs": [
        {
          "output_type": "execute_result",
          "data": {
            "text/plain": [
              "Text(69.0, 0.5, 'Truth')"
            ]
          },
          "metadata": {},
          "execution_count": 45
        },
        {
          "output_type": "display_data",
          "data": {
            "text/plain": [
              "<Figure size 720x504 with 2 Axes>"
            ],
            "image/png": "[encoded data removed]"
          },
          "metadata": {
            "needs_background": "light"
          }
        }
      ]
    },
    {
      "cell_type": "code",
      "source": [
        "knn_score = []\n",
        "for i in range(1,20):\n",
        "  knn = KNeighborsClassifier(n_neighbors=i)\n",
        "  knn.fit(X_train, y_train)\n",
        "  knn_score.append(knn.score(X_test, y_test))"
      ],
      "metadata": {
        "id": "LxzH7I7Ir8QC"
      },
      "execution_count": null,
      "outputs": []
    },
    {
      "cell_type": "code",
      "source": [
        "knn_score"
      ],
      "metadata": {
        "colab": {
          "base_uri": "https://localhost:8080/"
        },
        "id": "biRCLr8kr8Mn",
        "outputId": "b2782bb1-ab3b-46fe-9874-d16dbd666bb5"
      },
      "execution_count": null,
      "outputs": [
        {
          "output_type": "execute_result",
          "data": {
            "text/plain": [
              "[0.999400479616307,\n",
              " 0.9988009592326139,\n",
              " 0.9988009592326139,\n",
              " 0.9988009592326139,\n",
              " 0.9982014388489209,\n",
              " 0.9982014388489209,\n",
              " 0.9982014388489209,\n",
              " 0.9982014388489209,\n",
              " 0.9982014388489209,\n",
              " 0.9982014388489209,\n",
              " 0.9982014388489209,\n",
              " 0.9982014388489209,\n",
              " 0.9976019184652278,\n",
              " 0.9976019184652278,\n",
              " 0.9976019184652278,\n",
              " 0.9964028776978417,\n",
              " 0.9964028776978417,\n",
              " 0.9958033573141487,\n",
              " 0.9958033573141487]"
            ]
          },
          "metadata": {},
          "execution_count": 47
        }
      ]
    },
    {
      "cell_type": "code",
      "source": [],
      "metadata": {
        "id": "7Nh7pUqrr8J3"
      },
      "execution_count": null,
      "outputs": []
    },
    {
      "cell_type": "code",
      "source": [],
      "metadata": {
        "id": "uEVRKDVweEMb"
      },
      "execution_count": null,
      "outputs": []
    }
  ]
}