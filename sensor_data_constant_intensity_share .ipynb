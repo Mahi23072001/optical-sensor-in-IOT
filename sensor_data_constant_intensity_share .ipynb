{
  "nbformat": 4,
  "nbformat_minor": 0,
  "metadata": {
    "colab": {
      "provenance": []
    },
    "kernelspec": {
      "name": "python3",
      "display_name": "Python 3"
    },
    "language_info": {
      "name": "python"
    }
  },
  "cells": [
    {
      "cell_type": "markdown",
      "source": [
        "# COMMERCIAL SENSOR INTENSITY CONSTANT"
      ],
      "metadata": {
        "id": "8nLF1WoztQZz"
      }
    },
    {
      "cell_type": "code",
      "execution_count": null,
      "metadata": {
        "id": "JwrrZleKtNd9"
      },
      "outputs": [],
      "source": [
        "# Blue\n",
        "# Flashlight\n",
        "# Green\n",
        "# IR\n",
        "# Red\n",
        "# UV\n",
        "# AMBIENT"
      ]
    },
    {
      "cell_type": "code",
      "source": [
        "from google.colab import drive\n",
        "drive.mount('/content/drive')"
      ],
      "metadata": {
        "colab": {
          "base_uri": "https://localhost:8080/"
        },
        "id": "KNm_XPbWvqo7",
        "outputId": "f72ee598-6f0a-41e2-ca92-c45ace68961f"
      },
      "execution_count": null,
      "outputs": [
        {
          "output_type": "stream",
          "name": "stdout",
          "text": [
            "Mounted at /content/drive\n"
          ]
        }
      ]
    },
    {
      "cell_type": "code",
      "source": [
        "from sklearn.cluster import KMeans\n",
        "import pandas as pd\n",
        "from sklearn.preprocessing import MinMaxScaler\n",
        "from matplotlib import pyplot as plt\n",
        "%matplotlib inline"
      ],
      "metadata": {
        "id": "5zlIh91dtPYx"
      },
      "execution_count": null,
      "outputs": []
    },
    {
      "cell_type": "code",
      "source": [
        "df = pd.read_excel('/content/drive/MyDrive/sensor_data/COMMERCIAL_SENSOR/INT_CONST/intensity_constant.xlsx')\n",
        "df.head()"
      ],
      "metadata": {
        "colab": {
          "base_uri": "https://localhost:8080/",
          "height": 206
        },
        "id": "vGVLLWDVyVOf",
        "outputId": "7f3b261f-502c-47c8-eb80-34f48e4892a1"
      },
      "execution_count": null,
      "outputs": [
        {
          "output_type": "execute_result",
          "data": {
            "text/plain": [
              "   Item  Smu1.Time[1][1]  Smu1.V[1][1]      CS_I         LFS_I label on/off\n",
              "0   1.0         0.000000      3.999830  0.000008  2.487494e-07  blue    off\n",
              "1   2.0         0.140996      3.999805  0.000008  2.485853e-07  blue    off\n",
              "2   3.0         0.281961      3.999805  0.000008  2.484812e-07  blue    off\n",
              "3   4.0         0.422915      3.999813  0.000008  2.481225e-07  blue    off\n",
              "4   5.0         0.563879      3.999809  0.000007  2.482383e-07  blue    off"
            ],
            "text/html": [
              "\n",
              "  <div id=\"df-86dadeae-c775-4c26-9791-a0ea9fac951c\">\n",
              "    <div class=\"colab-df-container\">\n",
              "      <div>\n",
              "<style scoped>\n",
              "    .dataframe tbody tr th:only-of-type {\n",
              "        vertical-align: middle;\n",
              "    }\n",
              "\n",
              "    .dataframe tbody tr th {\n",
              "        vertical-align: top;\n",
              "    }\n",
              "\n",
              "    .dataframe thead th {\n",
              "        text-align: right;\n",
              "    }\n",
              "</style>\n",
              "<table border=\"1\" class=\"dataframe\">\n",
              "  <thead>\n",
              "    <tr style=\"text-align: right;\">\n",
              "      <th></th>\n",
              "      <th>Item</th>\n",
              "      <th>Smu1.Time[1][1]</th>\n",
              "      <th>Smu1.V[1][1]</th>\n",
              "      <th>CS_I</th>\n",
              "      <th>LFS_I</th>\n",
              "      <th>label</th>\n",
              "      <th>on/off</th>\n",
              "    </tr>\n",
              "  </thead>\n",
              "  <tbody>\n",
              "    <tr>\n",
              "      <th>0</th>\n",
              "      <td>1.0</td>\n",
              "      <td>0.000000</td>\n",
              "      <td>3.999830</td>\n",
              "      <td>0.000008</td>\n",
              "      <td>2.487494e-07</td>\n",
              "      <td>blue</td>\n",
              "      <td>off</td>\n",
              "    </tr>\n",
              "    <tr>\n",
              "      <th>1</th>\n",
              "      <td>2.0</td>\n",
              "      <td>0.140996</td>\n",
              "      <td>3.999805</td>\n",
              "      <td>0.000008</td>\n",
              "      <td>2.485853e-07</td>\n",
              "      <td>blue</td>\n",
              "      <td>off</td>\n",
              "    </tr>\n",
              "    <tr>\n",
              "      <th>2</th>\n",
              "      <td>3.0</td>\n",
              "      <td>0.281961</td>\n",
              "      <td>3.999805</td>\n",
              "      <td>0.000008</td>\n",
              "      <td>2.484812e-07</td>\n",
              "      <td>blue</td>\n",
              "      <td>off</td>\n",
              "    </tr>\n",
              "    <tr>\n",
              "      <th>3</th>\n",
              "      <td>4.0</td>\n",
              "      <td>0.422915</td>\n",
              "      <td>3.999813</td>\n",
              "      <td>0.000008</td>\n",
              "      <td>2.481225e-07</td>\n",
              "      <td>blue</td>\n",
              "      <td>off</td>\n",
              "    </tr>\n",
              "    <tr>\n",
              "      <th>4</th>\n",
              "      <td>5.0</td>\n",
              "      <td>0.563879</td>\n",
              "      <td>3.999809</td>\n",
              "      <td>0.000007</td>\n",
              "      <td>2.482383e-07</td>\n",
              "      <td>blue</td>\n",
              "      <td>off</td>\n",
              "    </tr>\n",
              "  </tbody>\n",
              "</table>\n",
              "</div>\n",
              "      <button class=\"colab-df-convert\" onclick=\"convertToInteractive('df-86dadeae-c775-4c26-9791-a0ea9fac951c')\"\n",
              "              title=\"Convert this dataframe to an interactive table.\"\n",
              "              style=\"display:none;\">\n",
              "        \n",
              "  <svg xmlns=\"http://www.w3.org/2000/svg\" height=\"24px\"viewBox=\"0 0 24 24\"\n",
              "       width=\"24px\">\n",
              "    <path d=\"M0 0h24v24H0V0z\" fill=\"none\"/>\n",
              "    <path d=\"M18.56 5.44l.94 2.06.94-2.06 2.06-.94-2.06-.94-.94-2.06-.94 2.06-2.06.94zm-11 1L8.5 8.5l.94-2.06 2.06-.94-2.06-.94L8.5 2.5l-.94 2.06-2.06.94zm10 10l.94 2.06.94-2.06 2.06-.94-2.06-.94-.94-2.06-.94 2.06-2.06.94z\"/><path d=\"M17.41 7.96l-1.37-1.37c-.4-.4-.92-.59-1.43-.59-.52 0-1.04.2-1.43.59L10.3 9.45l-7.72 7.72c-.78.78-.78 2.05 0 2.83L4 21.41c.39.39.9.59 1.41.59.51 0 1.02-.2 1.41-.59l7.78-7.78 2.81-2.81c.8-.78.8-2.07 0-2.86zM5.41 20L4 18.59l7.72-7.72 1.47 1.35L5.41 20z\"/>\n",
              "  </svg>\n",
              "      </button>\n",
              "      \n",
              "  <style>\n",
              "    .colab-df-container {\n",
              "      display:flex;\n",
              "      flex-wrap:wrap;\n",
              "      gap: 12px;\n",
              "    }\n",
              "\n",
              "    .colab-df-convert {\n",
              "      background-color: #E8F0FE;\n",
              "      border: none;\n",
              "      border-radius: 50%;\n",
              "      cursor: pointer;\n",
              "      display: none;\n",
              "      fill: #1967D2;\n",
              "      height: 32px;\n",
              "      padding: 0 0 0 0;\n",
              "      width: 32px;\n",
              "    }\n",
              "\n",
              "    .colab-df-convert:hover {\n",
              "      background-color: #E2EBFA;\n",
              "      box-shadow: 0px 1px 2px rgba(60, 64, 67, 0.3), 0px 1px 3px 1px rgba(60, 64, 67, 0.15);\n",
              "      fill: #174EA6;\n",
              "    }\n",
              "\n",
              "    [theme=dark] .colab-df-convert {\n",
              "      background-color: #3B4455;\n",
              "      fill: #D2E3FC;\n",
              "    }\n",
              "\n",
              "    [theme=dark] .colab-df-convert:hover {\n",
              "      background-color: #434B5C;\n",
              "      box-shadow: 0px 1px 3px 1px rgba(0, 0, 0, 0.15);\n",
              "      filter: drop-shadow(0px 1px 2px rgba(0, 0, 0, 0.3));\n",
              "      fill: #FFFFFF;\n",
              "    }\n",
              "  </style>\n",
              "\n",
              "      <script>\n",
              "        const buttonEl =\n",
              "          document.querySelector('#df-86dadeae-c775-4c26-9791-a0ea9fac951c button.colab-df-convert');\n",
              "        buttonEl.style.display =\n",
              "          google.colab.kernel.accessAllowed ? 'block' : 'none';\n",
              "\n",
              "        async function convertToInteractive(key) {\n",
              "          const element = document.querySelector('#df-86dadeae-c775-4c26-9791-a0ea9fac951c');\n",
              "          const dataTable =\n",
              "            await google.colab.kernel.invokeFunction('convertToInteractive',\n",
              "                                                     [key], {});\n",
              "          if (!dataTable) return;\n",
              "\n",
              "          const docLinkHtml = 'Like what you see? Visit the ' +\n",
              "            '<a target=\"_blank\" href=https://colab.research.google.com/notebooks/data_table.ipynb>data table notebook</a>'\n",
              "            + ' to learn more about interactive tables.';\n",
              "          element.innerHTML = '';\n",
              "          dataTable['output_type'] = 'display_data';\n",
              "          await google.colab.output.renderOutput(dataTable, element);\n",
              "          const docLink = document.createElement('div');\n",
              "          docLink.innerHTML = docLinkHtml;\n",
              "          element.appendChild(docLink);\n",
              "        }\n",
              "      </script>\n",
              "    </div>\n",
              "  </div>\n",
              "  "
            ]
          },
          "metadata": {},
          "execution_count": 3
        }
      ]
    },
    {
      "cell_type": "code",
      "source": [
        "df = df.drop(['Item', 'Smu1.V[1][1]'], axis=1)\n",
        "df.head()"
      ],
      "metadata": {
        "colab": {
          "base_uri": "https://localhost:8080/",
          "height": 206
        },
        "id": "gdJcTv_NMvLQ",
        "outputId": "4b809d79-f58a-4325-e392-6b98cc6a0733"
      },
      "execution_count": null,
      "outputs": [
        {
          "output_type": "execute_result",
          "data": {
            "text/plain": [
              "   Smu1.Time[1][1]      CS_I         LFS_I label on/off\n",
              "0         0.000000  0.000008  2.487494e-07  blue    off\n",
              "1         0.140996  0.000008  2.485853e-07  blue    off\n",
              "2         0.281961  0.000008  2.484812e-07  blue    off\n",
              "3         0.422915  0.000008  2.481225e-07  blue    off\n",
              "4         0.563879  0.000007  2.482383e-07  blue    off"
            ],
            "text/html": [
              "\n",
              "  <div id=\"df-c7eb73e3-1701-4cf6-8a80-6253573b30e6\">\n",
              "    <div class=\"colab-df-container\">\n",
              "      <div>\n",
              "<style scoped>\n",
              "    .dataframe tbody tr th:only-of-type {\n",
              "        vertical-align: middle;\n",
              "    }\n",
              "\n",
              "    .dataframe tbody tr th {\n",
              "        vertical-align: top;\n",
              "    }\n",
              "\n",
              "    .dataframe thead th {\n",
              "        text-align: right;\n",
              "    }\n",
              "</style>\n",
              "<table border=\"1\" class=\"dataframe\">\n",
              "  <thead>\n",
              "    <tr style=\"text-align: right;\">\n",
              "      <th></th>\n",
              "      <th>Smu1.Time[1][1]</th>\n",
              "      <th>CS_I</th>\n",
              "      <th>LFS_I</th>\n",
              "      <th>label</th>\n",
              "      <th>on/off</th>\n",
              "    </tr>\n",
              "  </thead>\n",
              "  <tbody>\n",
              "    <tr>\n",
              "      <th>0</th>\n",
              "      <td>0.000000</td>\n",
              "      <td>0.000008</td>\n",
              "      <td>2.487494e-07</td>\n",
              "      <td>blue</td>\n",
              "      <td>off</td>\n",
              "    </tr>\n",
              "    <tr>\n",
              "      <th>1</th>\n",
              "      <td>0.140996</td>\n",
              "      <td>0.000008</td>\n",
              "      <td>2.485853e-07</td>\n",
              "      <td>blue</td>\n",
              "      <td>off</td>\n",
              "    </tr>\n",
              "    <tr>\n",
              "      <th>2</th>\n",
              "      <td>0.281961</td>\n",
              "      <td>0.000008</td>\n",
              "      <td>2.484812e-07</td>\n",
              "      <td>blue</td>\n",
              "      <td>off</td>\n",
              "    </tr>\n",
              "    <tr>\n",
              "      <th>3</th>\n",
              "      <td>0.422915</td>\n",
              "      <td>0.000008</td>\n",
              "      <td>2.481225e-07</td>\n",
              "      <td>blue</td>\n",
              "      <td>off</td>\n",
              "    </tr>\n",
              "    <tr>\n",
              "      <th>4</th>\n",
              "      <td>0.563879</td>\n",
              "      <td>0.000007</td>\n",
              "      <td>2.482383e-07</td>\n",
              "      <td>blue</td>\n",
              "      <td>off</td>\n",
              "    </tr>\n",
              "  </tbody>\n",
              "</table>\n",
              "</div>\n",
              "      <button class=\"colab-df-convert\" onclick=\"convertToInteractive('df-c7eb73e3-1701-4cf6-8a80-6253573b30e6')\"\n",
              "              title=\"Convert this dataframe to an interactive table.\"\n",
              "              style=\"display:none;\">\n",
              "        \n",
              "  <svg xmlns=\"http://www.w3.org/2000/svg\" height=\"24px\"viewBox=\"0 0 24 24\"\n",
              "       width=\"24px\">\n",
              "    <path d=\"M0 0h24v24H0V0z\" fill=\"none\"/>\n",
              "    <path d=\"M18.56 5.44l.94 2.06.94-2.06 2.06-.94-2.06-.94-.94-2.06-.94 2.06-2.06.94zm-11 1L8.5 8.5l.94-2.06 2.06-.94-2.06-.94L8.5 2.5l-.94 2.06-2.06.94zm10 10l.94 2.06.94-2.06 2.06-.94-2.06-.94-.94-2.06-.94 2.06-2.06.94z\"/><path d=\"M17.41 7.96l-1.37-1.37c-.4-.4-.92-.59-1.43-.59-.52 0-1.04.2-1.43.59L10.3 9.45l-7.72 7.72c-.78.78-.78 2.05 0 2.83L4 21.41c.39.39.9.59 1.41.59.51 0 1.02-.2 1.41-.59l7.78-7.78 2.81-2.81c.8-.78.8-2.07 0-2.86zM5.41 20L4 18.59l7.72-7.72 1.47 1.35L5.41 20z\"/>\n",
              "  </svg>\n",
              "      </button>\n",
              "      \n",
              "  <style>\n",
              "    .colab-df-container {\n",
              "      display:flex;\n",
              "      flex-wrap:wrap;\n",
              "      gap: 12px;\n",
              "    }\n",
              "\n",
              "    .colab-df-convert {\n",
              "      background-color: #E8F0FE;\n",
              "      border: none;\n",
              "      border-radius: 50%;\n",
              "      cursor: pointer;\n",
              "      display: none;\n",
              "      fill: #1967D2;\n",
              "      height: 32px;\n",
              "      padding: 0 0 0 0;\n",
              "      width: 32px;\n",
              "    }\n",
              "\n",
              "    .colab-df-convert:hover {\n",
              "      background-color: #E2EBFA;\n",
              "      box-shadow: 0px 1px 2px rgba(60, 64, 67, 0.3), 0px 1px 3px 1px rgba(60, 64, 67, 0.15);\n",
              "      fill: #174EA6;\n",
              "    }\n",
              "\n",
              "    [theme=dark] .colab-df-convert {\n",
              "      background-color: #3B4455;\n",
              "      fill: #D2E3FC;\n",
              "    }\n",
              "\n",
              "    [theme=dark] .colab-df-convert:hover {\n",
              "      background-color: #434B5C;\n",
              "      box-shadow: 0px 1px 3px 1px rgba(0, 0, 0, 0.15);\n",
              "      filter: drop-shadow(0px 1px 2px rgba(0, 0, 0, 0.3));\n",
              "      fill: #FFFFFF;\n",
              "    }\n",
              "  </style>\n",
              "\n",
              "      <script>\n",
              "        const buttonEl =\n",
              "          document.querySelector('#df-c7eb73e3-1701-4cf6-8a80-6253573b30e6 button.colab-df-convert');\n",
              "        buttonEl.style.display =\n",
              "          google.colab.kernel.accessAllowed ? 'block' : 'none';\n",
              "\n",
              "        async function convertToInteractive(key) {\n",
              "          const element = document.querySelector('#df-c7eb73e3-1701-4cf6-8a80-6253573b30e6');\n",
              "          const dataTable =\n",
              "            await google.colab.kernel.invokeFunction('convertToInteractive',\n",
              "                                                     [key], {});\n",
              "          if (!dataTable) return;\n",
              "\n",
              "          const docLinkHtml = 'Like what you see? Visit the ' +\n",
              "            '<a target=\"_blank\" href=https://colab.research.google.com/notebooks/data_table.ipynb>data table notebook</a>'\n",
              "            + ' to learn more about interactive tables.';\n",
              "          element.innerHTML = '';\n",
              "          dataTable['output_type'] = 'display_data';\n",
              "          await google.colab.output.renderOutput(dataTable, element);\n",
              "          const docLink = document.createElement('div');\n",
              "          docLink.innerHTML = docLinkHtml;\n",
              "          element.appendChild(docLink);\n",
              "        }\n",
              "      </script>\n",
              "    </div>\n",
              "  </div>\n",
              "  "
            ]
          },
          "metadata": {},
          "execution_count": 4
        }
      ]
    },
    {
      "cell_type": "code",
      "source": [
        "# BLUE LED\n",
        "df_blue = df[df.label=='blue']\n",
        "df_blue.head()"
      ],
      "metadata": {
        "colab": {
          "base_uri": "https://localhost:8080/",
          "height": 206
        },
        "id": "LhGUQnhyNBTD",
        "outputId": "2d1732e4-ffcb-46ec-fcb0-c787663103bb"
      },
      "execution_count": null,
      "outputs": [
        {
          "output_type": "execute_result",
          "data": {
            "text/plain": [
              "   Smu1.Time[1][1]      CS_I         LFS_I label on/off\n",
              "0         0.000000  0.000008  2.487494e-07  blue    off\n",
              "1         0.140996  0.000008  2.485853e-07  blue    off\n",
              "2         0.281961  0.000008  2.484812e-07  blue    off\n",
              "3         0.422915  0.000008  2.481225e-07  blue    off\n",
              "4         0.563879  0.000007  2.482383e-07  blue    off"
            ],
            "text/html": [
              "\n",
              "  <div id=\"df-2fb7501e-262d-4505-b1dc-be00cc7b5aba\">\n",
              "    <div class=\"colab-df-container\">\n",
              "      <div>\n",
              "<style scoped>\n",
              "    .dataframe tbody tr th:only-of-type {\n",
              "        vertical-align: middle;\n",
              "    }\n",
              "\n",
              "    .dataframe tbody tr th {\n",
              "        vertical-align: top;\n",
              "    }\n",
              "\n",
              "    .dataframe thead th {\n",
              "        text-align: right;\n",
              "    }\n",
              "</style>\n",
              "<table border=\"1\" class=\"dataframe\">\n",
              "  <thead>\n",
              "    <tr style=\"text-align: right;\">\n",
              "      <th></th>\n",
              "      <th>Smu1.Time[1][1]</th>\n",
              "      <th>CS_I</th>\n",
              "      <th>LFS_I</th>\n",
              "      <th>label</th>\n",
              "      <th>on/off</th>\n",
              "    </tr>\n",
              "  </thead>\n",
              "  <tbody>\n",
              "    <tr>\n",
              "      <th>0</th>\n",
              "      <td>0.000000</td>\n",
              "      <td>0.000008</td>\n",
              "      <td>2.487494e-07</td>\n",
              "      <td>blue</td>\n",
              "      <td>off</td>\n",
              "    </tr>\n",
              "    <tr>\n",
              "      <th>1</th>\n",
              "      <td>0.140996</td>\n",
              "      <td>0.000008</td>\n",
              "      <td>2.485853e-07</td>\n",
              "      <td>blue</td>\n",
              "      <td>off</td>\n",
              "    </tr>\n",
              "    <tr>\n",
              "      <th>2</th>\n",
              "      <td>0.281961</td>\n",
              "      <td>0.000008</td>\n",
              "      <td>2.484812e-07</td>\n",
              "      <td>blue</td>\n",
              "      <td>off</td>\n",
              "    </tr>\n",
              "    <tr>\n",
              "      <th>3</th>\n",
              "      <td>0.422915</td>\n",
              "      <td>0.000008</td>\n",
              "      <td>2.481225e-07</td>\n",
              "      <td>blue</td>\n",
              "      <td>off</td>\n",
              "    </tr>\n",
              "    <tr>\n",
              "      <th>4</th>\n",
              "      <td>0.563879</td>\n",
              "      <td>0.000007</td>\n",
              "      <td>2.482383e-07</td>\n",
              "      <td>blue</td>\n",
              "      <td>off</td>\n",
              "    </tr>\n",
              "  </tbody>\n",
              "</table>\n",
              "</div>\n",
              "      <button class=\"colab-df-convert\" onclick=\"convertToInteractive('df-2fb7501e-262d-4505-b1dc-be00cc7b5aba')\"\n",
              "              title=\"Convert this dataframe to an interactive table.\"\n",
              "              style=\"display:none;\">\n",
              "        \n",
              "  <svg xmlns=\"http://www.w3.org/2000/svg\" height=\"24px\"viewBox=\"0 0 24 24\"\n",
              "       width=\"24px\">\n",
              "    <path d=\"M0 0h24v24H0V0z\" fill=\"none\"/>\n",
              "    <path d=\"M18.56 5.44l.94 2.06.94-2.06 2.06-.94-2.06-.94-.94-2.06-.94 2.06-2.06.94zm-11 1L8.5 8.5l.94-2.06 2.06-.94-2.06-.94L8.5 2.5l-.94 2.06-2.06.94zm10 10l.94 2.06.94-2.06 2.06-.94-2.06-.94-.94-2.06-.94 2.06-2.06.94z\"/><path d=\"M17.41 7.96l-1.37-1.37c-.4-.4-.92-.59-1.43-.59-.52 0-1.04.2-1.43.59L10.3 9.45l-7.72 7.72c-.78.78-.78 2.05 0 2.83L4 21.41c.39.39.9.59 1.41.59.51 0 1.02-.2 1.41-.59l7.78-7.78 2.81-2.81c.8-.78.8-2.07 0-2.86zM5.41 20L4 18.59l7.72-7.72 1.47 1.35L5.41 20z\"/>\n",
              "  </svg>\n",
              "      </button>\n",
              "      \n",
              "  <style>\n",
              "    .colab-df-container {\n",
              "      display:flex;\n",
              "      flex-wrap:wrap;\n",
              "      gap: 12px;\n",
              "    }\n",
              "\n",
              "    .colab-df-convert {\n",
              "      background-color: #E8F0FE;\n",
              "      border: none;\n",
              "      border-radius: 50%;\n",
              "      cursor: pointer;\n",
              "      display: none;\n",
              "      fill: #1967D2;\n",
              "      height: 32px;\n",
              "      padding: 0 0 0 0;\n",
              "      width: 32px;\n",
              "    }\n",
              "\n",
              "    .colab-df-convert:hover {\n",
              "      background-color: #E2EBFA;\n",
              "      box-shadow: 0px 1px 2px rgba(60, 64, 67, 0.3), 0px 1px 3px 1px rgba(60, 64, 67, 0.15);\n",
              "      fill: #174EA6;\n",
              "    }\n",
              "\n",
              "    [theme=dark] .colab-df-convert {\n",
              "      background-color: #3B4455;\n",
              "      fill: #D2E3FC;\n",
              "    }\n",
              "\n",
              "    [theme=dark] .colab-df-convert:hover {\n",
              "      background-color: #434B5C;\n",
              "      box-shadow: 0px 1px 3px 1px rgba(0, 0, 0, 0.15);\n",
              "      filter: drop-shadow(0px 1px 2px rgba(0, 0, 0, 0.3));\n",
              "      fill: #FFFFFF;\n",
              "    }\n",
              "  </style>\n",
              "\n",
              "      <script>\n",
              "        const buttonEl =\n",
              "          document.querySelector('#df-2fb7501e-262d-4505-b1dc-be00cc7b5aba button.colab-df-convert');\n",
              "        buttonEl.style.display =\n",
              "          google.colab.kernel.accessAllowed ? 'block' : 'none';\n",
              "\n",
              "        async function convertToInteractive(key) {\n",
              "          const element = document.querySelector('#df-2fb7501e-262d-4505-b1dc-be00cc7b5aba');\n",
              "          const dataTable =\n",
              "            await google.colab.kernel.invokeFunction('convertToInteractive',\n",
              "                                                     [key], {});\n",
              "          if (!dataTable) return;\n",
              "\n",
              "          const docLinkHtml = 'Like what you see? Visit the ' +\n",
              "            '<a target=\"_blank\" href=https://colab.research.google.com/notebooks/data_table.ipynb>data table notebook</a>'\n",
              "            + ' to learn more about interactive tables.';\n",
              "          element.innerHTML = '';\n",
              "          dataTable['output_type'] = 'display_data';\n",
              "          await google.colab.output.renderOutput(dataTable, element);\n",
              "          const docLink = document.createElement('div');\n",
              "          docLink.innerHTML = docLinkHtml;\n",
              "          element.appendChild(docLink);\n",
              "        }\n",
              "      </script>\n",
              "    </div>\n",
              "  </div>\n",
              "  "
            ]
          },
          "metadata": {},
          "execution_count": 5
        }
      ]
    },
    {
      "cell_type": "code",
      "source": [
        "plt.scatter(df_blue['Smu1.Time[1][1]'], df_blue['CS_I'], color='blue')\n",
        "plt.xlabel('Time (sec)')\n",
        "plt.ylabel('Current (ampere)')\n",
        "plt.title('BLUE LED (Commercial Sensor)')"
      ],
      "metadata": {
        "colab": {
          "base_uri": "https://localhost:8080/",
          "height": 312
        },
        "id": "KKVHjpPZPt0_",
        "outputId": "80c0a824-deac-4273-f911-dbb10d02b1df"
      },
      "execution_count": null,
      "outputs": [
        {
          "output_type": "execute_result",
          "data": {
            "text/plain": [
              "Text(0.5, 1.0, 'BLUE LED (Commercial Sensor)')"
            ]
          },
          "metadata": {},
          "execution_count": 20
        },
        {
          "output_type": "display_data",
          "data": {
            "text/plain": [
              "<Figure size 432x288 with 1 Axes>"
            ],
            "image/png": "[encoded data removed]"
          },
          "metadata": {
            "needs_background": "light"
          }
        }
      ]
    },
    {
      "cell_type": "code",
      "source": [
        "plt.bar(df_blue['Smu1.Time[1][1]'], df_blue['CS_I'], color='blue')\n",
        "plt.xlabel('Time (sec)')\n",
        "plt.ylabel('Current (ampere)')\n",
        "plt.title('BLUE LED (Commercial Sensor)')"
      ],
      "metadata": {
        "colab": {
          "base_uri": "https://localhost:8080/",
          "height": 312
        },
        "id": "dPavgUNF0BKb",
        "outputId": "e50f83f0-2716-43c6-a049-b6eeb2f595af"
      },
      "execution_count": null,
      "outputs": [
        {
          "output_type": "execute_result",
          "data": {
            "text/plain": [
              "Text(0.5, 1.0, 'BLUE LED (Commercial Sensor)')"
            ]
          },
          "metadata": {},
          "execution_count": 21
        },
        {
          "output_type": "display_data",
          "data": {
            "text/plain": [
              "<Figure size 432x288 with 1 Axes>"
            ],
            "image/png": "[encoded data removed]"
          },
          "metadata": {
            "needs_background": "light"
          }
        }
      ]
    },
    {
      "cell_type": "code",
      "source": [
        "plt.bar(df_blue['Smu1.Time[1][1]'], df_blue['CS_I'], color='blue')\n",
        "plt.ylim(0.000007, 0.00040)\n",
        "plt.xlabel('Time (sec)')\n",
        "plt.ylabel('Current (ampere)')\n",
        "plt.title('BLUE LED (Commercial Sensor)')"
      ],
      "metadata": {
        "colab": {
          "base_uri": "https://localhost:8080/",
          "height": 312
        },
        "id": "0Cv-_PoZMNm3",
        "outputId": "6dcedf32-f268-4416-82e0-8cfe9ee9462b"
      },
      "execution_count": null,
      "outputs": [
        {
          "output_type": "execute_result",
          "data": {
            "text/plain": [
              "Text(0.5, 1.0, 'BLUE LED (Commercial Sensor)')"
            ]
          },
          "metadata": {},
          "execution_count": 22
        },
        {
          "output_type": "display_data",
          "data": {
            "text/plain": [
              "<Figure size 432x288 with 1 Axes>"
            ],
            "image/png": "[encoded data removed]"
          },
          "metadata": {
            "needs_background": "light"
          }
        }
      ]
    },
    {
      "cell_type": "code",
      "source": [
        "# FLASHLIGHT\n",
        "df_flashlight = df[df.label=='flashlight']\n",
        "df_flashlight.head()"
      ],
      "metadata": {
        "colab": {
          "base_uri": "https://localhost:8080/",
          "height": 206
        },
        "id": "mKltyxcvRJoF",
        "outputId": "0f1c4080-d2ed-4404-99a5-543c7788162c"
      },
      "execution_count": null,
      "outputs": [
        {
          "output_type": "execute_result",
          "data": {
            "text/plain": [
              "      Smu1.Time[1][1]      CS_I         LFS_I       label on/off\n",
              "2120         0.000000  0.000018  2.482011e-07  flashlight    off\n",
              "2121         0.141009  0.000014  2.456152e-07  flashlight    off\n",
              "2122         0.281981  0.000012  2.435991e-07  flashlight    off\n",
              "2123         0.422927  0.000010  2.417111e-07  flashlight    off\n",
              "2124         0.563895  0.000008  2.404926e-07  flashlight    off"
            ],
            "text/html": [
              "\n",
              "  <div id=\"df-23410b07-4008-49ab-8288-1bf747228128\">\n",
              "    <div class=\"colab-df-container\">\n",
              "      <div>\n",
              "<style scoped>\n",
              "    .dataframe tbody tr th:only-of-type {\n",
              "        vertical-align: middle;\n",
              "    }\n",
              "\n",
              "    .dataframe tbody tr th {\n",
              "        vertical-align: top;\n",
              "    }\n",
              "\n",
              "    .dataframe thead th {\n",
              "        text-align: right;\n",
              "    }\n",
              "</style>\n",
              "<table border=\"1\" class=\"dataframe\">\n",
              "  <thead>\n",
              "    <tr style=\"text-align: right;\">\n",
              "      <th></th>\n",
              "      <th>Smu1.Time[1][1]</th>\n",
              "      <th>CS_I</th>\n",
              "      <th>LFS_I</th>\n",
              "      <th>label</th>\n",
              "      <th>on/off</th>\n",
              "    </tr>\n",
              "  </thead>\n",
              "  <tbody>\n",
              "    <tr>\n",
              "      <th>2120</th>\n",
              "      <td>0.000000</td>\n",
              "      <td>0.000018</td>\n",
              "      <td>2.482011e-07</td>\n",
              "      <td>flashlight</td>\n",
              "      <td>off</td>\n",
              "    </tr>\n",
              "    <tr>\n",
              "      <th>2121</th>\n",
              "      <td>0.141009</td>\n",
              "      <td>0.000014</td>\n",
              "      <td>2.456152e-07</td>\n",
              "      <td>flashlight</td>\n",
              "      <td>off</td>\n",
              "    </tr>\n",
              "    <tr>\n",
              "      <th>2122</th>\n",
              "      <td>0.281981</td>\n",
              "      <td>0.000012</td>\n",
              "      <td>2.435991e-07</td>\n",
              "      <td>flashlight</td>\n",
              "      <td>off</td>\n",
              "    </tr>\n",
              "    <tr>\n",
              "      <th>2123</th>\n",
              "      <td>0.422927</td>\n",
              "      <td>0.000010</td>\n",
              "      <td>2.417111e-07</td>\n",
              "      <td>flashlight</td>\n",
              "      <td>off</td>\n",
              "    </tr>\n",
              "    <tr>\n",
              "      <th>2124</th>\n",
              "      <td>0.563895</td>\n",
              "      <td>0.000008</td>\n",
              "      <td>2.404926e-07</td>\n",
              "      <td>flashlight</td>\n",
              "      <td>off</td>\n",
              "    </tr>\n",
              "  </tbody>\n",
              "</table>\n",
              "</div>\n",
              "      <button class=\"colab-df-convert\" onclick=\"convertToInteractive('df-23410b07-4008-49ab-8288-1bf747228128')\"\n",
              "              title=\"Convert this dataframe to an interactive table.\"\n",
              "              style=\"display:none;\">\n",
              "        \n",
              "  <svg xmlns=\"http://www.w3.org/2000/svg\" height=\"24px\"viewBox=\"0 0 24 24\"\n",
              "       width=\"24px\">\n",
              "    <path d=\"M0 0h24v24H0V0z\" fill=\"none\"/>\n",
              "    <path d=\"M18.56 5.44l.94 2.06.94-2.06 2.06-.94-2.06-.94-.94-2.06-.94 2.06-2.06.94zm-11 1L8.5 8.5l.94-2.06 2.06-.94-2.06-.94L8.5 2.5l-.94 2.06-2.06.94zm10 10l.94 2.06.94-2.06 2.06-.94-2.06-.94-.94-2.06-.94 2.06-2.06.94z\"/><path d=\"M17.41 7.96l-1.37-1.37c-.4-.4-.92-.59-1.43-.59-.52 0-1.04.2-1.43.59L10.3 9.45l-7.72 7.72c-.78.78-.78 2.05 0 2.83L4 21.41c.39.39.9.59 1.41.59.51 0 1.02-.2 1.41-.59l7.78-7.78 2.81-2.81c.8-.78.8-2.07 0-2.86zM5.41 20L4 18.59l7.72-7.72 1.47 1.35L5.41 20z\"/>\n",
              "  </svg>\n",
              "      </button>\n",
              "      \n",
              "  <style>\n",
              "    .colab-df-container {\n",
              "      display:flex;\n",
              "      flex-wrap:wrap;\n",
              "      gap: 12px;\n",
              "    }\n",
              "\n",
              "    .colab-df-convert {\n",
              "      background-color: #E8F0FE;\n",
              "      border: none;\n",
              "      border-radius: 50%;\n",
              "      cursor: pointer;\n",
              "      display: none;\n",
              "      fill: #1967D2;\n",
              "      height: 32px;\n",
              "      padding: 0 0 0 0;\n",
              "      width: 32px;\n",
              "    }\n",
              "\n",
              "    .colab-df-convert:hover {\n",
              "      background-color: #E2EBFA;\n",
              "      box-shadow: 0px 1px 2px rgba(60, 64, 67, 0.3), 0px 1px 3px 1px rgba(60, 64, 67, 0.15);\n",
              "      fill: #174EA6;\n",
              "    }\n",
              "\n",
              "    [theme=dark] .colab-df-convert {\n",
              "      background-color: #3B4455;\n",
              "      fill: #D2E3FC;\n",
              "    }\n",
              "\n",
              "    [theme=dark] .colab-df-convert:hover {\n",
              "      background-color: #434B5C;\n",
              "      box-shadow: 0px 1px 3px 1px rgba(0, 0, 0, 0.15);\n",
              "      filter: drop-shadow(0px 1px 2px rgba(0, 0, 0, 0.3));\n",
              "      fill: #FFFFFF;\n",
              "    }\n",
              "  </style>\n",
              "\n",
              "      <script>\n",
              "        const buttonEl =\n",
              "          document.querySelector('#df-23410b07-4008-49ab-8288-1bf747228128 button.colab-df-convert');\n",
              "        buttonEl.style.display =\n",
              "          google.colab.kernel.accessAllowed ? 'block' : 'none';\n",
              "\n",
              "        async function convertToInteractive(key) {\n",
              "          const element = document.querySelector('#df-23410b07-4008-49ab-8288-1bf747228128');\n",
              "          const dataTable =\n",
              "            await google.colab.kernel.invokeFunction('convertToInteractive',\n",
              "                                                     [key], {});\n",
              "          if (!dataTable) return;\n",
              "\n",
              "          const docLinkHtml = 'Like what you see? Visit the ' +\n",
              "            '<a target=\"_blank\" href=https://colab.research.google.com/notebooks/data_table.ipynb>data table notebook</a>'\n",
              "            + ' to learn more about interactive tables.';\n",
              "          element.innerHTML = '';\n",
              "          dataTable['output_type'] = 'display_data';\n",
              "          await google.colab.output.renderOutput(dataTable, element);\n",
              "          const docLink = document.createElement('div');\n",
              "          docLink.innerHTML = docLinkHtml;\n",
              "          element.appendChild(docLink);\n",
              "        }\n",
              "      </script>\n",
              "    </div>\n",
              "  </div>\n",
              "  "
            ]
          },
          "metadata": {},
          "execution_count": 23
        }
      ]
    },
    {
      "cell_type": "code",
      "source": [
        "plt.bar(df_flashlight['Smu1.Time[1][1]'], df_flashlight['CS_I'], color='cyan')\n",
        "plt.xlabel('Time (sec)')\n",
        "plt.ylabel('Current (ampere)')\n",
        "plt.title('FLASHLIGHT (Commercial Sensor)')"
      ],
      "metadata": {
        "colab": {
          "base_uri": "https://localhost:8080/",
          "height": 312
        },
        "id": "_Sl4_7jc0jqk",
        "outputId": "93669c8e-9f0b-4b41-bf30-2f4973930f75"
      },
      "execution_count": null,
      "outputs": [
        {
          "output_type": "execute_result",
          "data": {
            "text/plain": [
              "Text(0.5, 1.0, 'FLASHLIGHT (Commercial Sensor)')"
            ]
          },
          "metadata": {},
          "execution_count": 24
        },
        {
          "output_type": "display_data",
          "data": {
            "text/plain": [
              "<Figure size 432x288 with 1 Axes>"
            ],
            "image/png": "[encoded data removed]"
          },
          "metadata": {
            "needs_background": "light"
          }
        }
      ]
    },
    {
      "cell_type": "code",
      "source": [
        "plt.bar(df_flashlight['Smu1.Time[1][1]'], df_flashlight['CS_I'], color='cyan')\n",
        "plt.ylim(2.5*1e-7, 0.0018)\n",
        "plt.xlabel('Time (sec)')\n",
        "plt.ylabel('Current (ampere)')\n",
        "plt.title('FLASHLIGHT (Commercial Sensor)')"
      ],
      "metadata": {
        "colab": {
          "base_uri": "https://localhost:8080/",
          "height": 312
        },
        "id": "7F8NiTUaMWWR",
        "outputId": "5979c3ba-041c-4999-f513-523f8ac9f898"
      },
      "execution_count": null,
      "outputs": [
        {
          "output_type": "execute_result",
          "data": {
            "text/plain": [
              "Text(0.5, 1.0, 'FLASHLIGHT (Commercial Sensor)')"
            ]
          },
          "metadata": {},
          "execution_count": 25
        },
        {
          "output_type": "display_data",
          "data": {
            "text/plain": [
              "<Figure size 432x288 with 1 Axes>"
            ],
            "image/png": "[encoded data removed]"
          },
          "metadata": {
            "needs_background": "light"
          }
        }
      ]
    },
    {
      "cell_type": "code",
      "source": [
        "# GREEN LED\n",
        "df_green = df[df.label=='green']\n",
        "df_green.head()"
      ],
      "metadata": {
        "colab": {
          "base_uri": "https://localhost:8080/",
          "height": 206
        },
        "id": "ERHxlqbuzgUY",
        "outputId": "ff483ae3-b6f5-482c-88aa-2216d96536f2"
      },
      "execution_count": null,
      "outputs": [
        {
          "output_type": "execute_result",
          "data": {
            "text/plain": [
              "      Smu1.Time[1][1]      CS_I         LFS_I  label on/off\n",
              "4249         0.000000  0.000028  2.483687e-07  green    off\n",
              "4250         0.141007  0.000020  2.476507e-07  green    off\n",
              "4251         0.281962  0.000016  2.474417e-07  green    off\n",
              "4252         0.422924  0.000014  2.468076e-07  green    off\n",
              "4253         0.563872  0.000012  2.466996e-07  green    off"
            ],
            "text/html": [
              "\n",
              "  <div id=\"df-761c8f70-e4b5-4e02-89ba-e69b80abee61\">\n",
              "    <div class=\"colab-df-container\">\n",
              "      <div>\n",
              "<style scoped>\n",
              "    .dataframe tbody tr th:only-of-type {\n",
              "        vertical-align: middle;\n",
              "    }\n",
              "\n",
              "    .dataframe tbody tr th {\n",
              "        vertical-align: top;\n",
              "    }\n",
              "\n",
              "    .dataframe thead th {\n",
              "        text-align: right;\n",
              "    }\n",
              "</style>\n",
              "<table border=\"1\" class=\"dataframe\">\n",
              "  <thead>\n",
              "    <tr style=\"text-align: right;\">\n",
              "      <th></th>\n",
              "      <th>Smu1.Time[1][1]</th>\n",
              "      <th>CS_I</th>\n",
              "      <th>LFS_I</th>\n",
              "      <th>label</th>\n",
              "      <th>on/off</th>\n",
              "    </tr>\n",
              "  </thead>\n",
              "  <tbody>\n",
              "    <tr>\n",
              "      <th>4249</th>\n",
              "      <td>0.000000</td>\n",
              "      <td>0.000028</td>\n",
              "      <td>2.483687e-07</td>\n",
              "      <td>green</td>\n",
              "      <td>off</td>\n",
              "    </tr>\n",
              "    <tr>\n",
              "      <th>4250</th>\n",
              "      <td>0.141007</td>\n",
              "      <td>0.000020</td>\n",
              "      <td>2.476507e-07</td>\n",
              "      <td>green</td>\n",
              "      <td>off</td>\n",
              "    </tr>\n",
              "    <tr>\n",
              "      <th>4251</th>\n",
              "      <td>0.281962</td>\n",
              "      <td>0.000016</td>\n",
              "      <td>2.474417e-07</td>\n",
              "      <td>green</td>\n",
              "      <td>off</td>\n",
              "    </tr>\n",
              "    <tr>\n",
              "      <th>4252</th>\n",
              "      <td>0.422924</td>\n",
              "      <td>0.000014</td>\n",
              "      <td>2.468076e-07</td>\n",
              "      <td>green</td>\n",
              "      <td>off</td>\n",
              "    </tr>\n",
              "    <tr>\n",
              "      <th>4253</th>\n",
              "      <td>0.563872</td>\n",
              "      <td>0.000012</td>\n",
              "      <td>2.466996e-07</td>\n",
              "      <td>green</td>\n",
              "      <td>off</td>\n",
              "    </tr>\n",
              "  </tbody>\n",
              "</table>\n",
              "</div>\n",
              "      <button class=\"colab-df-convert\" onclick=\"convertToInteractive('df-761c8f70-e4b5-4e02-89ba-e69b80abee61')\"\n",
              "              title=\"Convert this dataframe to an interactive table.\"\n",
              "              style=\"display:none;\">\n",
              "        \n",
              "  <svg xmlns=\"http://www.w3.org/2000/svg\" height=\"24px\"viewBox=\"0 0 24 24\"\n",
              "       width=\"24px\">\n",
              "    <path d=\"M0 0h24v24H0V0z\" fill=\"none\"/>\n",
              "    <path d=\"M18.56 5.44l.94 2.06.94-2.06 2.06-.94-2.06-.94-.94-2.06-.94 2.06-2.06.94zm-11 1L8.5 8.5l.94-2.06 2.06-.94-2.06-.94L8.5 2.5l-.94 2.06-2.06.94zm10 10l.94 2.06.94-2.06 2.06-.94-2.06-.94-.94-2.06-.94 2.06-2.06.94z\"/><path d=\"M17.41 7.96l-1.37-1.37c-.4-.4-.92-.59-1.43-.59-.52 0-1.04.2-1.43.59L10.3 9.45l-7.72 7.72c-.78.78-.78 2.05 0 2.83L4 21.41c.39.39.9.59 1.41.59.51 0 1.02-.2 1.41-.59l7.78-7.78 2.81-2.81c.8-.78.8-2.07 0-2.86zM5.41 20L4 18.59l7.72-7.72 1.47 1.35L5.41 20z\"/>\n",
              "  </svg>\n",
              "      </button>\n",
              "      \n",
              "  <style>\n",
              "    .colab-df-container {\n",
              "      display:flex;\n",
              "      flex-wrap:wrap;\n",
              "      gap: 12px;\n",
              "    }\n",
              "\n",
              "    .colab-df-convert {\n",
              "      background-color: #E8F0FE;\n",
              "      border: none;\n",
              "      border-radius: 50%;\n",
              "      cursor: pointer;\n",
              "      display: none;\n",
              "      fill: #1967D2;\n",
              "      height: 32px;\n",
              "      padding: 0 0 0 0;\n",
              "      width: 32px;\n",
              "    }\n",
              "\n",
              "    .colab-df-convert:hover {\n",
              "      background-color: #E2EBFA;\n",
              "      box-shadow: 0px 1px 2px rgba(60, 64, 67, 0.3), 0px 1px 3px 1px rgba(60, 64, 67, 0.15);\n",
              "      fill: #174EA6;\n",
              "    }\n",
              "\n",
              "    [theme=dark] .colab-df-convert {\n",
              "      background-color: #3B4455;\n",
              "      fill: #D2E3FC;\n",
              "    }\n",
              "\n",
              "    [theme=dark] .colab-df-convert:hover {\n",
              "      background-color: #434B5C;\n",
              "      box-shadow: 0px 1px 3px 1px rgba(0, 0, 0, 0.15);\n",
              "      filter: drop-shadow(0px 1px 2px rgba(0, 0, 0, 0.3));\n",
              "      fill: #FFFFFF;\n",
              "    }\n",
              "  </style>\n",
              "\n",
              "      <script>\n",
              "        const buttonEl =\n",
              "          document.querySelector('#df-761c8f70-e4b5-4e02-89ba-e69b80abee61 button.colab-df-convert');\n",
              "        buttonEl.style.display =\n",
              "          google.colab.kernel.accessAllowed ? 'block' : 'none';\n",
              "\n",
              "        async function convertToInteractive(key) {\n",
              "          const element = document.querySelector('#df-761c8f70-e4b5-4e02-89ba-e69b80abee61');\n",
              "          const dataTable =\n",
              "            await google.colab.kernel.invokeFunction('convertToInteractive',\n",
              "                                                     [key], {});\n",
              "          if (!dataTable) return;\n",
              "\n",
              "          const docLinkHtml = 'Like what you see? Visit the ' +\n",
              "            '<a target=\"_blank\" href=https://colab.research.google.com/notebooks/data_table.ipynb>data table notebook</a>'\n",
              "            + ' to learn more about interactive tables.';\n",
              "          element.innerHTML = '';\n",
              "          dataTable['output_type'] = 'display_data';\n",
              "          await google.colab.output.renderOutput(dataTable, element);\n",
              "          const docLink = document.createElement('div');\n",
              "          docLink.innerHTML = docLinkHtml;\n",
              "          element.appendChild(docLink);\n",
              "        }\n",
              "      </script>\n",
              "    </div>\n",
              "  </div>\n",
              "  "
            ]
          },
          "metadata": {},
          "execution_count": 26
        }
      ]
    },
    {
      "cell_type": "code",
      "source": [
        "plt.bar(df_green['Smu1.Time[1][1]'], df_green['CS_I'], color='green')\n",
        "plt.xlabel('Time (sec)')\n",
        "plt.ylabel('Current (ampere)')\n",
        "plt.title('GREEN LED (Commercial Sensor)')"
      ],
      "metadata": {
        "colab": {
          "base_uri": "https://localhost:8080/",
          "height": 312
        },
        "id": "jMRb9KOJ0r2R",
        "outputId": "0e7e0127-59d6-4cc1-f92f-4b9bcb66a5bb"
      },
      "execution_count": null,
      "outputs": [
        {
          "output_type": "execute_result",
          "data": {
            "text/plain": [
              "Text(0.5, 1.0, 'GREEN LED (Commercial Sensor)')"
            ]
          },
          "metadata": {},
          "execution_count": 27
        },
        {
          "output_type": "display_data",
          "data": {
            "text/plain": [
              "<Figure size 432x288 with 1 Axes>"
            ],
            "image/png": "[encoded data removed]"
          },
          "metadata": {
            "needs_background": "light"
          }
        }
      ]
    },
    {
      "cell_type": "code",
      "source": [
        "plt.bar(df_green['Smu1.Time[1][1]'], df_green['CS_I'], color='green')\n",
        "plt.ylim(0.000005, 0.00065)\n",
        "plt.xlabel('Time (sec)')\n",
        "plt.ylabel('Current (ampere)')\n",
        "plt.title('GREEN LED (Commercial Sensor)')"
      ],
      "metadata": {
        "colab": {
          "base_uri": "https://localhost:8080/",
          "height": 312
        },
        "id": "g7wdUxST2FVa",
        "outputId": "68781200-0e4b-45d3-8e0f-e40b6d6f0f1a"
      },
      "execution_count": null,
      "outputs": [
        {
          "output_type": "execute_result",
          "data": {
            "text/plain": [
              "Text(0.5, 1.0, 'GREEN LED (Commercial Sensor)')"
            ]
          },
          "metadata": {},
          "execution_count": 28
        },
        {
          "output_type": "display_data",
          "data": {
            "text/plain": [
              "<Figure size 432x288 with 1 Axes>"
            ],
            "image/png": "[encoded data removed]"
          },
          "metadata": {
            "needs_background": "light"
          }
        }
      ]
    },
    {
      "cell_type": "code",
      "source": [
        "# RED LED\n",
        "df_red = df[df.label=='red']\n",
        "df_red.head()"
      ],
      "metadata": {
        "colab": {
          "base_uri": "https://localhost:8080/",
          "height": 206
        },
        "id": "w9MvZMtmzgO9",
        "outputId": "3a55eaf9-912d-4c7c-c058-465f8e74ee06"
      },
      "execution_count": null,
      "outputs": [
        {
          "output_type": "execute_result",
          "data": {
            "text/plain": [
              "      Smu1.Time[1][1]      CS_I         LFS_I label on/off\n",
              "6357         0.000000  0.000022  2.403882e-07   red    off\n",
              "6358         0.141003  0.000017  2.388547e-07   red    off\n",
              "6359         0.281962  0.000015  2.386987e-07   red    off\n",
              "6360         0.422928  0.000013  2.381688e-07   red    off\n",
              "6361         0.563889  0.000012  2.383741e-07   red    off"
            ],
            "text/html": [
              "\n",
              "  <div id=\"df-eac5c99a-e3b0-47b9-962d-3494669d3996\">\n",
              "    <div class=\"colab-df-container\">\n",
              "      <div>\n",
              "<style scoped>\n",
              "    .dataframe tbody tr th:only-of-type {\n",
              "        vertical-align: middle;\n",
              "    }\n",
              "\n",
              "    .dataframe tbody tr th {\n",
              "        vertical-align: top;\n",
              "    }\n",
              "\n",
              "    .dataframe thead th {\n",
              "        text-align: right;\n",
              "    }\n",
              "</style>\n",
              "<table border=\"1\" class=\"dataframe\">\n",
              "  <thead>\n",
              "    <tr style=\"text-align: right;\">\n",
              "      <th></th>\n",
              "      <th>Smu1.Time[1][1]</th>\n",
              "      <th>CS_I</th>\n",
              "      <th>LFS_I</th>\n",
              "      <th>label</th>\n",
              "      <th>on/off</th>\n",
              "    </tr>\n",
              "  </thead>\n",
              "  <tbody>\n",
              "    <tr>\n",
              "      <th>6357</th>\n",
              "      <td>0.000000</td>\n",
              "      <td>0.000022</td>\n",
              "      <td>2.403882e-07</td>\n",
              "      <td>red</td>\n",
              "      <td>off</td>\n",
              "    </tr>\n",
              "    <tr>\n",
              "      <th>6358</th>\n",
              "      <td>0.141003</td>\n",
              "      <td>0.000017</td>\n",
              "      <td>2.388547e-07</td>\n",
              "      <td>red</td>\n",
              "      <td>off</td>\n",
              "    </tr>\n",
              "    <tr>\n",
              "      <th>6359</th>\n",
              "      <td>0.281962</td>\n",
              "      <td>0.000015</td>\n",
              "      <td>2.386987e-07</td>\n",
              "      <td>red</td>\n",
              "      <td>off</td>\n",
              "    </tr>\n",
              "    <tr>\n",
              "      <th>6360</th>\n",
              "      <td>0.422928</td>\n",
              "      <td>0.000013</td>\n",
              "      <td>2.381688e-07</td>\n",
              "      <td>red</td>\n",
              "      <td>off</td>\n",
              "    </tr>\n",
              "    <tr>\n",
              "      <th>6361</th>\n",
              "      <td>0.563889</td>\n",
              "      <td>0.000012</td>\n",
              "      <td>2.383741e-07</td>\n",
              "      <td>red</td>\n",
              "      <td>off</td>\n",
              "    </tr>\n",
              "  </tbody>\n",
              "</table>\n",
              "</div>\n",
              "      <button class=\"colab-df-convert\" onclick=\"convertToInteractive('df-eac5c99a-e3b0-47b9-962d-3494669d3996')\"\n",
              "              title=\"Convert this dataframe to an interactive table.\"\n",
              "              style=\"display:none;\">\n",
              "        \n",
              "  <svg xmlns=\"http://www.w3.org/2000/svg\" height=\"24px\"viewBox=\"0 0 24 24\"\n",
              "       width=\"24px\">\n",
              "    <path d=\"M0 0h24v24H0V0z\" fill=\"none\"/>\n",
              "    <path d=\"M18.56 5.44l.94 2.06.94-2.06 2.06-.94-2.06-.94-.94-2.06-.94 2.06-2.06.94zm-11 1L8.5 8.5l.94-2.06 2.06-.94-2.06-.94L8.5 2.5l-.94 2.06-2.06.94zm10 10l.94 2.06.94-2.06 2.06-.94-2.06-.94-.94-2.06-.94 2.06-2.06.94z\"/><path d=\"M17.41 7.96l-1.37-1.37c-.4-.4-.92-.59-1.43-.59-.52 0-1.04.2-1.43.59L10.3 9.45l-7.72 7.72c-.78.78-.78 2.05 0 2.83L4 21.41c.39.39.9.59 1.41.59.51 0 1.02-.2 1.41-.59l7.78-7.78 2.81-2.81c.8-.78.8-2.07 0-2.86zM5.41 20L4 18.59l7.72-7.72 1.47 1.35L5.41 20z\"/>\n",
              "  </svg>\n",
              "      </button>\n",
              "      \n",
              "  <style>\n",
              "    .colab-df-container {\n",
              "      display:flex;\n",
              "      flex-wrap:wrap;\n",
              "      gap: 12px;\n",
              "    }\n",
              "\n",
              "    .colab-df-convert {\n",
              "      background-color: #E8F0FE;\n",
              "      border: none;\n",
              "      border-radius: 50%;\n",
              "      cursor: pointer;\n",
              "      display: none;\n",
              "      fill: #1967D2;\n",
              "      height: 32px;\n",
              "      padding: 0 0 0 0;\n",
              "      width: 32px;\n",
              "    }\n",
              "\n",
              "    .colab-df-convert:hover {\n",
              "      background-color: #E2EBFA;\n",
              "      box-shadow: 0px 1px 2px rgba(60, 64, 67, 0.3), 0px 1px 3px 1px rgba(60, 64, 67, 0.15);\n",
              "      fill: #174EA6;\n",
              "    }\n",
              "\n",
              "    [theme=dark] .colab-df-convert {\n",
              "      background-color: #3B4455;\n",
              "      fill: #D2E3FC;\n",
              "    }\n",
              "\n",
              "    [theme=dark] .colab-df-convert:hover {\n",
              "      background-color: #434B5C;\n",
              "      box-shadow: 0px 1px 3px 1px rgba(0, 0, 0, 0.15);\n",
              "      filter: drop-shadow(0px 1px 2px rgba(0, 0, 0, 0.3));\n",
              "      fill: #FFFFFF;\n",
              "    }\n",
              "  </style>\n",
              "\n",
              "      <script>\n",
              "        const buttonEl =\n",
              "          document.querySelector('#df-eac5c99a-e3b0-47b9-962d-3494669d3996 button.colab-df-convert');\n",
              "        buttonEl.style.display =\n",
              "          google.colab.kernel.accessAllowed ? 'block' : 'none';\n",
              "\n",
              "        async function convertToInteractive(key) {\n",
              "          const element = document.querySelector('#df-eac5c99a-e3b0-47b9-962d-3494669d3996');\n",
              "          const dataTable =\n",
              "            await google.colab.kernel.invokeFunction('convertToInteractive',\n",
              "                                                     [key], {});\n",
              "          if (!dataTable) return;\n",
              "\n",
              "          const docLinkHtml = 'Like what you see? Visit the ' +\n",
              "            '<a target=\"_blank\" href=https://colab.research.google.com/notebooks/data_table.ipynb>data table notebook</a>'\n",
              "            + ' to learn more about interactive tables.';\n",
              "          element.innerHTML = '';\n",
              "          dataTable['output_type'] = 'display_data';\n",
              "          await google.colab.output.renderOutput(dataTable, element);\n",
              "          const docLink = document.createElement('div');\n",
              "          docLink.innerHTML = docLinkHtml;\n",
              "          element.appendChild(docLink);\n",
              "        }\n",
              "      </script>\n",
              "    </div>\n",
              "  </div>\n",
              "  "
            ]
          },
          "metadata": {},
          "execution_count": 29
        }
      ]
    },
    {
      "cell_type": "code",
      "source": [
        "plt.bar(df_red['Smu1.Time[1][1]'], df_red['CS_I'], color='red')\n",
        "plt.xlabel('Time (sec)')\n",
        "plt.ylabel('Current (ampere)')\n",
        "plt.title('RED LED (Commercial Sensor)')"
      ],
      "metadata": {
        "colab": {
          "base_uri": "https://localhost:8080/",
          "height": 312
        },
        "id": "8XBKcg1D02Fo",
        "outputId": "84ec8a12-1c20-4412-d15d-6420d638b486"
      },
      "execution_count": null,
      "outputs": [
        {
          "output_type": "execute_result",
          "data": {
            "text/plain": [
              "Text(0.5, 1.0, 'RED LED (Commercial Sensor)')"
            ]
          },
          "metadata": {},
          "execution_count": 30
        },
        {
          "output_type": "display_data",
          "data": {
            "text/plain": [
              "<Figure size 432x288 with 1 Axes>"
            ],
            "image/png": "[encoded data removed]"
          },
          "metadata": {
            "needs_background": "light"
          }
        }
      ]
    },
    {
      "cell_type": "code",
      "source": [
        "plt.bar(df_red['Smu1.Time[1][1]'], df_red['CS_I'], color='red')\n",
        "plt.ylim(0.000007, 0.0007)\n",
        "plt.xlabel('Time (sec)')\n",
        "plt.ylabel('Current (ampere)')\n",
        "plt.title('RED LED (Commercial Sensor)')"
      ],
      "metadata": {
        "colab": {
          "base_uri": "https://localhost:8080/",
          "height": 312
        },
        "id": "GujHmdJzMYgX",
        "outputId": "61b94cfa-f5d0-4f79-e6f9-bd2f40ce716d"
      },
      "execution_count": null,
      "outputs": [
        {
          "output_type": "execute_result",
          "data": {
            "text/plain": [
              "Text(0.5, 1.0, 'RED LED (Commercial Sensor)')"
            ]
          },
          "metadata": {},
          "execution_count": 31
        },
        {
          "output_type": "display_data",
          "data": {
            "text/plain": [
              "<Figure size 432x288 with 1 Axes>"
            ],
            "image/png": "[encoded data removed]"
          },
          "metadata": {
            "needs_background": "light"
          }
        }
      ]
    },
    {
      "cell_type": "code",
      "source": [
        "# UV LED\n",
        "df_UV = df[df.label=='UV']\n",
        "df_UV.head()"
      ],
      "metadata": {
        "colab": {
          "base_uri": "https://localhost:8080/",
          "height": 206
        },
        "id": "qObHIiEvzgMJ",
        "outputId": "485b61df-6aee-4ecf-a3d1-055f994c12d9"
      },
      "execution_count": null,
      "outputs": [
        {
          "output_type": "execute_result",
          "data": {
            "text/plain": [
              "      Smu1.Time[1][1]      CS_I         LFS_I label on/off\n",
              "8471         0.000000  0.000019  2.303193e-07    UV    off\n",
              "8472         0.140997  0.000015  2.303045e-07    UV    off\n",
              "8473         0.281949  0.000012  2.302758e-07    UV    off\n",
              "8474         0.422909  0.000011  2.302630e-07    UV    off\n",
              "8475         0.563866  0.000010  2.302273e-07    UV    off"
            ],
            "text/html": [
              "\n",
              "  <div id=\"df-b154bbe1-945a-410c-a7d4-5b2f80cb6a9c\">\n",
              "    <div class=\"colab-df-container\">\n",
              "      <div>\n",
              "<style scoped>\n",
              "    .dataframe tbody tr th:only-of-type {\n",
              "        vertical-align: middle;\n",
              "    }\n",
              "\n",
              "    .dataframe tbody tr th {\n",
              "        vertical-align: top;\n",
              "    }\n",
              "\n",
              "    .dataframe thead th {\n",
              "        text-align: right;\n",
              "    }\n",
              "</style>\n",
              "<table border=\"1\" class=\"dataframe\">\n",
              "  <thead>\n",
              "    <tr style=\"text-align: right;\">\n",
              "      <th></th>\n",
              "      <th>Smu1.Time[1][1]</th>\n",
              "      <th>CS_I</th>\n",
              "      <th>LFS_I</th>\n",
              "      <th>label</th>\n",
              "      <th>on/off</th>\n",
              "    </tr>\n",
              "  </thead>\n",
              "  <tbody>\n",
              "    <tr>\n",
              "      <th>8471</th>\n",
              "      <td>0.000000</td>\n",
              "      <td>0.000019</td>\n",
              "      <td>2.303193e-07</td>\n",
              "      <td>UV</td>\n",
              "      <td>off</td>\n",
              "    </tr>\n",
              "    <tr>\n",
              "      <th>8472</th>\n",
              "      <td>0.140997</td>\n",
              "      <td>0.000015</td>\n",
              "      <td>2.303045e-07</td>\n",
              "      <td>UV</td>\n",
              "      <td>off</td>\n",
              "    </tr>\n",
              "    <tr>\n",
              "      <th>8473</th>\n",
              "      <td>0.281949</td>\n",
              "      <td>0.000012</td>\n",
              "      <td>2.302758e-07</td>\n",
              "      <td>UV</td>\n",
              "      <td>off</td>\n",
              "    </tr>\n",
              "    <tr>\n",
              "      <th>8474</th>\n",
              "      <td>0.422909</td>\n",
              "      <td>0.000011</td>\n",
              "      <td>2.302630e-07</td>\n",
              "      <td>UV</td>\n",
              "      <td>off</td>\n",
              "    </tr>\n",
              "    <tr>\n",
              "      <th>8475</th>\n",
              "      <td>0.563866</td>\n",
              "      <td>0.000010</td>\n",
              "      <td>2.302273e-07</td>\n",
              "      <td>UV</td>\n",
              "      <td>off</td>\n",
              "    </tr>\n",
              "  </tbody>\n",
              "</table>\n",
              "</div>\n",
              "      <button class=\"colab-df-convert\" onclick=\"convertToInteractive('df-b154bbe1-945a-410c-a7d4-5b2f80cb6a9c')\"\n",
              "              title=\"Convert this dataframe to an interactive table.\"\n",
              "              style=\"display:none;\">\n",
              "        \n",
              "  <svg xmlns=\"http://www.w3.org/2000/svg\" height=\"24px\"viewBox=\"0 0 24 24\"\n",
              "       width=\"24px\">\n",
              "    <path d=\"M0 0h24v24H0V0z\" fill=\"none\"/>\n",
              "    <path d=\"M18.56 5.44l.94 2.06.94-2.06 2.06-.94-2.06-.94-.94-2.06-.94 2.06-2.06.94zm-11 1L8.5 8.5l.94-2.06 2.06-.94-2.06-.94L8.5 2.5l-.94 2.06-2.06.94zm10 10l.94 2.06.94-2.06 2.06-.94-2.06-.94-.94-2.06-.94 2.06-2.06.94z\"/><path d=\"M17.41 7.96l-1.37-1.37c-.4-.4-.92-.59-1.43-.59-.52 0-1.04.2-1.43.59L10.3 9.45l-7.72 7.72c-.78.78-.78 2.05 0 2.83L4 21.41c.39.39.9.59 1.41.59.51 0 1.02-.2 1.41-.59l7.78-7.78 2.81-2.81c.8-.78.8-2.07 0-2.86zM5.41 20L4 18.59l7.72-7.72 1.47 1.35L5.41 20z\"/>\n",
              "  </svg>\n",
              "      </button>\n",
              "      \n",
              "  <style>\n",
              "    .colab-df-container {\n",
              "      display:flex;\n",
              "      flex-wrap:wrap;\n",
              "      gap: 12px;\n",
              "    }\n",
              "\n",
              "    .colab-df-convert {\n",
              "      background-color: #E8F0FE;\n",
              "      border: none;\n",
              "      border-radius: 50%;\n",
              "      cursor: pointer;\n",
              "      display: none;\n",
              "      fill: #1967D2;\n",
              "      height: 32px;\n",
              "      padding: 0 0 0 0;\n",
              "      width: 32px;\n",
              "    }\n",
              "\n",
              "    .colab-df-convert:hover {\n",
              "      background-color: #E2EBFA;\n",
              "      box-shadow: 0px 1px 2px rgba(60, 64, 67, 0.3), 0px 1px 3px 1px rgba(60, 64, 67, 0.15);\n",
              "      fill: #174EA6;\n",
              "    }\n",
              "\n",
              "    [theme=dark] .colab-df-convert {\n",
              "      background-color: #3B4455;\n",
              "      fill: #D2E3FC;\n",
              "    }\n",
              "\n",
              "    [theme=dark] .colab-df-convert:hover {\n",
              "      background-color: #434B5C;\n",
              "      box-shadow: 0px 1px 3px 1px rgba(0, 0, 0, 0.15);\n",
              "      filter: drop-shadow(0px 1px 2px rgba(0, 0, 0, 0.3));\n",
              "      fill: #FFFFFF;\n",
              "    }\n",
              "  </style>\n",
              "\n",
              "      <script>\n",
              "        const buttonEl =\n",
              "          document.querySelector('#df-b154bbe1-945a-410c-a7d4-5b2f80cb6a9c button.colab-df-convert');\n",
              "        buttonEl.style.display =\n",
              "          google.colab.kernel.accessAllowed ? 'block' : 'none';\n",
              "\n",
              "        async function convertToInteractive(key) {\n",
              "          const element = document.querySelector('#df-b154bbe1-945a-410c-a7d4-5b2f80cb6a9c');\n",
              "          const dataTable =\n",
              "            await google.colab.kernel.invokeFunction('convertToInteractive',\n",
              "                                                     [key], {});\n",
              "          if (!dataTable) return;\n",
              "\n",
              "          const docLinkHtml = 'Like what you see? Visit the ' +\n",
              "            '<a target=\"_blank\" href=https://colab.research.google.com/notebooks/data_table.ipynb>data table notebook</a>'\n",
              "            + ' to learn more about interactive tables.';\n",
              "          element.innerHTML = '';\n",
              "          dataTable['output_type'] = 'display_data';\n",
              "          await google.colab.output.renderOutput(dataTable, element);\n",
              "          const docLink = document.createElement('div');\n",
              "          docLink.innerHTML = docLinkHtml;\n",
              "          element.appendChild(docLink);\n",
              "        }\n",
              "      </script>\n",
              "    </div>\n",
              "  </div>\n",
              "  "
            ]
          },
          "metadata": {},
          "execution_count": 32
        }
      ]
    },
    {
      "cell_type": "code",
      "source": [
        "plt.bar(df_UV['Smu1.Time[1][1]'], df_UV['CS_I'], color='violet')\n",
        "plt.xlabel('Time (sec)')\n",
        "plt.ylabel('Current (ampere)')\n",
        "plt.title('UV LED (Commercial Sensor)')"
      ],
      "metadata": {
        "colab": {
          "base_uri": "https://localhost:8080/",
          "height": 312
        },
        "id": "eRuVMzbc06sR",
        "outputId": "192e7722-8227-492e-84be-1dfd5203ca66"
      },
      "execution_count": null,
      "outputs": [
        {
          "output_type": "execute_result",
          "data": {
            "text/plain": [
              "Text(0.5, 1.0, 'UV LED (Commercial Sensor)')"
            ]
          },
          "metadata": {},
          "execution_count": 33
        },
        {
          "output_type": "display_data",
          "data": {
            "text/plain": [
              "<Figure size 432x288 with 1 Axes>"
            ],
            "image/png": "[encoded data removed]"
          },
          "metadata": {
            "needs_background": "light"
          }
        }
      ]
    },
    {
      "cell_type": "code",
      "source": [
        "plt.bar(df_UV['Smu1.Time[1][1]'], df_UV['CS_I'], color='violet')\n",
        "plt.ylim(0.000007, 0.00022)\n",
        "plt.xlabel('Time (sec)')\n",
        "plt.ylabel('Current (ampere)')\n",
        "plt.title('UV LED (Commercial Sensor)')"
      ],
      "metadata": {
        "colab": {
          "base_uri": "https://localhost:8080/",
          "height": 312
        },
        "id": "QjO8oeyo2_ko",
        "outputId": "9e06d277-13ba-467c-a418-525c41660f51"
      },
      "execution_count": null,
      "outputs": [
        {
          "output_type": "execute_result",
          "data": {
            "text/plain": [
              "Text(0.5, 1.0, 'UV LED (Commercial Sensor)')"
            ]
          },
          "metadata": {},
          "execution_count": 34
        },
        {
          "output_type": "display_data",
          "data": {
            "text/plain": [
              "<Figure size 432x288 with 1 Axes>"
            ],
            "image/png": "[encoded data removed]"
          },
          "metadata": {
            "needs_background": "light"
          }
        }
      ]
    },
    {
      "cell_type": "code",
      "source": [
        "# IR LED\n",
        "df_IR = df[df.label=='IR']\n",
        "df_IR.head()"
      ],
      "metadata": {
        "colab": {
          "base_uri": "https://localhost:8080/",
          "height": 206
        },
        "id": "aInHTqY1zgR7",
        "outputId": "1e648eda-891d-4bff-eb3b-f46e2dd20c07"
      },
      "execution_count": null,
      "outputs": [
        {
          "output_type": "execute_result",
          "data": {
            "text/plain": [
              "       Smu1.Time[1][1]      CS_I         LFS_I label on/off\n",
              "10598         0.000000  0.000007  2.316754e-07    IR    off\n",
              "10599         0.141004  0.000007  2.317006e-07    IR    off\n",
              "10600         0.281955  0.000007  2.316043e-07    IR    off\n",
              "10601         0.422911  0.000007  2.314931e-07    IR    off\n",
              "10602         0.563883  0.000007  2.316194e-07    IR    off"
            ],
            "text/html": [
              "\n",
              "  <div id=\"df-2f754986-e307-48cb-853c-687ab68dfbe8\">\n",
              "    <div class=\"colab-df-container\">\n",
              "      <div>\n",
              "<style scoped>\n",
              "    .dataframe tbody tr th:only-of-type {\n",
              "        vertical-align: middle;\n",
              "    }\n",
              "\n",
              "    .dataframe tbody tr th {\n",
              "        vertical-align: top;\n",
              "    }\n",
              "\n",
              "    .dataframe thead th {\n",
              "        text-align: right;\n",
              "    }\n",
              "</style>\n",
              "<table border=\"1\" class=\"dataframe\">\n",
              "  <thead>\n",
              "    <tr style=\"text-align: right;\">\n",
              "      <th></th>\n",
              "      <th>Smu1.Time[1][1]</th>\n",
              "      <th>CS_I</th>\n",
              "      <th>LFS_I</th>\n",
              "      <th>label</th>\n",
              "      <th>on/off</th>\n",
              "    </tr>\n",
              "  </thead>\n",
              "  <tbody>\n",
              "    <tr>\n",
              "      <th>10598</th>\n",
              "      <td>0.000000</td>\n",
              "      <td>0.000007</td>\n",
              "      <td>2.316754e-07</td>\n",
              "      <td>IR</td>\n",
              "      <td>off</td>\n",
              "    </tr>\n",
              "    <tr>\n",
              "      <th>10599</th>\n",
              "      <td>0.141004</td>\n",
              "      <td>0.000007</td>\n",
              "      <td>2.317006e-07</td>\n",
              "      <td>IR</td>\n",
              "      <td>off</td>\n",
              "    </tr>\n",
              "    <tr>\n",
              "      <th>10600</th>\n",
              "      <td>0.281955</td>\n",
              "      <td>0.000007</td>\n",
              "      <td>2.316043e-07</td>\n",
              "      <td>IR</td>\n",
              "      <td>off</td>\n",
              "    </tr>\n",
              "    <tr>\n",
              "      <th>10601</th>\n",
              "      <td>0.422911</td>\n",
              "      <td>0.000007</td>\n",
              "      <td>2.314931e-07</td>\n",
              "      <td>IR</td>\n",
              "      <td>off</td>\n",
              "    </tr>\n",
              "    <tr>\n",
              "      <th>10602</th>\n",
              "      <td>0.563883</td>\n",
              "      <td>0.000007</td>\n",
              "      <td>2.316194e-07</td>\n",
              "      <td>IR</td>\n",
              "      <td>off</td>\n",
              "    </tr>\n",
              "  </tbody>\n",
              "</table>\n",
              "</div>\n",
              "      <button class=\"colab-df-convert\" onclick=\"convertToInteractive('df-2f754986-e307-48cb-853c-687ab68dfbe8')\"\n",
              "              title=\"Convert this dataframe to an interactive table.\"\n",
              "              style=\"display:none;\">\n",
              "        \n",
              "  <svg xmlns=\"http://www.w3.org/2000/svg\" height=\"24px\"viewBox=\"0 0 24 24\"\n",
              "       width=\"24px\">\n",
              "    <path d=\"M0 0h24v24H0V0z\" fill=\"none\"/>\n",
              "    <path d=\"M18.56 5.44l.94 2.06.94-2.06 2.06-.94-2.06-.94-.94-2.06-.94 2.06-2.06.94zm-11 1L8.5 8.5l.94-2.06 2.06-.94-2.06-.94L8.5 2.5l-.94 2.06-2.06.94zm10 10l.94 2.06.94-2.06 2.06-.94-2.06-.94-.94-2.06-.94 2.06-2.06.94z\"/><path d=\"M17.41 7.96l-1.37-1.37c-.4-.4-.92-.59-1.43-.59-.52 0-1.04.2-1.43.59L10.3 9.45l-7.72 7.72c-.78.78-.78 2.05 0 2.83L4 21.41c.39.39.9.59 1.41.59.51 0 1.02-.2 1.41-.59l7.78-7.78 2.81-2.81c.8-.78.8-2.07 0-2.86zM5.41 20L4 18.59l7.72-7.72 1.47 1.35L5.41 20z\"/>\n",
              "  </svg>\n",
              "      </button>\n",
              "      \n",
              "  <style>\n",
              "    .colab-df-container {\n",
              "      display:flex;\n",
              "      flex-wrap:wrap;\n",
              "      gap: 12px;\n",
              "    }\n",
              "\n",
              "    .colab-df-convert {\n",
              "      background-color: #E8F0FE;\n",
              "      border: none;\n",
              "      border-radius: 50%;\n",
              "      cursor: pointer;\n",
              "      display: none;\n",
              "      fill: #1967D2;\n",
              "      height: 32px;\n",
              "      padding: 0 0 0 0;\n",
              "      width: 32px;\n",
              "    }\n",
              "\n",
              "    .colab-df-convert:hover {\n",
              "      background-color: #E2EBFA;\n",
              "      box-shadow: 0px 1px 2px rgba(60, 64, 67, 0.3), 0px 1px 3px 1px rgba(60, 64, 67, 0.15);\n",
              "      fill: #174EA6;\n",
              "    }\n",
              "\n",
              "    [theme=dark] .colab-df-convert {\n",
              "      background-color: #3B4455;\n",
              "      fill: #D2E3FC;\n",
              "    }\n",
              "\n",
              "    [theme=dark] .colab-df-convert:hover {\n",
              "      background-color: #434B5C;\n",
              "      box-shadow: 0px 1px 3px 1px rgba(0, 0, 0, 0.15);\n",
              "      filter: drop-shadow(0px 1px 2px rgba(0, 0, 0, 0.3));\n",
              "      fill: #FFFFFF;\n",
              "    }\n",
              "  </style>\n",
              "\n",
              "      <script>\n",
              "        const buttonEl =\n",
              "          document.querySelector('#df-2f754986-e307-48cb-853c-687ab68dfbe8 button.colab-df-convert');\n",
              "        buttonEl.style.display =\n",
              "          google.colab.kernel.accessAllowed ? 'block' : 'none';\n",
              "\n",
              "        async function convertToInteractive(key) {\n",
              "          const element = document.querySelector('#df-2f754986-e307-48cb-853c-687ab68dfbe8');\n",
              "          const dataTable =\n",
              "            await google.colab.kernel.invokeFunction('convertToInteractive',\n",
              "                                                     [key], {});\n",
              "          if (!dataTable) return;\n",
              "\n",
              "          const docLinkHtml = 'Like what you see? Visit the ' +\n",
              "            '<a target=\"_blank\" href=https://colab.research.google.com/notebooks/data_table.ipynb>data table notebook</a>'\n",
              "            + ' to learn more about interactive tables.';\n",
              "          element.innerHTML = '';\n",
              "          dataTable['output_type'] = 'display_data';\n",
              "          await google.colab.output.renderOutput(dataTable, element);\n",
              "          const docLink = document.createElement('div');\n",
              "          docLink.innerHTML = docLinkHtml;\n",
              "          element.appendChild(docLink);\n",
              "        }\n",
              "      </script>\n",
              "    </div>\n",
              "  </div>\n",
              "  "
            ]
          },
          "metadata": {},
          "execution_count": 35
        }
      ]
    },
    {
      "cell_type": "code",
      "source": [
        "plt.bar(df_IR['Smu1.Time[1][1]'], df_IR['CS_I'], color='DarkMagenta')\n",
        "plt.xlabel('Time (sec)')\n",
        "plt.ylabel('Current (ampere)')\n",
        "plt.title('IR LED (Commercial Sensor)')"
      ],
      "metadata": {
        "colab": {
          "base_uri": "https://localhost:8080/",
          "height": 312
        },
        "id": "9P5xQqkR0xAx",
        "outputId": "247277fb-29a0-47a8-c214-a66636462377"
      },
      "execution_count": null,
      "outputs": [
        {
          "output_type": "execute_result",
          "data": {
            "text/plain": [
              "Text(0.5, 1.0, 'IR LED (Commercial Sensor)')"
            ]
          },
          "metadata": {},
          "execution_count": 36
        },
        {
          "output_type": "display_data",
          "data": {
            "text/plain": [
              "<Figure size 432x288 with 1 Axes>"
            ],
            "image/png": "[encoded data removed]"
          },
          "metadata": {
            "needs_background": "light"
          }
        }
      ]
    },
    {
      "cell_type": "code",
      "source": [
        "plt.bar(df_IR['Smu1.Time[1][1]'], df_IR['CS_I'], color='DarkMagenta')\n",
        "plt.ylim(6.6*1e-6, 8.5*1e-6)\n",
        "plt.xlabel('Time (sec)')\n",
        "plt.ylabel('Current (ampere)')\n",
        "plt.title('IR LED (Commercial Sensor)')"
      ],
      "metadata": {
        "colab": {
          "base_uri": "https://localhost:8080/",
          "height": 312
        },
        "id": "vCX4MBzQ1evs",
        "outputId": "6f9d960e-e107-4a41-f32e-814ade7d3ebd"
      },
      "execution_count": null,
      "outputs": [
        {
          "output_type": "execute_result",
          "data": {
            "text/plain": [
              "Text(0.5, 1.0, 'IR LED (Commercial Sensor)')"
            ]
          },
          "metadata": {},
          "execution_count": 37
        },
        {
          "output_type": "display_data",
          "data": {
            "text/plain": [
              "<Figure size 432x288 with 1 Axes>"
            ],
            "image/png": "[encoded data removed]"
          },
          "metadata": {
            "needs_background": "light"
          }
        }
      ]
    },
    {
      "cell_type": "code",
      "source": [
        "# AMBIENT\n",
        "df_ambient = df[df.label=='Ambient']\n",
        "df_ambient.head()"
      ],
      "metadata": {
        "id": "rY132kIkzgI4",
        "colab": {
          "base_uri": "https://localhost:8080/",
          "height": 206
        },
        "outputId": "ed42f17a-b848-4083-b439-60a97e949b2c"
      },
      "execution_count": null,
      "outputs": [
        {
          "output_type": "execute_result",
          "data": {
            "text/plain": [
              "       Smu1.Time[1][1]      CS_I         LFS_I    label on/off\n",
              "12751         0.000000  0.000019  2.401770e-07  Ambient    off\n",
              "12752         0.140996  0.000016  2.393396e-07  Ambient    off\n",
              "12753         0.281961  0.000013  2.384968e-07  Ambient    off\n",
              "12754         0.422925  0.000012  2.377923e-07  Ambient    off\n",
              "12755         0.563887  0.000011  2.376241e-07  Ambient    off"
            ],
            "text/html": [
              "\n",
              "  <div id=\"df-84d0a09d-0aa7-4614-b730-e41c810f968c\">\n",
              "    <div class=\"colab-df-container\">\n",
              "      <div>\n",
              "<style scoped>\n",
              "    .dataframe tbody tr th:only-of-type {\n",
              "        vertical-align: middle;\n",
              "    }\n",
              "\n",
              "    .dataframe tbody tr th {\n",
              "        vertical-align: top;\n",
              "    }\n",
              "\n",
              "    .dataframe thead th {\n",
              "        text-align: right;\n",
              "    }\n",
              "</style>\n",
              "<table border=\"1\" class=\"dataframe\">\n",
              "  <thead>\n",
              "    <tr style=\"text-align: right;\">\n",
              "      <th></th>\n",
              "      <th>Smu1.Time[1][1]</th>\n",
              "      <th>CS_I</th>\n",
              "      <th>LFS_I</th>\n",
              "      <th>label</th>\n",
              "      <th>on/off</th>\n",
              "    </tr>\n",
              "  </thead>\n",
              "  <tbody>\n",
              "    <tr>\n",
              "      <th>12751</th>\n",
              "      <td>0.000000</td>\n",
              "      <td>0.000019</td>\n",
              "      <td>2.401770e-07</td>\n",
              "      <td>Ambient</td>\n",
              "      <td>off</td>\n",
              "    </tr>\n",
              "    <tr>\n",
              "      <th>12752</th>\n",
              "      <td>0.140996</td>\n",
              "      <td>0.000016</td>\n",
              "      <td>2.393396e-07</td>\n",
              "      <td>Ambient</td>\n",
              "      <td>off</td>\n",
              "    </tr>\n",
              "    <tr>\n",
              "      <th>12753</th>\n",
              "      <td>0.281961</td>\n",
              "      <td>0.000013</td>\n",
              "      <td>2.384968e-07</td>\n",
              "      <td>Ambient</td>\n",
              "      <td>off</td>\n",
              "    </tr>\n",
              "    <tr>\n",
              "      <th>12754</th>\n",
              "      <td>0.422925</td>\n",
              "      <td>0.000012</td>\n",
              "      <td>2.377923e-07</td>\n",
              "      <td>Ambient</td>\n",
              "      <td>off</td>\n",
              "    </tr>\n",
              "    <tr>\n",
              "      <th>12755</th>\n",
              "      <td>0.563887</td>\n",
              "      <td>0.000011</td>\n",
              "      <td>2.376241e-07</td>\n",
              "      <td>Ambient</td>\n",
              "      <td>off</td>\n",
              "    </tr>\n",
              "  </tbody>\n",
              "</table>\n",
              "</div>\n",
              "      <button class=\"colab-df-convert\" onclick=\"convertToInteractive('df-84d0a09d-0aa7-4614-b730-e41c810f968c')\"\n",
              "              title=\"Convert this dataframe to an interactive table.\"\n",
              "              style=\"display:none;\">\n",
              "        \n",
              "  <svg xmlns=\"http://www.w3.org/2000/svg\" height=\"24px\"viewBox=\"0 0 24 24\"\n",
              "       width=\"24px\">\n",
              "    <path d=\"M0 0h24v24H0V0z\" fill=\"none\"/>\n",
              "    <path d=\"M18.56 5.44l.94 2.06.94-2.06 2.06-.94-2.06-.94-.94-2.06-.94 2.06-2.06.94zm-11 1L8.5 8.5l.94-2.06 2.06-.94-2.06-.94L8.5 2.5l-.94 2.06-2.06.94zm10 10l.94 2.06.94-2.06 2.06-.94-2.06-.94-.94-2.06-.94 2.06-2.06.94z\"/><path d=\"M17.41 7.96l-1.37-1.37c-.4-.4-.92-.59-1.43-.59-.52 0-1.04.2-1.43.59L10.3 9.45l-7.72 7.72c-.78.78-.78 2.05 0 2.83L4 21.41c.39.39.9.59 1.41.59.51 0 1.02-.2 1.41-.59l7.78-7.78 2.81-2.81c.8-.78.8-2.07 0-2.86zM5.41 20L4 18.59l7.72-7.72 1.47 1.35L5.41 20z\"/>\n",
              "  </svg>\n",
              "      </button>\n",
              "      \n",
              "  <style>\n",
              "    .colab-df-container {\n",
              "      display:flex;\n",
              "      flex-wrap:wrap;\n",
              "      gap: 12px;\n",
              "    }\n",
              "\n",
              "    .colab-df-convert {\n",
              "      background-color: #E8F0FE;\n",
              "      border: none;\n",
              "      border-radius: 50%;\n",
              "      cursor: pointer;\n",
              "      display: none;\n",
              "      fill: #1967D2;\n",
              "      height: 32px;\n",
              "      padding: 0 0 0 0;\n",
              "      width: 32px;\n",
              "    }\n",
              "\n",
              "    .colab-df-convert:hover {\n",
              "      background-color: #E2EBFA;\n",
              "      box-shadow: 0px 1px 2px rgba(60, 64, 67, 0.3), 0px 1px 3px 1px rgba(60, 64, 67, 0.15);\n",
              "      fill: #174EA6;\n",
              "    }\n",
              "\n",
              "    [theme=dark] .colab-df-convert {\n",
              "      background-color: #3B4455;\n",
              "      fill: #D2E3FC;\n",
              "    }\n",
              "\n",
              "    [theme=dark] .colab-df-convert:hover {\n",
              "      background-color: #434B5C;\n",
              "      box-shadow: 0px 1px 3px 1px rgba(0, 0, 0, 0.15);\n",
              "      filter: drop-shadow(0px 1px 2px rgba(0, 0, 0, 0.3));\n",
              "      fill: #FFFFFF;\n",
              "    }\n",
              "  </style>\n",
              "\n",
              "      <script>\n",
              "        const buttonEl =\n",
              "          document.querySelector('#df-84d0a09d-0aa7-4614-b730-e41c810f968c button.colab-df-convert');\n",
              "        buttonEl.style.display =\n",
              "          google.colab.kernel.accessAllowed ? 'block' : 'none';\n",
              "\n",
              "        async function convertToInteractive(key) {\n",
              "          const element = document.querySelector('#df-84d0a09d-0aa7-4614-b730-e41c810f968c');\n",
              "          const dataTable =\n",
              "            await google.colab.kernel.invokeFunction('convertToInteractive',\n",
              "                                                     [key], {});\n",
              "          if (!dataTable) return;\n",
              "\n",
              "          const docLinkHtml = 'Like what you see? Visit the ' +\n",
              "            '<a target=\"_blank\" href=https://colab.research.google.com/notebooks/data_table.ipynb>data table notebook</a>'\n",
              "            + ' to learn more about interactive tables.';\n",
              "          element.innerHTML = '';\n",
              "          dataTable['output_type'] = 'display_data';\n",
              "          await google.colab.output.renderOutput(dataTable, element);\n",
              "          const docLink = document.createElement('div');\n",
              "          docLink.innerHTML = docLinkHtml;\n",
              "          element.appendChild(docLink);\n",
              "        }\n",
              "      </script>\n",
              "    </div>\n",
              "  </div>\n",
              "  "
            ]
          },
          "metadata": {},
          "execution_count": 40
        }
      ]
    },
    {
      "cell_type": "code",
      "source": [
        "plt.bar(df_ambient['Smu1.Time[1][1]'], df_ambient['CS_I'], color='LawnGreen')\n",
        "plt.xlabel('Time (sec)')\n",
        "plt.ylabel('Current (ampere)')\n",
        "plt.title('AMBIENT (commercial sensor)')"
      ],
      "metadata": {
        "colab": {
          "base_uri": "https://localhost:8080/",
          "height": 312
        },
        "id": "Y3cUpgQcVNRf",
        "outputId": "6dc500ab-737f-4047-e9aa-4bd37da555b4"
      },
      "execution_count": null,
      "outputs": [
        {
          "output_type": "execute_result",
          "data": {
            "text/plain": [
              "Text(0.5, 1.0, 'AMBIENT (commercial sensor)')"
            ]
          },
          "metadata": {},
          "execution_count": 41
        },
        {
          "output_type": "display_data",
          "data": {
            "text/plain": [
              "<Figure size 432x288 with 1 Axes>"
            ],
            "image/png": "[encoded data removed]"
          },
          "metadata": {
            "needs_background": "light"
          }
        }
      ]
    },
    {
      "cell_type": "code",
      "source": [
        "plt.bar(df_ambient['Smu1.Time[1][1]'], df_ambient['CS_I'], color='LawnGreen')\n",
        "plt.ylim(5*1e-6, 0.0018)\n",
        "plt.xlabel('Time (sec)')\n",
        "plt.ylabel('Current (ampere)')\n",
        "plt.title('AMBIENT (commercial sensor)')"
      ],
      "metadata": {
        "colab": {
          "base_uri": "https://localhost:8080/",
          "height": 312
        },
        "id": "g9Ekt-CsNEo-",
        "outputId": "2eec4be9-6bda-4028-eab0-d5aaf26510bc"
      },
      "execution_count": null,
      "outputs": [
        {
          "output_type": "execute_result",
          "data": {
            "text/plain": [
              "Text(0.5, 1.0, 'AMBIENT (commercial sensor)')"
            ]
          },
          "metadata": {},
          "execution_count": 42
        },
        {
          "output_type": "display_data",
          "data": {
            "text/plain": [
              "<Figure size 432x288 with 1 Axes>"
            ],
            "image/png": "[encoded data removed]"
          },
          "metadata": {
            "needs_background": "light"
          }
        }
      ]
    },
    {
      "cell_type": "code",
      "source": [],
      "metadata": {
        "id": "LkpPxqBbzgFc"
      },
      "execution_count": null,
      "outputs": []
    },
    {
      "cell_type": "code",
      "source": [],
      "metadata": {
        "id": "gwIUuRtUc14Z"
      },
      "execution_count": null,
      "outputs": []
    },
    {
      "cell_type": "code",
      "source": [
        "# Imax - Imin\n",
        "UVmax = df_UV['CS_I'].max()\n",
        "UVmin = df_UV['CS_I'].min()\n",
        "Bluemax = df_blue['CS_I'].max()\n",
        "Bluemin = df_blue['CS_I'].min()\n",
        "Greenmax = df_green['CS_I'].max()\n",
        "Greenmin = df_green['CS_I'].min()\n",
        "Redmax = df_red['CS_I'].max()\n",
        "Redmin = df_red['CS_I'].min()\n",
        "IRmax = df_IR['CS_I'].max()\n",
        "IRmin = df_IR['CS_I'].min()\n",
        "Flashlightmax = df_flashlight['CS_I'].max()\n",
        "Flashlightmin = df_flashlight['CS_I'].min()\n",
        "Ambientmax = df_ambient['CS_I'].max()\n",
        "Ambientmin = df_ambient['CS_I'].min()\n",
        "\n",
        "difference = [UVmax-UVmin, Bluemax-Bluemin, Greenmax-Greenmin, Redmax-Redmin, IRmax-IRmin, Flashlightmax-Flashlightmin, Ambientmax-Ambientmin]\n",
        "\n",
        "difference"
      ],
      "metadata": {
        "colab": {
          "base_uri": "https://localhost:8080/"
        },
        "id": "iS3EkvmtDem8",
        "outputId": "df743ea2-e4c7-4475-932c-f4b3c61d35a1"
      },
      "execution_count": null,
      "outputs": [
        {
          "output_type": "execute_result",
          "data": {
            "text/plain": [
              "[0.00020101323480048412,\n",
              " 0.00038223840874707066,\n",
              " 0.0006132207281552836,\n",
              " 0.0006465608221333245,\n",
              " 2.06915501621552e-06,\n",
              " 0.0016404305069954734,\n",
              " 0.001693389319370909]"
            ]
          },
          "metadata": {},
          "execution_count": 43
        }
      ]
    },
    {
      "cell_type": "code",
      "source": [
        "leds = ['UV', 'Blue', 'Green', 'Red', 'IR', 'Flashlight', 'Ambient']\n",
        "plt.scatter(leds, difference)\n",
        "plt.xlabel('leds')\n",
        "plt.ylabel('I_max - I_min (Ampere)')"
      ],
      "metadata": {
        "colab": {
          "base_uri": "https://localhost:8080/",
          "height": 297
        },
        "id": "7EabXViJDl9Z",
        "outputId": "8c5ae2a3-8c1e-476f-fef1-fefd873968d4"
      },
      "execution_count": null,
      "outputs": [
        {
          "output_type": "execute_result",
          "data": {
            "text/plain": [
              "Text(0, 0.5, 'I_max - I_min (Ampere)')"
            ]
          },
          "metadata": {},
          "execution_count": 44
        },
        {
          "output_type": "display_data",
          "data": {
            "text/plain": [
              "<Figure size 432x288 with 1 Axes>"
            ],
            "image/png": "[encoded data removed]"
          },
          "metadata": {
            "needs_background": "light"
          }
        }
      ]
    },
    {
      "cell_type": "code",
      "source": [
        "plt.figure(figsize = (7,5))\n",
        "plt.bar(leds, difference, color='g')\n",
        "plt.xlabel('light sources')\n",
        "plt.ylabel('I_max - I_min (Ampere)')"
      ],
      "metadata": {
        "colab": {
          "base_uri": "https://localhost:8080/",
          "height": 351
        },
        "id": "Ai0UrR0eETNs",
        "outputId": "4b17778f-a50b-4c34-9610-650660b675c2"
      },
      "execution_count": null,
      "outputs": [
        {
          "output_type": "execute_result",
          "data": {
            "text/plain": [
              "Text(0, 0.5, 'I_max - I_min (Ampere)')"
            ]
          },
          "metadata": {},
          "execution_count": 45
        },
        {
          "output_type": "display_data",
          "data": {
            "text/plain": [
              "<Figure size 504x360 with 1 Axes>"
            ],
            "image/png": "[encoded data removed]"
          },
          "metadata": {
            "needs_background": "light"
          }
        }
      ]
    },
    {
      "cell_type": "code",
      "source": [
        "# diff = difference\n",
        "# diff = [0.00020101323480048412,\n",
        "#  0.00038223840874707066,\n",
        "#  0.0006132207281552836,\n",
        "#  0.0006465608221333245,\n",
        "#  2.06915501621552e-06,\n",
        "#  0.0016404305069954734,\n",
        "#  0.001693389319370909]\n",
        "\n",
        "# diff = ['2.01e-4', '3.82e-4', '6.13e-4', '6.46e-4', '2.07e-6', '1.64e-3', '1.69e-3']\n",
        "diff = [2.01e-4, 3.82e-4, 6.13e-4, 6.46e-4, 2.07e-6, 1.64e-3, 1.69e-3]\n",
        "diff"
      ],
      "metadata": {
        "colab": {
          "base_uri": "https://localhost:8080/"
        },
        "id": "5bncVwe6ExZl",
        "outputId": "b3afeeec-23ed-4855-95ad-24d6d0d0663a"
      },
      "execution_count": null,
      "outputs": [
        {
          "output_type": "execute_result",
          "data": {
            "text/plain": [
              "[0.000201, 0.000382, 0.000613, 0.000646, 2.07e-06, 0.00164, 0.00169]"
            ]
          },
          "metadata": {},
          "execution_count": 46
        }
      ]
    },
    {
      "cell_type": "code",
      "source": [
        "# function to add value labels\n",
        "def addlabels(x,y):\n",
        "    for i in range(len(x)):\n",
        "        # plt.text(i, y[i], y[i])\n",
        "        # plt.text(i, y[i], y[i], ha = 'center')\n",
        "        # plt.text(i, y[i], y[i], ha = 'center', Bbox = dict(facecolor = 'white', alpha =.2))\n",
        "        # plt.text(i, y[i], y[i], ha = 'center', Bbox = dict(facecolor = 'red', alpha =.8))\n",
        "        # plt.text(i, y[i]//2, y[i], ha = 'center')\n",
        "        # plt.text(i, y[i]//2,y[i], ha = 'center', Bbox = dict(facecolor = 'white', alpha = .5))\n",
        "\n",
        "        plt.text(i, y[i]+0.00002, y[i], ha = 'center')\n",
        "\n",
        "\n",
        "# plt.figure(figsize=(10,7))\n",
        "plt.figure(figsize = (10,5))\n",
        "plt.bar(leds, difference, color='g')\n",
        "addlabels(leds, diff)\n",
        "plt.title('I_max - I_min for different light sources')\n",
        "plt.xlabel('light sources')\n",
        "plt.ylabel('I_max - I_min (Ampere)')"
      ],
      "metadata": {
        "colab": {
          "base_uri": "https://localhost:8080/",
          "height": 367
        },
        "id": "C1T6mbKcB-EH",
        "outputId": "93598fe4-0491-4ca1-b15b-b270c26c549e"
      },
      "execution_count": null,
      "outputs": [
        {
          "output_type": "execute_result",
          "data": {
            "text/plain": [
              "Text(0, 0.5, 'I_max - I_min (Ampere)')"
            ]
          },
          "metadata": {},
          "execution_count": 47
        },
        {
          "output_type": "display_data",
          "data": {
            "text/plain": [
              "<Figure size 720x360 with 1 Axes>"
            ],
            "image/png": "[encoded data removed]"
          },
          "metadata": {
            "needs_background": "light"
          }
        }
      ]
    },
    {
      "cell_type": "code",
      "source": [
        "ratio = [ (Flashlightmax-Flashlightmin) / (UVmax-UVmin), \n",
        "          (Flashlightmax-Flashlightmin) / (Bluemax-Bluemin), \n",
        "          (Flashlightmax-Flashlightmin) / (Greenmax-Greenmin), \n",
        "          (Flashlightmax-Flashlightmin) / (Redmax-Redmin), \n",
        "          (Flashlightmax-Flashlightmin) / (IRmax-IRmin),\n",
        "          (Flashlightmax-Flashlightmin) / (Flashlightmax-Flashlightmin),\n",
        "          (Flashlightmax-Flashlightmin) / (Ambientmax-Ambientmin) ]\n",
        "\n",
        "ratio"
      ],
      "metadata": {
        "colab": {
          "base_uri": "https://localhost:8080/"
        },
        "id": "mC2V9q3QrqwO",
        "outputId": "e1e23525-e6f6-412f-87e5-8f46a8990fec"
      },
      "execution_count": null,
      "outputs": [
        {
          "output_type": "execute_result",
          "data": {
            "text/plain": [
              "[8.160808459322016,\n",
              " 4.291642256393327,\n",
              " 2.6751060942285587,\n",
              " 2.537163482289076,\n",
              " 792.8021313723596,\n",
              " 1.0,\n",
              " 0.9687261447975178]"
            ]
          },
          "metadata": {},
          "execution_count": 48
        }
      ]
    },
    {
      "cell_type": "code",
      "source": [],
      "metadata": {
        "id": "VSIpX666tPO-"
      },
      "execution_count": null,
      "outputs": []
    },
    {
      "cell_type": "code",
      "source": [],
      "metadata": {
        "id": "vhZ6yuhrLD5a"
      },
      "execution_count": null,
      "outputs": []
    },
    {
      "cell_type": "markdown",
      "source": [
        "# LAB FABRICATED SENSOR DISTANCE CONSTANT"
      ],
      "metadata": {
        "id": "XhrUrtd-RGRu"
      }
    },
    {
      "cell_type": "code",
      "source": [
        "# BLUE LED\n",
        "plt.scatter(df_blue['Smu1.Time[1][1]'], df_blue['LFS_I'], color='blue')\n",
        "plt.xlabel('Time (sec)')\n",
        "plt.ylabel('Current (ampere)')\n",
        "plt.title('BLUE LED (Lab Fabricated Sensor)')"
      ],
      "metadata": {
        "colab": {
          "base_uri": "https://localhost:8080/",
          "height": 312
        },
        "id": "U9X65wTwRKhV",
        "outputId": "3993eba9-be19-4080-8b0a-0064abc3aa8c"
      },
      "execution_count": null,
      "outputs": [
        {
          "output_type": "execute_result",
          "data": {
            "text/plain": [
              "Text(0.5, 1.0, 'BLUE LED (Lab Fabricated Sensor)')"
            ]
          },
          "metadata": {},
          "execution_count": 49
        },
        {
          "output_type": "display_data",
          "data": {
            "text/plain": [
              "<Figure size 432x288 with 1 Axes>"
            ],
            "image/png": "[encoded data removed]"
          },
          "metadata": {
            "needs_background": "light"
          }
        }
      ]
    },
    {
      "cell_type": "code",
      "source": [
        "plt.bar(df_blue['Smu1.Time[1][1]'], df_blue['LFS_I'], color='blue')\n",
        "plt.xlabel('Time (sec)')\n",
        "plt.ylabel('Current (ampere)')\n",
        "plt.title('BLUE LED (Lab Fabricated Sensor)')"
      ],
      "metadata": {
        "colab": {
          "base_uri": "https://localhost:8080/",
          "height": 312
        },
        "id": "v1lMOJh4RKeE",
        "outputId": "3c0ba98b-98c2-46d3-c22d-c8a032993709"
      },
      "execution_count": null,
      "outputs": [
        {
          "output_type": "execute_result",
          "data": {
            "text/plain": [
              "Text(0.5, 1.0, 'BLUE LED (Lab Fabricated Sensor)')"
            ]
          },
          "metadata": {},
          "execution_count": 50
        },
        {
          "output_type": "display_data",
          "data": {
            "text/plain": [
              "<Figure size 432x288 with 1 Axes>"
            ],
            "image/png": "[encoded data removed]"
          },
          "metadata": {
            "needs_background": "light"
          }
        }
      ]
    },
    {
      "cell_type": "code",
      "source": [
        "plt.bar(df_blue['Smu1.Time[1][1]'], df_blue['LFS_I'], color='blue')\n",
        "plt.ylim(0.24*1e-6, 5*1e-7)\n",
        "plt.xlabel('Time (sec)')\n",
        "plt.ylabel('Current (ampere)')\n",
        "plt.title('BLUE LED (Lab Fabricated Sensor)')"
      ],
      "metadata": {
        "colab": {
          "base_uri": "https://localhost:8080/",
          "height": 312
        },
        "id": "oZVfzRnpRKa2",
        "outputId": "49dbed7d-cb9f-4156-87f1-baf0b6f9c0e6"
      },
      "execution_count": null,
      "outputs": [
        {
          "output_type": "execute_result",
          "data": {
            "text/plain": [
              "Text(0.5, 1.0, 'BLUE LED (Lab Fabricated Sensor)')"
            ]
          },
          "metadata": {},
          "execution_count": 51
        },
        {
          "output_type": "display_data",
          "data": {
            "text/plain": [
              "<Figure size 432x288 with 1 Axes>"
            ],
            "image/png": "[encoded data removed]"
          },
          "metadata": {
            "needs_background": "light"
          }
        }
      ]
    },
    {
      "cell_type": "code",
      "source": [
        "# FLASHLIGHT\n",
        "plt.bar(df_flashlight['Smu1.Time[1][1]'], df_flashlight['LFS_I'], color='cyan')\n",
        "plt.xlabel('Time (sec)')\n",
        "plt.ylabel('Current (ampere)')\n",
        "plt.title('FLASHLIGHT (Lab Fabricated Sensor)')"
      ],
      "metadata": {
        "colab": {
          "base_uri": "https://localhost:8080/",
          "height": 312
        },
        "id": "UO7Jw_XcRKUP",
        "outputId": "ebc867ef-1e11-41a1-8d15-d9bc75026fef"
      },
      "execution_count": null,
      "outputs": [
        {
          "output_type": "execute_result",
          "data": {
            "text/plain": [
              "Text(0.5, 1.0, 'FLASHLIGHT (Lab Fabricated Sensor)')"
            ]
          },
          "metadata": {},
          "execution_count": 52
        },
        {
          "output_type": "display_data",
          "data": {
            "text/plain": [
              "<Figure size 432x288 with 1 Axes>"
            ],
            "image/png": "[encoded data removed]"
          },
          "metadata": {
            "needs_background": "light"
          }
        }
      ]
    },
    {
      "cell_type": "code",
      "source": [
        "plt.bar(df_flashlight['Smu1.Time[1][1]'], df_flashlight['LFS_I'], color='cyan')\n",
        "plt.ylim(0.24*1e-6, 1.6*1e-6)\n",
        "plt.xlabel('Time (sec)')\n",
        "plt.ylabel('Current (ampere)')\n",
        "plt.title('FLASHLIGHT (Lab Fabricated Sensor)')"
      ],
      "metadata": {
        "colab": {
          "base_uri": "https://localhost:8080/",
          "height": 312
        },
        "id": "OYwLWl6KRKRK",
        "outputId": "c3499850-be16-44be-cbf0-8782edf2faca"
      },
      "execution_count": null,
      "outputs": [
        {
          "output_type": "execute_result",
          "data": {
            "text/plain": [
              "Text(0.5, 1.0, 'FLASHLIGHT (Lab Fabricated Sensor)')"
            ]
          },
          "metadata": {},
          "execution_count": 53
        },
        {
          "output_type": "display_data",
          "data": {
            "text/plain": [
              "<Figure size 432x288 with 1 Axes>"
            ],
            "image/png": "[encoded data removed]"
          },
          "metadata": {
            "needs_background": "light"
          }
        }
      ]
    },
    {
      "cell_type": "code",
      "source": [
        "# GREEN LED\n",
        "plt.bar(df_green['Smu1.Time[1][1]'], df_green['LFS_I'], color='green')\n",
        "plt.xlabel('Time (sec)')\n",
        "plt.ylabel('Current (ampere)')\n",
        "plt.title('GREEN LED (Lab Fabricated Sensor)')"
      ],
      "metadata": {
        "colab": {
          "base_uri": "https://localhost:8080/",
          "height": 312
        },
        "id": "hiwJxxI_RuEU",
        "outputId": "318a25f8-59e2-4da6-f59f-0949d9d7911d"
      },
      "execution_count": null,
      "outputs": [
        {
          "output_type": "execute_result",
          "data": {
            "text/plain": [
              "Text(0.5, 1.0, 'GREEN LED (Lab Fabricated Sensor)')"
            ]
          },
          "metadata": {},
          "execution_count": 54
        },
        {
          "output_type": "display_data",
          "data": {
            "text/plain": [
              "<Figure size 432x288 with 1 Axes>"
            ],
            "image/png": "[encoded data removed]"
          },
          "metadata": {
            "needs_background": "light"
          }
        }
      ]
    },
    {
      "cell_type": "code",
      "source": [
        "plt.bar(df_green['Smu1.Time[1][1]'], df_green['LFS_I'], color='green')\n",
        "plt.ylim(2.45*1e-7, 3.7*1e-7)\n",
        "plt.xlabel('Time (sec)')\n",
        "plt.ylabel('Current (ampere)')\n",
        "plt.title('GREEN LED (Lab Fabricated Sensor)')"
      ],
      "metadata": {
        "colab": {
          "base_uri": "https://localhost:8080/",
          "height": 312
        },
        "id": "AT-v6XOQRuAK",
        "outputId": "1413f778-d51f-4d08-b3f5-30b146408426"
      },
      "execution_count": null,
      "outputs": [
        {
          "output_type": "execute_result",
          "data": {
            "text/plain": [
              "Text(0.5, 1.0, 'GREEN LED (Lab Fabricated Sensor)')"
            ]
          },
          "metadata": {},
          "execution_count": 55
        },
        {
          "output_type": "display_data",
          "data": {
            "text/plain": [
              "<Figure size 432x288 with 1 Axes>"
            ],
            "image/png": "[encoded data removed]"
          },
          "metadata": {
            "needs_background": "light"
          }
        }
      ]
    },
    {
      "cell_type": "code",
      "source": [
        "# RED LED\n",
        "plt.bar(df_red['Smu1.Time[1][1]'], df_red['LFS_I'], color='red')\n",
        "plt.xlabel('Time (sec)')\n",
        "plt.ylabel('Current (ampere)')\n",
        "plt.title('RED LED (Lab Fabricated Sensor)')"
      ],
      "metadata": {
        "colab": {
          "base_uri": "https://localhost:8080/",
          "height": 312
        },
        "id": "rLVwURVsRtxD",
        "outputId": "207ae4b6-be5c-4d10-c3e9-854fc45793b8"
      },
      "execution_count": null,
      "outputs": [
        {
          "output_type": "execute_result",
          "data": {
            "text/plain": [
              "Text(0.5, 1.0, 'RED LED (Lab Fabricated Sensor)')"
            ]
          },
          "metadata": {},
          "execution_count": 56
        },
        {
          "output_type": "display_data",
          "data": {
            "text/plain": [
              "<Figure size 432x288 with 1 Axes>"
            ],
            "image/png": "[encoded data removed]"
          },
          "metadata": {
            "needs_background": "light"
          }
        }
      ]
    },
    {
      "cell_type": "code",
      "source": [
        "plt.bar(df_red['Smu1.Time[1][1]'], df_red['LFS_I'], color='red')\n",
        "plt.ylim(2.4*1e-7, 3.2*1e-7)\n",
        "plt.xlabel('Time (sec)')\n",
        "plt.ylabel('Current (ampere)')\n",
        "plt.title('RED LED (Lab Fabricated Sensor)')"
      ],
      "metadata": {
        "colab": {
          "base_uri": "https://localhost:8080/",
          "height": 312
        },
        "id": "NG5_obaYRtuZ",
        "outputId": "319dd4be-5c5f-46e3-9df6-b98159e28be4"
      },
      "execution_count": null,
      "outputs": [
        {
          "output_type": "execute_result",
          "data": {
            "text/plain": [
              "Text(0.5, 1.0, 'RED LED (Lab Fabricated Sensor)')"
            ]
          },
          "metadata": {},
          "execution_count": 57
        },
        {
          "output_type": "display_data",
          "data": {
            "text/plain": [
              "<Figure size 432x288 with 1 Axes>"
            ],
            "image/png": "[encoded data removed]"
          },
          "metadata": {
            "needs_background": "light"
          }
        }
      ]
    },
    {
      "cell_type": "code",
      "source": [
        "# UV LED\n",
        "plt.bar(df_UV['Smu1.Time[1][1]'], df_UV['LFS_I'], color='violet')\n",
        "plt.xlabel('Time (sec)')\n",
        "plt.ylabel('Current (ampere)')\n",
        "plt.title('UV LED (Lab Fabricated Sensor)')"
      ],
      "metadata": {
        "colab": {
          "base_uri": "https://localhost:8080/",
          "height": 312
        },
        "id": "MkW-FmRqSD09",
        "outputId": "e7684169-9a41-42d2-e09e-c4a38f3804b1"
      },
      "execution_count": null,
      "outputs": [
        {
          "output_type": "execute_result",
          "data": {
            "text/plain": [
              "Text(0.5, 1.0, 'UV LED (Lab Fabricated Sensor)')"
            ]
          },
          "metadata": {},
          "execution_count": 58
        },
        {
          "output_type": "display_data",
          "data": {
            "text/plain": [
              "<Figure size 432x288 with 1 Axes>"
            ],
            "image/png": "[encoded data removed]"
          },
          "metadata": {
            "needs_background": "light"
          }
        }
      ]
    },
    {
      "cell_type": "code",
      "source": [
        "plt.bar(df_UV['Smu1.Time[1][1]'], df_UV['LFS_I'], color='violet')\n",
        "plt.ylim(2.323*1e-7, 2.43*1e-7)\n",
        "plt.xlabel('Time (sec)')\n",
        "plt.ylabel('Current (ampere)')\n",
        "plt.title('UV LED (Lab Fabricated Sensor)')"
      ],
      "metadata": {
        "colab": {
          "base_uri": "https://localhost:8080/",
          "height": 312
        },
        "id": "u8ej9xlYSDyZ",
        "outputId": "91ac33f2-c0e3-4946-bef7-ddcb77f54934"
      },
      "execution_count": null,
      "outputs": [
        {
          "output_type": "execute_result",
          "data": {
            "text/plain": [
              "Text(0.5, 1.0, 'UV LED (Lab Fabricated Sensor)')"
            ]
          },
          "metadata": {},
          "execution_count": 59
        },
        {
          "output_type": "display_data",
          "data": {
            "text/plain": [
              "<Figure size 432x288 with 1 Axes>"
            ],
            "image/png": "[encoded data removed]"
          },
          "metadata": {
            "needs_background": "light"
          }
        }
      ]
    },
    {
      "cell_type": "code",
      "source": [
        "# IR LED\n",
        "plt.bar(df_IR['Smu1.Time[1][1]'], df_IR['LFS_I'], color='DarkMagenta')\n",
        "plt.xlabel('Time (sec)')\n",
        "plt.ylabel('Current (ampere)')\n",
        "plt.title('IR LED (Lab Fabricated Sensor)')"
      ],
      "metadata": {
        "colab": {
          "base_uri": "https://localhost:8080/",
          "height": 312
        },
        "id": "zoK_J0DvRt5Q",
        "outputId": "504f0130-2dfc-4ea3-cf7f-6ac270f069ef"
      },
      "execution_count": null,
      "outputs": [
        {
          "output_type": "execute_result",
          "data": {
            "text/plain": [
              "Text(0.5, 1.0, 'IR LED (Lab Fabricated Sensor)')"
            ]
          },
          "metadata": {},
          "execution_count": 60
        },
        {
          "output_type": "display_data",
          "data": {
            "text/plain": [
              "<Figure size 432x288 with 1 Axes>"
            ],
            "image/png": "[encoded data removed]"
          },
          "metadata": {
            "needs_background": "light"
          }
        }
      ]
    },
    {
      "cell_type": "code",
      "source": [
        "plt.bar(df_IR['Smu1.Time[1][1]'], df_IR['LFS_I'], color='DarkMagenta')\n",
        "plt.ylim(2.35*1e-7, 2.65*1e-7)\n",
        "plt.xlabel('Time (sec)')\n",
        "plt.ylabel('Current (ampere)')\n",
        "plt.title('IR LED (Lab Fabricated Sensor)')"
      ],
      "metadata": {
        "colab": {
          "base_uri": "https://localhost:8080/",
          "height": 312
        },
        "id": "_4I3y5H0Rt2Z",
        "outputId": "4427d225-652b-4437-c95c-193fc41f9f73"
      },
      "execution_count": null,
      "outputs": [
        {
          "output_type": "execute_result",
          "data": {
            "text/plain": [
              "Text(0.5, 1.0, 'IR LED (Lab Fabricated Sensor)')"
            ]
          },
          "metadata": {},
          "execution_count": 61
        },
        {
          "output_type": "display_data",
          "data": {
            "text/plain": [
              "<Figure size 432x288 with 1 Axes>"
            ],
            "image/png": "[encoded data removed]"
          },
          "metadata": {
            "needs_background": "light"
          }
        }
      ]
    },
    {
      "cell_type": "code",
      "source": [
        "# AMBIENT\n",
        "plt.bar(df_ambient['Smu1.Time[1][1]'], df_ambient['LFS_I'], color='LawnGreen')\n",
        "plt.xlabel('Time (sec)')\n",
        "plt.ylabel('Current (ampere)')\n",
        "plt.title('AMBIENT (Lab Fabricated Sensor)')"
      ],
      "metadata": {
        "colab": {
          "base_uri": "https://localhost:8080/",
          "height": 312
        },
        "id": "RIxVCoCDSDqq",
        "outputId": "ec6540eb-18d5-4c0b-b21f-75b549369dd9"
      },
      "execution_count": null,
      "outputs": [
        {
          "output_type": "execute_result",
          "data": {
            "text/plain": [
              "Text(0.5, 1.0, 'AMBIENT (Lab Fabricated Sensor)')"
            ]
          },
          "metadata": {},
          "execution_count": 62
        },
        {
          "output_type": "display_data",
          "data": {
            "text/plain": [
              "<Figure size 432x288 with 1 Axes>"
            ],
            "image/png": "[encoded data removed]"
          },
          "metadata": {
            "needs_background": "light"
          }
        }
      ]
    },
    {
      "cell_type": "code",
      "source": [
        "plt.bar(df_ambient['Smu1.Time[1][1]'], df_ambient['LFS_I'], color='LawnGreen')\n",
        "plt.ylim(2.3*1e-7, 9*1e-7)\n",
        "plt.xlabel('Time (sec)')\n",
        "plt.ylabel('Current (ampere)')\n",
        "plt.title('AMBIENT (Lab Fabricated Sensor)')"
      ],
      "metadata": {
        "colab": {
          "base_uri": "https://localhost:8080/",
          "height": 312
        },
        "id": "TIScVA0mSRtZ",
        "outputId": "56f763b2-351c-4d14-a948-04f32ee21800"
      },
      "execution_count": null,
      "outputs": [
        {
          "output_type": "execute_result",
          "data": {
            "text/plain": [
              "Text(0.5, 1.0, 'AMBIENT (Lab Fabricated Sensor)')"
            ]
          },
          "metadata": {},
          "execution_count": 63
        },
        {
          "output_type": "display_data",
          "data": {
            "text/plain": [
              "<Figure size 432x288 with 1 Axes>"
            ],
            "image/png": "[encoded data removed]"
          },
          "metadata": {
            "needs_background": "light"
          }
        }
      ]
    },
    {
      "cell_type": "code",
      "source": [],
      "metadata": {
        "id": "K5OBrWf-Zn9h"
      },
      "execution_count": null,
      "outputs": []
    },
    {
      "cell_type": "code",
      "source": [],
      "metadata": {
        "id": "GtMiGtT_Znzp"
      },
      "execution_count": null,
      "outputs": []
    },
    {
      "cell_type": "code",
      "source": [
        "# Imax - Imin\n",
        "UVmax_IH = df_UV['LFS_I'].max()\n",
        "UVmin_IH = df_UV['LFS_I'].min()\n",
        "Bluemax_IH = df_blue['LFS_I'].max()\n",
        "Bluemin_IH = df_blue['LFS_I'].min()\n",
        "Greenmax_IH = df_green['LFS_I'].max()\n",
        "Greenmin_IH = df_green['LFS_I'].min()\n",
        "Redmax_IH = df_red['LFS_I'].max()\n",
        "Redmin_IH = df_red['LFS_I'].min()\n",
        "IRmax_IH = df_IR['LFS_I'].max()\n",
        "IRmin_IH = df_IR['LFS_I'].min()\n",
        "Flashlightmax_IH = df_flashlight['LFS_I'].max()\n",
        "Flashlightmin_IH = df_flashlight['LFS_I'].min()\n",
        "Ambientmax_IH = df_ambient['LFS_I'].max()\n",
        "Ambientmin_IH = df_ambient['LFS_I'].min()\n",
        "\n",
        "difference_IH = [UVmax_IH-UVmin_IH, Bluemax_IH-Bluemin_IH, Greenmax_IH-Greenmin_IH, Redmax_IH-Redmin_IH, IRmax_IH-IRmin_IH, Flashlightmax_IH-Flashlightmin_IH, Ambientmax_IH-Ambientmin_IH]\n",
        "\n",
        "difference_IH"
      ],
      "metadata": {
        "colab": {
          "base_uri": "https://localhost:8080/"
        },
        "id": "eVImGbmsSRqE",
        "outputId": "033bfa6a-e317-41db-e7a0-5eec365a5939"
      },
      "execution_count": null,
      "outputs": [
        {
          "output_type": "execute_result",
          "data": {
            "text/plain": [
              "[1.7862475942821e-08,\n",
              " 2.50991092798358e-07,\n",
              " 1.1899203400389503e-07,\n",
              " 7.847631877666601e-08,\n",
              " 2.8966269383090998e-08,\n",
              " 1.3417389936876138e-06,\n",
              " 6.568358230651939e-07]"
            ]
          },
          "metadata": {},
          "execution_count": 64
        }
      ]
    },
    {
      "cell_type": "code",
      "source": [
        "leds_IH = ['UV', 'Blue', 'Green', 'Red', 'IR', 'Flashlight', 'Ambient']\n",
        "plt.scatter(leds_IH, difference_IH)\n",
        "plt.xlabel('leds')\n",
        "plt.ylabel('I_max - I_min')"
      ],
      "metadata": {
        "colab": {
          "base_uri": "https://localhost:8080/",
          "height": 307
        },
        "id": "uBwUuj6zSRm4",
        "outputId": "34244363-e2ba-4b06-fad8-a6e975f78fb7"
      },
      "execution_count": null,
      "outputs": [
        {
          "output_type": "execute_result",
          "data": {
            "text/plain": [
              "Text(0, 0.5, 'I_max - I_min')"
            ]
          },
          "metadata": {},
          "execution_count": 65
        },
        {
          "output_type": "display_data",
          "data": {
            "text/plain": [
              "<Figure size 432x288 with 1 Axes>"
            ],
            "image/png": "[encoded data removed]"
          },
          "metadata": {
            "needs_background": "light"
          }
        }
      ]
    },
    {
      "cell_type": "code",
      "source": [
        "plt.bar(leds_IH, difference_IH, color='g')\n",
        "plt.xlabel('light sources')\n",
        "plt.ylabel('I_max - I_min (Ampere)')"
      ],
      "metadata": {
        "colab": {
          "base_uri": "https://localhost:8080/",
          "height": 307
        },
        "id": "8s9bqeyzSRkF",
        "outputId": "df923f31-4a16-4e99-efcd-1ab2feb193df"
      },
      "execution_count": null,
      "outputs": [
        {
          "output_type": "execute_result",
          "data": {
            "text/plain": [
              "Text(0, 0.5, 'I_max - I_min (Ampere)')"
            ]
          },
          "metadata": {},
          "execution_count": 66
        },
        {
          "output_type": "display_data",
          "data": {
            "text/plain": [
              "<Figure size 432x288 with 1 Axes>"
            ],
            "image/png": "[encoded data removed]"
          },
          "metadata": {
            "needs_background": "light"
          }
        }
      ]
    },
    {
      "cell_type": "code",
      "source": [
        "# diff_IH = difference_IH\n",
        "# [1.7862475942821e-08,\n",
        "#  2.50991092798358e-07,\n",
        "#  1.1899203400389503e-07,\n",
        "#  7.847631877666601e-08,\n",
        "#  2.8966269383090998e-08,\n",
        "#  1.3417389936876138e-06,\n",
        "#  6.568358230651939e-07]\n",
        "\n",
        "diff_IH = [1.786e-8, 2.509e-7, 1.189e-7, 7.847e-8, 2.896e-8, 1.342e-6, 6.568e-7]\n",
        "diff_IH"
      ],
      "metadata": {
        "colab": {
          "base_uri": "https://localhost:8080/"
        },
        "id": "mvMgASouIPoB",
        "outputId": "11996e28-2c9d-4c93-fa85-c0328ed305c4"
      },
      "execution_count": null,
      "outputs": [
        {
          "output_type": "execute_result",
          "data": {
            "text/plain": [
              "[1.786e-08, 2.509e-07, 1.189e-07, 7.847e-08, 2.896e-08, 1.342e-06, 6.568e-07]"
            ]
          },
          "metadata": {},
          "execution_count": 67
        }
      ]
    },
    {
      "cell_type": "code",
      "source": [
        "# function to add value labels\n",
        "def addlabels(x,y):\n",
        "    for i in range(len(x)):\n",
        "        # plt.text(i, y[i], y[i])\n",
        "        # plt.text(i, y[i], y[i], ha = 'center')\n",
        "        # plt.text(i, y[i], y[i], ha = 'center', Bbox = dict(facecolor = 'white', alpha =.2))\n",
        "        # plt.text(i, y[i], y[i], ha = 'center', Bbox = dict(facecolor = 'red', alpha =.8))\n",
        "        # plt.text(i, y[i]//2, y[i], ha = 'center')\n",
        "        # plt.text(i, y[i]//2,y[i], ha = 'center', Bbox = dict(facecolor = 'white', alpha = .5))\n",
        "\n",
        "        plt.text(i, y[i]+1e-8, y[i], ha = 'center')\n",
        "\n",
        "\n",
        "plt.figure(figsize = (10,5))\n",
        "plt.bar(leds_IH, difference_IH, color='g')\n",
        "addlabels(leds, diff_IH)\n",
        "plt.title('I_max - I_min for different light sources')\n",
        "plt.xlabel('light sources')\n",
        "plt.ylabel('I_max - I_min (Ampere)')"
      ],
      "metadata": {
        "colab": {
          "base_uri": "https://localhost:8080/",
          "height": 367
        },
        "id": "JfCCX4PZIPdR",
        "outputId": "6ef41d01-6252-44de-c5a7-9ea399a872b5"
      },
      "execution_count": null,
      "outputs": [
        {
          "output_type": "execute_result",
          "data": {
            "text/plain": [
              "Text(0, 0.5, 'I_max - I_min (Ampere)')"
            ]
          },
          "metadata": {},
          "execution_count": 68
        },
        {
          "output_type": "display_data",
          "data": {
            "text/plain": [
              "<Figure size 720x360 with 1 Axes>"
            ],
            "image/png": "[encoded data removed]"
          },
          "metadata": {
            "needs_background": "light"
          }
        }
      ]
    },
    {
      "cell_type": "code",
      "source": [
        "ratio_IH = [ (Flashlightmax_IH-Flashlightmin_IH) / (UVmax_IH-UVmin_IH), \n",
        "             (Flashlightmax_IH-Flashlightmin_IH) / (Bluemax_IH-Bluemin_IH), \n",
        "             (Flashlightmax_IH-Flashlightmin_IH) / (Greenmax_IH-Greenmin_IH), \n",
        "             (Flashlightmax_IH-Flashlightmin_IH) / (Redmax_IH-Redmin_IH), \n",
        "             (Flashlightmax_IH-Flashlightmin_IH) / (IRmax_IH-IRmin_IH),\n",
        "             (Flashlightmax_IH-Flashlightmin_IH) / (Flashlightmax_IH-Flashlightmin_IH),\n",
        "             (Flashlightmax_IH-Flashlightmin_IH) / (Ambientmax_IH-Ambientmin_IH) ]\n",
        "\n",
        "ratio_IH"
      ],
      "metadata": {
        "colab": {
          "base_uri": "https://localhost:8080/"
        },
        "id": "IBqrNrwCScus",
        "outputId": "599e4da0-dd1a-41d1-a424-d97160cd8ca0"
      },
      "execution_count": null,
      "outputs": [
        {
          "output_type": "execute_result",
          "data": {
            "text/plain": [
              "[75.1149503564126,\n",
              " 5.345763384382506,\n",
              " 11.2758724138096,\n",
              " 17.097374272945174,\n",
              " 46.32073864751293,\n",
              " 1.0,\n",
              " 2.0427311461580255]"
            ]
          },
          "metadata": {},
          "execution_count": 69
        }
      ]
    },
    {
      "cell_type": "code",
      "source": [],
      "metadata": {
        "id": "7gO5CwSwSsLd"
      },
      "execution_count": null,
      "outputs": []
    },
    {
      "cell_type": "code",
      "source": [],
      "metadata": {
        "id": "208gILEHSsHx"
      },
      "execution_count": null,
      "outputs": []
    },
    {
      "cell_type": "markdown",
      "source": [
        "# PCA"
      ],
      "metadata": {
        "id": "-auaRnNw-nX_"
      }
    },
    {
      "cell_type": "code",
      "source": [
        "df_ic = pd.read_excel('/content/drive/MyDrive/sensor_data/COMMERCIAL_SENSOR/INT_CONST/csiccopy.xlsx')\n",
        "df_ic.head()"
      ],
      "metadata": {
        "colab": {
          "base_uri": "https://localhost:8080/",
          "height": 206
        },
        "id": "qW7TeGPH7QqC",
        "outputId": "767e0b3f-935a-49d0-fdb5-54320ff0a082"
      },
      "execution_count": null,
      "outputs": [
        {
          "output_type": "execute_result",
          "data": {
            "text/plain": [
              "   Item  Smu1.Time[1][1] Smu1.V[1][1]      CS_I         LFS_I label\n",
              "0     1         0.000000     3.999983  0.000370  4.195672e-07  blue\n",
              "1     2         0.141018     3.999985  0.000373  4.218654e-07  blue\n",
              "2     3         0.282002     3.999985  0.000374  4.233839e-07  blue\n",
              "3     4         0.422960     3.999983  0.000375  4.252496e-07  blue\n",
              "4     5         0.563926     3.999985  0.000376  4.257040e-07  blue"
            ],
            "text/html": [
              "\n",
              "  <div id=\"df-408af5c2-d57a-4b24-9a62-805432d94cf6\">\n",
              "    <div class=\"colab-df-container\">\n",
              "      <div>\n",
              "<style scoped>\n",
              "    .dataframe tbody tr th:only-of-type {\n",
              "        vertical-align: middle;\n",
              "    }\n",
              "\n",
              "    .dataframe tbody tr th {\n",
              "        vertical-align: top;\n",
              "    }\n",
              "\n",
              "    .dataframe thead th {\n",
              "        text-align: right;\n",
              "    }\n",
              "</style>\n",
              "<table border=\"1\" class=\"dataframe\">\n",
              "  <thead>\n",
              "    <tr style=\"text-align: right;\">\n",
              "      <th></th>\n",
              "      <th>Item</th>\n",
              "      <th>Smu1.Time[1][1]</th>\n",
              "      <th>Smu1.V[1][1]</th>\n",
              "      <th>CS_I</th>\n",
              "      <th>LFS_I</th>\n",
              "      <th>label</th>\n",
              "    </tr>\n",
              "  </thead>\n",
              "  <tbody>\n",
              "    <tr>\n",
              "      <th>0</th>\n",
              "      <td>1</td>\n",
              "      <td>0.000000</td>\n",
              "      <td>3.999983</td>\n",
              "      <td>0.000370</td>\n",
              "      <td>4.195672e-07</td>\n",
              "      <td>blue</td>\n",
              "    </tr>\n",
              "    <tr>\n",
              "      <th>1</th>\n",
              "      <td>2</td>\n",
              "      <td>0.141018</td>\n",
              "      <td>3.999985</td>\n",
              "      <td>0.000373</td>\n",
              "      <td>4.218654e-07</td>\n",
              "      <td>blue</td>\n",
              "    </tr>\n",
              "    <tr>\n",
              "      <th>2</th>\n",
              "      <td>3</td>\n",
              "      <td>0.282002</td>\n",
              "      <td>3.999985</td>\n",
              "      <td>0.000374</td>\n",
              "      <td>4.233839e-07</td>\n",
              "      <td>blue</td>\n",
              "    </tr>\n",
              "    <tr>\n",
              "      <th>3</th>\n",
              "      <td>4</td>\n",
              "      <td>0.422960</td>\n",
              "      <td>3.999983</td>\n",
              "      <td>0.000375</td>\n",
              "      <td>4.252496e-07</td>\n",
              "      <td>blue</td>\n",
              "    </tr>\n",
              "    <tr>\n",
              "      <th>4</th>\n",
              "      <td>5</td>\n",
              "      <td>0.563926</td>\n",
              "      <td>3.999985</td>\n",
              "      <td>0.000376</td>\n",
              "      <td>4.257040e-07</td>\n",
              "      <td>blue</td>\n",
              "    </tr>\n",
              "  </tbody>\n",
              "</table>\n",
              "</div>\n",
              "      <button class=\"colab-df-convert\" onclick=\"convertToInteractive('df-408af5c2-d57a-4b24-9a62-805432d94cf6')\"\n",
              "              title=\"Convert this dataframe to an interactive table.\"\n",
              "              style=\"display:none;\">\n",
              "        \n",
              "  <svg xmlns=\"http://www.w3.org/2000/svg\" height=\"24px\"viewBox=\"0 0 24 24\"\n",
              "       width=\"24px\">\n",
              "    <path d=\"M0 0h24v24H0V0z\" fill=\"none\"/>\n",
              "    <path d=\"M18.56 5.44l.94 2.06.94-2.06 2.06-.94-2.06-.94-.94-2.06-.94 2.06-2.06.94zm-11 1L8.5 8.5l.94-2.06 2.06-.94-2.06-.94L8.5 2.5l-.94 2.06-2.06.94zm10 10l.94 2.06.94-2.06 2.06-.94-2.06-.94-.94-2.06-.94 2.06-2.06.94z\"/><path d=\"M17.41 7.96l-1.37-1.37c-.4-.4-.92-.59-1.43-.59-.52 0-1.04.2-1.43.59L10.3 9.45l-7.72 7.72c-.78.78-.78 2.05 0 2.83L4 21.41c.39.39.9.59 1.41.59.51 0 1.02-.2 1.41-.59l7.78-7.78 2.81-2.81c.8-.78.8-2.07 0-2.86zM5.41 20L4 18.59l7.72-7.72 1.47 1.35L5.41 20z\"/>\n",
              "  </svg>\n",
              "      </button>\n",
              "      \n",
              "  <style>\n",
              "    .colab-df-container {\n",
              "      display:flex;\n",
              "      flex-wrap:wrap;\n",
              "      gap: 12px;\n",
              "    }\n",
              "\n",
              "    .colab-df-convert {\n",
              "      background-color: #E8F0FE;\n",
              "      border: none;\n",
              "      border-radius: 50%;\n",
              "      cursor: pointer;\n",
              "      display: none;\n",
              "      fill: #1967D2;\n",
              "      height: 32px;\n",
              "      padding: 0 0 0 0;\n",
              "      width: 32px;\n",
              "    }\n",
              "\n",
              "    .colab-df-convert:hover {\n",
              "      background-color: #E2EBFA;\n",
              "      box-shadow: 0px 1px 2px rgba(60, 64, 67, 0.3), 0px 1px 3px 1px rgba(60, 64, 67, 0.15);\n",
              "      fill: #174EA6;\n",
              "    }\n",
              "\n",
              "    [theme=dark] .colab-df-convert {\n",
              "      background-color: #3B4455;\n",
              "      fill: #D2E3FC;\n",
              "    }\n",
              "\n",
              "    [theme=dark] .colab-df-convert:hover {\n",
              "      background-color: #434B5C;\n",
              "      box-shadow: 0px 1px 3px 1px rgba(0, 0, 0, 0.15);\n",
              "      filter: drop-shadow(0px 1px 2px rgba(0, 0, 0, 0.3));\n",
              "      fill: #FFFFFF;\n",
              "    }\n",
              "  </style>\n",
              "\n",
              "      <script>\n",
              "        const buttonEl =\n",
              "          document.querySelector('#df-408af5c2-d57a-4b24-9a62-805432d94cf6 button.colab-df-convert');\n",
              "        buttonEl.style.display =\n",
              "          google.colab.kernel.accessAllowed ? 'block' : 'none';\n",
              "\n",
              "        async function convertToInteractive(key) {\n",
              "          const element = document.querySelector('#df-408af5c2-d57a-4b24-9a62-805432d94cf6');\n",
              "          const dataTable =\n",
              "            await google.colab.kernel.invokeFunction('convertToInteractive',\n",
              "                                                     [key], {});\n",
              "          if (!dataTable) return;\n",
              "\n",
              "          const docLinkHtml = 'Like what you see? Visit the ' +\n",
              "            '<a target=\"_blank\" href=https://colab.research.google.com/notebooks/data_table.ipynb>data table notebook</a>'\n",
              "            + ' to learn more about interactive tables.';\n",
              "          element.innerHTML = '';\n",
              "          dataTable['output_type'] = 'display_data';\n",
              "          await google.colab.output.renderOutput(dataTable, element);\n",
              "          const docLink = document.createElement('div');\n",
              "          docLink.innerHTML = docLinkHtml;\n",
              "          element.appendChild(docLink);\n",
              "        }\n",
              "      </script>\n",
              "    </div>\n",
              "  </div>\n",
              "  "
            ]
          },
          "metadata": {},
          "execution_count": 118
        }
      ]
    },
    {
      "cell_type": "code",
      "source": [
        "plt.scatter(df_ic['CS_I'], df_ic['LFS_I'], color='blue')\n",
        "plt.xlabel('commercial_I')\n",
        "plt.ylabel('In_house_I')"
      ],
      "metadata": {
        "colab": {
          "base_uri": "https://localhost:8080/",
          "height": 308
        },
        "outputId": "3c748f83-c2f2-4cce-d759-76a2fbd5c489",
        "id": "Q_qKFbYG_RZU"
      },
      "execution_count": null,
      "outputs": [
        {
          "output_type": "execute_result",
          "data": {
            "text/plain": [
              "Text(0, 0.5, 'In_house_I')"
            ]
          },
          "metadata": {},
          "execution_count": 119
        },
        {
          "output_type": "display_data",
          "data": {
            "text/plain": [
              "<Figure size 432x288 with 1 Axes>"
            ],
            "image/png": "[encoded data removed]"
          },
          "metadata": {
            "needs_background": "light"
          }
        }
      ]
    },
    {
      "cell_type": "code",
      "source": [
        "df_ic.describe()"
      ],
      "metadata": {
        "colab": {
          "base_uri": "https://localhost:8080/",
          "height": 300
        },
        "id": "npMGmLFy_Q9m",
        "outputId": "43f4f5cf-dbc3-4c2e-8b92-87a9cb97bd91"
      },
      "execution_count": null,
      "outputs": [
        {
          "output_type": "execute_result",
          "data": {
            "text/plain": [
              "             Item  Smu1.Time[1][1]        CS_I         LFS_I\n",
              "count  160.000000       120.000000  160.000000  1.600000e+02\n",
              "mean    80.500000         8.560226    0.000648  5.046926e-07\n",
              "std     46.332134         5.055864    0.000631  3.896172e-07\n",
              "min      1.000000         0.000000    0.000006  2.301434e-07\n",
              "25%     40.750000         4.193822    0.000141  2.494409e-07\n",
              "50%     80.500000         8.616814    0.000488  3.265711e-07\n",
              "75%    120.250000        12.930875    0.000889  5.226108e-07\n",
              "max    160.000000        17.124217    0.001697  1.430533e-06"
            ],
            "text/html": [
              "\n",
              "  <div id=\"df-2ccb191a-d327-4345-a1b7-876b19726810\">\n",
              "    <div class=\"colab-df-container\">\n",
              "      <div>\n",
              "<style scoped>\n",
              "    .dataframe tbody tr th:only-of-type {\n",
              "        vertical-align: middle;\n",
              "    }\n",
              "\n",
              "    .dataframe tbody tr th {\n",
              "        vertical-align: top;\n",
              "    }\n",
              "\n",
              "    .dataframe thead th {\n",
              "        text-align: right;\n",
              "    }\n",
              "</style>\n",
              "<table border=\"1\" class=\"dataframe\">\n",
              "  <thead>\n",
              "    <tr style=\"text-align: right;\">\n",
              "      <th></th>\n",
              "      <th>Item</th>\n",
              "      <th>Smu1.Time[1][1]</th>\n",
              "      <th>CS_I</th>\n",
              "      <th>LFS_I</th>\n",
              "    </tr>\n",
              "  </thead>\n",
              "  <tbody>\n",
              "    <tr>\n",
              "      <th>count</th>\n",
              "      <td>160.000000</td>\n",
              "      <td>120.000000</td>\n",
              "      <td>160.000000</td>\n",
              "      <td>1.600000e+02</td>\n",
              "    </tr>\n",
              "    <tr>\n",
              "      <th>mean</th>\n",
              "      <td>80.500000</td>\n",
              "      <td>8.560226</td>\n",
              "      <td>0.000648</td>\n",
              "      <td>5.046926e-07</td>\n",
              "    </tr>\n",
              "    <tr>\n",
              "      <th>std</th>\n",
              "      <td>46.332134</td>\n",
              "      <td>5.055864</td>\n",
              "      <td>0.000631</td>\n",
              "      <td>3.896172e-07</td>\n",
              "    </tr>\n",
              "    <tr>\n",
              "      <th>min</th>\n",
              "      <td>1.000000</td>\n",
              "      <td>0.000000</td>\n",
              "      <td>0.000006</td>\n",
              "      <td>2.301434e-07</td>\n",
              "    </tr>\n",
              "    <tr>\n",
              "      <th>25%</th>\n",
              "      <td>40.750000</td>\n",
              "      <td>4.193822</td>\n",
              "      <td>0.000141</td>\n",
              "      <td>2.494409e-07</td>\n",
              "    </tr>\n",
              "    <tr>\n",
              "      <th>50%</th>\n",
              "      <td>80.500000</td>\n",
              "      <td>8.616814</td>\n",
              "      <td>0.000488</td>\n",
              "      <td>3.265711e-07</td>\n",
              "    </tr>\n",
              "    <tr>\n",
              "      <th>75%</th>\n",
              "      <td>120.250000</td>\n",
              "      <td>12.930875</td>\n",
              "      <td>0.000889</td>\n",
              "      <td>5.226108e-07</td>\n",
              "    </tr>\n",
              "    <tr>\n",
              "      <th>max</th>\n",
              "      <td>160.000000</td>\n",
              "      <td>17.124217</td>\n",
              "      <td>0.001697</td>\n",
              "      <td>1.430533e-06</td>\n",
              "    </tr>\n",
              "  </tbody>\n",
              "</table>\n",
              "</div>\n",
              "      <button class=\"colab-df-convert\" onclick=\"convertToInteractive('df-2ccb191a-d327-4345-a1b7-876b19726810')\"\n",
              "              title=\"Convert this dataframe to an interactive table.\"\n",
              "              style=\"display:none;\">\n",
              "        \n",
              "  <svg xmlns=\"http://www.w3.org/2000/svg\" height=\"24px\"viewBox=\"0 0 24 24\"\n",
              "       width=\"24px\">\n",
              "    <path d=\"M0 0h24v24H0V0z\" fill=\"none\"/>\n",
              "    <path d=\"M18.56 5.44l.94 2.06.94-2.06 2.06-.94-2.06-.94-.94-2.06-.94 2.06-2.06.94zm-11 1L8.5 8.5l.94-2.06 2.06-.94-2.06-.94L8.5 2.5l-.94 2.06-2.06.94zm10 10l.94 2.06.94-2.06 2.06-.94-2.06-.94-.94-2.06-.94 2.06-2.06.94z\"/><path d=\"M17.41 7.96l-1.37-1.37c-.4-.4-.92-.59-1.43-.59-.52 0-1.04.2-1.43.59L10.3 9.45l-7.72 7.72c-.78.78-.78 2.05 0 2.83L4 21.41c.39.39.9.59 1.41.59.51 0 1.02-.2 1.41-.59l7.78-7.78 2.81-2.81c.8-.78.8-2.07 0-2.86zM5.41 20L4 18.59l7.72-7.72 1.47 1.35L5.41 20z\"/>\n",
              "  </svg>\n",
              "      </button>\n",
              "      \n",
              "  <style>\n",
              "    .colab-df-container {\n",
              "      display:flex;\n",
              "      flex-wrap:wrap;\n",
              "      gap: 12px;\n",
              "    }\n",
              "\n",
              "    .colab-df-convert {\n",
              "      background-color: #E8F0FE;\n",
              "      border: none;\n",
              "      border-radius: 50%;\n",
              "      cursor: pointer;\n",
              "      display: none;\n",
              "      fill: #1967D2;\n",
              "      height: 32px;\n",
              "      padding: 0 0 0 0;\n",
              "      width: 32px;\n",
              "    }\n",
              "\n",
              "    .colab-df-convert:hover {\n",
              "      background-color: #E2EBFA;\n",
              "      box-shadow: 0px 1px 2px rgba(60, 64, 67, 0.3), 0px 1px 3px 1px rgba(60, 64, 67, 0.15);\n",
              "      fill: #174EA6;\n",
              "    }\n",
              "\n",
              "    [theme=dark] .colab-df-convert {\n",
              "      background-color: #3B4455;\n",
              "      fill: #D2E3FC;\n",
              "    }\n",
              "\n",
              "    [theme=dark] .colab-df-convert:hover {\n",
              "      background-color: #434B5C;\n",
              "      box-shadow: 0px 1px 3px 1px rgba(0, 0, 0, 0.15);\n",
              "      filter: drop-shadow(0px 1px 2px rgba(0, 0, 0, 0.3));\n",
              "      fill: #FFFFFF;\n",
              "    }\n",
              "  </style>\n",
              "\n",
              "      <script>\n",
              "        const buttonEl =\n",
              "          document.querySelector('#df-2ccb191a-d327-4345-a1b7-876b19726810 button.colab-df-convert');\n",
              "        buttonEl.style.display =\n",
              "          google.colab.kernel.accessAllowed ? 'block' : 'none';\n",
              "\n",
              "        async function convertToInteractive(key) {\n",
              "          const element = document.querySelector('#df-2ccb191a-d327-4345-a1b7-876b19726810');\n",
              "          const dataTable =\n",
              "            await google.colab.kernel.invokeFunction('convertToInteractive',\n",
              "                                                     [key], {});\n",
              "          if (!dataTable) return;\n",
              "\n",
              "          const docLinkHtml = 'Like what you see? Visit the ' +\n",
              "            '<a target=\"_blank\" href=https://colab.research.google.com/notebooks/data_table.ipynb>data table notebook</a>'\n",
              "            + ' to learn more about interactive tables.';\n",
              "          element.innerHTML = '';\n",
              "          dataTable['output_type'] = 'display_data';\n",
              "          await google.colab.output.renderOutput(dataTable, element);\n",
              "          const docLink = document.createElement('div');\n",
              "          docLink.innerHTML = docLinkHtml;\n",
              "          element.appendChild(docLink);\n",
              "        }\n",
              "      </script>\n",
              "    </div>\n",
              "  </div>\n",
              "  "
            ]
          },
          "metadata": {},
          "execution_count": 120
        }
      ]
    },
    {
      "cell_type": "code",
      "source": [
        "X = df_ic.drop(['Item', 'Smu1.Time[1][1]', 'Smu1.V[1][1]', 'label'], axis=1)\n",
        "X.head()"
      ],
      "metadata": {
        "colab": {
          "base_uri": "https://localhost:8080/",
          "height": 206
        },
        "id": "cxjLeAAoEKFD",
        "outputId": "9f8413b6-3f61-4ca3-d8b3-da46db64d2fe"
      },
      "execution_count": null,
      "outputs": [
        {
          "output_type": "execute_result",
          "data": {
            "text/plain": [
              "       CS_I        LFS_I1\n",
              "0  0.000370  4.195672e-07\n",
              "1  0.000373  4.218654e-07\n",
              "2  0.000374  4.233839e-07\n",
              "3  0.000375  4.252496e-07\n",
              "4  0.000376  4.257040e-07"
            ],
            "text/html": [
              "\n",
              "  <div id=\"df-6ef33074-f1c9-4ff7-a52b-45cf0cbd5538\">\n",
              "    <div class=\"colab-df-container\">\n",
              "      <div>\n",
              "<style scoped>\n",
              "    .dataframe tbody tr th:only-of-type {\n",
              "        vertical-align: middle;\n",
              "    }\n",
              "\n",
              "    .dataframe tbody tr th {\n",
              "        vertical-align: top;\n",
              "    }\n",
              "\n",
              "    .dataframe thead th {\n",
              "        text-align: right;\n",
              "    }\n",
              "</style>\n",
              "<table border=\"1\" class=\"dataframe\">\n",
              "  <thead>\n",
              "    <tr style=\"text-align: right;\">\n",
              "      <th></th>\n",
              "      <th>CS_I</th>\n",
              "      <th>LFS_I1</th>\n",
              "    </tr>\n",
              "  </thead>\n",
              "  <tbody>\n",
              "    <tr>\n",
              "      <th>0</th>\n",
              "      <td>0.000370</td>\n",
              "      <td>4.195672e-07</td>\n",
              "    </tr>\n",
              "    <tr>\n",
              "      <th>1</th>\n",
              "      <td>0.000373</td>\n",
              "      <td>4.218654e-07</td>\n",
              "    </tr>\n",
              "    <tr>\n",
              "      <th>2</th>\n",
              "      <td>0.000374</td>\n",
              "      <td>4.233839e-07</td>\n",
              "    </tr>\n",
              "    <tr>\n",
              "      <th>3</th>\n",
              "      <td>0.000375</td>\n",
              "      <td>4.252496e-07</td>\n",
              "    </tr>\n",
              "    <tr>\n",
              "      <th>4</th>\n",
              "      <td>0.000376</td>\n",
              "      <td>4.257040e-07</td>\n",
              "    </tr>\n",
              "  </tbody>\n",
              "</table>\n",
              "</div>\n",
              "      <button class=\"colab-df-convert\" onclick=\"convertToInteractive('df-6ef33074-f1c9-4ff7-a52b-45cf0cbd5538')\"\n",
              "              title=\"Convert this dataframe to an interactive table.\"\n",
              "              style=\"display:none;\">\n",
              "        \n",
              "  <svg xmlns=\"http://www.w3.org/2000/svg\" height=\"24px\"viewBox=\"0 0 24 24\"\n",
              "       width=\"24px\">\n",
              "    <path d=\"M0 0h24v24H0V0z\" fill=\"none\"/>\n",
              "    <path d=\"M18.56 5.44l.94 2.06.94-2.06 2.06-.94-2.06-.94-.94-2.06-.94 2.06-2.06.94zm-11 1L8.5 8.5l.94-2.06 2.06-.94-2.06-.94L8.5 2.5l-.94 2.06-2.06.94zm10 10l.94 2.06.94-2.06 2.06-.94-2.06-.94-.94-2.06-.94 2.06-2.06.94z\"/><path d=\"M17.41 7.96l-1.37-1.37c-.4-.4-.92-.59-1.43-.59-.52 0-1.04.2-1.43.59L10.3 9.45l-7.72 7.72c-.78.78-.78 2.05 0 2.83L4 21.41c.39.39.9.59 1.41.59.51 0 1.02-.2 1.41-.59l7.78-7.78 2.81-2.81c.8-.78.8-2.07 0-2.86zM5.41 20L4 18.59l7.72-7.72 1.47 1.35L5.41 20z\"/>\n",
              "  </svg>\n",
              "      </button>\n",
              "      \n",
              "  <style>\n",
              "    .colab-df-container {\n",
              "      display:flex;\n",
              "      flex-wrap:wrap;\n",
              "      gap: 12px;\n",
              "    }\n",
              "\n",
              "    .colab-df-convert {\n",
              "      background-color: #E8F0FE;\n",
              "      border: none;\n",
              "      border-radius: 50%;\n",
              "      cursor: pointer;\n",
              "      display: none;\n",
              "      fill: #1967D2;\n",
              "      height: 32px;\n",
              "      padding: 0 0 0 0;\n",
              "      width: 32px;\n",
              "    }\n",
              "\n",
              "    .colab-df-convert:hover {\n",
              "      background-color: #E2EBFA;\n",
              "      box-shadow: 0px 1px 2px rgba(60, 64, 67, 0.3), 0px 1px 3px 1px rgba(60, 64, 67, 0.15);\n",
              "      fill: #174EA6;\n",
              "    }\n",
              "\n",
              "    [theme=dark] .colab-df-convert {\n",
              "      background-color: #3B4455;\n",
              "      fill: #D2E3FC;\n",
              "    }\n",
              "\n",
              "    [theme=dark] .colab-df-convert:hover {\n",
              "      background-color: #434B5C;\n",
              "      box-shadow: 0px 1px 3px 1px rgba(0, 0, 0, 0.15);\n",
              "      filter: drop-shadow(0px 1px 2px rgba(0, 0, 0, 0.3));\n",
              "      fill: #FFFFFF;\n",
              "    }\n",
              "  </style>\n",
              "\n",
              "      <script>\n",
              "        const buttonEl =\n",
              "          document.querySelector('#df-6ef33074-f1c9-4ff7-a52b-45cf0cbd5538 button.colab-df-convert');\n",
              "        buttonEl.style.display =\n",
              "          google.colab.kernel.accessAllowed ? 'block' : 'none';\n",
              "\n",
              "        async function convertToInteractive(key) {\n",
              "          const element = document.querySelector('#df-6ef33074-f1c9-4ff7-a52b-45cf0cbd5538');\n",
              "          const dataTable =\n",
              "            await google.colab.kernel.invokeFunction('convertToInteractive',\n",
              "                                                     [key], {});\n",
              "          if (!dataTable) return;\n",
              "\n",
              "          const docLinkHtml = 'Like what you see? Visit the ' +\n",
              "            '<a target=\"_blank\" href=https://colab.research.google.com/notebooks/data_table.ipynb>data table notebook</a>'\n",
              "            + ' to learn more about interactive tables.';\n",
              "          element.innerHTML = '';\n",
              "          dataTable['output_type'] = 'display_data';\n",
              "          await google.colab.output.renderOutput(dataTable, element);\n",
              "          const docLink = document.createElement('div');\n",
              "          docLink.innerHTML = docLinkHtml;\n",
              "          element.appendChild(docLink);\n",
              "        }\n",
              "      </script>\n",
              "    </div>\n",
              "  </div>\n",
              "  "
            ]
          },
          "metadata": {},
          "execution_count": 74
        }
      ]
    },
    {
      "cell_type": "code",
      "source": [
        "y = df_ic['label']\n",
        "y"
      ],
      "metadata": {
        "colab": {
          "base_uri": "https://localhost:8080/"
        },
        "id": "LvmQUy-y7o78",
        "outputId": "e9fdc432-5154-4308-fb53-8bb1befa19d4"
      },
      "execution_count": null,
      "outputs": [
        {
          "output_type": "execute_result",
          "data": {
            "text/plain": [
              "0      blue\n",
              "1      blue\n",
              "2      blue\n",
              "3      blue\n",
              "4      blue\n",
              "       ... \n",
              "155     off\n",
              "156     off\n",
              "157     off\n",
              "158     off\n",
              "159     off\n",
              "Name: label, Length: 160, dtype: object"
            ]
          },
          "metadata": {},
          "execution_count": 75
        }
      ]
    },
    {
      "cell_type": "code",
      "source": [
        "from sklearn.preprocessing import StandardScaler\n",
        "\n",
        "scaler = StandardScaler()\n",
        "\n",
        "X = scaler.fit_transform(X)\n",
        "X"
      ],
      "metadata": {
        "id": "pdsA62cmH8Bk",
        "colab": {
          "base_uri": "https://localhost:8080/"
        },
        "outputId": "e93cbcd9-f1fc-499b-e553-37a96baa11c2"
      },
      "execution_count": null,
      "outputs": [
        {
          "output_type": "execute_result",
          "data": {
            "text/plain": [
              "array([[-4.40655241e-01, -2.19170630e-01],\n",
              "       [-4.36933463e-01, -2.13253553e-01],\n",
              "       [-4.34949946e-01, -2.09343862e-01],\n",
              "       [-4.33272027e-01, -2.04540243e-01],\n",
              "       [-4.32115161e-01, -2.03370292e-01],\n",
              "       [-4.31205401e-01, -2.00423901e-01],\n",
              "       [-4.30517390e-01, -1.99676034e-01],\n",
              "       [-4.29898605e-01, -1.98060290e-01],\n",
              "       [-4.29335720e-01, -1.96915805e-01],\n",
              "       [-4.28970705e-01, -1.97576738e-01],\n",
              "       [-4.28649004e-01, -1.96641245e-01],\n",
              "       [-4.28423924e-01, -1.96592948e-01],\n",
              "       [-4.28303055e-01, -1.95690532e-01],\n",
              "       [-4.28110367e-01, -1.94981302e-01],\n",
              "       [-4.27794959e-01, -1.94335590e-01],\n",
              "       [-4.27703520e-01, -1.93155687e-01],\n",
              "       [-4.27631517e-01, -1.93329262e-01],\n",
              "       [-4.27298895e-01, -1.92680916e-01],\n",
              "       [-4.27313147e-01, -1.93035092e-01],\n",
              "       [-4.27148039e-01, -1.92889031e-01],\n",
              "       [ 1.53748324e+00,  2.30936817e+00],\n",
              "       [ 1.57015241e+00,  2.32228007e+00],\n",
              "       [ 1.57513082e+00,  2.32907556e+00],\n",
              "       [ 1.57717431e+00,  2.33348257e+00],\n",
              "       [ 1.57731055e+00,  2.34156129e+00],\n",
              "       [ 1.57800652e+00,  2.34622119e+00],\n",
              "       [ 1.57702920e+00,  2.35314313e+00],\n",
              "       [ 1.57788213e+00,  2.35385967e+00],\n",
              "       [ 1.57818421e+00,  2.35665561e+00],\n",
              "       [ 1.57745863e+00,  2.36115160e+00],\n",
              "       [ 1.57589787e+00,  2.36365717e+00],\n",
              "       [ 1.57571426e+00,  2.37019040e+00],\n",
              "       [ 1.57511602e+00,  2.37004990e+00],\n",
              "       [ 1.57631842e+00,  2.37002648e+00],\n",
              "       [ 1.57536479e+00,  2.36969865e+00],\n",
              "       [ 1.57381885e+00,  2.37061190e+00],\n",
              "       [ 1.57420089e+00,  2.37370757e+00],\n",
              "       [ 1.57366484e+00,  2.37671426e+00],\n",
              "       [ 1.57502421e+00,  2.37946805e+00],\n",
              "       [ 1.57564910e+00,  2.38374391e+00],\n",
              "       [-7.95792757e-02, -4.18064922e-01],\n",
              "       [-6.60517127e-02, -4.13718804e-01],\n",
              "       [-5.93413322e-02, -4.11650535e-01],\n",
              "       [-5.52190006e-02, -4.10217733e-01],\n",
              "       [-5.30331709e-02, -4.09172475e-01],\n",
              "       [-5.12514115e-02, -4.08733707e-01],\n",
              "       [-4.98124548e-02, -4.08109948e-01],\n",
              "       [-4.87684985e-02, -4.08202443e-01],\n",
              "       [-4.79566560e-02, -4.07914127e-01],\n",
              "       [-4.74017303e-02, -4.07822509e-01],\n",
              "       [-4.71379647e-02, -4.06879114e-01],\n",
              "       [-4.64936364e-02, -4.07234168e-01],\n",
              "       [-4.64292221e-02, -4.06846916e-01],\n",
              "       [-4.59148330e-02, -4.06192423e-01],\n",
              "       [-4.58341300e-02, -4.06065388e-01],\n",
              "       [-4.55616648e-02, -4.06570015e-01],\n",
              "       [-4.54043310e-02, -4.06051045e-01],\n",
              "       [-4.52767980e-02, -4.06315945e-01],\n",
              "       [-4.54258024e-02, -4.05554614e-01],\n",
              "       [-4.54563437e-02, -4.05882153e-01],\n",
              "       [-5.50013246e-02, -5.03305960e-01],\n",
              "       [-2.69127929e-02, -5.03743850e-01],\n",
              "       [-1.61341296e-02, -5.03305082e-01],\n",
              "       [-1.05311942e-02, -5.03393187e-01],\n",
              "       [-7.26697988e-03, -5.03147312e-01],\n",
              "       [-5.30141755e-03, -5.03209659e-01],\n",
              "       [-4.05311240e-03, -5.03209659e-01],\n",
              "       [-2.97842977e-03, -5.03393187e-01],\n",
              "       [-2.27486988e-03, -5.03147312e-01],\n",
              "       [-1.61554857e-03, -5.03209659e-01],\n",
              "       [-1.14058549e-03, -5.06604185e-01],\n",
              "       [-8.80151721e-04, -5.03609205e-01],\n",
              "       [-7.85751421e-04, -5.06604185e-01],\n",
              "       [-4.28325971e-04, -5.03609205e-01],\n",
              "       [-3.40219024e-04, -5.04044168e-01],\n",
              "       [-1.57156481e-04, -5.01121193e-01],\n",
              "       [ 5.77430263e-05, -4.99146882e-01],\n",
              "       [ 5.73728291e-05, -5.00406987e-01],\n",
              "       [ 8.32866370e-05, -5.03545687e-01],\n",
              "       [ 2.75719500e-05, -5.03367721e-01],\n",
              "       [-7.34131337e-01, -6.81089618e-01],\n",
              "       [-7.23630507e-01, -6.81019954e-01],\n",
              "       [-7.18084582e-01, -6.81323491e-01],\n",
              "       [-7.14616019e-01, -6.79737018e-01],\n",
              "       [-7.12316538e-01, -6.80546939e-01],\n",
              "       [-7.10718212e-01, -6.80409367e-01],\n",
              "       [-7.09495820e-01, -6.81174503e-01],\n",
              "       [-7.08448717e-01, -6.81848608e-01],\n",
              "       [-7.07752747e-01, -6.80126319e-01],\n",
              "       [-7.06974037e-01, -6.82090970e-01],\n",
              "       [-7.06511290e-01, -6.80658460e-01],\n",
              "       [-7.06091116e-01, -6.81151087e-01],\n",
              "       [-7.05819577e-01, -6.80906676e-01],\n",
              "       [-7.05602086e-01, -6.80987171e-01],\n",
              "       [-7.05263725e-01, -6.80589089e-01],\n",
              "       [-7.04877239e-01, -6.81362129e-01],\n",
              "       [-7.04404127e-01, -6.81258803e-01],\n",
              "       [-7.04207182e-01, -6.81241533e-01],\n",
              "       [-7.03946564e-01, -6.81069421e-01],\n",
              "       [-7.03792561e-01, -6.81422134e-01],\n",
              "       [-1.01697204e+00, -6.49676275e-01],\n",
              "       [-1.01694912e+00, -6.46284969e-01],\n",
              "       [-1.01692876e+00, -6.44674786e-01],\n",
              "       [-1.01691123e+00, -6.43827106e-01],\n",
              "       [-1.01689538e+00, -6.43660263e-01],\n",
              "       [-1.01688064e+00, -6.43303745e-01],\n",
              "       [-1.01686955e+00, -6.42747601e-01],\n",
              "       [-1.01685716e+00, -6.43015721e-01],\n",
              "       [-1.01684659e+00, -6.42595101e-01],\n",
              "       [-1.01683711e+00, -6.42537438e-01],\n",
              "       [-1.01682642e+00, -6.43115534e-01],\n",
              "       [-1.01681910e+00, -6.42267561e-01],\n",
              "       [-1.01681264e+00, -6.42552366e-01],\n",
              "       [-1.01680371e+00, -6.42576075e-01],\n",
              "       [-1.01679395e+00, -6.42378498e-01],\n",
              "       [-1.01678883e+00, -6.42020517e-01],\n",
              "       [-1.01678255e+00, -6.42301515e-01],\n",
              "       [-1.01677762e+00, -6.42682620e-01],\n",
              "       [-1.01677084e+00, -6.42040713e-01],\n",
              "       [-1.01676571e+00, -6.42044519e-01],\n",
              "       [ 1.57804206e+00,  7.62577721e-01],\n",
              "       [ 1.64402305e+00,  7.64855569e-01],\n",
              "       [ 1.65802539e+00,  7.68399668e-01],\n",
              "       [ 1.66091293e+00,  7.70100590e-01],\n",
              "       [ 1.66241149e+00,  7.72401269e-01],\n",
              "       [ 1.66365239e+00,  7.74844790e-01],\n",
              "       [ 1.66460898e+00,  7.77133468e-01],\n",
              "       [ 1.66547080e+00,  7.80148353e-01],\n",
              "       [ 1.66607792e+00,  7.81788684e-01],\n",
              "       [ 1.66656659e+00,  7.83379841e-01],\n",
              "       [ 1.66699898e+00,  7.84835181e-01],\n",
              "       [ 1.66719444e+00,  7.86749779e-01],\n",
              "       [ 1.66743433e+00,  7.87742350e-01],\n",
              "       [ 1.66769198e+00,  7.89333214e-01],\n",
              "       [ 1.66790522e+00,  7.91286742e-01],\n",
              "       [ 1.66810364e+00,  7.92677980e-01],\n",
              "       [ 1.66824580e+00,  7.93284762e-01],\n",
              "       [ 1.66826949e+00,  7.95598027e-01],\n",
              "       [ 1.66851827e+00,  7.95341030e-01],\n",
              "       [ 1.66844126e+00,  7.97033756e-01],\n",
              "       [-1.01953795e+00, -7.00686955e-01],\n",
              "       [-1.01955446e+00, -7.02000918e-01],\n",
              "       [-1.01956841e+00, -7.02816400e-01],\n",
              "       [-1.01958258e+00, -7.02345434e-01],\n",
              "       [-1.01959578e+00, -7.02702537e-01],\n",
              "       [-1.01960793e+00, -7.03317515e-01],\n",
              "       [-1.01961996e+00, -7.03360836e-01],\n",
              "       [-1.01962873e+00, -7.03773553e-01],\n",
              "       [-1.01963554e+00, -7.03693644e-01],\n",
              "       [-1.01963866e+00, -7.03943616e-01],\n",
              "       [-1.01964046e+00, -7.04312134e-01],\n",
              "       [-1.01964126e+00, -7.04129778e-01],\n",
              "       [-1.01964070e+00, -7.04491271e-01],\n",
              "       [-1.01964256e+00, -7.04055137e-01],\n",
              "       [-1.01964416e+00, -7.05530967e-01],\n",
              "       [-1.01964464e+00, -7.05185865e-01],\n",
              "       [-1.01965060e+00, -7.05089565e-01],\n",
              "       [-1.01965276e+00, -7.05403932e-01],\n",
              "       [-1.01965722e+00, -7.06876250e-01],\n",
              "       [-1.01966291e+00, -7.06161166e-01]])"
            ]
          },
          "metadata": {},
          "execution_count": 76
        }
      ]
    },
    {
      "cell_type": "code",
      "source": [
        "df_x = pd. DataFrame(X, columns=['Column1', 'Column2'])\n",
        "df_x.head()"
      ],
      "metadata": {
        "colab": {
          "base_uri": "https://localhost:8080/",
          "height": 206
        },
        "id": "xrJD0AqB5PF-",
        "outputId": "3de385a1-faee-4af1-c256-321e6bf42093"
      },
      "execution_count": null,
      "outputs": [
        {
          "output_type": "execute_result",
          "data": {
            "text/plain": [
              "    Column1   Column2\n",
              "0 -0.440655 -0.219171\n",
              "1 -0.436933 -0.213254\n",
              "2 -0.434950 -0.209344\n",
              "3 -0.433272 -0.204540\n",
              "4 -0.432115 -0.203370"
            ],
            "text/html": [
              "\n",
              "  <div id=\"df-73fc1079-484c-4ef4-a111-6e9269f1b6dd\">\n",
              "    <div class=\"colab-df-container\">\n",
              "      <div>\n",
              "<style scoped>\n",
              "    .dataframe tbody tr th:only-of-type {\n",
              "        vertical-align: middle;\n",
              "    }\n",
              "\n",
              "    .dataframe tbody tr th {\n",
              "        vertical-align: top;\n",
              "    }\n",
              "\n",
              "    .dataframe thead th {\n",
              "        text-align: right;\n",
              "    }\n",
              "</style>\n",
              "<table border=\"1\" class=\"dataframe\">\n",
              "  <thead>\n",
              "    <tr style=\"text-align: right;\">\n",
              "      <th></th>\n",
              "      <th>Column1</th>\n",
              "      <th>Column2</th>\n",
              "    </tr>\n",
              "  </thead>\n",
              "  <tbody>\n",
              "    <tr>\n",
              "      <th>0</th>\n",
              "      <td>-0.440655</td>\n",
              "      <td>-0.219171</td>\n",
              "    </tr>\n",
              "    <tr>\n",
              "      <th>1</th>\n",
              "      <td>-0.436933</td>\n",
              "      <td>-0.213254</td>\n",
              "    </tr>\n",
              "    <tr>\n",
              "      <th>2</th>\n",
              "      <td>-0.434950</td>\n",
              "      <td>-0.209344</td>\n",
              "    </tr>\n",
              "    <tr>\n",
              "      <th>3</th>\n",
              "      <td>-0.433272</td>\n",
              "      <td>-0.204540</td>\n",
              "    </tr>\n",
              "    <tr>\n",
              "      <th>4</th>\n",
              "      <td>-0.432115</td>\n",
              "      <td>-0.203370</td>\n",
              "    </tr>\n",
              "  </tbody>\n",
              "</table>\n",
              "</div>\n",
              "      <button class=\"colab-df-convert\" onclick=\"convertToInteractive('df-73fc1079-484c-4ef4-a111-6e9269f1b6dd')\"\n",
              "              title=\"Convert this dataframe to an interactive table.\"\n",
              "              style=\"display:none;\">\n",
              "        \n",
              "  <svg xmlns=\"http://www.w3.org/2000/svg\" height=\"24px\"viewBox=\"0 0 24 24\"\n",
              "       width=\"24px\">\n",
              "    <path d=\"M0 0h24v24H0V0z\" fill=\"none\"/>\n",
              "    <path d=\"M18.56 5.44l.94 2.06.94-2.06 2.06-.94-2.06-.94-.94-2.06-.94 2.06-2.06.94zm-11 1L8.5 8.5l.94-2.06 2.06-.94-2.06-.94L8.5 2.5l-.94 2.06-2.06.94zm10 10l.94 2.06.94-2.06 2.06-.94-2.06-.94-.94-2.06-.94 2.06-2.06.94z\"/><path d=\"M17.41 7.96l-1.37-1.37c-.4-.4-.92-.59-1.43-.59-.52 0-1.04.2-1.43.59L10.3 9.45l-7.72 7.72c-.78.78-.78 2.05 0 2.83L4 21.41c.39.39.9.59 1.41.59.51 0 1.02-.2 1.41-.59l7.78-7.78 2.81-2.81c.8-.78.8-2.07 0-2.86zM5.41 20L4 18.59l7.72-7.72 1.47 1.35L5.41 20z\"/>\n",
              "  </svg>\n",
              "      </button>\n",
              "      \n",
              "  <style>\n",
              "    .colab-df-container {\n",
              "      display:flex;\n",
              "      flex-wrap:wrap;\n",
              "      gap: 12px;\n",
              "    }\n",
              "\n",
              "    .colab-df-convert {\n",
              "      background-color: #E8F0FE;\n",
              "      border: none;\n",
              "      border-radius: 50%;\n",
              "      cursor: pointer;\n",
              "      display: none;\n",
              "      fill: #1967D2;\n",
              "      height: 32px;\n",
              "      padding: 0 0 0 0;\n",
              "      width: 32px;\n",
              "    }\n",
              "\n",
              "    .colab-df-convert:hover {\n",
              "      background-color: #E2EBFA;\n",
              "      box-shadow: 0px 1px 2px rgba(60, 64, 67, 0.3), 0px 1px 3px 1px rgba(60, 64, 67, 0.15);\n",
              "      fill: #174EA6;\n",
              "    }\n",
              "\n",
              "    [theme=dark] .colab-df-convert {\n",
              "      background-color: #3B4455;\n",
              "      fill: #D2E3FC;\n",
              "    }\n",
              "\n",
              "    [theme=dark] .colab-df-convert:hover {\n",
              "      background-color: #434B5C;\n",
              "      box-shadow: 0px 1px 3px 1px rgba(0, 0, 0, 0.15);\n",
              "      filter: drop-shadow(0px 1px 2px rgba(0, 0, 0, 0.3));\n",
              "      fill: #FFFFFF;\n",
              "    }\n",
              "  </style>\n",
              "\n",
              "      <script>\n",
              "        const buttonEl =\n",
              "          document.querySelector('#df-73fc1079-484c-4ef4-a111-6e9269f1b6dd button.colab-df-convert');\n",
              "        buttonEl.style.display =\n",
              "          google.colab.kernel.accessAllowed ? 'block' : 'none';\n",
              "\n",
              "        async function convertToInteractive(key) {\n",
              "          const element = document.querySelector('#df-73fc1079-484c-4ef4-a111-6e9269f1b6dd');\n",
              "          const dataTable =\n",
              "            await google.colab.kernel.invokeFunction('convertToInteractive',\n",
              "                                                     [key], {});\n",
              "          if (!dataTable) return;\n",
              "\n",
              "          const docLinkHtml = 'Like what you see? Visit the ' +\n",
              "            '<a target=\"_blank\" href=https://colab.research.google.com/notebooks/data_table.ipynb>data table notebook</a>'\n",
              "            + ' to learn more about interactive tables.';\n",
              "          element.innerHTML = '';\n",
              "          dataTable['output_type'] = 'display_data';\n",
              "          await google.colab.output.renderOutput(dataTable, element);\n",
              "          const docLink = document.createElement('div');\n",
              "          docLink.innerHTML = docLinkHtml;\n",
              "          element.appendChild(docLink);\n",
              "        }\n",
              "      </script>\n",
              "    </div>\n",
              "  </div>\n",
              "  "
            ]
          },
          "metadata": {},
          "execution_count": 77
        }
      ]
    },
    {
      "cell_type": "code",
      "source": [
        "# use pca"
      ],
      "metadata": {
        "id": "qlfQSqpdHRsj"
      },
      "execution_count": null,
      "outputs": []
    },
    {
      "cell_type": "code",
      "source": [
        "from sklearn.decomposition import PCA\n",
        "\n",
        "pca = PCA(n_components=2)\n",
        "X_pca = pca.fit_transform(df_x)\n",
        "\n",
        "X_pca.shape"
      ],
      "metadata": {
        "colab": {
          "base_uri": "https://localhost:8080/"
        },
        "id": "6DLe-iVpKus5",
        "outputId": "47f7a987-a7a5-4f87-f675-87d4b834c744"
      },
      "execution_count": null,
      "outputs": [
        {
          "output_type": "execute_result",
          "data": {
            "text/plain": [
              "(160, 2)"
            ]
          },
          "metadata": {},
          "execution_count": 79
        }
      ]
    },
    {
      "cell_type": "code",
      "source": [
        "X_pca"
      ],
      "metadata": {
        "colab": {
          "base_uri": "https://localhost:8080/"
        },
        "id": "amMocpI6Kup0",
        "outputId": "069e3dd2-0f61-4a37-b824-5626c9904fba"
      },
      "execution_count": null,
      "outputs": [
        {
          "output_type": "execute_result",
          "data": {
            "text/plain": [
              "array([[-0.46656735, -0.15661327],\n",
              "       [-0.45975165, -0.15816558],\n",
              "       [-0.45558452, -0.15952759],\n",
              "       [-0.45100138, -0.1617378 ],\n",
              "       [-0.44935607, -0.16174705],\n",
              "       [-0.44662936, -0.16318716],\n",
              "       [-0.44561404, -0.16322949],\n",
              "       [-0.44403399, -0.16393444],\n",
              "       [-0.4428267 , -0.1643457 ],\n",
              "       [-0.44303595, -0.16362024],\n",
              "       [-0.44214698, -0.16405426],\n",
              "       [-0.44195367, -0.16392925],\n",
              "       [-0.4412301 , -0.16448189],\n",
              "       [-0.44059234, -0.16484714],\n",
              "       [-0.43991273, -0.1650807 ],\n",
              "       [-0.43901376, -0.16585036],\n",
              "       [-0.43908558, -0.16567671],\n",
              "       [-0.43839193, -0.16589996],\n",
              "       [-0.43865245, -0.1656596 ],\n",
              "       [-0.43843242, -0.16564613],\n",
              "       [ 2.72013472, -0.54580507],\n",
              "       [ 2.75236541, -0.53183457],\n",
              "       [ 2.76069081, -0.53311944],\n",
              "       [ 2.765252  , -0.53479069],\n",
              "       [ 2.77106085, -0.54040688],\n",
              "       [ 2.77484802, -0.5432098 ],\n",
              "       [ 2.7790515 , -0.54879542],\n",
              "       [ 2.78016129, -0.54869898],\n",
              "       [ 2.78235192, -0.55046241],\n",
              "       [ 2.785018  , -0.55415462],\n",
              "       [ 2.78568609, -0.55702994],\n",
              "       [ 2.79017594, -0.56177947],\n",
              "       [ 2.78965357, -0.56210314],\n",
              "       [ 2.79048724, -0.56123635],\n",
              "       [ 2.78958111, -0.56167886],\n",
              "       [ 2.78913373, -0.56341777],\n",
              "       [ 2.79159284, -0.56533659],\n",
              "       [ 2.79333985, -0.56784169],\n",
              "       [ 2.79624829, -0.56882769],\n",
              "       [ 2.79971365, -0.57140932],\n",
              "       [-0.35188759,  0.2393455 ],\n",
              "       [-0.33924899,  0.24583776],\n",
              "       [-0.33304154,  0.24912023],\n",
              "       [-0.32911347,  0.25102201],\n",
              "       [-0.32682875,  0.25182852],\n",
              "       [-0.3252586 ,  0.25277816],\n",
              "       [-0.32380004,  0.25335459],\n",
              "       [-0.32312725,  0.25415818],\n",
              "       [-0.32234932,  0.25452837],\n",
              "       [-0.32189215,  0.25485598],\n",
              "       [-0.32103856,  0.25437541],\n",
              "       [-0.32083401,  0.25508208],\n",
              "       [-0.32051463,  0.2548538 ],\n",
              "       [-0.31968811,  0.25475473],\n",
              "       [-0.31954121,  0.25472197],\n",
              "       [-0.31970538,  0.25527145],\n",
              "       [-0.31922716,  0.25501574],\n",
              "       [-0.31932429,  0.25529323],\n",
              "       [-0.31889131,  0.25464952],\n",
              "       [-0.31914451,  0.25485953],\n",
              "       [-0.39478287,  0.31699925],\n",
              "       [-0.37523091,  0.33717047],\n",
              "       [-0.36729899,  0.34448188],\n",
              "       [-0.36339941,  0.34850606],\n",
              "       [-0.36091741,  0.35064035],\n",
              "       [-0.35957163,  0.35207429],\n",
              "       [-0.35868895,  0.35295698],\n",
              "       [-0.3580588 ,  0.35384667],\n",
              "       [-0.35738745,  0.3541703 ],\n",
              "       [-0.35696533,  0.3546806 ],\n",
              "       [-0.35902977,  0.35741674],\n",
              "       [-0.35672784,  0.35548312],\n",
              "       [-0.35877886,  0.35766764],\n",
              "       [-0.35640836,  0.35580261],\n",
              "       [-0.35665362,  0.35617248],\n",
              "       [-0.35445732,  0.35423507],\n",
              "       [-0.35290931,  0.35299098],\n",
              "       [-0.35380061,  0.35388174],\n",
              "       [-0.35600168,  0.35611946],\n",
              "       [-0.35591523,  0.35595423],\n",
              "       [-1.00071233, -0.03750616],\n",
              "       [-0.99323787, -0.03013021],\n",
              "       [-0.98953094, -0.02599402],\n",
              "       [-0.98595649, -0.02466318],\n",
              "       [-0.98490321, -0.0224645 ],\n",
              "       [-0.98367574, -0.02143159],\n",
              "       [-0.98335242, -0.0200262 ],\n",
              "       [-0.98308867, -0.01880912],\n",
              "       [-0.9813787 , -0.01953483],\n",
              "       [-0.98221729, -0.01759499],\n",
              "       [-0.98087714, -0.01828071],\n",
              "       [-0.98092837, -0.01763526],\n",
              "       [-0.98056354, -0.01761608],\n",
              "       [-0.98046667, -0.01740537],\n",
              "       [-0.97994592, -0.0174476 ],\n",
              "       [-0.98021926, -0.01662769],\n",
              "       [-0.97981165, -0.01636622],\n",
              "       [-0.97966018, -0.01623917],\n",
              "       [-0.9793542 , -0.01617658],\n",
              "       [-0.9794947 , -0.01581828],\n",
              "       [-1.17849833, -0.25971733],\n",
              "       [-1.1760841 , -0.26209913],\n",
              "       [-1.17493113, -0.26322331],\n",
              "       [-1.17431934, -0.26381031],\n",
              "       [-1.17419016, -0.26391708],\n",
              "       [-1.17392764, -0.26415876],\n",
              "       [-1.17352654, -0.26454417],\n",
              "       [-1.17370737, -0.26434582],\n",
              "       [-1.17340247, -0.26463577],\n",
              "       [-1.173355  , -0.26466984],\n",
              "       [-1.17375622, -0.2642535 ],\n",
              "       [-1.17315143, -0.26484793],\n",
              "       [-1.17334825, -0.26464198],\n",
              "       [-1.1733587 , -0.2646189 ],\n",
              "       [-1.17321209, -0.2647517 ],\n",
              "       [-1.17295534, -0.26500122],\n",
              "       [-1.17314959, -0.26479808],\n",
              "       [-1.17341559, -0.26452511],\n",
              "       [-1.1729569 , -0.26497421],\n",
              "       [-1.17295596, -0.26496789],\n",
              "       [ 1.65506812,  0.57662036],\n",
              "       [ 1.70333441,  0.62166529],\n",
              "       [ 1.71574162,  0.62906038],\n",
              "       [ 1.71898615,  0.62989945],\n",
              "       [ 1.72167261,  0.62933226],\n",
              "       [ 1.72427789,  0.62848188],\n",
              "       [ 1.72657264,  0.62753995],\n",
              "       [ 1.72931389,  0.62601751],\n",
              "       [ 1.73090308,  0.62528692],\n",
              "       [ 1.73237373,  0.62450734],\n",
              "       [ 1.73370856,  0.623784  ],\n",
              "       [ 1.7352006 ,  0.62256839],\n",
              "       [ 1.73607208,  0.62203616],\n",
              "       [ 1.73737918,  0.62109344],\n",
              "       [ 1.73891131,  0.61986287],\n",
              "       [ 1.74003537,  0.61901942],\n",
              "       [ 1.74056495,  0.61869088],\n",
              "       [ 1.74221743,  0.61707191],\n",
              "       [ 1.74221162,  0.61742954],\n",
              "       [ 1.74335411,  0.61617816],\n",
              "       [-1.2163827 , -0.2254617 ],\n",
              "       [-1.21732348, -0.22454426],\n",
              "       [-1.21790998, -0.22397749],\n",
              "       [-1.21758697, -0.22432053],\n",
              "       [-1.21784882, -0.22407736],\n",
              "       [-1.21829226, -0.22365109],\n",
              "       [-1.2183314 , -0.22362897],\n",
              "       [-1.21862944, -0.22334334],\n",
              "       [-1.21857775, -0.22340466],\n",
              "       [-1.21875671, -0.22323011],\n",
              "       [-1.21901857, -0.2229708 ],\n",
              "       [-1.21889019, -0.22310031],\n",
              "       [-1.21914541, -0.2228443 ],\n",
              "       [-1.21883833, -0.22315401],\n",
              "       [-1.21988303, -0.22211157],\n",
              "       [-1.21963934, -0.22235593],\n",
              "       [-1.21957547, -0.22242824],\n",
              "       [-1.21979928, -0.22220748],\n",
              "       [-1.22084353, -0.22116955],\n",
              "       [-1.22034191, -0.22167921]])"
            ]
          },
          "metadata": {},
          "execution_count": 80
        }
      ]
    },
    {
      "cell_type": "code",
      "source": [
        "df_X_pca = pd. DataFrame(X_pca, columns=['Column1', 'Column2'])\n",
        "df_X_pca.head()"
      ],
      "metadata": {
        "colab": {
          "base_uri": "https://localhost:8080/",
          "height": 206
        },
        "id": "udGtub_3MNjC",
        "outputId": "0d5e68d0-0902-40af-da25-b6b51d398dbf"
      },
      "execution_count": null,
      "outputs": [
        {
          "output_type": "execute_result",
          "data": {
            "text/plain": [
              "    Column1   Column2\n",
              "0 -0.466567 -0.156613\n",
              "1 -0.459752 -0.158166\n",
              "2 -0.455585 -0.159528\n",
              "3 -0.451001 -0.161738\n",
              "4 -0.449356 -0.161747"
            ],
            "text/html": [
              "\n",
              "  <div id=\"df-c723abee-1b9d-41ba-be1e-48e7cd4158c5\">\n",
              "    <div class=\"colab-df-container\">\n",
              "      <div>\n",
              "<style scoped>\n",
              "    .dataframe tbody tr th:only-of-type {\n",
              "        vertical-align: middle;\n",
              "    }\n",
              "\n",
              "    .dataframe tbody tr th {\n",
              "        vertical-align: top;\n",
              "    }\n",
              "\n",
              "    .dataframe thead th {\n",
              "        text-align: right;\n",
              "    }\n",
              "</style>\n",
              "<table border=\"1\" class=\"dataframe\">\n",
              "  <thead>\n",
              "    <tr style=\"text-align: right;\">\n",
              "      <th></th>\n",
              "      <th>Column1</th>\n",
              "      <th>Column2</th>\n",
              "    </tr>\n",
              "  </thead>\n",
              "  <tbody>\n",
              "    <tr>\n",
              "      <th>0</th>\n",
              "      <td>-0.466567</td>\n",
              "      <td>-0.156613</td>\n",
              "    </tr>\n",
              "    <tr>\n",
              "      <th>1</th>\n",
              "      <td>-0.459752</td>\n",
              "      <td>-0.158166</td>\n",
              "    </tr>\n",
              "    <tr>\n",
              "      <th>2</th>\n",
              "      <td>-0.455585</td>\n",
              "      <td>-0.159528</td>\n",
              "    </tr>\n",
              "    <tr>\n",
              "      <th>3</th>\n",
              "      <td>-0.451001</td>\n",
              "      <td>-0.161738</td>\n",
              "    </tr>\n",
              "    <tr>\n",
              "      <th>4</th>\n",
              "      <td>-0.449356</td>\n",
              "      <td>-0.161747</td>\n",
              "    </tr>\n",
              "  </tbody>\n",
              "</table>\n",
              "</div>\n",
              "      <button class=\"colab-df-convert\" onclick=\"convertToInteractive('df-c723abee-1b9d-41ba-be1e-48e7cd4158c5')\"\n",
              "              title=\"Convert this dataframe to an interactive table.\"\n",
              "              style=\"display:none;\">\n",
              "        \n",
              "  <svg xmlns=\"http://www.w3.org/2000/svg\" height=\"24px\"viewBox=\"0 0 24 24\"\n",
              "       width=\"24px\">\n",
              "    <path d=\"M0 0h24v24H0V0z\" fill=\"none\"/>\n",
              "    <path d=\"M18.56 5.44l.94 2.06.94-2.06 2.06-.94-2.06-.94-.94-2.06-.94 2.06-2.06.94zm-11 1L8.5 8.5l.94-2.06 2.06-.94-2.06-.94L8.5 2.5l-.94 2.06-2.06.94zm10 10l.94 2.06.94-2.06 2.06-.94-2.06-.94-.94-2.06-.94 2.06-2.06.94z\"/><path d=\"M17.41 7.96l-1.37-1.37c-.4-.4-.92-.59-1.43-.59-.52 0-1.04.2-1.43.59L10.3 9.45l-7.72 7.72c-.78.78-.78 2.05 0 2.83L4 21.41c.39.39.9.59 1.41.59.51 0 1.02-.2 1.41-.59l7.78-7.78 2.81-2.81c.8-.78.8-2.07 0-2.86zM5.41 20L4 18.59l7.72-7.72 1.47 1.35L5.41 20z\"/>\n",
              "  </svg>\n",
              "      </button>\n",
              "      \n",
              "  <style>\n",
              "    .colab-df-container {\n",
              "      display:flex;\n",
              "      flex-wrap:wrap;\n",
              "      gap: 12px;\n",
              "    }\n",
              "\n",
              "    .colab-df-convert {\n",
              "      background-color: #E8F0FE;\n",
              "      border: none;\n",
              "      border-radius: 50%;\n",
              "      cursor: pointer;\n",
              "      display: none;\n",
              "      fill: #1967D2;\n",
              "      height: 32px;\n",
              "      padding: 0 0 0 0;\n",
              "      width: 32px;\n",
              "    }\n",
              "\n",
              "    .colab-df-convert:hover {\n",
              "      background-color: #E2EBFA;\n",
              "      box-shadow: 0px 1px 2px rgba(60, 64, 67, 0.3), 0px 1px 3px 1px rgba(60, 64, 67, 0.15);\n",
              "      fill: #174EA6;\n",
              "    }\n",
              "\n",
              "    [theme=dark] .colab-df-convert {\n",
              "      background-color: #3B4455;\n",
              "      fill: #D2E3FC;\n",
              "    }\n",
              "\n",
              "    [theme=dark] .colab-df-convert:hover {\n",
              "      background-color: #434B5C;\n",
              "      box-shadow: 0px 1px 3px 1px rgba(0, 0, 0, 0.15);\n",
              "      filter: drop-shadow(0px 1px 2px rgba(0, 0, 0, 0.3));\n",
              "      fill: #FFFFFF;\n",
              "    }\n",
              "  </style>\n",
              "\n",
              "      <script>\n",
              "        const buttonEl =\n",
              "          document.querySelector('#df-c723abee-1b9d-41ba-be1e-48e7cd4158c5 button.colab-df-convert');\n",
              "        buttonEl.style.display =\n",
              "          google.colab.kernel.accessAllowed ? 'block' : 'none';\n",
              "\n",
              "        async function convertToInteractive(key) {\n",
              "          const element = document.querySelector('#df-c723abee-1b9d-41ba-be1e-48e7cd4158c5');\n",
              "          const dataTable =\n",
              "            await google.colab.kernel.invokeFunction('convertToInteractive',\n",
              "                                                     [key], {});\n",
              "          if (!dataTable) return;\n",
              "\n",
              "          const docLinkHtml = 'Like what you see? Visit the ' +\n",
              "            '<a target=\"_blank\" href=https://colab.research.google.com/notebooks/data_table.ipynb>data table notebook</a>'\n",
              "            + ' to learn more about interactive tables.';\n",
              "          element.innerHTML = '';\n",
              "          dataTable['output_type'] = 'display_data';\n",
              "          await google.colab.output.renderOutput(dataTable, element);\n",
              "          const docLink = document.createElement('div');\n",
              "          docLink.innerHTML = docLinkHtml;\n",
              "          element.appendChild(docLink);\n",
              "        }\n",
              "      </script>\n",
              "    </div>\n",
              "  </div>\n",
              "  "
            ]
          },
          "metadata": {},
          "execution_count": 81
        }
      ]
    },
    {
      "cell_type": "code",
      "source": [
        "plt.scatter(df_X_pca['Column1'], df_X_pca['Column2'], color='blue')\n",
        "plt.xlabel('pca1')\n",
        "plt.ylabel('pca2')"
      ],
      "metadata": {
        "colab": {
          "base_uri": "https://localhost:8080/",
          "height": 296
        },
        "id": "_OrlKanPMONe",
        "outputId": "8ca4d9f9-bd8f-4661-b896-cf905602292b"
      },
      "execution_count": null,
      "outputs": [
        {
          "output_type": "execute_result",
          "data": {
            "text/plain": [
              "Text(0, 0.5, 'pca2')"
            ]
          },
          "metadata": {},
          "execution_count": 82
        },
        {
          "output_type": "display_data",
          "data": {
            "text/plain": [
              "<Figure size 432x288 with 1 Axes>"
            ],
            "image/png": "[encoded data removed]"
          },
          "metadata": {
            "needs_background": "light"
          }
        }
      ]
    },
    {
      "cell_type": "code",
      "source": [
        "pca.explained_variance_ratio_"
      ],
      "metadata": {
        "colab": {
          "base_uri": "https://localhost:8080/"
        },
        "id": "t-5PZaTWKuli",
        "outputId": "d9f73ca7-e291-42d2-aa5d-96ef8e47ec47"
      },
      "execution_count": null,
      "outputs": [
        {
          "output_type": "execute_result",
          "data": {
            "text/plain": [
              "array([0.93586913, 0.06413087])"
            ]
          },
          "metadata": {},
          "execution_count": 83
        }
      ]
    },
    {
      "cell_type": "code",
      "source": [],
      "metadata": {
        "id": "KhOWRTLGMMLS"
      },
      "execution_count": null,
      "outputs": []
    },
    {
      "cell_type": "code",
      "source": [],
      "metadata": {
        "id": "4-O-N9dKMMHs"
      },
      "execution_count": null,
      "outputs": []
    },
    {
      "cell_type": "markdown",
      "source": [
        "# Clustering With K Means"
      ],
      "metadata": {
        "id": "oIW0dGelyika"
      }
    },
    {
      "cell_type": "code",
      "source": [
        "from sklearn.cluster import KMeans\n",
        "import pandas as pd\n",
        "from sklearn.preprocessing import MinMaxScaler\n",
        "from matplotlib import pyplot as plt\n",
        "%matplotlib inline"
      ],
      "metadata": {
        "id": "eLRDoQIDMME6"
      },
      "execution_count": null,
      "outputs": []
    },
    {
      "cell_type": "code",
      "source": [
        "df_X_pca.head()"
      ],
      "metadata": {
        "id": "YWDFsg9QMMBy",
        "colab": {
          "base_uri": "https://localhost:8080/",
          "height": 206
        },
        "outputId": "4a5a5049-3f17-4a5d-b141-f9cfb37da3de"
      },
      "execution_count": null,
      "outputs": [
        {
          "output_type": "execute_result",
          "data": {
            "text/plain": [
              "    Column1   Column2\n",
              "0 -0.466567 -0.156613\n",
              "1 -0.459752 -0.158166\n",
              "2 -0.455585 -0.159528\n",
              "3 -0.451001 -0.161738\n",
              "4 -0.449356 -0.161747"
            ],
            "text/html": [
              "\n",
              "  <div id=\"df-8c2b5397-d413-468e-a31c-bf55cd115f1a\">\n",
              "    <div class=\"colab-df-container\">\n",
              "      <div>\n",
              "<style scoped>\n",
              "    .dataframe tbody tr th:only-of-type {\n",
              "        vertical-align: middle;\n",
              "    }\n",
              "\n",
              "    .dataframe tbody tr th {\n",
              "        vertical-align: top;\n",
              "    }\n",
              "\n",
              "    .dataframe thead th {\n",
              "        text-align: right;\n",
              "    }\n",
              "</style>\n",
              "<table border=\"1\" class=\"dataframe\">\n",
              "  <thead>\n",
              "    <tr style=\"text-align: right;\">\n",
              "      <th></th>\n",
              "      <th>Column1</th>\n",
              "      <th>Column2</th>\n",
              "    </tr>\n",
              "  </thead>\n",
              "  <tbody>\n",
              "    <tr>\n",
              "      <th>0</th>\n",
              "      <td>-0.466567</td>\n",
              "      <td>-0.156613</td>\n",
              "    </tr>\n",
              "    <tr>\n",
              "      <th>1</th>\n",
              "      <td>-0.459752</td>\n",
              "      <td>-0.158166</td>\n",
              "    </tr>\n",
              "    <tr>\n",
              "      <th>2</th>\n",
              "      <td>-0.455585</td>\n",
              "      <td>-0.159528</td>\n",
              "    </tr>\n",
              "    <tr>\n",
              "      <th>3</th>\n",
              "      <td>-0.451001</td>\n",
              "      <td>-0.161738</td>\n",
              "    </tr>\n",
              "    <tr>\n",
              "      <th>4</th>\n",
              "      <td>-0.449356</td>\n",
              "      <td>-0.161747</td>\n",
              "    </tr>\n",
              "  </tbody>\n",
              "</table>\n",
              "</div>\n",
              "      <button class=\"colab-df-convert\" onclick=\"convertToInteractive('df-8c2b5397-d413-468e-a31c-bf55cd115f1a')\"\n",
              "              title=\"Convert this dataframe to an interactive table.\"\n",
              "              style=\"display:none;\">\n",
              "        \n",
              "  <svg xmlns=\"http://www.w3.org/2000/svg\" height=\"24px\"viewBox=\"0 0 24 24\"\n",
              "       width=\"24px\">\n",
              "    <path d=\"M0 0h24v24H0V0z\" fill=\"none\"/>\n",
              "    <path d=\"M18.56 5.44l.94 2.06.94-2.06 2.06-.94-2.06-.94-.94-2.06-.94 2.06-2.06.94zm-11 1L8.5 8.5l.94-2.06 2.06-.94-2.06-.94L8.5 2.5l-.94 2.06-2.06.94zm10 10l.94 2.06.94-2.06 2.06-.94-2.06-.94-.94-2.06-.94 2.06-2.06.94z\"/><path d=\"M17.41 7.96l-1.37-1.37c-.4-.4-.92-.59-1.43-.59-.52 0-1.04.2-1.43.59L10.3 9.45l-7.72 7.72c-.78.78-.78 2.05 0 2.83L4 21.41c.39.39.9.59 1.41.59.51 0 1.02-.2 1.41-.59l7.78-7.78 2.81-2.81c.8-.78.8-2.07 0-2.86zM5.41 20L4 18.59l7.72-7.72 1.47 1.35L5.41 20z\"/>\n",
              "  </svg>\n",
              "      </button>\n",
              "      \n",
              "  <style>\n",
              "    .colab-df-container {\n",
              "      display:flex;\n",
              "      flex-wrap:wrap;\n",
              "      gap: 12px;\n",
              "    }\n",
              "\n",
              "    .colab-df-convert {\n",
              "      background-color: #E8F0FE;\n",
              "      border: none;\n",
              "      border-radius: 50%;\n",
              "      cursor: pointer;\n",
              "      display: none;\n",
              "      fill: #1967D2;\n",
              "      height: 32px;\n",
              "      padding: 0 0 0 0;\n",
              "      width: 32px;\n",
              "    }\n",
              "\n",
              "    .colab-df-convert:hover {\n",
              "      background-color: #E2EBFA;\n",
              "      box-shadow: 0px 1px 2px rgba(60, 64, 67, 0.3), 0px 1px 3px 1px rgba(60, 64, 67, 0.15);\n",
              "      fill: #174EA6;\n",
              "    }\n",
              "\n",
              "    [theme=dark] .colab-df-convert {\n",
              "      background-color: #3B4455;\n",
              "      fill: #D2E3FC;\n",
              "    }\n",
              "\n",
              "    [theme=dark] .colab-df-convert:hover {\n",
              "      background-color: #434B5C;\n",
              "      box-shadow: 0px 1px 3px 1px rgba(0, 0, 0, 0.15);\n",
              "      filter: drop-shadow(0px 1px 2px rgba(0, 0, 0, 0.3));\n",
              "      fill: #FFFFFF;\n",
              "    }\n",
              "  </style>\n",
              "\n",
              "      <script>\n",
              "        const buttonEl =\n",
              "          document.querySelector('#df-8c2b5397-d413-468e-a31c-bf55cd115f1a button.colab-df-convert');\n",
              "        buttonEl.style.display =\n",
              "          google.colab.kernel.accessAllowed ? 'block' : 'none';\n",
              "\n",
              "        async function convertToInteractive(key) {\n",
              "          const element = document.querySelector('#df-8c2b5397-d413-468e-a31c-bf55cd115f1a');\n",
              "          const dataTable =\n",
              "            await google.colab.kernel.invokeFunction('convertToInteractive',\n",
              "                                                     [key], {});\n",
              "          if (!dataTable) return;\n",
              "\n",
              "          const docLinkHtml = 'Like what you see? Visit the ' +\n",
              "            '<a target=\"_blank\" href=https://colab.research.google.com/notebooks/data_table.ipynb>data table notebook</a>'\n",
              "            + ' to learn more about interactive tables.';\n",
              "          element.innerHTML = '';\n",
              "          dataTable['output_type'] = 'display_data';\n",
              "          await google.colab.output.renderOutput(dataTable, element);\n",
              "          const docLink = document.createElement('div');\n",
              "          docLink.innerHTML = docLinkHtml;\n",
              "          element.appendChild(docLink);\n",
              "        }\n",
              "      </script>\n",
              "    </div>\n",
              "  </div>\n",
              "  "
            ]
          },
          "metadata": {},
          "execution_count": 85
        }
      ]
    },
    {
      "cell_type": "code",
      "source": [
        "plt.scatter(df_X_pca.Column1,df_X_pca.Column2)\n",
        "plt.xlabel('pca1')\n",
        "plt.ylabel('pca2')"
      ],
      "metadata": {
        "colab": {
          "base_uri": "https://localhost:8080/",
          "height": 296
        },
        "id": "lMAUNDbyypb5",
        "outputId": "ca13a312-8694-4a36-8f55-9e11a2aaf6e3"
      },
      "execution_count": null,
      "outputs": [
        {
          "output_type": "execute_result",
          "data": {
            "text/plain": [
              "Text(0, 0.5, 'pca2')"
            ]
          },
          "metadata": {},
          "execution_count": 86
        },
        {
          "output_type": "display_data",
          "data": {
            "text/plain": [
              "<Figure size 432x288 with 1 Axes>"
            ],
            "image/png": "[encoded data removed]"
          },
          "metadata": {
            "needs_background": "light"
          }
        }
      ]
    },
    {
      "cell_type": "code",
      "source": [
        "km = KMeans(n_clusters=8)\n",
        "y_predicted = km.fit_predict(df_X_pca[['Column1','Column2']])\n",
        "y_predicted"
      ],
      "metadata": {
        "colab": {
          "base_uri": "https://localhost:8080/"
        },
        "id": "tJTtev-VypYZ",
        "outputId": "5b0cb8ea-1441-4dc8-c4fe-65420e34a376"
      },
      "execution_count": null,
      "outputs": [
        {
          "output_type": "execute_result",
          "data": {
            "text/plain": [
              "array([1, 1, 1, 1, 1, 1, 1, 1, 1, 1, 1, 1, 1, 1, 1, 1, 1, 1, 1, 1, 2, 2,\n",
              "       2, 2, 2, 2, 2, 2, 2, 2, 2, 2, 2, 2, 2, 2, 2, 2, 2, 2, 4, 4, 4, 4,\n",
              "       4, 4, 4, 4, 4, 4, 4, 4, 4, 4, 4, 4, 4, 4, 4, 4, 6, 6, 6, 6, 6, 6,\n",
              "       6, 6, 6, 6, 6, 6, 6, 6, 6, 6, 6, 6, 6, 6, 5, 5, 5, 5, 5, 5, 5, 5,\n",
              "       5, 5, 5, 5, 5, 5, 5, 5, 5, 5, 5, 5, 7, 7, 7, 7, 7, 7, 7, 7, 7, 7,\n",
              "       7, 7, 7, 7, 7, 7, 7, 7, 7, 7, 0, 0, 0, 0, 0, 0, 0, 0, 0, 0, 0, 0,\n",
              "       0, 0, 0, 0, 0, 0, 0, 0, 3, 3, 3, 3, 3, 3, 3, 3, 3, 3, 3, 3, 3, 3,\n",
              "       3, 3, 3, 3, 3, 3], dtype=int32)"
            ]
          },
          "metadata": {},
          "execution_count": 87
        }
      ]
    },
    {
      "cell_type": "code",
      "source": [
        "y_predicted.shape"
      ],
      "metadata": {
        "colab": {
          "base_uri": "https://localhost:8080/"
        },
        "id": "vIhYnq0Ge6jJ",
        "outputId": "e6597e70-14da-4eeb-91d6-cb8ab3a62ce6"
      },
      "execution_count": null,
      "outputs": [
        {
          "output_type": "execute_result",
          "data": {
            "text/plain": [
              "(160,)"
            ]
          },
          "metadata": {},
          "execution_count": 88
        }
      ]
    },
    {
      "cell_type": "code",
      "source": [],
      "metadata": {
        "id": "LSFcTNYifDk2"
      },
      "execution_count": null,
      "outputs": []
    },
    {
      "cell_type": "code",
      "source": [
        "df_X_pca['cluster']=y_predicted\n",
        "df_X_pca.head()"
      ],
      "metadata": {
        "colab": {
          "base_uri": "https://localhost:8080/",
          "height": 206
        },
        "id": "b-EZlz7ZypVt",
        "outputId": "118a77fb-75ad-49e1-b5e9-35746c8e613a"
      },
      "execution_count": null,
      "outputs": [
        {
          "output_type": "execute_result",
          "data": {
            "text/plain": [
              "    Column1   Column2  cluster\n",
              "0 -0.466567 -0.156613        1\n",
              "1 -0.459752 -0.158166        1\n",
              "2 -0.455585 -0.159528        1\n",
              "3 -0.451001 -0.161738        1\n",
              "4 -0.449356 -0.161747        1"
            ],
            "text/html": [
              "\n",
              "  <div id=\"df-3ef1f16e-c05c-4413-8f68-aa24428229c3\">\n",
              "    <div class=\"colab-df-container\">\n",
              "      <div>\n",
              "<style scoped>\n",
              "    .dataframe tbody tr th:only-of-type {\n",
              "        vertical-align: middle;\n",
              "    }\n",
              "\n",
              "    .dataframe tbody tr th {\n",
              "        vertical-align: top;\n",
              "    }\n",
              "\n",
              "    .dataframe thead th {\n",
              "        text-align: right;\n",
              "    }\n",
              "</style>\n",
              "<table border=\"1\" class=\"dataframe\">\n",
              "  <thead>\n",
              "    <tr style=\"text-align: right;\">\n",
              "      <th></th>\n",
              "      <th>Column1</th>\n",
              "      <th>Column2</th>\n",
              "      <th>cluster</th>\n",
              "    </tr>\n",
              "  </thead>\n",
              "  <tbody>\n",
              "    <tr>\n",
              "      <th>0</th>\n",
              "      <td>-0.466567</td>\n",
              "      <td>-0.156613</td>\n",
              "      <td>1</td>\n",
              "    </tr>\n",
              "    <tr>\n",
              "      <th>1</th>\n",
              "      <td>-0.459752</td>\n",
              "      <td>-0.158166</td>\n",
              "      <td>1</td>\n",
              "    </tr>\n",
              "    <tr>\n",
              "      <th>2</th>\n",
              "      <td>-0.455585</td>\n",
              "      <td>-0.159528</td>\n",
              "      <td>1</td>\n",
              "    </tr>\n",
              "    <tr>\n",
              "      <th>3</th>\n",
              "      <td>-0.451001</td>\n",
              "      <td>-0.161738</td>\n",
              "      <td>1</td>\n",
              "    </tr>\n",
              "    <tr>\n",
              "      <th>4</th>\n",
              "      <td>-0.449356</td>\n",
              "      <td>-0.161747</td>\n",
              "      <td>1</td>\n",
              "    </tr>\n",
              "  </tbody>\n",
              "</table>\n",
              "</div>\n",
              "      <button class=\"colab-df-convert\" onclick=\"convertToInteractive('df-3ef1f16e-c05c-4413-8f68-aa24428229c3')\"\n",
              "              title=\"Convert this dataframe to an interactive table.\"\n",
              "              style=\"display:none;\">\n",
              "        \n",
              "  <svg xmlns=\"http://www.w3.org/2000/svg\" height=\"24px\"viewBox=\"0 0 24 24\"\n",
              "       width=\"24px\">\n",
              "    <path d=\"M0 0h24v24H0V0z\" fill=\"none\"/>\n",
              "    <path d=\"M18.56 5.44l.94 2.06.94-2.06 2.06-.94-2.06-.94-.94-2.06-.94 2.06-2.06.94zm-11 1L8.5 8.5l.94-2.06 2.06-.94-2.06-.94L8.5 2.5l-.94 2.06-2.06.94zm10 10l.94 2.06.94-2.06 2.06-.94-2.06-.94-.94-2.06-.94 2.06-2.06.94z\"/><path d=\"M17.41 7.96l-1.37-1.37c-.4-.4-.92-.59-1.43-.59-.52 0-1.04.2-1.43.59L10.3 9.45l-7.72 7.72c-.78.78-.78 2.05 0 2.83L4 21.41c.39.39.9.59 1.41.59.51 0 1.02-.2 1.41-.59l7.78-7.78 2.81-2.81c.8-.78.8-2.07 0-2.86zM5.41 20L4 18.59l7.72-7.72 1.47 1.35L5.41 20z\"/>\n",
              "  </svg>\n",
              "      </button>\n",
              "      \n",
              "  <style>\n",
              "    .colab-df-container {\n",
              "      display:flex;\n",
              "      flex-wrap:wrap;\n",
              "      gap: 12px;\n",
              "    }\n",
              "\n",
              "    .colab-df-convert {\n",
              "      background-color: #E8F0FE;\n",
              "      border: none;\n",
              "      border-radius: 50%;\n",
              "      cursor: pointer;\n",
              "      display: none;\n",
              "      fill: #1967D2;\n",
              "      height: 32px;\n",
              "      padding: 0 0 0 0;\n",
              "      width: 32px;\n",
              "    }\n",
              "\n",
              "    .colab-df-convert:hover {\n",
              "      background-color: #E2EBFA;\n",
              "      box-shadow: 0px 1px 2px rgba(60, 64, 67, 0.3), 0px 1px 3px 1px rgba(60, 64, 67, 0.15);\n",
              "      fill: #174EA6;\n",
              "    }\n",
              "\n",
              "    [theme=dark] .colab-df-convert {\n",
              "      background-color: #3B4455;\n",
              "      fill: #D2E3FC;\n",
              "    }\n",
              "\n",
              "    [theme=dark] .colab-df-convert:hover {\n",
              "      background-color: #434B5C;\n",
              "      box-shadow: 0px 1px 3px 1px rgba(0, 0, 0, 0.15);\n",
              "      filter: drop-shadow(0px 1px 2px rgba(0, 0, 0, 0.3));\n",
              "      fill: #FFFFFF;\n",
              "    }\n",
              "  </style>\n",
              "\n",
              "      <script>\n",
              "        const buttonEl =\n",
              "          document.querySelector('#df-3ef1f16e-c05c-4413-8f68-aa24428229c3 button.colab-df-convert');\n",
              "        buttonEl.style.display =\n",
              "          google.colab.kernel.accessAllowed ? 'block' : 'none';\n",
              "\n",
              "        async function convertToInteractive(key) {\n",
              "          const element = document.querySelector('#df-3ef1f16e-c05c-4413-8f68-aa24428229c3');\n",
              "          const dataTable =\n",
              "            await google.colab.kernel.invokeFunction('convertToInteractive',\n",
              "                                                     [key], {});\n",
              "          if (!dataTable) return;\n",
              "\n",
              "          const docLinkHtml = 'Like what you see? Visit the ' +\n",
              "            '<a target=\"_blank\" href=https://colab.research.google.com/notebooks/data_table.ipynb>data table notebook</a>'\n",
              "            + ' to learn more about interactive tables.';\n",
              "          element.innerHTML = '';\n",
              "          dataTable['output_type'] = 'display_data';\n",
              "          await google.colab.output.renderOutput(dataTable, element);\n",
              "          const docLink = document.createElement('div');\n",
              "          docLink.innerHTML = docLinkHtml;\n",
              "          element.appendChild(docLink);\n",
              "        }\n",
              "      </script>\n",
              "    </div>\n",
              "  </div>\n",
              "  "
            ]
          },
          "metadata": {},
          "execution_count": 89
        }
      ]
    },
    {
      "cell_type": "code",
      "source": [
        "km.cluster_centers_"
      ],
      "metadata": {
        "colab": {
          "base_uri": "https://localhost:8080/"
        },
        "id": "DYKf2oiXypSo",
        "outputId": "8352c4c0-76cb-488e-f45f-8de31ba17050"
      },
      "execution_count": null,
      "outputs": [
        {
          "output_type": "execute_result",
          "data": {
            "text/plain": [
              "array([[ 1.72739497,  0.62080731],\n",
              "       [-0.44519065, -0.16336172],\n",
              "       [ 2.77932734, -0.55359694],\n",
              "       [-1.21878073, -0.22318305],\n",
              "       [-0.32472284,  0.25278534],\n",
              "       [-0.98346876, -0.02038839],\n",
              "       [-0.36064922,  0.35106255],\n",
              "       [-1.17391011, -0.2641251 ]])"
            ]
          },
          "metadata": {},
          "execution_count": 90
        }
      ]
    },
    {
      "cell_type": "code",
      "source": [
        "df1 = df_X_pca[df_X_pca.cluster==0]\n",
        "df2 = df_X_pca[df_X_pca.cluster==1]\n",
        "df3 = df_X_pca[df_X_pca.cluster==2]\n",
        "df4 = df_X_pca[df_X_pca.cluster==3]\n",
        "df5 = df_X_pca[df_X_pca.cluster==4]\n",
        "df6 = df_X_pca[df_X_pca.cluster==5]\n",
        "df7 = df_X_pca[df_X_pca.cluster==6]\n",
        "df8 = df_X_pca[df_X_pca.cluster==7]\n",
        "\n",
        "plt.scatter(df1.Column1, df1.Column2, color='LawnGreen', label='AMBIENT')\n",
        "plt.scatter(df2.Column1, df2.Column2, color='blue', label='BLUE')\n",
        "plt.scatter(df3.Column1, df3.Column2, color='cyan', label='FLASHLIGHT')\n",
        "plt.scatter(df4.Column1, df4.Column2, color='black', label='OFF')\n",
        "plt.scatter(df5.Column1, df5.Column2, color='green', label='GREEN')\n",
        "plt.scatter(df6.Column1, df6.Column2, color='violet', label='UV')\n",
        "plt.scatter(df7.Column1, df7.Column2, color='red', label='RED')\n",
        "plt.scatter(df8.Column1, df8.Column2, color='DarkMagenta', label='IR')\n",
        "\n",
        "# plt.scatter(km.cluster_centers_[:,0],km.cluster_centers_[:,1],color='purple',marker='*',label='centroid')\n",
        "\n",
        "plt.xlabel('pca1')\n",
        "plt.ylabel('pca2')\n",
        "plt.legend(loc = \"upper center\")\n",
        "# blue - 1,flashlight - 2, green - 4, red - 6, UV - 5, IR - 7, AMBIENT - 0, off - 3"
      ],
      "metadata": {
        "colab": {
          "base_uri": "https://localhost:8080/",
          "height": 296
        },
        "id": "IE7ZrxOo1Cii",
        "outputId": "9330b30d-f7d6-4866-c5f6-a0f21d031662"
      },
      "execution_count": null,
      "outputs": [
        {
          "output_type": "execute_result",
          "data": {
            "text/plain": [
              "<matplotlib.legend.Legend at 0x7f889cdb66a0>"
            ]
          },
          "metadata": {},
          "execution_count": 91
        },
        {
          "output_type": "display_data",
          "data": {
            "text/plain": [
              "<Figure size 432x288 with 1 Axes>"
            ],
            "image/png": "[encoded data removed]"
          },
          "metadata": {
            "needs_background": "light"
          }
        }
      ]
    },
    {
      "cell_type": "markdown",
      "source": [
        "Preprocessing using min max scaler"
      ],
      "metadata": {
        "id": "u2S_Tc802WyB"
      }
    },
    {
      "cell_type": "code",
      "source": [
        "scaler = MinMaxScaler()\n",
        "\n",
        "scaler.fit(df_X_pca[['Column1']])\n",
        "df_X_pca['Column1'] = scaler.transform(df_X_pca[['Column1']])\n",
        "\n",
        "scaler.fit(df_X_pca[['Column2']])\n",
        "df_X_pca['Column2'] = scaler.transform(df_X_pca[['Column2']])"
      ],
      "metadata": {
        "id": "n5C-zeGs1CfG"
      },
      "execution_count": null,
      "outputs": []
    },
    {
      "cell_type": "code",
      "source": [
        "df_X_pca.head()"
      ],
      "metadata": {
        "colab": {
          "base_uri": "https://localhost:8080/",
          "height": 206
        },
        "id": "DmPbmaSP2tpM",
        "outputId": "3803b675-e8d9-4f2e-f81c-d0745edbd86a"
      },
      "execution_count": null,
      "outputs": [
        {
          "output_type": "execute_result",
          "data": {
            "text/plain": [
              "    Column1   Column2  cluster\n",
              "0  0.187605  0.345287        1\n",
              "1  0.189300  0.343995        1\n",
              "2  0.190337  0.342861        1\n",
              "3  0.191476  0.341021        1\n",
              "4  0.191886  0.341013        1"
            ],
            "text/html": [
              "\n",
              "  <div id=\"df-aa91f05d-8faf-4c5a-bde4-eded861b4260\">\n",
              "    <div class=\"colab-df-container\">\n",
              "      <div>\n",
              "<style scoped>\n",
              "    .dataframe tbody tr th:only-of-type {\n",
              "        vertical-align: middle;\n",
              "    }\n",
              "\n",
              "    .dataframe tbody tr th {\n",
              "        vertical-align: top;\n",
              "    }\n",
              "\n",
              "    .dataframe thead th {\n",
              "        text-align: right;\n",
              "    }\n",
              "</style>\n",
              "<table border=\"1\" class=\"dataframe\">\n",
              "  <thead>\n",
              "    <tr style=\"text-align: right;\">\n",
              "      <th></th>\n",
              "      <th>Column1</th>\n",
              "      <th>Column2</th>\n",
              "      <th>cluster</th>\n",
              "    </tr>\n",
              "  </thead>\n",
              "  <tbody>\n",
              "    <tr>\n",
              "      <th>0</th>\n",
              "      <td>0.187605</td>\n",
              "      <td>0.345287</td>\n",
              "      <td>1</td>\n",
              "    </tr>\n",
              "    <tr>\n",
              "      <th>1</th>\n",
              "      <td>0.189300</td>\n",
              "      <td>0.343995</td>\n",
              "      <td>1</td>\n",
              "    </tr>\n",
              "    <tr>\n",
              "      <th>2</th>\n",
              "      <td>0.190337</td>\n",
              "      <td>0.342861</td>\n",
              "      <td>1</td>\n",
              "    </tr>\n",
              "    <tr>\n",
              "      <th>3</th>\n",
              "      <td>0.191476</td>\n",
              "      <td>0.341021</td>\n",
              "      <td>1</td>\n",
              "    </tr>\n",
              "    <tr>\n",
              "      <th>4</th>\n",
              "      <td>0.191886</td>\n",
              "      <td>0.341013</td>\n",
              "      <td>1</td>\n",
              "    </tr>\n",
              "  </tbody>\n",
              "</table>\n",
              "</div>\n",
              "      <button class=\"colab-df-convert\" onclick=\"convertToInteractive('df-aa91f05d-8faf-4c5a-bde4-eded861b4260')\"\n",
              "              title=\"Convert this dataframe to an interactive table.\"\n",
              "              style=\"display:none;\">\n",
              "        \n",
              "  <svg xmlns=\"http://www.w3.org/2000/svg\" height=\"24px\"viewBox=\"0 0 24 24\"\n",
              "       width=\"24px\">\n",
              "    <path d=\"M0 0h24v24H0V0z\" fill=\"none\"/>\n",
              "    <path d=\"M18.56 5.44l.94 2.06.94-2.06 2.06-.94-2.06-.94-.94-2.06-.94 2.06-2.06.94zm-11 1L8.5 8.5l.94-2.06 2.06-.94-2.06-.94L8.5 2.5l-.94 2.06-2.06.94zm10 10l.94 2.06.94-2.06 2.06-.94-2.06-.94-.94-2.06-.94 2.06-2.06.94z\"/><path d=\"M17.41 7.96l-1.37-1.37c-.4-.4-.92-.59-1.43-.59-.52 0-1.04.2-1.43.59L10.3 9.45l-7.72 7.72c-.78.78-.78 2.05 0 2.83L4 21.41c.39.39.9.59 1.41.59.51 0 1.02-.2 1.41-.59l7.78-7.78 2.81-2.81c.8-.78.8-2.07 0-2.86zM5.41 20L4 18.59l7.72-7.72 1.47 1.35L5.41 20z\"/>\n",
              "  </svg>\n",
              "      </button>\n",
              "      \n",
              "  <style>\n",
              "    .colab-df-container {\n",
              "      display:flex;\n",
              "      flex-wrap:wrap;\n",
              "      gap: 12px;\n",
              "    }\n",
              "\n",
              "    .colab-df-convert {\n",
              "      background-color: #E8F0FE;\n",
              "      border: none;\n",
              "      border-radius: 50%;\n",
              "      cursor: pointer;\n",
              "      display: none;\n",
              "      fill: #1967D2;\n",
              "      height: 32px;\n",
              "      padding: 0 0 0 0;\n",
              "      width: 32px;\n",
              "    }\n",
              "\n",
              "    .colab-df-convert:hover {\n",
              "      background-color: #E2EBFA;\n",
              "      box-shadow: 0px 1px 2px rgba(60, 64, 67, 0.3), 0px 1px 3px 1px rgba(60, 64, 67, 0.15);\n",
              "      fill: #174EA6;\n",
              "    }\n",
              "\n",
              "    [theme=dark] .colab-df-convert {\n",
              "      background-color: #3B4455;\n",
              "      fill: #D2E3FC;\n",
              "    }\n",
              "\n",
              "    [theme=dark] .colab-df-convert:hover {\n",
              "      background-color: #434B5C;\n",
              "      box-shadow: 0px 1px 3px 1px rgba(0, 0, 0, 0.15);\n",
              "      filter: drop-shadow(0px 1px 2px rgba(0, 0, 0, 0.3));\n",
              "      fill: #FFFFFF;\n",
              "    }\n",
              "  </style>\n",
              "\n",
              "      <script>\n",
              "        const buttonEl =\n",
              "          document.querySelector('#df-aa91f05d-8faf-4c5a-bde4-eded861b4260 button.colab-df-convert');\n",
              "        buttonEl.style.display =\n",
              "          google.colab.kernel.accessAllowed ? 'block' : 'none';\n",
              "\n",
              "        async function convertToInteractive(key) {\n",
              "          const element = document.querySelector('#df-aa91f05d-8faf-4c5a-bde4-eded861b4260');\n",
              "          const dataTable =\n",
              "            await google.colab.kernel.invokeFunction('convertToInteractive',\n",
              "                                                     [key], {});\n",
              "          if (!dataTable) return;\n",
              "\n",
              "          const docLinkHtml = 'Like what you see? Visit the ' +\n",
              "            '<a target=\"_blank\" href=https://colab.research.google.com/notebooks/data_table.ipynb>data table notebook</a>'\n",
              "            + ' to learn more about interactive tables.';\n",
              "          element.innerHTML = '';\n",
              "          dataTable['output_type'] = 'display_data';\n",
              "          await google.colab.output.renderOutput(dataTable, element);\n",
              "          const docLink = document.createElement('div');\n",
              "          docLink.innerHTML = docLinkHtml;\n",
              "          element.appendChild(docLink);\n",
              "        }\n",
              "      </script>\n",
              "    </div>\n",
              "  </div>\n",
              "  "
            ]
          },
          "metadata": {},
          "execution_count": 93
        }
      ]
    },
    {
      "cell_type": "code",
      "source": [
        "plt.scatter(df_X_pca.Column1,df_X_pca.Column2)"
      ],
      "metadata": {
        "colab": {
          "base_uri": "https://localhost:8080/",
          "height": 282
        },
        "id": "KvlTD0Kb1CcP",
        "outputId": "e3826412-d095-4083-ac6d-2d40311e2f02"
      },
      "execution_count": null,
      "outputs": [
        {
          "output_type": "execute_result",
          "data": {
            "text/plain": [
              "<matplotlib.collections.PathCollection at 0x7f889cda7c40>"
            ]
          },
          "metadata": {},
          "execution_count": 94
        },
        {
          "output_type": "display_data",
          "data": {
            "text/plain": [
              "<Figure size 432x288 with 1 Axes>"
            ],
            "image/png": "[encoded data removed]"
          },
          "metadata": {
            "needs_background": "light"
          }
        }
      ]
    },
    {
      "cell_type": "code",
      "source": [
        "km = KMeans(n_clusters=8)\n",
        "y_predicted = km.fit_predict(df_X_pca[['Column1','Column2']])\n",
        "y_predicted"
      ],
      "metadata": {
        "colab": {
          "base_uri": "https://localhost:8080/"
        },
        "id": "jJVdlolY1CZD",
        "outputId": "fba67718-2626-4b6b-a0b8-61081f74fba9"
      },
      "execution_count": null,
      "outputs": [
        {
          "output_type": "execute_result",
          "data": {
            "text/plain": [
              "array([5, 5, 5, 5, 5, 5, 5, 5, 5, 5, 5, 5, 5, 5, 5, 5, 5, 5, 5, 5, 2, 2,\n",
              "       2, 2, 2, 2, 2, 2, 2, 2, 2, 2, 2, 2, 2, 2, 2, 2, 2, 2, 1, 1, 1, 1,\n",
              "       1, 1, 1, 1, 1, 1, 1, 1, 1, 1, 1, 1, 1, 1, 1, 1, 6, 6, 6, 6, 6, 6,\n",
              "       6, 6, 6, 6, 6, 6, 6, 6, 6, 6, 6, 6, 6, 6, 4, 4, 4, 4, 4, 4, 4, 4,\n",
              "       4, 4, 4, 4, 4, 4, 4, 4, 4, 4, 4, 4, 0, 0, 0, 0, 0, 0, 0, 0, 0, 0,\n",
              "       0, 0, 0, 0, 0, 0, 0, 0, 0, 0, 3, 3, 3, 3, 3, 3, 3, 3, 3, 3, 3, 3,\n",
              "       3, 3, 3, 3, 3, 3, 3, 3, 7, 7, 7, 7, 7, 7, 7, 7, 7, 7, 7, 7, 7, 7,\n",
              "       7, 7, 7, 7, 7, 7], dtype=int32)"
            ]
          },
          "metadata": {},
          "execution_count": 95
        }
      ]
    },
    {
      "cell_type": "code",
      "source": [
        "df_X_pca['cluster']=y_predicted\n",
        "df_X_pca.head()"
      ],
      "metadata": {
        "colab": {
          "base_uri": "https://localhost:8080/",
          "height": 206
        },
        "id": "iq9kY75Y1CWK",
        "outputId": "2fa3ecbc-39fa-4aec-d068-6dd7a9b3a3de"
      },
      "execution_count": null,
      "outputs": [
        {
          "output_type": "execute_result",
          "data": {
            "text/plain": [
              "    Column1   Column2  cluster\n",
              "0  0.187605  0.345287        5\n",
              "1  0.189300  0.343995        5\n",
              "2  0.190337  0.342861        5\n",
              "3  0.191476  0.341021        5\n",
              "4  0.191886  0.341013        5"
            ],
            "text/html": [
              "\n",
              "  <div id=\"df-b4890616-0ee8-4911-9c40-a5bd62aea030\">\n",
              "    <div class=\"colab-df-container\">\n",
              "      <div>\n",
              "<style scoped>\n",
              "    .dataframe tbody tr th:only-of-type {\n",
              "        vertical-align: middle;\n",
              "    }\n",
              "\n",
              "    .dataframe tbody tr th {\n",
              "        vertical-align: top;\n",
              "    }\n",
              "\n",
              "    .dataframe thead th {\n",
              "        text-align: right;\n",
              "    }\n",
              "</style>\n",
              "<table border=\"1\" class=\"dataframe\">\n",
              "  <thead>\n",
              "    <tr style=\"text-align: right;\">\n",
              "      <th></th>\n",
              "      <th>Column1</th>\n",
              "      <th>Column2</th>\n",
              "      <th>cluster</th>\n",
              "    </tr>\n",
              "  </thead>\n",
              "  <tbody>\n",
              "    <tr>\n",
              "      <th>0</th>\n",
              "      <td>0.187605</td>\n",
              "      <td>0.345287</td>\n",
              "      <td>5</td>\n",
              "    </tr>\n",
              "    <tr>\n",
              "      <th>1</th>\n",
              "      <td>0.189300</td>\n",
              "      <td>0.343995</td>\n",
              "      <td>5</td>\n",
              "    </tr>\n",
              "    <tr>\n",
              "      <th>2</th>\n",
              "      <td>0.190337</td>\n",
              "      <td>0.342861</td>\n",
              "      <td>5</td>\n",
              "    </tr>\n",
              "    <tr>\n",
              "      <th>3</th>\n",
              "      <td>0.191476</td>\n",
              "      <td>0.341021</td>\n",
              "      <td>5</td>\n",
              "    </tr>\n",
              "    <tr>\n",
              "      <th>4</th>\n",
              "      <td>0.191886</td>\n",
              "      <td>0.341013</td>\n",
              "      <td>5</td>\n",
              "    </tr>\n",
              "  </tbody>\n",
              "</table>\n",
              "</div>\n",
              "      <button class=\"colab-df-convert\" onclick=\"convertToInteractive('df-b4890616-0ee8-4911-9c40-a5bd62aea030')\"\n",
              "              title=\"Convert this dataframe to an interactive table.\"\n",
              "              style=\"display:none;\">\n",
              "        \n",
              "  <svg xmlns=\"http://www.w3.org/2000/svg\" height=\"24px\"viewBox=\"0 0 24 24\"\n",
              "       width=\"24px\">\n",
              "    <path d=\"M0 0h24v24H0V0z\" fill=\"none\"/>\n",
              "    <path d=\"M18.56 5.44l.94 2.06.94-2.06 2.06-.94-2.06-.94-.94-2.06-.94 2.06-2.06.94zm-11 1L8.5 8.5l.94-2.06 2.06-.94-2.06-.94L8.5 2.5l-.94 2.06-2.06.94zm10 10l.94 2.06.94-2.06 2.06-.94-2.06-.94-.94-2.06-.94 2.06-2.06.94z\"/><path d=\"M17.41 7.96l-1.37-1.37c-.4-.4-.92-.59-1.43-.59-.52 0-1.04.2-1.43.59L10.3 9.45l-7.72 7.72c-.78.78-.78 2.05 0 2.83L4 21.41c.39.39.9.59 1.41.59.51 0 1.02-.2 1.41-.59l7.78-7.78 2.81-2.81c.8-.78.8-2.07 0-2.86zM5.41 20L4 18.59l7.72-7.72 1.47 1.35L5.41 20z\"/>\n",
              "  </svg>\n",
              "      </button>\n",
              "      \n",
              "  <style>\n",
              "    .colab-df-container {\n",
              "      display:flex;\n",
              "      flex-wrap:wrap;\n",
              "      gap: 12px;\n",
              "    }\n",
              "\n",
              "    .colab-df-convert {\n",
              "      background-color: #E8F0FE;\n",
              "      border: none;\n",
              "      border-radius: 50%;\n",
              "      cursor: pointer;\n",
              "      display: none;\n",
              "      fill: #1967D2;\n",
              "      height: 32px;\n",
              "      padding: 0 0 0 0;\n",
              "      width: 32px;\n",
              "    }\n",
              "\n",
              "    .colab-df-convert:hover {\n",
              "      background-color: #E2EBFA;\n",
              "      box-shadow: 0px 1px 2px rgba(60, 64, 67, 0.3), 0px 1px 3px 1px rgba(60, 64, 67, 0.15);\n",
              "      fill: #174EA6;\n",
              "    }\n",
              "\n",
              "    [theme=dark] .colab-df-convert {\n",
              "      background-color: #3B4455;\n",
              "      fill: #D2E3FC;\n",
              "    }\n",
              "\n",
              "    [theme=dark] .colab-df-convert:hover {\n",
              "      background-color: #434B5C;\n",
              "      box-shadow: 0px 1px 3px 1px rgba(0, 0, 0, 0.15);\n",
              "      filter: drop-shadow(0px 1px 2px rgba(0, 0, 0, 0.3));\n",
              "      fill: #FFFFFF;\n",
              "    }\n",
              "  </style>\n",
              "\n",
              "      <script>\n",
              "        const buttonEl =\n",
              "          document.querySelector('#df-b4890616-0ee8-4911-9c40-a5bd62aea030 button.colab-df-convert');\n",
              "        buttonEl.style.display =\n",
              "          google.colab.kernel.accessAllowed ? 'block' : 'none';\n",
              "\n",
              "        async function convertToInteractive(key) {\n",
              "          const element = document.querySelector('#df-b4890616-0ee8-4911-9c40-a5bd62aea030');\n",
              "          const dataTable =\n",
              "            await google.colab.kernel.invokeFunction('convertToInteractive',\n",
              "                                                     [key], {});\n",
              "          if (!dataTable) return;\n",
              "\n",
              "          const docLinkHtml = 'Like what you see? Visit the ' +\n",
              "            '<a target=\"_blank\" href=https://colab.research.google.com/notebooks/data_table.ipynb>data table notebook</a>'\n",
              "            + ' to learn more about interactive tables.';\n",
              "          element.innerHTML = '';\n",
              "          dataTable['output_type'] = 'display_data';\n",
              "          await google.colab.output.renderOutput(dataTable, element);\n",
              "          const docLink = document.createElement('div');\n",
              "          docLink.innerHTML = docLinkHtml;\n",
              "          element.appendChild(docLink);\n",
              "        }\n",
              "      </script>\n",
              "    </div>\n",
              "  </div>\n",
              "  "
            ]
          },
          "metadata": {},
          "execution_count": 96
        }
      ]
    },
    {
      "cell_type": "code",
      "source": [
        "km.cluster_centers_"
      ],
      "metadata": {
        "colab": {
          "base_uri": "https://localhost:8080/"
        },
        "id": "I7h1Q4e23ERX",
        "outputId": "787b5b55-18c6-405b-dbf9-61fb014df82c"
      },
      "execution_count": null,
      "outputs": [
        {
          "output_type": "execute_result",
          "data": {
            "text/plain": [
              "array([[1.16733620e-02, 2.55791207e-01],\n",
              "       [2.22884701e-01, 6.86080614e-01],\n",
              "       [9.94929481e-01, 1.48274848e-02],\n",
              "       [7.33291025e-01, 9.92431470e-01],\n",
              "       [5.90402654e-02, 4.58683852e-01],\n",
              "       [1.92921738e-01, 3.39669213e-01],\n",
              "       [2.13949030e-01, 7.67889065e-01],\n",
              "       [5.13062458e-04, 2.89872417e-01]])"
            ]
          },
          "metadata": {},
          "execution_count": 97
        }
      ]
    },
    {
      "cell_type": "code",
      "source": [
        "df1 = df_X_pca[df_X_pca.cluster==0]\n",
        "df2 = df_X_pca[df_X_pca.cluster==1]\n",
        "df3 = df_X_pca[df_X_pca.cluster==2]\n",
        "df4 = df_X_pca[df_X_pca.cluster==3]\n",
        "df5 = df_X_pca[df_X_pca.cluster==4]\n",
        "df6 = df_X_pca[df_X_pca.cluster==5]\n",
        "df7 = df_X_pca[df_X_pca.cluster==6]\n",
        "df8 = df_X_pca[df_X_pca.cluster==7]\n",
        "\n",
        "plt.scatter(df1.Column1, df1.Column2, color='DarkMagenta', label='IR')\n",
        "plt.scatter(df2.Column1, df2.Column2, color='green', label='GREEN')\n",
        "plt.scatter(df3.Column1, df3.Column2, color='cyan', label='FLASHLIGHT')\n",
        "plt.scatter(df4.Column1, df4.Column2, color='LawnGreen', label='AMBIENT')\n",
        "plt.scatter(df5.Column1, df5.Column2, color='violet', label='UV')\n",
        "plt.scatter(df6.Column1, df6.Column2, color='blue', label='BLUE')\n",
        "plt.scatter(df7.Column1, df7.Column2, color='red', label='RED')\n",
        "plt.scatter(df8.Column1, df8.Column2, color='black', label='OFF')\n",
        "# plt.scatter(km.cluster_centers_[:,0],km.cluster_centers_[:,1],color='purple',marker='*',label='centroid')\n",
        "\n",
        "plt.xlabel('pca1')\n",
        "plt.ylabel('pca2')\n",
        "plt.legend(loc = \"upper center\")\n",
        "# blue - 5, flashlight - 2, green - 1, red - 6, UV - 4, IR - 0, AMBIENT - 3, off - 7"
      ],
      "metadata": {
        "colab": {
          "base_uri": "https://localhost:8080/",
          "height": 296
        },
        "id": "xEV7HT193EOn",
        "outputId": "e6997305-477e-4225-ff12-63bd9b3f856f"
      },
      "execution_count": null,
      "outputs": [
        {
          "output_type": "execute_result",
          "data": {
            "text/plain": [
              "<matplotlib.legend.Legend at 0x7f889cca75b0>"
            ]
          },
          "metadata": {},
          "execution_count": 99
        },
        {
          "output_type": "display_data",
          "data": {
            "text/plain": [
              "<Figure size 432x288 with 1 Axes>"
            ],
            "image/png": "[encoded data removed]"
          },
          "metadata": {
            "needs_background": "light"
          }
        }
      ]
    },
    {
      "cell_type": "code",
      "source": [],
      "metadata": {
        "id": "KYae7nAD3EM3"
      },
      "execution_count": null,
      "outputs": []
    },
    {
      "cell_type": "code",
      "source": [],
      "metadata": {
        "id": "FoUMpVhY3EH7"
      },
      "execution_count": null,
      "outputs": []
    },
    {
      "cell_type": "code",
      "source": [],
      "metadata": {
        "id": "pWFKyS2E6LWn"
      },
      "execution_count": null,
      "outputs": []
    },
    {
      "cell_type": "code",
      "source": [],
      "metadata": {
        "id": "GDkklY-u6LS4"
      },
      "execution_count": null,
      "outputs": []
    },
    {
      "cell_type": "markdown",
      "source": [
        "# LDA"
      ],
      "metadata": {
        "id": "ROHUHInA6Mff"
      }
    },
    {
      "cell_type": "code",
      "source": [
        "from sklearn.discriminant_analysis import LinearDiscriminantAnalysis\n",
        "LDA = LinearDiscriminantAnalysis()\n",
        "X_lda = LDA.fit_transform(df_x,y)\n",
        "X_lda.shape"
      ],
      "metadata": {
        "colab": {
          "base_uri": "https://localhost:8080/"
        },
        "id": "urymOJ6m6LQG",
        "outputId": "d1e20cb5-db54-47d0-a669-490ed727af0d"
      },
      "execution_count": null,
      "outputs": [
        {
          "output_type": "execute_result",
          "data": {
            "text/plain": [
              "(160, 2)"
            ]
          },
          "metadata": {},
          "execution_count": 100
        }
      ]
    },
    {
      "cell_type": "code",
      "source": [
        "X_lda"
      ],
      "metadata": {
        "colab": {
          "base_uri": "https://localhost:8080/"
        },
        "id": "HMxjdJnEALB4",
        "outputId": "782986cf-066b-4dac-a811-9ba0b382c99f"
      },
      "execution_count": null,
      "outputs": [
        {
          "output_type": "execute_result",
          "data": {
            "text/plain": [
              "array([[  38.41779742,  -22.65113987],\n",
              "       [  37.75935946,  -22.84575276],\n",
              "       [  37.34633535,  -23.02124616],\n",
              "       [  36.87404644,  -23.31172327],\n",
              "       [  36.72435269,  -23.30868929],\n",
              "       [  36.44019831,  -23.49863561],\n",
              "       [  36.34689532,  -23.50177388],\n",
              "       [  36.18551591,  -23.59411416],\n",
              "       [  36.06543361,  -23.64723686],\n",
              "       [  36.10280835,  -23.54850891],\n",
              "       [  36.01106615,  -23.60557844],\n",
              "       [  35.99667106,  -23.58796697],\n",
              "       [  35.91695035,  -23.66170153],\n",
              "       [  35.84976977,  -23.71001743],\n",
              "       [  35.78212047,  -23.7402028 ],\n",
              "       [  35.68097174,  -23.84317748],\n",
              "       [  35.6918925 ,  -23.819602  ],\n",
              "       [  35.62322928,  -23.84833988],\n",
              "       [  35.65298013,  -23.81612841],\n",
              "       [  35.63333367,  -23.81371029],\n",
              "       [-260.91509298,  -67.58151165],\n",
              "       [-263.48922093,  -65.5854826 ],\n",
              "       [-264.27802942,  -65.7395517 ],\n",
              "       [-264.73467902,  -65.95633378],\n",
              "       [-265.40454299,  -66.7096993 ],\n",
              "       [-265.81953267,  -67.08336712],\n",
              "       [-266.34279151,  -67.83674564],\n",
              "       [-266.44116309,  -67.82064778],\n",
              "       [-266.68480559,  -68.05623832],\n",
              "       [-267.02046956,  -68.55453064],\n",
              "       [-267.15395556,  -68.94625867],\n",
              "       [-267.68206009,  -69.58447319],\n",
              "       [-267.64280299,  -69.63013112],\n",
              "       [-267.6965882 ,  -69.50933727],\n",
              "       [-267.62547881,  -69.57226002],\n",
              "       [-267.62886378,  -69.81139048],\n",
              "       [-267.90082977,  -70.06754512],\n",
              "       [-268.12295099,  -70.40578855],\n",
              "       [-268.41211658,  -70.53311747],\n",
              "       [-268.79227037,  -70.87734365],\n",
              "       [  38.02509221,   31.83356469],\n",
              "       [  37.04137349,   32.75502999],\n",
              "       [  36.5605952 ,   33.22044283],\n",
              "       [  36.2519187 ,   33.49095876],\n",
              "       [  36.06479373,   33.60729635],\n",
              "       [  35.94620428,   33.74135326],\n",
              "       [  35.82830288,   33.82404708],\n",
              "       [  35.78753242,   33.93577309],\n",
              "       [  35.72623774,   33.98846473],\n",
              "       [  35.69300236,   34.03449116],\n",
              "       [  35.60329527,   33.97095832],\n",
              "       [  35.60260546,   34.06819718],\n",
              "       [  35.56781385,   34.03779283],\n",
              "       [  35.49022429,   34.02639593],\n",
              "       [  35.47605112,   34.02229657],\n",
              "       [  35.50487548,   34.09706213],\n",
              "       [  35.45496001,   34.06331861],\n",
              "       [  35.47080905,   34.10103815],\n",
              "       [  35.41518001,   34.01408198],\n",
              "       [  35.44349773,   34.04215896],\n",
              "       [  43.88770951,   42.34798496],\n",
              "       [  42.62230337,   45.15941665],\n",
              "       [  42.08687746,   46.1806771 ],\n",
              "       [  41.83452385,   46.74155686],\n",
              "       [  41.66309415,   47.04011048],\n",
              "       [  41.57714837,   47.23985639],\n",
              "       [  41.51931302,   47.36295438],\n",
              "       [  41.48459596,   47.48635077],\n",
              "       [  41.43180419,   47.5323929 ],\n",
              "       [  41.406378  ,   47.60332765],\n",
              "       [  41.66318456,   47.97235954],\n",
              "       [  41.40512324,   47.71376992],\n",
              "       [  41.64674471,   48.00735047],\n",
              "       [  41.38418966,   47.7583254 ],\n",
              "       [  41.4158336 ,   47.80829875],\n",
              "       [  41.16727124,   47.54891391],\n",
              "       [  40.99515314,   47.38271198],\n",
              "       [  41.09867   ,   47.50227956],\n",
              "       [  41.35526902,   47.80274777],\n",
              "       [  41.34323296,   47.78036181],\n",
              "       [  89.95495353,   -7.74793663],\n",
              "       [  89.46271657,   -6.71904003],\n",
              "       [  89.23069905,   -6.14333419],\n",
              "       [  88.93969044,   -5.95187359],\n",
              "       [  88.8996765 ,   -5.64824258],\n",
              "       [  88.81432464,   -5.50368606],\n",
              "       [  88.82053503,   -5.31051978],\n",
              "       [  88.82738973,   -5.14327944],\n",
              "       [  88.65368301,   -5.23812111],\n",
              "       [  88.77897272,   -4.97485409],\n",
              "       [  88.63987286,   -5.06518972],\n",
              "       [  88.660868  ,   -4.97699738],\n",
              "       [  88.62821241,   -4.97341875],\n",
              "       [  88.62474729,   -4.94433131],\n",
              "       [  88.57637392,   -4.94874922],\n",
              "       [  88.62196185,   -4.83726319],\n",
              "       [  88.59155531,   -4.80041588],\n",
              "       [  88.58101217,   -4.7826339 ],\n",
              "       [  88.55480086,   -4.77326989],\n",
              "       [  88.57663608,   -4.7246054 ],\n",
              "       [ 100.47911476,  -38.62107945],\n",
              "       [ 100.19950498,  -38.94070797],\n",
              "       [ 100.06630793,  -39.09153208],\n",
              "       [  99.99587081,  -39.17026172],\n",
              "       [  99.98143285,  -39.18453518],\n",
              "       [  99.95146715,  -39.21692099],\n",
              "       [  99.90527396,  -39.26861418],\n",
              "       [  99.92672235,  -39.24194394],\n",
              "       [  99.89168454,  -39.28082497],\n",
              "       [  99.88650907,  -39.28536325],\n",
              "       [  99.93349633,  -39.22943865],\n",
              "       [  99.86350818,  -39.30920285],\n",
              "       [  99.88660158,  -39.28153352],\n",
              "       [  99.88813511,  -39.27840229],\n",
              "       [  99.87145456,  -39.2961927 ],\n",
              "       [  99.8418144 ,  -39.32966615],\n",
              "       [  99.8646033 ,  -39.30237511],\n",
              "       [  99.89567745,  -39.26571647],\n",
              "       [  99.84263975,  -39.32597505],\n",
              "       [  99.84271445,  -39.32510764],\n",
              "       [-135.74735656,   83.23321619],\n",
              "       [-138.99142166,   89.52353631],\n",
              "       [-139.93126298,   90.56794478],\n",
              "       [-140.2047524 ,   90.69124634],\n",
              "       [-140.46315038,   90.62065111],\n",
              "       [-140.72134319,   90.51108984],\n",
              "       [-140.95364545,   90.38818902],\n",
              "       [-141.24120445,   90.18701406],\n",
              "       [-141.40406309,   90.0911901 ],\n",
              "       [-141.55739419,   89.98835172],\n",
              "       [-141.69696287,   89.89285557],\n",
              "       [-141.86327599,   89.73040473],\n",
              "       [-141.95591582,   89.65984978],\n",
              "       [-142.09852025,   89.53425948],\n",
              "       [-142.2688542 ,   89.36986584],\n",
              "       [-142.3923179 ,   89.25738232],\n",
              "       [-142.44874267,   89.21380728],\n",
              "       [-142.63984229,   88.99657778],\n",
              "       [-142.63025954,   89.04550289],\n",
              "       [-142.76572541,   88.87724289],\n",
              "       [ 104.78779897,  -34.03237982],\n",
              "       [ 104.89648729,  -33.90929182],\n",
              "       [ 104.96411372,  -33.83326475],\n",
              "       [ 104.92608707,  -33.8793643 ],\n",
              "       [ 104.9560299 ,  -33.8467719 ],\n",
              "       [ 105.0071042 ,  -33.78959809],\n",
              "       [ 105.01121987,  -33.78667285],\n",
              "       [ 105.04552508,  -33.74836426],\n",
              "       [ 105.03927738,  -33.75662085],\n",
              "       [ 105.05995341,  -33.73320182],\n",
              "       [ 105.09030558,  -33.69840149],\n",
              "       [ 105.07536442,  -33.71578848],\n",
              "       [ 105.10503025,  -33.68142221],\n",
              "       [ 105.06929408,  -33.72300139],\n",
              "       [ 105.19058679,  -33.58307953],\n",
              "       [ 105.16226348,  -33.61588184],\n",
              "       [ 105.15463005,  -33.6256104 ],\n",
              "       [ 105.18055091,  -33.5959848 ],\n",
              "       [ 105.30168772,  -33.45667854],\n",
              "       [ 105.2432173 ,  -33.52511242]])"
            ]
          },
          "metadata": {},
          "execution_count": 101
        }
      ]
    },
    {
      "cell_type": "code",
      "source": [
        "df_X_lda = pd. DataFrame(X_lda, columns=['Column1', 'Column2'])\n",
        "df_X_lda.head()"
      ],
      "metadata": {
        "colab": {
          "base_uri": "https://localhost:8080/",
          "height": 206
        },
        "id": "joLjK9rlAU5B",
        "outputId": "e1d13cde-5a88-4113-a46d-0c19d5e43b97"
      },
      "execution_count": null,
      "outputs": [
        {
          "output_type": "execute_result",
          "data": {
            "text/plain": [
              "     Column1    Column2\n",
              "0  38.417797 -22.651140\n",
              "1  37.759359 -22.845753\n",
              "2  37.346335 -23.021246\n",
              "3  36.874046 -23.311723\n",
              "4  36.724353 -23.308689"
            ],
            "text/html": [
              "\n",
              "  <div id=\"df-4d3f0ade-1196-45f3-b79a-9453856cb80b\">\n",
              "    <div class=\"colab-df-container\">\n",
              "      <div>\n",
              "<style scoped>\n",
              "    .dataframe tbody tr th:only-of-type {\n",
              "        vertical-align: middle;\n",
              "    }\n",
              "\n",
              "    .dataframe tbody tr th {\n",
              "        vertical-align: top;\n",
              "    }\n",
              "\n",
              "    .dataframe thead th {\n",
              "        text-align: right;\n",
              "    }\n",
              "</style>\n",
              "<table border=\"1\" class=\"dataframe\">\n",
              "  <thead>\n",
              "    <tr style=\"text-align: right;\">\n",
              "      <th></th>\n",
              "      <th>Column1</th>\n",
              "      <th>Column2</th>\n",
              "    </tr>\n",
              "  </thead>\n",
              "  <tbody>\n",
              "    <tr>\n",
              "      <th>0</th>\n",
              "      <td>38.417797</td>\n",
              "      <td>-22.651140</td>\n",
              "    </tr>\n",
              "    <tr>\n",
              "      <th>1</th>\n",
              "      <td>37.759359</td>\n",
              "      <td>-22.845753</td>\n",
              "    </tr>\n",
              "    <tr>\n",
              "      <th>2</th>\n",
              "      <td>37.346335</td>\n",
              "      <td>-23.021246</td>\n",
              "    </tr>\n",
              "    <tr>\n",
              "      <th>3</th>\n",
              "      <td>36.874046</td>\n",
              "      <td>-23.311723</td>\n",
              "    </tr>\n",
              "    <tr>\n",
              "      <th>4</th>\n",
              "      <td>36.724353</td>\n",
              "      <td>-23.308689</td>\n",
              "    </tr>\n",
              "  </tbody>\n",
              "</table>\n",
              "</div>\n",
              "      <button class=\"colab-df-convert\" onclick=\"convertToInteractive('df-4d3f0ade-1196-45f3-b79a-9453856cb80b')\"\n",
              "              title=\"Convert this dataframe to an interactive table.\"\n",
              "              style=\"display:none;\">\n",
              "        \n",
              "  <svg xmlns=\"http://www.w3.org/2000/svg\" height=\"24px\"viewBox=\"0 0 24 24\"\n",
              "       width=\"24px\">\n",
              "    <path d=\"M0 0h24v24H0V0z\" fill=\"none\"/>\n",
              "    <path d=\"M18.56 5.44l.94 2.06.94-2.06 2.06-.94-2.06-.94-.94-2.06-.94 2.06-2.06.94zm-11 1L8.5 8.5l.94-2.06 2.06-.94-2.06-.94L8.5 2.5l-.94 2.06-2.06.94zm10 10l.94 2.06.94-2.06 2.06-.94-2.06-.94-.94-2.06-.94 2.06-2.06.94z\"/><path d=\"M17.41 7.96l-1.37-1.37c-.4-.4-.92-.59-1.43-.59-.52 0-1.04.2-1.43.59L10.3 9.45l-7.72 7.72c-.78.78-.78 2.05 0 2.83L4 21.41c.39.39.9.59 1.41.59.51 0 1.02-.2 1.41-.59l7.78-7.78 2.81-2.81c.8-.78.8-2.07 0-2.86zM5.41 20L4 18.59l7.72-7.72 1.47 1.35L5.41 20z\"/>\n",
              "  </svg>\n",
              "      </button>\n",
              "      \n",
              "  <style>\n",
              "    .colab-df-container {\n",
              "      display:flex;\n",
              "      flex-wrap:wrap;\n",
              "      gap: 12px;\n",
              "    }\n",
              "\n",
              "    .colab-df-convert {\n",
              "      background-color: #E8F0FE;\n",
              "      border: none;\n",
              "      border-radius: 50%;\n",
              "      cursor: pointer;\n",
              "      display: none;\n",
              "      fill: #1967D2;\n",
              "      height: 32px;\n",
              "      padding: 0 0 0 0;\n",
              "      width: 32px;\n",
              "    }\n",
              "\n",
              "    .colab-df-convert:hover {\n",
              "      background-color: #E2EBFA;\n",
              "      box-shadow: 0px 1px 2px rgba(60, 64, 67, 0.3), 0px 1px 3px 1px rgba(60, 64, 67, 0.15);\n",
              "      fill: #174EA6;\n",
              "    }\n",
              "\n",
              "    [theme=dark] .colab-df-convert {\n",
              "      background-color: #3B4455;\n",
              "      fill: #D2E3FC;\n",
              "    }\n",
              "\n",
              "    [theme=dark] .colab-df-convert:hover {\n",
              "      background-color: #434B5C;\n",
              "      box-shadow: 0px 1px 3px 1px rgba(0, 0, 0, 0.15);\n",
              "      filter: drop-shadow(0px 1px 2px rgba(0, 0, 0, 0.3));\n",
              "      fill: #FFFFFF;\n",
              "    }\n",
              "  </style>\n",
              "\n",
              "      <script>\n",
              "        const buttonEl =\n",
              "          document.querySelector('#df-4d3f0ade-1196-45f3-b79a-9453856cb80b button.colab-df-convert');\n",
              "        buttonEl.style.display =\n",
              "          google.colab.kernel.accessAllowed ? 'block' : 'none';\n",
              "\n",
              "        async function convertToInteractive(key) {\n",
              "          const element = document.querySelector('#df-4d3f0ade-1196-45f3-b79a-9453856cb80b');\n",
              "          const dataTable =\n",
              "            await google.colab.kernel.invokeFunction('convertToInteractive',\n",
              "                                                     [key], {});\n",
              "          if (!dataTable) return;\n",
              "\n",
              "          const docLinkHtml = 'Like what you see? Visit the ' +\n",
              "            '<a target=\"_blank\" href=https://colab.research.google.com/notebooks/data_table.ipynb>data table notebook</a>'\n",
              "            + ' to learn more about interactive tables.';\n",
              "          element.innerHTML = '';\n",
              "          dataTable['output_type'] = 'display_data';\n",
              "          await google.colab.output.renderOutput(dataTable, element);\n",
              "          const docLink = document.createElement('div');\n",
              "          docLink.innerHTML = docLinkHtml;\n",
              "          element.appendChild(docLink);\n",
              "        }\n",
              "      </script>\n",
              "    </div>\n",
              "  </div>\n",
              "  "
            ]
          },
          "metadata": {},
          "execution_count": 102
        }
      ]
    },
    {
      "cell_type": "code",
      "source": [
        "plt.scatter(df_X_lda['Column1'], df_X_lda['Column2'], color='blue')\n",
        "plt.xlabel('lda1')\n",
        "plt.ylabel('lda2')"
      ],
      "metadata": {
        "colab": {
          "base_uri": "https://localhost:8080/",
          "height": 296
        },
        "id": "kCCMjEwUAauT",
        "outputId": "3a52e758-c3f9-4e78-a44a-ea42e27f8efe"
      },
      "execution_count": null,
      "outputs": [
        {
          "output_type": "execute_result",
          "data": {
            "text/plain": [
              "Text(0, 0.5, 'lda2')"
            ]
          },
          "metadata": {},
          "execution_count": 103
        },
        {
          "output_type": "display_data",
          "data": {
            "text/plain": [
              "<Figure size 432x288 with 1 Axes>"
            ],
            "image/png": "[encoded data removed]"
          },
          "metadata": {
            "needs_background": "light"
          }
        }
      ]
    },
    {
      "cell_type": "code",
      "source": [
        "LDA.explained_variance_ratio_"
      ],
      "metadata": {
        "colab": {
          "base_uri": "https://localhost:8080/"
        },
        "id": "0oP6hx8N6yjR",
        "outputId": "287a8230-387f-4710-e3a7-7037ead07d82"
      },
      "execution_count": null,
      "outputs": [
        {
          "output_type": "execute_result",
          "data": {
            "text/plain": [
              "array([0.86545765, 0.13454235])"
            ]
          },
          "metadata": {},
          "execution_count": 104
        }
      ]
    },
    {
      "cell_type": "code",
      "source": [
        "km = KMeans(n_clusters=8)\n",
        "y_predicted = km.fit_predict(df_X_lda[['Column1','Column2']])\n",
        "y_predicted"
      ],
      "metadata": {
        "colab": {
          "base_uri": "https://localhost:8080/"
        },
        "id": "N_tjfAV0HdJL",
        "outputId": "09466360-c4ea-4dc4-fb2e-a2bf89fe7d8d"
      },
      "execution_count": null,
      "outputs": [
        {
          "output_type": "execute_result",
          "data": {
            "text/plain": [
              "array([4, 4, 4, 4, 4, 4, 4, 4, 4, 4, 4, 4, 4, 4, 4, 4, 4, 4, 4, 4, 1, 1,\n",
              "       1, 1, 1, 1, 1, 1, 1, 1, 1, 1, 1, 1, 1, 1, 1, 1, 1, 1, 2, 2, 2, 2,\n",
              "       2, 2, 2, 2, 2, 2, 2, 2, 2, 2, 2, 2, 2, 2, 2, 2, 6, 6, 6, 6, 6, 6,\n",
              "       6, 6, 6, 6, 6, 6, 6, 6, 6, 6, 6, 6, 6, 6, 5, 5, 5, 5, 5, 5, 5, 5,\n",
              "       5, 5, 5, 5, 5, 5, 5, 5, 5, 5, 5, 5, 7, 7, 7, 7, 7, 7, 7, 7, 7, 7,\n",
              "       7, 7, 7, 7, 7, 7, 7, 7, 7, 7, 3, 3, 3, 3, 3, 3, 3, 3, 3, 3, 3, 3,\n",
              "       3, 3, 3, 3, 3, 3, 3, 3, 0, 0, 0, 0, 0, 0, 0, 0, 0, 0, 0, 0, 0, 0,\n",
              "       0, 0, 0, 0, 0, 0], dtype=int32)"
            ]
          },
          "metadata": {},
          "execution_count": 105
        }
      ]
    },
    {
      "cell_type": "code",
      "source": [
        "df_X_lda['cluster']=y_predicted\n",
        "df_X_lda.head()"
      ],
      "metadata": {
        "colab": {
          "base_uri": "https://localhost:8080/",
          "height": 206
        },
        "id": "YB2KbsnWHerc",
        "outputId": "95c16851-4fd7-46ec-94a5-cd4f636237f9"
      },
      "execution_count": null,
      "outputs": [
        {
          "output_type": "execute_result",
          "data": {
            "text/plain": [
              "     Column1    Column2  cluster\n",
              "0  38.417797 -22.651140        4\n",
              "1  37.759359 -22.845753        4\n",
              "2  37.346335 -23.021246        4\n",
              "3  36.874046 -23.311723        4\n",
              "4  36.724353 -23.308689        4"
            ],
            "text/html": [
              "\n",
              "  <div id=\"df-8488d32c-796c-4fb4-91e4-290b534450fc\">\n",
              "    <div class=\"colab-df-container\">\n",
              "      <div>\n",
              "<style scoped>\n",
              "    .dataframe tbody tr th:only-of-type {\n",
              "        vertical-align: middle;\n",
              "    }\n",
              "\n",
              "    .dataframe tbody tr th {\n",
              "        vertical-align: top;\n",
              "    }\n",
              "\n",
              "    .dataframe thead th {\n",
              "        text-align: right;\n",
              "    }\n",
              "</style>\n",
              "<table border=\"1\" class=\"dataframe\">\n",
              "  <thead>\n",
              "    <tr style=\"text-align: right;\">\n",
              "      <th></th>\n",
              "      <th>Column1</th>\n",
              "      <th>Column2</th>\n",
              "      <th>cluster</th>\n",
              "    </tr>\n",
              "  </thead>\n",
              "  <tbody>\n",
              "    <tr>\n",
              "      <th>0</th>\n",
              "      <td>38.417797</td>\n",
              "      <td>-22.651140</td>\n",
              "      <td>4</td>\n",
              "    </tr>\n",
              "    <tr>\n",
              "      <th>1</th>\n",
              "      <td>37.759359</td>\n",
              "      <td>-22.845753</td>\n",
              "      <td>4</td>\n",
              "    </tr>\n",
              "    <tr>\n",
              "      <th>2</th>\n",
              "      <td>37.346335</td>\n",
              "      <td>-23.021246</td>\n",
              "      <td>4</td>\n",
              "    </tr>\n",
              "    <tr>\n",
              "      <th>3</th>\n",
              "      <td>36.874046</td>\n",
              "      <td>-23.311723</td>\n",
              "      <td>4</td>\n",
              "    </tr>\n",
              "    <tr>\n",
              "      <th>4</th>\n",
              "      <td>36.724353</td>\n",
              "      <td>-23.308689</td>\n",
              "      <td>4</td>\n",
              "    </tr>\n",
              "  </tbody>\n",
              "</table>\n",
              "</div>\n",
              "      <button class=\"colab-df-convert\" onclick=\"convertToInteractive('df-8488d32c-796c-4fb4-91e4-290b534450fc')\"\n",
              "              title=\"Convert this dataframe to an interactive table.\"\n",
              "              style=\"display:none;\">\n",
              "        \n",
              "  <svg xmlns=\"http://www.w3.org/2000/svg\" height=\"24px\"viewBox=\"0 0 24 24\"\n",
              "       width=\"24px\">\n",
              "    <path d=\"M0 0h24v24H0V0z\" fill=\"none\"/>\n",
              "    <path d=\"M18.56 5.44l.94 2.06.94-2.06 2.06-.94-2.06-.94-.94-2.06-.94 2.06-2.06.94zm-11 1L8.5 8.5l.94-2.06 2.06-.94-2.06-.94L8.5 2.5l-.94 2.06-2.06.94zm10 10l.94 2.06.94-2.06 2.06-.94-2.06-.94-.94-2.06-.94 2.06-2.06.94z\"/><path d=\"M17.41 7.96l-1.37-1.37c-.4-.4-.92-.59-1.43-.59-.52 0-1.04.2-1.43.59L10.3 9.45l-7.72 7.72c-.78.78-.78 2.05 0 2.83L4 21.41c.39.39.9.59 1.41.59.51 0 1.02-.2 1.41-.59l7.78-7.78 2.81-2.81c.8-.78.8-2.07 0-2.86zM5.41 20L4 18.59l7.72-7.72 1.47 1.35L5.41 20z\"/>\n",
              "  </svg>\n",
              "      </button>\n",
              "      \n",
              "  <style>\n",
              "    .colab-df-container {\n",
              "      display:flex;\n",
              "      flex-wrap:wrap;\n",
              "      gap: 12px;\n",
              "    }\n",
              "\n",
              "    .colab-df-convert {\n",
              "      background-color: #E8F0FE;\n",
              "      border: none;\n",
              "      border-radius: 50%;\n",
              "      cursor: pointer;\n",
              "      display: none;\n",
              "      fill: #1967D2;\n",
              "      height: 32px;\n",
              "      padding: 0 0 0 0;\n",
              "      width: 32px;\n",
              "    }\n",
              "\n",
              "    .colab-df-convert:hover {\n",
              "      background-color: #E2EBFA;\n",
              "      box-shadow: 0px 1px 2px rgba(60, 64, 67, 0.3), 0px 1px 3px 1px rgba(60, 64, 67, 0.15);\n",
              "      fill: #174EA6;\n",
              "    }\n",
              "\n",
              "    [theme=dark] .colab-df-convert {\n",
              "      background-color: #3B4455;\n",
              "      fill: #D2E3FC;\n",
              "    }\n",
              "\n",
              "    [theme=dark] .colab-df-convert:hover {\n",
              "      background-color: #434B5C;\n",
              "      box-shadow: 0px 1px 3px 1px rgba(0, 0, 0, 0.15);\n",
              "      filter: drop-shadow(0px 1px 2px rgba(0, 0, 0, 0.3));\n",
              "      fill: #FFFFFF;\n",
              "    }\n",
              "  </style>\n",
              "\n",
              "      <script>\n",
              "        const buttonEl =\n",
              "          document.querySelector('#df-8488d32c-796c-4fb4-91e4-290b534450fc button.colab-df-convert');\n",
              "        buttonEl.style.display =\n",
              "          google.colab.kernel.accessAllowed ? 'block' : 'none';\n",
              "\n",
              "        async function convertToInteractive(key) {\n",
              "          const element = document.querySelector('#df-8488d32c-796c-4fb4-91e4-290b534450fc');\n",
              "          const dataTable =\n",
              "            await google.colab.kernel.invokeFunction('convertToInteractive',\n",
              "                                                     [key], {});\n",
              "          if (!dataTable) return;\n",
              "\n",
              "          const docLinkHtml = 'Like what you see? Visit the ' +\n",
              "            '<a target=\"_blank\" href=https://colab.research.google.com/notebooks/data_table.ipynb>data table notebook</a>'\n",
              "            + ' to learn more about interactive tables.';\n",
              "          element.innerHTML = '';\n",
              "          dataTable['output_type'] = 'display_data';\n",
              "          await google.colab.output.renderOutput(dataTable, element);\n",
              "          const docLink = document.createElement('div');\n",
              "          docLink.innerHTML = docLinkHtml;\n",
              "          element.appendChild(docLink);\n",
              "        }\n",
              "      </script>\n",
              "    </div>\n",
              "  </div>\n",
              "  "
            ]
          },
          "metadata": {},
          "execution_count": 106
        }
      ]
    },
    {
      "cell_type": "code",
      "source": [
        "km.cluster_centers_"
      ],
      "metadata": {
        "colab": {
          "base_uri": "https://localhost:8080/"
        },
        "id": "M8S7da_SHeV1",
        "outputId": "63178dcb-e530-4112-b1a7-48cb2251b431"
      },
      "execution_count": null,
      "outputs": [
        {
          "output_type": "execute_result",
          "data": {
            "text/plain": [
              "array([[ 105.06332637,  -33.72682458],\n",
              "       [-266.48941224,  -68.4930877 ],\n",
              "       [  35.89771826,   33.74373613],\n",
              "       [-141.19880056,   89.4690089 ],\n",
              "       [  36.3050864 ,  -23.5187623 ],\n",
              "       [  88.8219341 ,   -5.36038811],\n",
              "       [  41.649421  ,   47.09858736],\n",
              "       [  99.95072667,  -39.21226971]])"
            ]
          },
          "metadata": {},
          "execution_count": 107
        }
      ]
    },
    {
      "cell_type": "code",
      "source": [
        "df1 = df_X_lda[df_X_lda.cluster==0]\n",
        "df2 = df_X_lda[df_X_lda.cluster==1]\n",
        "df3 = df_X_lda[df_X_lda.cluster==2]\n",
        "df4 = df_X_lda[df_X_lda.cluster==3]\n",
        "df5 = df_X_lda[df_X_lda.cluster==4]\n",
        "df6 = df_X_lda[df_X_lda.cluster==5]\n",
        "df7 = df_X_lda[df_X_lda.cluster==6]\n",
        "df8 = df_X_lda[df_X_lda.cluster==7]\n",
        "\n",
        "plt.scatter(df1.Column1, df1.Column2, color='black', label='OFF')\n",
        "plt.scatter(df2.Column1, df2.Column2, color='cyan', label='FLASHLIGHT')\n",
        "plt.scatter(df3.Column1, df3.Column2, color='green', label='GREEN')\n",
        "plt.scatter(df4.Column1, df4.Column2, color='LawnGreen', label='AMBIENT')\n",
        "plt.scatter(df5.Column1, df5.Column2, color='blue', label='BLUE')\n",
        "plt.scatter(df6.Column1, df6.Column2, color='violet', label='UV')\n",
        "plt.scatter(df7.Column1, df7.Column2, color='red', label='RED')\n",
        "plt.scatter(df8.Column1, df8.Column2, color='DarkMagenta', label='IR')\n",
        "# plt.scatter(km.cluster_centers_[:,0],km.cluster_centers_[:,1],color='purple',marker='*',label='centroid')\n",
        "\n",
        "plt.xlabel('lda1')\n",
        "plt.ylabel('lda2')\n",
        "plt.legend(loc = \"upper left\")\n",
        "# blue - 4,flashlight - 1, green - 2, red - 6, UV - 5, IR - 7, AMBIENT - 3, off - 0\n",
        "\n"
      ],
      "metadata": {
        "colab": {
          "base_uri": "https://localhost:8080/",
          "height": 296
        },
        "id": "s9S1MuS26LKQ",
        "outputId": "8ef6b210-ad90-4081-90b4-b8fddbcc139d"
      },
      "execution_count": null,
      "outputs": [
        {
          "output_type": "execute_result",
          "data": {
            "text/plain": [
              "<matplotlib.legend.Legend at 0x7f889cb1c760>"
            ]
          },
          "metadata": {},
          "execution_count": 109
        },
        {
          "output_type": "display_data",
          "data": {
            "text/plain": [
              "<Figure size 432x288 with 1 Axes>"
            ],
            "image/png": "[encoded data removed]"
          },
          "metadata": {
            "needs_background": "light"
          }
        }
      ]
    },
    {
      "cell_type": "code",
      "source": [
        "scaler = MinMaxScaler()\n",
        "\n",
        "scaler.fit(df_X_lda[['Column1']])\n",
        "df_X_lda['Column1'] = scaler.transform(df_X_lda[['Column1']])\n",
        "\n",
        "scaler.fit(df_X_lda[['Column2']])\n",
        "df_X_lda['Column2'] = scaler.transform(df_X_lda[['Column2']])"
      ],
      "metadata": {
        "id": "bfVPx4iuIhFh"
      },
      "execution_count": null,
      "outputs": []
    },
    {
      "cell_type": "code",
      "source": [
        "df_X_lda.head()"
      ],
      "metadata": {
        "colab": {
          "base_uri": "https://localhost:8080/",
          "height": 206
        },
        "id": "WcfT3EuZI8Kd",
        "outputId": "829b81df-be89-4c0a-a206-29af58d89a2f"
      },
      "execution_count": null,
      "outputs": [
        {
          "output_type": "execute_result",
          "data": {
            "text/plain": [
              "    Column1   Column2  cluster\n",
              "0  0.821211  0.298487        4\n",
              "1  0.819451  0.297283        4\n",
              "2  0.818347  0.296197        4\n",
              "3  0.817084  0.294399        4\n",
              "4  0.816684  0.294418        4"
            ],
            "text/html": [
              "\n",
              "  <div id=\"df-468ab648-73ea-49ef-b7b0-b5f48a4b8198\">\n",
              "    <div class=\"colab-df-container\">\n",
              "      <div>\n",
              "<style scoped>\n",
              "    .dataframe tbody tr th:only-of-type {\n",
              "        vertical-align: middle;\n",
              "    }\n",
              "\n",
              "    .dataframe tbody tr th {\n",
              "        vertical-align: top;\n",
              "    }\n",
              "\n",
              "    .dataframe thead th {\n",
              "        text-align: right;\n",
              "    }\n",
              "</style>\n",
              "<table border=\"1\" class=\"dataframe\">\n",
              "  <thead>\n",
              "    <tr style=\"text-align: right;\">\n",
              "      <th></th>\n",
              "      <th>Column1</th>\n",
              "      <th>Column2</th>\n",
              "      <th>cluster</th>\n",
              "    </tr>\n",
              "  </thead>\n",
              "  <tbody>\n",
              "    <tr>\n",
              "      <th>0</th>\n",
              "      <td>0.821211</td>\n",
              "      <td>0.298487</td>\n",
              "      <td>4</td>\n",
              "    </tr>\n",
              "    <tr>\n",
              "      <th>1</th>\n",
              "      <td>0.819451</td>\n",
              "      <td>0.297283</td>\n",
              "      <td>4</td>\n",
              "    </tr>\n",
              "    <tr>\n",
              "      <th>2</th>\n",
              "      <td>0.818347</td>\n",
              "      <td>0.296197</td>\n",
              "      <td>4</td>\n",
              "    </tr>\n",
              "    <tr>\n",
              "      <th>3</th>\n",
              "      <td>0.817084</td>\n",
              "      <td>0.294399</td>\n",
              "      <td>4</td>\n",
              "    </tr>\n",
              "    <tr>\n",
              "      <th>4</th>\n",
              "      <td>0.816684</td>\n",
              "      <td>0.294418</td>\n",
              "      <td>4</td>\n",
              "    </tr>\n",
              "  </tbody>\n",
              "</table>\n",
              "</div>\n",
              "      <button class=\"colab-df-convert\" onclick=\"convertToInteractive('df-468ab648-73ea-49ef-b7b0-b5f48a4b8198')\"\n",
              "              title=\"Convert this dataframe to an interactive table.\"\n",
              "              style=\"display:none;\">\n",
              "        \n",
              "  <svg xmlns=\"http://www.w3.org/2000/svg\" height=\"24px\"viewBox=\"0 0 24 24\"\n",
              "       width=\"24px\">\n",
              "    <path d=\"M0 0h24v24H0V0z\" fill=\"none\"/>\n",
              "    <path d=\"M18.56 5.44l.94 2.06.94-2.06 2.06-.94-2.06-.94-.94-2.06-.94 2.06-2.06.94zm-11 1L8.5 8.5l.94-2.06 2.06-.94-2.06-.94L8.5 2.5l-.94 2.06-2.06.94zm10 10l.94 2.06.94-2.06 2.06-.94-2.06-.94-.94-2.06-.94 2.06-2.06.94z\"/><path d=\"M17.41 7.96l-1.37-1.37c-.4-.4-.92-.59-1.43-.59-.52 0-1.04.2-1.43.59L10.3 9.45l-7.72 7.72c-.78.78-.78 2.05 0 2.83L4 21.41c.39.39.9.59 1.41.59.51 0 1.02-.2 1.41-.59l7.78-7.78 2.81-2.81c.8-.78.8-2.07 0-2.86zM5.41 20L4 18.59l7.72-7.72 1.47 1.35L5.41 20z\"/>\n",
              "  </svg>\n",
              "      </button>\n",
              "      \n",
              "  <style>\n",
              "    .colab-df-container {\n",
              "      display:flex;\n",
              "      flex-wrap:wrap;\n",
              "      gap: 12px;\n",
              "    }\n",
              "\n",
              "    .colab-df-convert {\n",
              "      background-color: #E8F0FE;\n",
              "      border: none;\n",
              "      border-radius: 50%;\n",
              "      cursor: pointer;\n",
              "      display: none;\n",
              "      fill: #1967D2;\n",
              "      height: 32px;\n",
              "      padding: 0 0 0 0;\n",
              "      width: 32px;\n",
              "    }\n",
              "\n",
              "    .colab-df-convert:hover {\n",
              "      background-color: #E2EBFA;\n",
              "      box-shadow: 0px 1px 2px rgba(60, 64, 67, 0.3), 0px 1px 3px 1px rgba(60, 64, 67, 0.15);\n",
              "      fill: #174EA6;\n",
              "    }\n",
              "\n",
              "    [theme=dark] .colab-df-convert {\n",
              "      background-color: #3B4455;\n",
              "      fill: #D2E3FC;\n",
              "    }\n",
              "\n",
              "    [theme=dark] .colab-df-convert:hover {\n",
              "      background-color: #434B5C;\n",
              "      box-shadow: 0px 1px 3px 1px rgba(0, 0, 0, 0.15);\n",
              "      filter: drop-shadow(0px 1px 2px rgba(0, 0, 0, 0.3));\n",
              "      fill: #FFFFFF;\n",
              "    }\n",
              "  </style>\n",
              "\n",
              "      <script>\n",
              "        const buttonEl =\n",
              "          document.querySelector('#df-468ab648-73ea-49ef-b7b0-b5f48a4b8198 button.colab-df-convert');\n",
              "        buttonEl.style.display =\n",
              "          google.colab.kernel.accessAllowed ? 'block' : 'none';\n",
              "\n",
              "        async function convertToInteractive(key) {\n",
              "          const element = document.querySelector('#df-468ab648-73ea-49ef-b7b0-b5f48a4b8198');\n",
              "          const dataTable =\n",
              "            await google.colab.kernel.invokeFunction('convertToInteractive',\n",
              "                                                     [key], {});\n",
              "          if (!dataTable) return;\n",
              "\n",
              "          const docLinkHtml = 'Like what you see? Visit the ' +\n",
              "            '<a target=\"_blank\" href=https://colab.research.google.com/notebooks/data_table.ipynb>data table notebook</a>'\n",
              "            + ' to learn more about interactive tables.';\n",
              "          element.innerHTML = '';\n",
              "          dataTable['output_type'] = 'display_data';\n",
              "          await google.colab.output.renderOutput(dataTable, element);\n",
              "          const docLink = document.createElement('div');\n",
              "          docLink.innerHTML = docLinkHtml;\n",
              "          element.appendChild(docLink);\n",
              "        }\n",
              "      </script>\n",
              "    </div>\n",
              "  </div>\n",
              "  "
            ]
          },
          "metadata": {},
          "execution_count": 111
        }
      ]
    },
    {
      "cell_type": "code",
      "source": [
        "plt.scatter(df_X_lda.Column1,df_X_lda.Column2)"
      ],
      "metadata": {
        "colab": {
          "base_uri": "https://localhost:8080/",
          "height": 282
        },
        "id": "dfj7vd1OI8w2",
        "outputId": "515d41e1-9daf-4a3a-cd56-3d0a20314a01"
      },
      "execution_count": null,
      "outputs": [
        {
          "output_type": "execute_result",
          "data": {
            "text/plain": [
              "<matplotlib.collections.PathCollection at 0x7f889ca82220>"
            ]
          },
          "metadata": {},
          "execution_count": 112
        },
        {
          "output_type": "display_data",
          "data": {
            "text/plain": [
              "<Figure size 432x288 with 1 Axes>"
            ],
            "image/png": "[encoded data removed]"
          },
          "metadata": {
            "needs_background": "light"
          }
        }
      ]
    },
    {
      "cell_type": "code",
      "source": [
        "km = KMeans(n_clusters=8)\n",
        "y_predicted = km.fit_predict(df_X_lda[['Column1','Column2']])\n",
        "y_predicted"
      ],
      "metadata": {
        "colab": {
          "base_uri": "https://localhost:8080/"
        },
        "id": "3Aw8O11MI8tf",
        "outputId": "65849f3d-07fa-48d3-ddef-8901d921e82b"
      },
      "execution_count": null,
      "outputs": [
        {
          "output_type": "execute_result",
          "data": {
            "text/plain": [
              "array([5, 5, 5, 5, 5, 5, 5, 5, 5, 5, 5, 5, 5, 5, 5, 5, 5, 5, 5, 5, 1, 1,\n",
              "       1, 1, 1, 1, 1, 1, 1, 1, 1, 1, 1, 1, 1, 1, 1, 1, 1, 1, 6, 6, 6, 6,\n",
              "       6, 6, 6, 6, 6, 6, 6, 6, 6, 6, 6, 6, 6, 6, 6, 6, 3, 3, 3, 3, 3, 3,\n",
              "       3, 3, 3, 3, 3, 3, 3, 3, 3, 3, 3, 3, 3, 3, 0, 0, 0, 0, 0, 0, 0, 0,\n",
              "       0, 0, 0, 0, 0, 0, 0, 0, 0, 0, 0, 0, 4, 4, 4, 4, 4, 4, 4, 4, 4, 4,\n",
              "       4, 4, 4, 4, 4, 4, 4, 4, 4, 4, 2, 2, 2, 2, 2, 2, 2, 2, 2, 2, 2, 2,\n",
              "       2, 2, 2, 2, 2, 2, 2, 2, 7, 7, 7, 7, 7, 7, 7, 7, 7, 7, 7, 7, 7, 7,\n",
              "       7, 7, 7, 7, 7, 7], dtype=int32)"
            ]
          },
          "metadata": {},
          "execution_count": 113
        }
      ]
    },
    {
      "cell_type": "code",
      "source": [
        "df_X_lda['cluster']=y_predicted\n",
        "df_X_lda.head()"
      ],
      "metadata": {
        "colab": {
          "base_uri": "https://localhost:8080/",
          "height": 206
        },
        "id": "9mw33SjIJCBS",
        "outputId": "8606d1e0-16cf-44ba-cf8a-abf73661466e"
      },
      "execution_count": null,
      "outputs": [
        {
          "output_type": "execute_result",
          "data": {
            "text/plain": [
              "    Column1   Column2  cluster\n",
              "0  0.821211  0.298487        5\n",
              "1  0.819451  0.297283        5\n",
              "2  0.818347  0.296197        5\n",
              "3  0.817084  0.294399        5\n",
              "4  0.816684  0.294418        5"
            ],
            "text/html": [
              "\n",
              "  <div id=\"df-77301758-aadf-44c2-8001-7744040f4089\">\n",
              "    <div class=\"colab-df-container\">\n",
              "      <div>\n",
              "<style scoped>\n",
              "    .dataframe tbody tr th:only-of-type {\n",
              "        vertical-align: middle;\n",
              "    }\n",
              "\n",
              "    .dataframe tbody tr th {\n",
              "        vertical-align: top;\n",
              "    }\n",
              "\n",
              "    .dataframe thead th {\n",
              "        text-align: right;\n",
              "    }\n",
              "</style>\n",
              "<table border=\"1\" class=\"dataframe\">\n",
              "  <thead>\n",
              "    <tr style=\"text-align: right;\">\n",
              "      <th></th>\n",
              "      <th>Column1</th>\n",
              "      <th>Column2</th>\n",
              "      <th>cluster</th>\n",
              "    </tr>\n",
              "  </thead>\n",
              "  <tbody>\n",
              "    <tr>\n",
              "      <th>0</th>\n",
              "      <td>0.821211</td>\n",
              "      <td>0.298487</td>\n",
              "      <td>5</td>\n",
              "    </tr>\n",
              "    <tr>\n",
              "      <th>1</th>\n",
              "      <td>0.819451</td>\n",
              "      <td>0.297283</td>\n",
              "      <td>5</td>\n",
              "    </tr>\n",
              "    <tr>\n",
              "      <th>2</th>\n",
              "      <td>0.818347</td>\n",
              "      <td>0.296197</td>\n",
              "      <td>5</td>\n",
              "    </tr>\n",
              "    <tr>\n",
              "      <th>3</th>\n",
              "      <td>0.817084</td>\n",
              "      <td>0.294399</td>\n",
              "      <td>5</td>\n",
              "    </tr>\n",
              "    <tr>\n",
              "      <th>4</th>\n",
              "      <td>0.816684</td>\n",
              "      <td>0.294418</td>\n",
              "      <td>5</td>\n",
              "    </tr>\n",
              "  </tbody>\n",
              "</table>\n",
              "</div>\n",
              "      <button class=\"colab-df-convert\" onclick=\"convertToInteractive('df-77301758-aadf-44c2-8001-7744040f4089')\"\n",
              "              title=\"Convert this dataframe to an interactive table.\"\n",
              "              style=\"display:none;\">\n",
              "        \n",
              "  <svg xmlns=\"http://www.w3.org/2000/svg\" height=\"24px\"viewBox=\"0 0 24 24\"\n",
              "       width=\"24px\">\n",
              "    <path d=\"M0 0h24v24H0V0z\" fill=\"none\"/>\n",
              "    <path d=\"M18.56 5.44l.94 2.06.94-2.06 2.06-.94-2.06-.94-.94-2.06-.94 2.06-2.06.94zm-11 1L8.5 8.5l.94-2.06 2.06-.94-2.06-.94L8.5 2.5l-.94 2.06-2.06.94zm10 10l.94 2.06.94-2.06 2.06-.94-2.06-.94-.94-2.06-.94 2.06-2.06.94z\"/><path d=\"M17.41 7.96l-1.37-1.37c-.4-.4-.92-.59-1.43-.59-.52 0-1.04.2-1.43.59L10.3 9.45l-7.72 7.72c-.78.78-.78 2.05 0 2.83L4 21.41c.39.39.9.59 1.41.59.51 0 1.02-.2 1.41-.59l7.78-7.78 2.81-2.81c.8-.78.8-2.07 0-2.86zM5.41 20L4 18.59l7.72-7.72 1.47 1.35L5.41 20z\"/>\n",
              "  </svg>\n",
              "      </button>\n",
              "      \n",
              "  <style>\n",
              "    .colab-df-container {\n",
              "      display:flex;\n",
              "      flex-wrap:wrap;\n",
              "      gap: 12px;\n",
              "    }\n",
              "\n",
              "    .colab-df-convert {\n",
              "      background-color: #E8F0FE;\n",
              "      border: none;\n",
              "      border-radius: 50%;\n",
              "      cursor: pointer;\n",
              "      display: none;\n",
              "      fill: #1967D2;\n",
              "      height: 32px;\n",
              "      padding: 0 0 0 0;\n",
              "      width: 32px;\n",
              "    }\n",
              "\n",
              "    .colab-df-convert:hover {\n",
              "      background-color: #E2EBFA;\n",
              "      box-shadow: 0px 1px 2px rgba(60, 64, 67, 0.3), 0px 1px 3px 1px rgba(60, 64, 67, 0.15);\n",
              "      fill: #174EA6;\n",
              "    }\n",
              "\n",
              "    [theme=dark] .colab-df-convert {\n",
              "      background-color: #3B4455;\n",
              "      fill: #D2E3FC;\n",
              "    }\n",
              "\n",
              "    [theme=dark] .colab-df-convert:hover {\n",
              "      background-color: #434B5C;\n",
              "      box-shadow: 0px 1px 3px 1px rgba(0, 0, 0, 0.15);\n",
              "      filter: drop-shadow(0px 1px 2px rgba(0, 0, 0, 0.3));\n",
              "      fill: #FFFFFF;\n",
              "    }\n",
              "  </style>\n",
              "\n",
              "      <script>\n",
              "        const buttonEl =\n",
              "          document.querySelector('#df-77301758-aadf-44c2-8001-7744040f4089 button.colab-df-convert');\n",
              "        buttonEl.style.display =\n",
              "          google.colab.kernel.accessAllowed ? 'block' : 'none';\n",
              "\n",
              "        async function convertToInteractive(key) {\n",
              "          const element = document.querySelector('#df-77301758-aadf-44c2-8001-7744040f4089');\n",
              "          const dataTable =\n",
              "            await google.colab.kernel.invokeFunction('convertToInteractive',\n",
              "                                                     [key], {});\n",
              "          if (!dataTable) return;\n",
              "\n",
              "          const docLinkHtml = 'Like what you see? Visit the ' +\n",
              "            '<a target=\"_blank\" href=https://colab.research.google.com/notebooks/data_table.ipynb>data table notebook</a>'\n",
              "            + ' to learn more about interactive tables.';\n",
              "          element.innerHTML = '';\n",
              "          dataTable['output_type'] = 'display_data';\n",
              "          await google.colab.output.renderOutput(dataTable, element);\n",
              "          const docLink = document.createElement('div');\n",
              "          docLink.innerHTML = docLinkHtml;\n",
              "          element.appendChild(docLink);\n",
              "        }\n",
              "      </script>\n",
              "    </div>\n",
              "  </div>\n",
              "  "
            ]
          },
          "metadata": {},
          "execution_count": 114
        }
      ]
    },
    {
      "cell_type": "code",
      "source": [
        "km.cluster_centers_"
      ],
      "metadata": {
        "colab": {
          "base_uri": "https://localhost:8080/"
        },
        "id": "-FQG7Yf3JEEl",
        "outputId": "ce3093b8-bad4-48de-bdbe-236efa13e117"
      },
      "execution_count": null,
      "outputs": [
        {
          "output_type": "execute_result",
          "data": {
            "text/plain": [
              "array([[0.95594755, 0.40550552],\n",
              "       [0.00615583, 0.01475693],\n",
              "       [0.34107332, 0.99243518],\n",
              "       [0.82984952, 0.730191  ],\n",
              "       [0.98569621, 0.19598533],\n",
              "       [0.81556344, 0.2931175 ],\n",
              "       [0.8144745 , 0.64753353],\n",
              "       [0.99936283, 0.22993652]])"
            ]
          },
          "metadata": {},
          "execution_count": 115
        }
      ]
    },
    {
      "cell_type": "code",
      "source": [
        "df1 = df_X_lda[df_X_lda.cluster==0]\n",
        "df2 = df_X_lda[df_X_lda.cluster==1]\n",
        "df3 = df_X_lda[df_X_lda.cluster==2]\n",
        "df4 = df_X_lda[df_X_lda.cluster==3]\n",
        "df5 = df_X_lda[df_X_lda.cluster==4]\n",
        "df6 = df_X_lda[df_X_lda.cluster==5]\n",
        "df7 = df_X_lda[df_X_lda.cluster==6]\n",
        "df8 = df_X_lda[df_X_lda.cluster==7]\n",
        "\n",
        "plt.scatter(df1.Column1, df1.Column2, color='violet', label='UV')\n",
        "plt.scatter(df2.Column1, df2.Column2, color='cyan', label='FLASHLIGHT')\n",
        "plt.scatter(df3.Column1, df3.Column2, color='LawnGreen', label='AMBIENT')\n",
        "plt.scatter(df4.Column1, df4.Column2, color='red', label='RED')\n",
        "plt.scatter(df5.Column1, df5.Column2, color='DarkMagenta', label='IR')\n",
        "plt.scatter(df6.Column1, df6.Column2, color='blue', label='BLUE')\n",
        "plt.scatter(df7.Column1, df7.Column2, color='green', label='GREEN')\n",
        "plt.scatter(df8.Column1, df8.Column2, color='black', label='OFF')\n",
        "# plt.scatter(km.cluster_centers_[:,0],km.cluster_centers_[:,1],color='purple',marker='*',label='centroid')\n",
        "\n",
        "plt.xlabel('lda1')\n",
        "plt.ylabel('lda2')\n",
        "plt.legend(loc = \"upper left\")\n",
        "# blue - 5,flashlight - 1, green - 6, red - 3, UV - 0, IR - 4, AMBIENT - 2, off - 7"
      ],
      "metadata": {
        "colab": {
          "base_uri": "https://localhost:8080/",
          "height": 296
        },
        "id": "KOdPPyh16LC1",
        "outputId": "e617f825-d45c-4196-d5b0-d95ecf9c4050"
      },
      "execution_count": null,
      "outputs": [
        {
          "output_type": "execute_result",
          "data": {
            "text/plain": [
              "<matplotlib.legend.Legend at 0x7f889c971c70>"
            ]
          },
          "metadata": {},
          "execution_count": 117
        },
        {
          "output_type": "display_data",
          "data": {
            "text/plain": [
              "<Figure size 432x288 with 1 Axes>"
            ],
            "image/png": "[encoded data removed]"
          },
          "metadata": {
            "needs_background": "light"
          }
        }
      ]
    },
    {
      "cell_type": "code",
      "source": [],
      "metadata": {
        "id": "bUIPxkLNojfE"
      },
      "execution_count": null,
      "outputs": []
    },
    {
      "cell_type": "code",
      "source": [],
      "metadata": {
        "id": "UPY91-qDojbU"
      },
      "execution_count": null,
      "outputs": []
    },
    {
      "cell_type": "code",
      "source": [],
      "metadata": {
        "id": "Wum3aqceu9UF"
      },
      "execution_count": null,
      "outputs": []
    },
    {
      "cell_type": "code",
      "source": [],
      "metadata": {
        "id": "USNZ6eWpu9QR"
      },
      "execution_count": null,
      "outputs": []
    },
    {
      "cell_type": "markdown",
      "source": [
        "# Random Forest, SVM, KNN"
      ],
      "metadata": {
        "id": "4bH-2XpDu-E7"
      }
    },
    {
      "cell_type": "code",
      "source": [
        "df.head()"
      ],
      "metadata": {
        "colab": {
          "base_uri": "https://localhost:8080/",
          "height": 206
        },
        "id": "oDrENM_eu859",
        "outputId": "38b7fdcf-3904-4d89-d0f4-73fa65ab5179"
      },
      "execution_count": null,
      "outputs": [
        {
          "output_type": "execute_result",
          "data": {
            "text/plain": [
              "   Smu1.Time[1][1]      CS_I         LFS_I label on/off\n",
              "0         0.000000  0.000008  2.487494e-07  blue    off\n",
              "1         0.140996  0.000008  2.485853e-07  blue    off\n",
              "2         0.281961  0.000008  2.484812e-07  blue    off\n",
              "3         0.422915  0.000008  2.481225e-07  blue    off\n",
              "4         0.563879  0.000007  2.482383e-07  blue    off"
            ],
            "text/html": [
              "\n",
              "  <div id=\"df-dda34414-c0ec-4d0f-971f-96b225c825b6\">\n",
              "    <div class=\"colab-df-container\">\n",
              "      <div>\n",
              "<style scoped>\n",
              "    .dataframe tbody tr th:only-of-type {\n",
              "        vertical-align: middle;\n",
              "    }\n",
              "\n",
              "    .dataframe tbody tr th {\n",
              "        vertical-align: top;\n",
              "    }\n",
              "\n",
              "    .dataframe thead th {\n",
              "        text-align: right;\n",
              "    }\n",
              "</style>\n",
              "<table border=\"1\" class=\"dataframe\">\n",
              "  <thead>\n",
              "    <tr style=\"text-align: right;\">\n",
              "      <th></th>\n",
              "      <th>Smu1.Time[1][1]</th>\n",
              "      <th>CS_I</th>\n",
              "      <th>LFS_I</th>\n",
              "      <th>label</th>\n",
              "      <th>on/off</th>\n",
              "    </tr>\n",
              "  </thead>\n",
              "  <tbody>\n",
              "    <tr>\n",
              "      <th>0</th>\n",
              "      <td>0.000000</td>\n",
              "      <td>0.000008</td>\n",
              "      <td>2.487494e-07</td>\n",
              "      <td>blue</td>\n",
              "      <td>off</td>\n",
              "    </tr>\n",
              "    <tr>\n",
              "      <th>1</th>\n",
              "      <td>0.140996</td>\n",
              "      <td>0.000008</td>\n",
              "      <td>2.485853e-07</td>\n",
              "      <td>blue</td>\n",
              "      <td>off</td>\n",
              "    </tr>\n",
              "    <tr>\n",
              "      <th>2</th>\n",
              "      <td>0.281961</td>\n",
              "      <td>0.000008</td>\n",
              "      <td>2.484812e-07</td>\n",
              "      <td>blue</td>\n",
              "      <td>off</td>\n",
              "    </tr>\n",
              "    <tr>\n",
              "      <th>3</th>\n",
              "      <td>0.422915</td>\n",
              "      <td>0.000008</td>\n",
              "      <td>2.481225e-07</td>\n",
              "      <td>blue</td>\n",
              "      <td>off</td>\n",
              "    </tr>\n",
              "    <tr>\n",
              "      <th>4</th>\n",
              "      <td>0.563879</td>\n",
              "      <td>0.000007</td>\n",
              "      <td>2.482383e-07</td>\n",
              "      <td>blue</td>\n",
              "      <td>off</td>\n",
              "    </tr>\n",
              "  </tbody>\n",
              "</table>\n",
              "</div>\n",
              "      <button class=\"colab-df-convert\" onclick=\"convertToInteractive('df-dda34414-c0ec-4d0f-971f-96b225c825b6')\"\n",
              "              title=\"Convert this dataframe to an interactive table.\"\n",
              "              style=\"display:none;\">\n",
              "        \n",
              "  <svg xmlns=\"http://www.w3.org/2000/svg\" height=\"24px\"viewBox=\"0 0 24 24\"\n",
              "       width=\"24px\">\n",
              "    <path d=\"M0 0h24v24H0V0z\" fill=\"none\"/>\n",
              "    <path d=\"M18.56 5.44l.94 2.06.94-2.06 2.06-.94-2.06-.94-.94-2.06-.94 2.06-2.06.94zm-11 1L8.5 8.5l.94-2.06 2.06-.94-2.06-.94L8.5 2.5l-.94 2.06-2.06.94zm10 10l.94 2.06.94-2.06 2.06-.94-2.06-.94-.94-2.06-.94 2.06-2.06.94z\"/><path d=\"M17.41 7.96l-1.37-1.37c-.4-.4-.92-.59-1.43-.59-.52 0-1.04.2-1.43.59L10.3 9.45l-7.72 7.72c-.78.78-.78 2.05 0 2.83L4 21.41c.39.39.9.59 1.41.59.51 0 1.02-.2 1.41-.59l7.78-7.78 2.81-2.81c.8-.78.8-2.07 0-2.86zM5.41 20L4 18.59l7.72-7.72 1.47 1.35L5.41 20z\"/>\n",
              "  </svg>\n",
              "      </button>\n",
              "      \n",
              "  <style>\n",
              "    .colab-df-container {\n",
              "      display:flex;\n",
              "      flex-wrap:wrap;\n",
              "      gap: 12px;\n",
              "    }\n",
              "\n",
              "    .colab-df-convert {\n",
              "      background-color: #E8F0FE;\n",
              "      border: none;\n",
              "      border-radius: 50%;\n",
              "      cursor: pointer;\n",
              "      display: none;\n",
              "      fill: #1967D2;\n",
              "      height: 32px;\n",
              "      padding: 0 0 0 0;\n",
              "      width: 32px;\n",
              "    }\n",
              "\n",
              "    .colab-df-convert:hover {\n",
              "      background-color: #E2EBFA;\n",
              "      box-shadow: 0px 1px 2px rgba(60, 64, 67, 0.3), 0px 1px 3px 1px rgba(60, 64, 67, 0.15);\n",
              "      fill: #174EA6;\n",
              "    }\n",
              "\n",
              "    [theme=dark] .colab-df-convert {\n",
              "      background-color: #3B4455;\n",
              "      fill: #D2E3FC;\n",
              "    }\n",
              "\n",
              "    [theme=dark] .colab-df-convert:hover {\n",
              "      background-color: #434B5C;\n",
              "      box-shadow: 0px 1px 3px 1px rgba(0, 0, 0, 0.15);\n",
              "      filter: drop-shadow(0px 1px 2px rgba(0, 0, 0, 0.3));\n",
              "      fill: #FFFFFF;\n",
              "    }\n",
              "  </style>\n",
              "\n",
              "      <script>\n",
              "        const buttonEl =\n",
              "          document.querySelector('#df-dda34414-c0ec-4d0f-971f-96b225c825b6 button.colab-df-convert');\n",
              "        buttonEl.style.display =\n",
              "          google.colab.kernel.accessAllowed ? 'block' : 'none';\n",
              "\n",
              "        async function convertToInteractive(key) {\n",
              "          const element = document.querySelector('#df-dda34414-c0ec-4d0f-971f-96b225c825b6');\n",
              "          const dataTable =\n",
              "            await google.colab.kernel.invokeFunction('convertToInteractive',\n",
              "                                                     [key], {});\n",
              "          if (!dataTable) return;\n",
              "\n",
              "          const docLinkHtml = 'Like what you see? Visit the ' +\n",
              "            '<a target=\"_blank\" href=https://colab.research.google.com/notebooks/data_table.ipynb>data table notebook</a>'\n",
              "            + ' to learn more about interactive tables.';\n",
              "          element.innerHTML = '';\n",
              "          dataTable['output_type'] = 'display_data';\n",
              "          await google.colab.output.renderOutput(dataTable, element);\n",
              "          const docLink = document.createElement('div');\n",
              "          docLink.innerHTML = docLinkHtml;\n",
              "          element.appendChild(docLink);\n",
              "        }\n",
              "      </script>\n",
              "    </div>\n",
              "  </div>\n",
              "  "
            ]
          },
          "metadata": {},
          "execution_count": 25
        }
      ]
    },
    {
      "cell_type": "code",
      "source": [
        "df1 = df[df['on/off']=='on']\n",
        "# df1.head()\n",
        "df1 = df1.drop(['on/off'], axis=1)\n",
        "df1.head()"
      ],
      "metadata": {
        "colab": {
          "base_uri": "https://localhost:8080/",
          "height": 206
        },
        "id": "WUl_F9HTwXwQ",
        "outputId": "f0fb4793-7c61-4762-f84c-b35352fec86c"
      },
      "execution_count": null,
      "outputs": [
        {
          "output_type": "execute_result",
          "data": {
            "text/plain": [
              "    Smu1.Time[1][1]      CS_I         LFS_I label\n",
              "71        10.231920  0.000369  4.430144e-07  blue\n",
              "72        10.372888  0.000373  4.471550e-07  blue\n",
              "73        10.513837  0.000375  4.505346e-07  blue\n",
              "74        10.654806  0.000376  4.525330e-07  blue\n",
              "75        10.795772  0.000377  4.543552e-07  blue"
            ],
            "text/html": [
              "\n",
              "  <div id=\"df-a62504f1-b1e9-42d3-9e44-f4af5b05cc2a\">\n",
              "    <div class=\"colab-df-container\">\n",
              "      <div>\n",
              "<style scoped>\n",
              "    .dataframe tbody tr th:only-of-type {\n",
              "        vertical-align: middle;\n",
              "    }\n",
              "\n",
              "    .dataframe tbody tr th {\n",
              "        vertical-align: top;\n",
              "    }\n",
              "\n",
              "    .dataframe thead th {\n",
              "        text-align: right;\n",
              "    }\n",
              "</style>\n",
              "<table border=\"1\" class=\"dataframe\">\n",
              "  <thead>\n",
              "    <tr style=\"text-align: right;\">\n",
              "      <th></th>\n",
              "      <th>Smu1.Time[1][1]</th>\n",
              "      <th>CS_I</th>\n",
              "      <th>LFS_I</th>\n",
              "      <th>label</th>\n",
              "    </tr>\n",
              "  </thead>\n",
              "  <tbody>\n",
              "    <tr>\n",
              "      <th>71</th>\n",
              "      <td>10.231920</td>\n",
              "      <td>0.000369</td>\n",
              "      <td>4.430144e-07</td>\n",
              "      <td>blue</td>\n",
              "    </tr>\n",
              "    <tr>\n",
              "      <th>72</th>\n",
              "      <td>10.372888</td>\n",
              "      <td>0.000373</td>\n",
              "      <td>4.471550e-07</td>\n",
              "      <td>blue</td>\n",
              "    </tr>\n",
              "    <tr>\n",
              "      <th>73</th>\n",
              "      <td>10.513837</td>\n",
              "      <td>0.000375</td>\n",
              "      <td>4.505346e-07</td>\n",
              "      <td>blue</td>\n",
              "    </tr>\n",
              "    <tr>\n",
              "      <th>74</th>\n",
              "      <td>10.654806</td>\n",
              "      <td>0.000376</td>\n",
              "      <td>4.525330e-07</td>\n",
              "      <td>blue</td>\n",
              "    </tr>\n",
              "    <tr>\n",
              "      <th>75</th>\n",
              "      <td>10.795772</td>\n",
              "      <td>0.000377</td>\n",
              "      <td>4.543552e-07</td>\n",
              "      <td>blue</td>\n",
              "    </tr>\n",
              "  </tbody>\n",
              "</table>\n",
              "</div>\n",
              "      <button class=\"colab-df-convert\" onclick=\"convertToInteractive('df-a62504f1-b1e9-42d3-9e44-f4af5b05cc2a')\"\n",
              "              title=\"Convert this dataframe to an interactive table.\"\n",
              "              style=\"display:none;\">\n",
              "        \n",
              "  <svg xmlns=\"http://www.w3.org/2000/svg\" height=\"24px\"viewBox=\"0 0 24 24\"\n",
              "       width=\"24px\">\n",
              "    <path d=\"M0 0h24v24H0V0z\" fill=\"none\"/>\n",
              "    <path d=\"M18.56 5.44l.94 2.06.94-2.06 2.06-.94-2.06-.94-.94-2.06-.94 2.06-2.06.94zm-11 1L8.5 8.5l.94-2.06 2.06-.94-2.06-.94L8.5 2.5l-.94 2.06-2.06.94zm10 10l.94 2.06.94-2.06 2.06-.94-2.06-.94-.94-2.06-.94 2.06-2.06.94z\"/><path d=\"M17.41 7.96l-1.37-1.37c-.4-.4-.92-.59-1.43-.59-.52 0-1.04.2-1.43.59L10.3 9.45l-7.72 7.72c-.78.78-.78 2.05 0 2.83L4 21.41c.39.39.9.59 1.41.59.51 0 1.02-.2 1.41-.59l7.78-7.78 2.81-2.81c.8-.78.8-2.07 0-2.86zM5.41 20L4 18.59l7.72-7.72 1.47 1.35L5.41 20z\"/>\n",
              "  </svg>\n",
              "      </button>\n",
              "      \n",
              "  <style>\n",
              "    .colab-df-container {\n",
              "      display:flex;\n",
              "      flex-wrap:wrap;\n",
              "      gap: 12px;\n",
              "    }\n",
              "\n",
              "    .colab-df-convert {\n",
              "      background-color: #E8F0FE;\n",
              "      border: none;\n",
              "      border-radius: 50%;\n",
              "      cursor: pointer;\n",
              "      display: none;\n",
              "      fill: #1967D2;\n",
              "      height: 32px;\n",
              "      padding: 0 0 0 0;\n",
              "      width: 32px;\n",
              "    }\n",
              "\n",
              "    .colab-df-convert:hover {\n",
              "      background-color: #E2EBFA;\n",
              "      box-shadow: 0px 1px 2px rgba(60, 64, 67, 0.3), 0px 1px 3px 1px rgba(60, 64, 67, 0.15);\n",
              "      fill: #174EA6;\n",
              "    }\n",
              "\n",
              "    [theme=dark] .colab-df-convert {\n",
              "      background-color: #3B4455;\n",
              "      fill: #D2E3FC;\n",
              "    }\n",
              "\n",
              "    [theme=dark] .colab-df-convert:hover {\n",
              "      background-color: #434B5C;\n",
              "      box-shadow: 0px 1px 3px 1px rgba(0, 0, 0, 0.15);\n",
              "      filter: drop-shadow(0px 1px 2px rgba(0, 0, 0, 0.3));\n",
              "      fill: #FFFFFF;\n",
              "    }\n",
              "  </style>\n",
              "\n",
              "      <script>\n",
              "        const buttonEl =\n",
              "          document.querySelector('#df-a62504f1-b1e9-42d3-9e44-f4af5b05cc2a button.colab-df-convert');\n",
              "        buttonEl.style.display =\n",
              "          google.colab.kernel.accessAllowed ? 'block' : 'none';\n",
              "\n",
              "        async function convertToInteractive(key) {\n",
              "          const element = document.querySelector('#df-a62504f1-b1e9-42d3-9e44-f4af5b05cc2a');\n",
              "          const dataTable =\n",
              "            await google.colab.kernel.invokeFunction('convertToInteractive',\n",
              "                                                     [key], {});\n",
              "          if (!dataTable) return;\n",
              "\n",
              "          const docLinkHtml = 'Like what you see? Visit the ' +\n",
              "            '<a target=\"_blank\" href=https://colab.research.google.com/notebooks/data_table.ipynb>data table notebook</a>'\n",
              "            + ' to learn more about interactive tables.';\n",
              "          element.innerHTML = '';\n",
              "          dataTable['output_type'] = 'display_data';\n",
              "          await google.colab.output.renderOutput(dataTable, element);\n",
              "          const docLink = document.createElement('div');\n",
              "          docLink.innerHTML = docLinkHtml;\n",
              "          element.appendChild(docLink);\n",
              "        }\n",
              "      </script>\n",
              "    </div>\n",
              "  </div>\n",
              "  "
            ]
          },
          "metadata": {},
          "execution_count": 26
        }
      ]
    },
    {
      "cell_type": "code",
      "source": [
        "df2 = df[df['on/off']=='off']\n",
        "# df2.head()\n",
        "df2 = df2.drop(['on/off'], axis=1)\n",
        "# df2.head()\n",
        "df2['label'] = 'off'\n",
        "df2.head()"
      ],
      "metadata": {
        "colab": {
          "base_uri": "https://localhost:8080/",
          "height": 206
        },
        "id": "EilORaW4vP7U",
        "outputId": "d4771121-f317-49fa-b9f5-fbc7fbe3c36c"
      },
      "execution_count": null,
      "outputs": [
        {
          "output_type": "execute_result",
          "data": {
            "text/plain": [
              "   Smu1.Time[1][1]      CS_I         LFS_I label\n",
              "0         0.000000  0.000008  2.487494e-07   off\n",
              "1         0.140996  0.000008  2.485853e-07   off\n",
              "2         0.281961  0.000008  2.484812e-07   off\n",
              "3         0.422915  0.000008  2.481225e-07   off\n",
              "4         0.563879  0.000007  2.482383e-07   off"
            ],
            "text/html": [
              "\n",
              "  <div id=\"df-b3606658-19d8-49b6-8579-0c52e92d6596\">\n",
              "    <div class=\"colab-df-container\">\n",
              "      <div>\n",
              "<style scoped>\n",
              "    .dataframe tbody tr th:only-of-type {\n",
              "        vertical-align: middle;\n",
              "    }\n",
              "\n",
              "    .dataframe tbody tr th {\n",
              "        vertical-align: top;\n",
              "    }\n",
              "\n",
              "    .dataframe thead th {\n",
              "        text-align: right;\n",
              "    }\n",
              "</style>\n",
              "<table border=\"1\" class=\"dataframe\">\n",
              "  <thead>\n",
              "    <tr style=\"text-align: right;\">\n",
              "      <th></th>\n",
              "      <th>Smu1.Time[1][1]</th>\n",
              "      <th>CS_I</th>\n",
              "      <th>LFS_I</th>\n",
              "      <th>label</th>\n",
              "    </tr>\n",
              "  </thead>\n",
              "  <tbody>\n",
              "    <tr>\n",
              "      <th>0</th>\n",
              "      <td>0.000000</td>\n",
              "      <td>0.000008</td>\n",
              "      <td>2.487494e-07</td>\n",
              "      <td>off</td>\n",
              "    </tr>\n",
              "    <tr>\n",
              "      <th>1</th>\n",
              "      <td>0.140996</td>\n",
              "      <td>0.000008</td>\n",
              "      <td>2.485853e-07</td>\n",
              "      <td>off</td>\n",
              "    </tr>\n",
              "    <tr>\n",
              "      <th>2</th>\n",
              "      <td>0.281961</td>\n",
              "      <td>0.000008</td>\n",
              "      <td>2.484812e-07</td>\n",
              "      <td>off</td>\n",
              "    </tr>\n",
              "    <tr>\n",
              "      <th>3</th>\n",
              "      <td>0.422915</td>\n",
              "      <td>0.000008</td>\n",
              "      <td>2.481225e-07</td>\n",
              "      <td>off</td>\n",
              "    </tr>\n",
              "    <tr>\n",
              "      <th>4</th>\n",
              "      <td>0.563879</td>\n",
              "      <td>0.000007</td>\n",
              "      <td>2.482383e-07</td>\n",
              "      <td>off</td>\n",
              "    </tr>\n",
              "  </tbody>\n",
              "</table>\n",
              "</div>\n",
              "      <button class=\"colab-df-convert\" onclick=\"convertToInteractive('df-b3606658-19d8-49b6-8579-0c52e92d6596')\"\n",
              "              title=\"Convert this dataframe to an interactive table.\"\n",
              "              style=\"display:none;\">\n",
              "        \n",
              "  <svg xmlns=\"http://www.w3.org/2000/svg\" height=\"24px\"viewBox=\"0 0 24 24\"\n",
              "       width=\"24px\">\n",
              "    <path d=\"M0 0h24v24H0V0z\" fill=\"none\"/>\n",
              "    <path d=\"M18.56 5.44l.94 2.06.94-2.06 2.06-.94-2.06-.94-.94-2.06-.94 2.06-2.06.94zm-11 1L8.5 8.5l.94-2.06 2.06-.94-2.06-.94L8.5 2.5l-.94 2.06-2.06.94zm10 10l.94 2.06.94-2.06 2.06-.94-2.06-.94-.94-2.06-.94 2.06-2.06.94z\"/><path d=\"M17.41 7.96l-1.37-1.37c-.4-.4-.92-.59-1.43-.59-.52 0-1.04.2-1.43.59L10.3 9.45l-7.72 7.72c-.78.78-.78 2.05 0 2.83L4 21.41c.39.39.9.59 1.41.59.51 0 1.02-.2 1.41-.59l7.78-7.78 2.81-2.81c.8-.78.8-2.07 0-2.86zM5.41 20L4 18.59l7.72-7.72 1.47 1.35L5.41 20z\"/>\n",
              "  </svg>\n",
              "      </button>\n",
              "      \n",
              "  <style>\n",
              "    .colab-df-container {\n",
              "      display:flex;\n",
              "      flex-wrap:wrap;\n",
              "      gap: 12px;\n",
              "    }\n",
              "\n",
              "    .colab-df-convert {\n",
              "      background-color: #E8F0FE;\n",
              "      border: none;\n",
              "      border-radius: 50%;\n",
              "      cursor: pointer;\n",
              "      display: none;\n",
              "      fill: #1967D2;\n",
              "      height: 32px;\n",
              "      padding: 0 0 0 0;\n",
              "      width: 32px;\n",
              "    }\n",
              "\n",
              "    .colab-df-convert:hover {\n",
              "      background-color: #E2EBFA;\n",
              "      box-shadow: 0px 1px 2px rgba(60, 64, 67, 0.3), 0px 1px 3px 1px rgba(60, 64, 67, 0.15);\n",
              "      fill: #174EA6;\n",
              "    }\n",
              "\n",
              "    [theme=dark] .colab-df-convert {\n",
              "      background-color: #3B4455;\n",
              "      fill: #D2E3FC;\n",
              "    }\n",
              "\n",
              "    [theme=dark] .colab-df-convert:hover {\n",
              "      background-color: #434B5C;\n",
              "      box-shadow: 0px 1px 3px 1px rgba(0, 0, 0, 0.15);\n",
              "      filter: drop-shadow(0px 1px 2px rgba(0, 0, 0, 0.3));\n",
              "      fill: #FFFFFF;\n",
              "    }\n",
              "  </style>\n",
              "\n",
              "      <script>\n",
              "        const buttonEl =\n",
              "          document.querySelector('#df-b3606658-19d8-49b6-8579-0c52e92d6596 button.colab-df-convert');\n",
              "        buttonEl.style.display =\n",
              "          google.colab.kernel.accessAllowed ? 'block' : 'none';\n",
              "\n",
              "        async function convertToInteractive(key) {\n",
              "          const element = document.querySelector('#df-b3606658-19d8-49b6-8579-0c52e92d6596');\n",
              "          const dataTable =\n",
              "            await google.colab.kernel.invokeFunction('convertToInteractive',\n",
              "                                                     [key], {});\n",
              "          if (!dataTable) return;\n",
              "\n",
              "          const docLinkHtml = 'Like what you see? Visit the ' +\n",
              "            '<a target=\"_blank\" href=https://colab.research.google.com/notebooks/data_table.ipynb>data table notebook</a>'\n",
              "            + ' to learn more about interactive tables.';\n",
              "          element.innerHTML = '';\n",
              "          dataTable['output_type'] = 'display_data';\n",
              "          await google.colab.output.renderOutput(dataTable, element);\n",
              "          const docLink = document.createElement('div');\n",
              "          docLink.innerHTML = docLinkHtml;\n",
              "          element.appendChild(docLink);\n",
              "        }\n",
              "      </script>\n",
              "    </div>\n",
              "  </div>\n",
              "  "
            ]
          },
          "metadata": {},
          "execution_count": 27
        }
      ]
    },
    {
      "cell_type": "code",
      "source": [
        "from sklearn.model_selection import train_test_split\n",
        "df2_1, df2_2 = train_test_split(df2, test_size=0.14)\n",
        "# df2_2.head()\n",
        "print(df2_2.shape)"
      ],
      "metadata": {
        "colab": {
          "base_uri": "https://localhost:8080/"
        },
        "id": "nHDkuDuUzPyG",
        "outputId": "dd0148c1-f013-46cb-b3f2-8a1bb6ce2d05"
      },
      "execution_count": null,
      "outputs": [
        {
          "output_type": "stream",
          "name": "stdout",
          "text": [
            "(1060, 4)\n"
          ]
        }
      ]
    },
    {
      "cell_type": "code",
      "source": [
        "df_final = pd.concat([df1, df2_2])\n",
        "df_final.head()"
      ],
      "metadata": {
        "colab": {
          "base_uri": "https://localhost:8080/",
          "height": 206
        },
        "id": "WrIyKvVTwUjb",
        "outputId": "1f92c358-82c1-4530-8292-2c842554c65e"
      },
      "execution_count": null,
      "outputs": [
        {
          "output_type": "execute_result",
          "data": {
            "text/plain": [
              "    Smu1.Time[1][1]      CS_I         LFS_I label\n",
              "71        10.231920  0.000369  4.430144e-07  blue\n",
              "72        10.372888  0.000373  4.471550e-07  blue\n",
              "73        10.513837  0.000375  4.505346e-07  blue\n",
              "74        10.654806  0.000376  4.525330e-07  blue\n",
              "75        10.795772  0.000377  4.543552e-07  blue"
            ],
            "text/html": [
              "\n",
              "  <div id=\"df-d9ad897f-0ed1-4be0-b0ca-c668eaa30ce3\">\n",
              "    <div class=\"colab-df-container\">\n",
              "      <div>\n",
              "<style scoped>\n",
              "    .dataframe tbody tr th:only-of-type {\n",
              "        vertical-align: middle;\n",
              "    }\n",
              "\n",
              "    .dataframe tbody tr th {\n",
              "        vertical-align: top;\n",
              "    }\n",
              "\n",
              "    .dataframe thead th {\n",
              "        text-align: right;\n",
              "    }\n",
              "</style>\n",
              "<table border=\"1\" class=\"dataframe\">\n",
              "  <thead>\n",
              "    <tr style=\"text-align: right;\">\n",
              "      <th></th>\n",
              "      <th>Smu1.Time[1][1]</th>\n",
              "      <th>CS_I</th>\n",
              "      <th>LFS_I</th>\n",
              "      <th>label</th>\n",
              "    </tr>\n",
              "  </thead>\n",
              "  <tbody>\n",
              "    <tr>\n",
              "      <th>71</th>\n",
              "      <td>10.231920</td>\n",
              "      <td>0.000369</td>\n",
              "      <td>4.430144e-07</td>\n",
              "      <td>blue</td>\n",
              "    </tr>\n",
              "    <tr>\n",
              "      <th>72</th>\n",
              "      <td>10.372888</td>\n",
              "      <td>0.000373</td>\n",
              "      <td>4.471550e-07</td>\n",
              "      <td>blue</td>\n",
              "    </tr>\n",
              "    <tr>\n",
              "      <th>73</th>\n",
              "      <td>10.513837</td>\n",
              "      <td>0.000375</td>\n",
              "      <td>4.505346e-07</td>\n",
              "      <td>blue</td>\n",
              "    </tr>\n",
              "    <tr>\n",
              "      <th>74</th>\n",
              "      <td>10.654806</td>\n",
              "      <td>0.000376</td>\n",
              "      <td>4.525330e-07</td>\n",
              "      <td>blue</td>\n",
              "    </tr>\n",
              "    <tr>\n",
              "      <th>75</th>\n",
              "      <td>10.795772</td>\n",
              "      <td>0.000377</td>\n",
              "      <td>4.543552e-07</td>\n",
              "      <td>blue</td>\n",
              "    </tr>\n",
              "  </tbody>\n",
              "</table>\n",
              "</div>\n",
              "      <button class=\"colab-df-convert\" onclick=\"convertToInteractive('df-d9ad897f-0ed1-4be0-b0ca-c668eaa30ce3')\"\n",
              "              title=\"Convert this dataframe to an interactive table.\"\n",
              "              style=\"display:none;\">\n",
              "        \n",
              "  <svg xmlns=\"http://www.w3.org/2000/svg\" height=\"24px\"viewBox=\"0 0 24 24\"\n",
              "       width=\"24px\">\n",
              "    <path d=\"M0 0h24v24H0V0z\" fill=\"none\"/>\n",
              "    <path d=\"M18.56 5.44l.94 2.06.94-2.06 2.06-.94-2.06-.94-.94-2.06-.94 2.06-2.06.94zm-11 1L8.5 8.5l.94-2.06 2.06-.94-2.06-.94L8.5 2.5l-.94 2.06-2.06.94zm10 10l.94 2.06.94-2.06 2.06-.94-2.06-.94-.94-2.06-.94 2.06-2.06.94z\"/><path d=\"M17.41 7.96l-1.37-1.37c-.4-.4-.92-.59-1.43-.59-.52 0-1.04.2-1.43.59L10.3 9.45l-7.72 7.72c-.78.78-.78 2.05 0 2.83L4 21.41c.39.39.9.59 1.41.59.51 0 1.02-.2 1.41-.59l7.78-7.78 2.81-2.81c.8-.78.8-2.07 0-2.86zM5.41 20L4 18.59l7.72-7.72 1.47 1.35L5.41 20z\"/>\n",
              "  </svg>\n",
              "      </button>\n",
              "      \n",
              "  <style>\n",
              "    .colab-df-container {\n",
              "      display:flex;\n",
              "      flex-wrap:wrap;\n",
              "      gap: 12px;\n",
              "    }\n",
              "\n",
              "    .colab-df-convert {\n",
              "      background-color: #E8F0FE;\n",
              "      border: none;\n",
              "      border-radius: 50%;\n",
              "      cursor: pointer;\n",
              "      display: none;\n",
              "      fill: #1967D2;\n",
              "      height: 32px;\n",
              "      padding: 0 0 0 0;\n",
              "      width: 32px;\n",
              "    }\n",
              "\n",
              "    .colab-df-convert:hover {\n",
              "      background-color: #E2EBFA;\n",
              "      box-shadow: 0px 1px 2px rgba(60, 64, 67, 0.3), 0px 1px 3px 1px rgba(60, 64, 67, 0.15);\n",
              "      fill: #174EA6;\n",
              "    }\n",
              "\n",
              "    [theme=dark] .colab-df-convert {\n",
              "      background-color: #3B4455;\n",
              "      fill: #D2E3FC;\n",
              "    }\n",
              "\n",
              "    [theme=dark] .colab-df-convert:hover {\n",
              "      background-color: #434B5C;\n",
              "      box-shadow: 0px 1px 3px 1px rgba(0, 0, 0, 0.15);\n",
              "      filter: drop-shadow(0px 1px 2px rgba(0, 0, 0, 0.3));\n",
              "      fill: #FFFFFF;\n",
              "    }\n",
              "  </style>\n",
              "\n",
              "      <script>\n",
              "        const buttonEl =\n",
              "          document.querySelector('#df-d9ad897f-0ed1-4be0-b0ca-c668eaa30ce3 button.colab-df-convert');\n",
              "        buttonEl.style.display =\n",
              "          google.colab.kernel.accessAllowed ? 'block' : 'none';\n",
              "\n",
              "        async function convertToInteractive(key) {\n",
              "          const element = document.querySelector('#df-d9ad897f-0ed1-4be0-b0ca-c668eaa30ce3');\n",
              "          const dataTable =\n",
              "            await google.colab.kernel.invokeFunction('convertToInteractive',\n",
              "                                                     [key], {});\n",
              "          if (!dataTable) return;\n",
              "\n",
              "          const docLinkHtml = 'Like what you see? Visit the ' +\n",
              "            '<a target=\"_blank\" href=https://colab.research.google.com/notebooks/data_table.ipynb>data table notebook</a>'\n",
              "            + ' to learn more about interactive tables.';\n",
              "          element.innerHTML = '';\n",
              "          dataTable['output_type'] = 'display_data';\n",
              "          await google.colab.output.renderOutput(dataTable, element);\n",
              "          const docLink = document.createElement('div');\n",
              "          docLink.innerHTML = docLinkHtml;\n",
              "          element.appendChild(docLink);\n",
              "        }\n",
              "      </script>\n",
              "    </div>\n",
              "  </div>\n",
              "  "
            ]
          },
          "metadata": {},
          "execution_count": 29
        }
      ]
    },
    {
      "cell_type": "code",
      "source": [
        "print(df1.shape)\n",
        "print(df2.shape)\n",
        "print(df2_1.shape)\n",
        "print(df2_2.shape)\n",
        "print(df_final.shape)"
      ],
      "metadata": {
        "colab": {
          "base_uri": "https://localhost:8080/"
        },
        "id": "nY2Sw-XGwzD6",
        "outputId": "b3d6a978-e367-495f-fd2e-2409bbaf839b"
      },
      "execution_count": null,
      "outputs": [
        {
          "output_type": "stream",
          "name": "stdout",
          "text": [
            "(7305, 4)\n",
            "(7568, 4)\n",
            "(6508, 4)\n",
            "(1060, 4)\n",
            "(8365, 4)\n"
          ]
        }
      ]
    },
    {
      "cell_type": "code",
      "source": [
        "X = df_final.drop(['Smu1.Time[1][1]', 'label'], axis=1)\n",
        "X.head()"
      ],
      "metadata": {
        "colab": {
          "base_uri": "https://localhost:8080/",
          "height": 206
        },
        "id": "tD19fqk0u82h",
        "outputId": "eed5a979-c698-4ac6-f7e5-95c2cdccf983"
      },
      "execution_count": null,
      "outputs": [
        {
          "output_type": "execute_result",
          "data": {
            "text/plain": [
              "        CS_I         LFS_I\n",
              "71  0.000369  4.430144e-07\n",
              "72  0.000373  4.471550e-07\n",
              "73  0.000375  4.505346e-07\n",
              "74  0.000376  4.525330e-07\n",
              "75  0.000377  4.543552e-07"
            ],
            "text/html": [
              "\n",
              "  <div id=\"df-83901b35-bb78-4ed2-93f6-bbb0116f477c\">\n",
              "    <div class=\"colab-df-container\">\n",
              "      <div>\n",
              "<style scoped>\n",
              "    .dataframe tbody tr th:only-of-type {\n",
              "        vertical-align: middle;\n",
              "    }\n",
              "\n",
              "    .dataframe tbody tr th {\n",
              "        vertical-align: top;\n",
              "    }\n",
              "\n",
              "    .dataframe thead th {\n",
              "        text-align: right;\n",
              "    }\n",
              "</style>\n",
              "<table border=\"1\" class=\"dataframe\">\n",
              "  <thead>\n",
              "    <tr style=\"text-align: right;\">\n",
              "      <th></th>\n",
              "      <th>CS_I</th>\n",
              "      <th>LFS_I</th>\n",
              "    </tr>\n",
              "  </thead>\n",
              "  <tbody>\n",
              "    <tr>\n",
              "      <th>71</th>\n",
              "      <td>0.000369</td>\n",
              "      <td>4.430144e-07</td>\n",
              "    </tr>\n",
              "    <tr>\n",
              "      <th>72</th>\n",
              "      <td>0.000373</td>\n",
              "      <td>4.471550e-07</td>\n",
              "    </tr>\n",
              "    <tr>\n",
              "      <th>73</th>\n",
              "      <td>0.000375</td>\n",
              "      <td>4.505346e-07</td>\n",
              "    </tr>\n",
              "    <tr>\n",
              "      <th>74</th>\n",
              "      <td>0.000376</td>\n",
              "      <td>4.525330e-07</td>\n",
              "    </tr>\n",
              "    <tr>\n",
              "      <th>75</th>\n",
              "      <td>0.000377</td>\n",
              "      <td>4.543552e-07</td>\n",
              "    </tr>\n",
              "  </tbody>\n",
              "</table>\n",
              "</div>\n",
              "      <button class=\"colab-df-convert\" onclick=\"convertToInteractive('df-83901b35-bb78-4ed2-93f6-bbb0116f477c')\"\n",
              "              title=\"Convert this dataframe to an interactive table.\"\n",
              "              style=\"display:none;\">\n",
              "        \n",
              "  <svg xmlns=\"http://www.w3.org/2000/svg\" height=\"24px\"viewBox=\"0 0 24 24\"\n",
              "       width=\"24px\">\n",
              "    <path d=\"M0 0h24v24H0V0z\" fill=\"none\"/>\n",
              "    <path d=\"M18.56 5.44l.94 2.06.94-2.06 2.06-.94-2.06-.94-.94-2.06-.94 2.06-2.06.94zm-11 1L8.5 8.5l.94-2.06 2.06-.94-2.06-.94L8.5 2.5l-.94 2.06-2.06.94zm10 10l.94 2.06.94-2.06 2.06-.94-2.06-.94-.94-2.06-.94 2.06-2.06.94z\"/><path d=\"M17.41 7.96l-1.37-1.37c-.4-.4-.92-.59-1.43-.59-.52 0-1.04.2-1.43.59L10.3 9.45l-7.72 7.72c-.78.78-.78 2.05 0 2.83L4 21.41c.39.39.9.59 1.41.59.51 0 1.02-.2 1.41-.59l7.78-7.78 2.81-2.81c.8-.78.8-2.07 0-2.86zM5.41 20L4 18.59l7.72-7.72 1.47 1.35L5.41 20z\"/>\n",
              "  </svg>\n",
              "      </button>\n",
              "      \n",
              "  <style>\n",
              "    .colab-df-container {\n",
              "      display:flex;\n",
              "      flex-wrap:wrap;\n",
              "      gap: 12px;\n",
              "    }\n",
              "\n",
              "    .colab-df-convert {\n",
              "      background-color: #E8F0FE;\n",
              "      border: none;\n",
              "      border-radius: 50%;\n",
              "      cursor: pointer;\n",
              "      display: none;\n",
              "      fill: #1967D2;\n",
              "      height: 32px;\n",
              "      padding: 0 0 0 0;\n",
              "      width: 32px;\n",
              "    }\n",
              "\n",
              "    .colab-df-convert:hover {\n",
              "      background-color: #E2EBFA;\n",
              "      box-shadow: 0px 1px 2px rgba(60, 64, 67, 0.3), 0px 1px 3px 1px rgba(60, 64, 67, 0.15);\n",
              "      fill: #174EA6;\n",
              "    }\n",
              "\n",
              "    [theme=dark] .colab-df-convert {\n",
              "      background-color: #3B4455;\n",
              "      fill: #D2E3FC;\n",
              "    }\n",
              "\n",
              "    [theme=dark] .colab-df-convert:hover {\n",
              "      background-color: #434B5C;\n",
              "      box-shadow: 0px 1px 3px 1px rgba(0, 0, 0, 0.15);\n",
              "      filter: drop-shadow(0px 1px 2px rgba(0, 0, 0, 0.3));\n",
              "      fill: #FFFFFF;\n",
              "    }\n",
              "  </style>\n",
              "\n",
              "      <script>\n",
              "        const buttonEl =\n",
              "          document.querySelector('#df-83901b35-bb78-4ed2-93f6-bbb0116f477c button.colab-df-convert');\n",
              "        buttonEl.style.display =\n",
              "          google.colab.kernel.accessAllowed ? 'block' : 'none';\n",
              "\n",
              "        async function convertToInteractive(key) {\n",
              "          const element = document.querySelector('#df-83901b35-bb78-4ed2-93f6-bbb0116f477c');\n",
              "          const dataTable =\n",
              "            await google.colab.kernel.invokeFunction('convertToInteractive',\n",
              "                                                     [key], {});\n",
              "          if (!dataTable) return;\n",
              "\n",
              "          const docLinkHtml = 'Like what you see? Visit the ' +\n",
              "            '<a target=\"_blank\" href=https://colab.research.google.com/notebooks/data_table.ipynb>data table notebook</a>'\n",
              "            + ' to learn more about interactive tables.';\n",
              "          element.innerHTML = '';\n",
              "          dataTable['output_type'] = 'display_data';\n",
              "          await google.colab.output.renderOutput(dataTable, element);\n",
              "          const docLink = document.createElement('div');\n",
              "          docLink.innerHTML = docLinkHtml;\n",
              "          element.appendChild(docLink);\n",
              "        }\n",
              "      </script>\n",
              "    </div>\n",
              "  </div>\n",
              "  "
            ]
          },
          "metadata": {},
          "execution_count": 31
        }
      ]
    },
    {
      "cell_type": "code",
      "source": [
        "y = df_final['label']\n",
        "y.head()"
      ],
      "metadata": {
        "colab": {
          "base_uri": "https://localhost:8080/"
        },
        "id": "5O467pnyu8z8",
        "outputId": "13ae1e85-636c-44fd-a28d-1e567a1e47a8"
      },
      "execution_count": null,
      "outputs": [
        {
          "output_type": "execute_result",
          "data": {
            "text/plain": [
              "71    blue\n",
              "72    blue\n",
              "73    blue\n",
              "74    blue\n",
              "75    blue\n",
              "Name: label, dtype: object"
            ]
          },
          "metadata": {},
          "execution_count": 32
        }
      ]
    },
    {
      "cell_type": "code",
      "source": [
        "from sklearn.model_selection import train_test_split\n",
        "X_train, X_test, y_train, y_test = train_test_split(X,y,test_size=0.2)\n",
        "# X_train, X_test, y_train, y_test = train_test_split(X,y,test_size=0.2, random_state = 30)"
      ],
      "metadata": {
        "id": "YjdLFOqHu8wo"
      },
      "execution_count": null,
      "outputs": []
    },
    {
      "cell_type": "code",
      "source": [
        "print(len(X_train))\n",
        "print(len(X_test))"
      ],
      "metadata": {
        "colab": {
          "base_uri": "https://localhost:8080/"
        },
        "id": "ZFGUkeOQzCQV",
        "outputId": "65405a42-6299-467f-f0e7-4be4fb4878fd"
      },
      "execution_count": null,
      "outputs": [
        {
          "output_type": "stream",
          "name": "stdout",
          "text": [
            "6692\n",
            "1673\n"
          ]
        }
      ]
    },
    {
      "cell_type": "code",
      "source": [
        "from sklearn.ensemble import RandomForestClassifier\n",
        "score = []\n",
        "for i in range(1, 100):\n",
        "  model = RandomForestClassifier(n_estimators=i)\n",
        "  model.fit(X_train, y_train)\n",
        "  score.append(model.score(X_test, y_test))"
      ],
      "metadata": {
        "id": "Mw7oWYRrxHjt"
      },
      "execution_count": null,
      "outputs": []
    },
    {
      "cell_type": "code",
      "source": [
        "score"
      ],
      "metadata": {
        "colab": {
          "base_uri": "https://localhost:8080/"
        },
        "id": "yRKGa2uuRPJQ",
        "outputId": "3ee2db46-3b6b-4d2f-e3ee-737e78af12b4"
      },
      "execution_count": null,
      "outputs": [
        {
          "output_type": "execute_result",
          "data": {
            "text/plain": [
              "[0.6389719067543336,\n",
              " 0.6413628212791392,\n",
              " 0.6413628212791392,\n",
              " 0.895397489539749,\n",
              " 0.895397489539749,\n",
              " 0.895397489539749,\n",
              " 0.895397489539749,\n",
              " 0.8959952181709504,\n",
              " 0.895397489539749,\n",
              " 0.8959952181709504,\n",
              " 0.895397489539749,\n",
              " 0.895397489539749,\n",
              " 0.895397489539749,\n",
              " 0.895397489539749,\n",
              " 0.895397489539749,\n",
              " 0.895397489539749,\n",
              " 0.895397489539749,\n",
              " 0.895397489539749,\n",
              " 0.895397489539749,\n",
              " 0.8959952181709504,\n",
              " 0.895397489539749,\n",
              " 0.895397489539749,\n",
              " 0.895397489539749,\n",
              " 0.895397489539749,\n",
              " 0.895397489539749,\n",
              " 0.895397489539749,\n",
              " 0.895397489539749,\n",
              " 0.895397489539749,\n",
              " 0.895397489539749,\n",
              " 0.895397489539749,\n",
              " 0.895397489539749,\n",
              " 0.895397489539749,\n",
              " 0.895397489539749,\n",
              " 0.895397489539749,\n",
              " 0.895397489539749,\n",
              " 0.895397489539749,\n",
              " 0.895397489539749,\n",
              " 0.895397489539749,\n",
              " 0.895397489539749,\n",
              " 0.895397489539749,\n",
              " 0.895397489539749,\n",
              " 0.895397489539749,\n",
              " 0.895397489539749,\n",
              " 0.895397489539749,\n",
              " 0.895397489539749,\n",
              " 0.895397489539749,\n",
              " 0.895397489539749,\n",
              " 0.895397489539749,\n",
              " 0.895397489539749,\n",
              " 0.895397489539749,\n",
              " 0.895397489539749,\n",
              " 0.895397489539749,\n",
              " 0.895397489539749,\n",
              " 0.895397489539749,\n",
              " 0.895397489539749,\n",
              " 0.895397489539749,\n",
              " 0.895397489539749,\n",
              " 0.895397489539749,\n",
              " 0.895397489539749,\n",
              " 0.895397489539749,\n",
              " 0.895397489539749,\n",
              " 0.895397489539749,\n",
              " 0.895397489539749,\n",
              " 0.895397489539749,\n",
              " 0.895397489539749,\n",
              " 0.895397489539749,\n",
              " 0.895397489539749,\n",
              " 0.895397489539749,\n",
              " 0.895397489539749,\n",
              " 0.895397489539749,\n",
              " 0.895397489539749,\n",
              " 0.895397489539749,\n",
              " 0.895397489539749,\n",
              " 0.895397489539749,\n",
              " 0.895397489539749,\n",
              " 0.895397489539749,\n",
              " 0.895397489539749,\n",
              " 0.895397489539749,\n",
              " 0.895397489539749,\n",
              " 0.895397489539749,\n",
              " 0.895397489539749,\n",
              " 0.895397489539749,\n",
              " 0.895397489539749,\n",
              " 0.895397489539749,\n",
              " 0.895397489539749,\n",
              " 0.895397489539749,\n",
              " 0.895397489539749,\n",
              " 0.895397489539749,\n",
              " 0.895397489539749,\n",
              " 0.895397489539749,\n",
              " 0.895397489539749,\n",
              " 0.895397489539749,\n",
              " 0.895397489539749,\n",
              " 0.895397489539749,\n",
              " 0.895397489539749,\n",
              " 0.895397489539749,\n",
              " 0.895397489539749,\n",
              " 0.895397489539749,\n",
              " 0.895397489539749]"
            ]
          },
          "metadata": {},
          "execution_count": 36
        }
      ]
    },
    {
      "cell_type": "code",
      "source": [
        "model.score(X_test, y_test)"
      ],
      "metadata": {
        "colab": {
          "base_uri": "https://localhost:8080/"
        },
        "id": "5y0PQoPhxHgf",
        "outputId": "29f34422-e062-469a-987d-f56e769977bd"
      },
      "execution_count": null,
      "outputs": [
        {
          "output_type": "execute_result",
          "data": {
            "text/plain": [
              "0.895397489539749"
            ]
          },
          "metadata": {},
          "execution_count": 37
        }
      ]
    },
    {
      "cell_type": "code",
      "source": [
        "y_predicted = model.predict(X_test)"
      ],
      "metadata": {
        "id": "j2IYn3wxxHdl"
      },
      "execution_count": null,
      "outputs": []
    },
    {
      "cell_type": "code",
      "source": [
        "y_test.head()"
      ],
      "metadata": {
        "colab": {
          "base_uri": "https://localhost:8080/"
        },
        "id": "v7WgtT8dyzzk",
        "outputId": "0e160a64-d5b3-4688-df9f-43f2f6d36275"
      },
      "execution_count": null,
      "outputs": [
        {
          "output_type": "execute_result",
          "data": {
            "text/plain": [
              "462          off\n",
              "9021          UV\n",
              "6473         red\n",
              "12853    Ambient\n",
              "4370       green\n",
              "Name: label, dtype: object"
            ]
          },
          "metadata": {},
          "execution_count": 39
        }
      ]
    },
    {
      "cell_type": "code",
      "source": [
        "# y_test[0] - error\n",
        "y_test[0:10]"
      ],
      "metadata": {
        "colab": {
          "base_uri": "https://localhost:8080/"
        },
        "id": "3uJbwWnUx2uo",
        "outputId": "6d3b3b98-a549-407f-815a-940842941c9e"
      },
      "execution_count": null,
      "outputs": [
        {
          "output_type": "execute_result",
          "data": {
            "text/plain": [
              "462          off\n",
              "9021          UV\n",
              "6473         red\n",
              "12853    Ambient\n",
              "4370       green\n",
              "6136       green\n",
              "6043       green\n",
              "10408         UV\n",
              "12726         IR\n",
              "10082         UV\n",
              "Name: label, dtype: object"
            ]
          },
          "metadata": {},
          "execution_count": 40
        }
      ]
    },
    {
      "cell_type": "code",
      "source": [
        "y_predicted[0:10]"
      ],
      "metadata": {
        "colab": {
          "base_uri": "https://localhost:8080/"
        },
        "id": "KymLdGTr0U7J",
        "outputId": "8448e4f3-1968-487b-d1ba-6a98174d222f"
      },
      "execution_count": null,
      "outputs": [
        {
          "output_type": "execute_result",
          "data": {
            "text/plain": [
              "array(['IR', 'UV', 'red', 'Ambient', 'green', 'green', 'green', 'UV',\n",
              "       'IR', 'UV'], dtype=object)"
            ]
          },
          "metadata": {},
          "execution_count": 41
        }
      ]
    },
    {
      "cell_type": "code",
      "source": [
        "# Confusion Matrix\n",
        "from sklearn.metrics import confusion_matrix\n",
        "cm = confusion_matrix(y_test, y_predicted)\n",
        "cm"
      ],
      "metadata": {
        "colab": {
          "base_uri": "https://localhost:8080/"
        },
        "id": "pj2oKewKxHay",
        "outputId": "2ce7f9a5-8c84-4bee-e1fd-023d83034b05"
      },
      "execution_count": null,
      "outputs": [
        {
          "output_type": "execute_result",
          "data": {
            "text/plain": [
              "array([[208,   0,   0,   0,   0,   0,   0,   0],\n",
              "       [  0, 204,   0,   0,   0,   0,   0,   0],\n",
              "       [  0,   0, 194,   0,   0,   0,   0,   0],\n",
              "       [  0,   0,   0, 224,   0,   0,   0,   0],\n",
              "       [  0,   0,   0,   0, 213,   0,   0,   0],\n",
              "       [  0,   0,   0,   0,   0, 201,   0,   0],\n",
              "       [  0, 175,   0,   0,   0,   0,  49,   0],\n",
              "       [  0,   0,   0,   0,   0,   0,   0, 205]])"
            ]
          },
          "metadata": {},
          "execution_count": 42
        }
      ]
    },
    {
      "cell_type": "code",
      "source": [
        "%matplotlib inline\n",
        "import matplotlib.pyplot as plt\n",
        "import seaborn as sn\n",
        "plt.figure(figsize=(10,7))\n",
        "# sn.heatmap(cm, annot=True)\n",
        "sn.heatmap(cm, annot=True, fmt = 'g')\n",
        "plt.xlabel('Predicted')\n",
        "plt.ylabel('Truth')"
      ],
      "metadata": {
        "colab": {
          "base_uri": "https://localhost:8080/",
          "height": 459
        },
        "id": "xhTzLQkZxYHo",
        "outputId": "dc842bea-72f2-4868-82bc-96d2666f8b8e"
      },
      "execution_count": null,
      "outputs": [
        {
          "output_type": "execute_result",
          "data": {
            "text/plain": [
              "Text(69.0, 0.5, 'Truth')"
            ]
          },
          "metadata": {},
          "execution_count": 43
        },
        {
          "output_type": "display_data",
          "data": {
            "text/plain": [
              "<Figure size 720x504 with 2 Axes>"
            ],
            "image/png": "[encoded data removed]"
          },
          "metadata": {
            "needs_background": "light"
          }
        }
      ]
    },
    {
      "cell_type": "code",
      "source": [],
      "metadata": {
        "id": "lLLJsVFN2CRm"
      },
      "execution_count": null,
      "outputs": []
    },
    {
      "cell_type": "code",
      "source": [
        "# SVM\n",
        "from sklearn.svm import SVC\n",
        "model = SVC()"
      ],
      "metadata": {
        "id": "36xQs_khUjaD"
      },
      "execution_count": null,
      "outputs": []
    },
    {
      "cell_type": "code",
      "source": [
        "model.fit(X_train, y_train)"
      ],
      "metadata": {
        "colab": {
          "base_uri": "https://localhost:8080/"
        },
        "id": "FxHL_28IUjWs",
        "outputId": "44264172-6270-417c-c370-a7e5c3303943"
      },
      "execution_count": null,
      "outputs": [
        {
          "output_type": "execute_result",
          "data": {
            "text/plain": [
              "SVC()"
            ]
          },
          "metadata": {},
          "execution_count": 45
        }
      ]
    },
    {
      "cell_type": "code",
      "source": [
        "model.score(X_test, y_test)"
      ],
      "metadata": {
        "colab": {
          "base_uri": "https://localhost:8080/"
        },
        "id": "-dFItytDUjTr",
        "outputId": "cf456e12-788b-44f1-b633-51c9036a6482"
      },
      "execution_count": null,
      "outputs": [
        {
          "output_type": "execute_result",
          "data": {
            "text/plain": [
              "0.8631201434548715"
            ]
          },
          "metadata": {},
          "execution_count": 46
        }
      ]
    },
    {
      "cell_type": "code",
      "source": [
        "# Confusion Matrix\n",
        "from sklearn.metrics import confusion_matrix\n",
        "y_predicted = model.predict(X_test)\n",
        "cm = confusion_matrix(y_test, y_predicted)\n",
        "cm"
      ],
      "metadata": {
        "colab": {
          "base_uri": "https://localhost:8080/"
        },
        "id": "WfYH381WqU_6",
        "outputId": "c6bf38e0-fd97-41f6-ff94-0706dcc0e8f7"
      },
      "execution_count": null,
      "outputs": [
        {
          "output_type": "execute_result",
          "data": {
            "text/plain": [
              "array([[204,   0,   0,   0,   4,   0,   0,   0],\n",
              "       [  0, 204,   0,   0,   0,   0,   0,   0],\n",
              "       [  0,   0, 194,   0,   0,   0,   0,   0],\n",
              "       [  0,   0,   0, 224,   0,   0,   0,   0],\n",
              "       [  0,   0,   0,   0, 213,   0,   0,   0],\n",
              "       [  0,   0,   0,   0,   0, 201,   0,   0],\n",
              "       [  0, 224,   0,   0,   0,   0,   0,   0],\n",
              "       [  0,   0,   0,   0,   0,   1,   0, 204]])"
            ]
          },
          "metadata": {},
          "execution_count": 47
        }
      ]
    },
    {
      "cell_type": "code",
      "source": [
        "%matplotlib inline\n",
        "import matplotlib.pyplot as plt\n",
        "import seaborn as sn\n",
        "plt.figure(figsize=(10,7))\n",
        "# sn.heatmap(cm, annot=True)\n",
        "sn.heatmap(cm, annot=True, fmt = 'g')\n",
        "plt.xlabel('Predicted')\n",
        "plt.ylabel('Truth')"
      ],
      "metadata": {
        "colab": {
          "base_uri": "https://localhost:8080/",
          "height": 459
        },
        "id": "zWdpamISqtDG",
        "outputId": "22bc2c0b-b7a2-405b-c39e-bfe4e9385fda"
      },
      "execution_count": null,
      "outputs": [
        {
          "output_type": "execute_result",
          "data": {
            "text/plain": [
              "Text(69.0, 0.5, 'Truth')"
            ]
          },
          "metadata": {},
          "execution_count": 48
        },
        {
          "output_type": "display_data",
          "data": {
            "text/plain": [
              "<Figure size 720x504 with 2 Axes>"
            ],
            "image/png": "[encoded data removed]"
          },
          "metadata": {
            "needs_background": "light"
          }
        }
      ]
    },
    {
      "cell_type": "code",
      "source": [
        "# Tune parameters\n",
        "\n",
        "# 1. Regularization (C)\n",
        "model_C = SVC(C=1)\n",
        "model_C.fit(X_train, y_train)\n",
        "model_C.score(X_test, y_test)"
      ],
      "metadata": {
        "colab": {
          "base_uri": "https://localhost:8080/"
        },
        "id": "pS-Wg7lBUspu",
        "outputId": "67efc822-be63-4f31-b720-443549ba569c"
      },
      "execution_count": null,
      "outputs": [
        {
          "output_type": "execute_result",
          "data": {
            "text/plain": [
              "0.8631201434548715"
            ]
          },
          "metadata": {},
          "execution_count": 49
        }
      ]
    },
    {
      "cell_type": "code",
      "source": [
        "model_C = SVC(C=10)\n",
        "model_C.fit(X_train, y_train)\n",
        "model_C.score(X_test, y_test)"
      ],
      "metadata": {
        "colab": {
          "base_uri": "https://localhost:8080/"
        },
        "id": "JmIKlSD-Usky",
        "outputId": "28d44d6b-f557-424a-eef8-3ccd28dd52ab"
      },
      "execution_count": null,
      "outputs": [
        {
          "output_type": "execute_result",
          "data": {
            "text/plain": [
              "0.8631201434548715"
            ]
          },
          "metadata": {},
          "execution_count": 50
        }
      ]
    },
    {
      "cell_type": "code",
      "source": [
        "svm_score = []\n",
        "for i in range(1,20):\n",
        "  model_C = SVC(C=i)\n",
        "  model_C.fit(X_train, y_train)\n",
        "  svm_score.append(model_C.score(X_test, y_test))\n"
      ],
      "metadata": {
        "id": "GUOGjwx6VSq2"
      },
      "execution_count": null,
      "outputs": []
    },
    {
      "cell_type": "code",
      "source": [
        "svm_score"
      ],
      "metadata": {
        "colab": {
          "base_uri": "https://localhost:8080/"
        },
        "id": "7rY028pMVkp2",
        "outputId": "1f063552-a397-45c0-b545-ded5358111c4"
      },
      "execution_count": null,
      "outputs": [
        {
          "output_type": "execute_result",
          "data": {
            "text/plain": [
              "[0.8631201434548715,\n",
              " 0.8631201434548715,\n",
              " 0.8631201434548715,\n",
              " 0.8631201434548715,\n",
              " 0.8631201434548715,\n",
              " 0.8631201434548715,\n",
              " 0.8631201434548715,\n",
              " 0.8631201434548715,\n",
              " 0.8631201434548715,\n",
              " 0.8631201434548715,\n",
              " 0.8631201434548715,\n",
              " 0.8631201434548715,\n",
              " 0.8631201434548715,\n",
              " 0.8631201434548715,\n",
              " 0.8631201434548715,\n",
              " 0.8631201434548715,\n",
              " 0.8631201434548715,\n",
              " 0.8631201434548715,\n",
              " 0.8631201434548715]"
            ]
          },
          "metadata": {},
          "execution_count": 52
        }
      ]
    },
    {
      "cell_type": "code",
      "source": [
        "# 2. Gamma\n",
        "model_g = SVC(gamma=10)\n",
        "model_g.fit(X_train, y_train)\n",
        "model_g.score(X_test, y_test)"
      ],
      "metadata": {
        "colab": {
          "base_uri": "https://localhost:8080/"
        },
        "id": "IhXXCfA4U4ZB",
        "outputId": "ff0127f5-de39-4c23-dbb4-35faa4dfba2d"
      },
      "execution_count": null,
      "outputs": [
        {
          "output_type": "execute_result",
          "data": {
            "text/plain": [
              "0.12193664076509265"
            ]
          },
          "metadata": {},
          "execution_count": 53
        }
      ]
    },
    {
      "cell_type": "code",
      "source": [
        "svm_score = []\n",
        "for i in range(1,20):\n",
        "  model_g = SVC(gamma=i)\n",
        "  model_g.fit(X_train, y_train)\n",
        "  svm_score.append(model_g.score(X_test, y_test))"
      ],
      "metadata": {
        "id": "EhyI09JFVv-X"
      },
      "execution_count": null,
      "outputs": []
    },
    {
      "cell_type": "code",
      "source": [
        "# print(svm_score)\n",
        "svm_score"
      ],
      "metadata": {
        "colab": {
          "base_uri": "https://localhost:8080/"
        },
        "id": "B84EpZekV8zY",
        "outputId": "73c03625-1a7d-4131-dd71-420454744466"
      },
      "execution_count": null,
      "outputs": [
        {
          "output_type": "execute_result",
          "data": {
            "text/plain": [
              "[0.12193664076509265,\n",
              " 0.12193664076509265,\n",
              " 0.12193664076509265,\n",
              " 0.12193664076509265,\n",
              " 0.12193664076509265,\n",
              " 0.12193664076509265,\n",
              " 0.12193664076509265,\n",
              " 0.12193664076509265,\n",
              " 0.12193664076509265,\n",
              " 0.12193664076509265,\n",
              " 0.12193664076509265,\n",
              " 0.12193664076509265,\n",
              " 0.12193664076509265,\n",
              " 0.12193664076509265,\n",
              " 0.12193664076509265,\n",
              " 0.12193664076509265,\n",
              " 0.12193664076509265,\n",
              " 0.12193664076509265,\n",
              " 0.12193664076509265]"
            ]
          },
          "metadata": {},
          "execution_count": 55
        }
      ]
    },
    {
      "cell_type": "code",
      "source": [
        "# 3. Kernel\n",
        "model_linear_kernal = SVC(kernel='linear')\n",
        "model_linear_kernal.fit(X_train, y_train)"
      ],
      "metadata": {
        "colab": {
          "base_uri": "https://localhost:8080/"
        },
        "id": "07hGnxYRU7Wq",
        "outputId": "87f316a8-1f5d-4598-dd78-a0bb7179752a"
      },
      "execution_count": null,
      "outputs": [
        {
          "output_type": "execute_result",
          "data": {
            "text/plain": [
              "SVC(kernel='linear')"
            ]
          },
          "metadata": {},
          "execution_count": 56
        }
      ]
    },
    {
      "cell_type": "code",
      "source": [
        "model_linear_kernal.score(X_test, y_test)"
      ],
      "metadata": {
        "colab": {
          "base_uri": "https://localhost:8080/"
        },
        "id": "EkyNTygMU7Tv",
        "outputId": "ad69d21d-27e6-490a-ee6a-7031963eae9f"
      },
      "execution_count": null,
      "outputs": [
        {
          "output_type": "execute_result",
          "data": {
            "text/plain": [
              "0.12193664076509265"
            ]
          },
          "metadata": {},
          "execution_count": 57
        }
      ]
    },
    {
      "cell_type": "code",
      "source": [
        "model_rbf_kernal = SVC(kernel='rbf')\n",
        "model_rbf_kernal.fit(X_train, y_train)"
      ],
      "metadata": {
        "colab": {
          "base_uri": "https://localhost:8080/"
        },
        "id": "FcG8H7m0VKMH",
        "outputId": "80ff8d43-a684-4b7b-ef15-7d10b2431ebe"
      },
      "execution_count": null,
      "outputs": [
        {
          "output_type": "execute_result",
          "data": {
            "text/plain": [
              "SVC()"
            ]
          },
          "metadata": {},
          "execution_count": 58
        }
      ]
    },
    {
      "cell_type": "code",
      "source": [
        "model_rbf_kernal.score(X_test, y_test)"
      ],
      "metadata": {
        "colab": {
          "base_uri": "https://localhost:8080/"
        },
        "id": "xH-Z7lxEVKIG",
        "outputId": "a6bf8edb-bd95-43bb-fde2-0f012df1c97f"
      },
      "execution_count": null,
      "outputs": [
        {
          "output_type": "execute_result",
          "data": {
            "text/plain": [
              "0.8631201434548715"
            ]
          },
          "metadata": {},
          "execution_count": 59
        }
      ]
    },
    {
      "cell_type": "code",
      "source": [],
      "metadata": {
        "id": "bMDqeRgyq8Fa"
      },
      "execution_count": null,
      "outputs": []
    },
    {
      "cell_type": "code",
      "source": [
        "# Create KNN (K Neighrest Neighbour Classifier)\n",
        "from sklearn.neighbors import KNeighborsClassifier\n",
        "knn = KNeighborsClassifier(n_neighbors=10)"
      ],
      "metadata": {
        "id": "ipJTG-3Bq8Bw"
      },
      "execution_count": null,
      "outputs": []
    },
    {
      "cell_type": "code",
      "source": [
        "knn.fit(X_train, y_train)"
      ],
      "metadata": {
        "colab": {
          "base_uri": "https://localhost:8080/"
        },
        "id": "TSOZb1osrDTn",
        "outputId": "0d008118-f85f-4a3b-a99f-a4d3b3105689"
      },
      "execution_count": null,
      "outputs": [
        {
          "output_type": "execute_result",
          "data": {
            "text/plain": [
              "KNeighborsClassifier(n_neighbors=10)"
            ]
          },
          "metadata": {},
          "execution_count": 61
        }
      ]
    },
    {
      "cell_type": "code",
      "source": [
        "knn.score(X_test, y_test)"
      ],
      "metadata": {
        "colab": {
          "base_uri": "https://localhost:8080/"
        },
        "id": "aCwc9xAzrDP7",
        "outputId": "f5bd9f94-c8c7-4e84-d681-242b48fb7308"
      },
      "execution_count": null,
      "outputs": [
        {
          "output_type": "execute_result",
          "data": {
            "text/plain": [
              "0.9892408846383742"
            ]
          },
          "metadata": {},
          "execution_count": 62
        }
      ]
    },
    {
      "cell_type": "code",
      "source": [
        "# Plot Confusion Matrix\n",
        "from sklearn.metrics import confusion_matrix\n",
        "y_pred = knn.predict(X_test)\n",
        "cm = confusion_matrix(y_test, y_pred)\n",
        "cm"
      ],
      "metadata": {
        "colab": {
          "base_uri": "https://localhost:8080/"
        },
        "id": "iuCakbarrDNI",
        "outputId": "8ae4833e-fbce-4a49-c1fa-f494f6f87525"
      },
      "execution_count": null,
      "outputs": [
        {
          "output_type": "execute_result",
          "data": {
            "text/plain": [
              "array([[204,   0,   0,   0,   4,   0,   0,   0],\n",
              "       [  0, 204,   0,   0,   0,   0,   0,   0],\n",
              "       [  0,   0, 194,   0,   0,   0,   0,   0],\n",
              "       [  0,   0,   0, 224,   0,   0,   0,   0],\n",
              "       [  0,   0,   0,   0, 213,   0,   0,   0],\n",
              "       [  0,   0,   0,   0,   0, 201,   0,   0],\n",
              "       [  0,  14,   0,   0,   0,   0, 210,   0],\n",
              "       [  0,   0,   0,   0,   0,   0,   0, 205]])"
            ]
          },
          "metadata": {},
          "execution_count": 63
        }
      ]
    },
    {
      "cell_type": "code",
      "source": [
        "%matplotlib inline\n",
        "import matplotlib.pyplot as plt\n",
        "import seaborn as sn\n",
        "plt.figure(figsize=(10,7))\n",
        "sn.heatmap(cm, annot=True, fmt='g')\n",
        "plt.xlabel('Predicted')\n",
        "plt.ylabel('Truth')"
      ],
      "metadata": {
        "colab": {
          "base_uri": "https://localhost:8080/",
          "height": 459
        },
        "id": "VN7llQN9XD5R",
        "outputId": "00cf550c-082d-44f2-9c1f-edfd571c82ab"
      },
      "execution_count": null,
      "outputs": [
        {
          "output_type": "execute_result",
          "data": {
            "text/plain": [
              "Text(69.0, 0.5, 'Truth')"
            ]
          },
          "metadata": {},
          "execution_count": 64
        },
        {
          "output_type": "display_data",
          "data": {
            "text/plain": [
              "<Figure size 720x504 with 2 Axes>"
            ],
            "image/png": "[encoded data removed]"
          },
          "metadata": {
            "needs_background": "light"
          }
        }
      ]
    },
    {
      "cell_type": "code",
      "source": [
        "knn_score = []\n",
        "for i in range(1,20):\n",
        "  knn = KNeighborsClassifier(n_neighbors=i)\n",
        "  knn.fit(X_train, y_train)\n",
        "  knn_score.append(knn.score(X_test, y_test))"
      ],
      "metadata": {
        "id": "LxzH7I7Ir8QC"
      },
      "execution_count": null,
      "outputs": []
    },
    {
      "cell_type": "code",
      "source": [
        "knn_score"
      ],
      "metadata": {
        "colab": {
          "base_uri": "https://localhost:8080/"
        },
        "id": "biRCLr8kr8Mn",
        "outputId": "0cc9667e-9c23-4518-f084-eeb943bda62b"
      },
      "execution_count": null,
      "outputs": [
        {
          "output_type": "execute_result",
          "data": {
            "text/plain": [
              "[0.9982068141063957,\n",
              " 0.9952181709503886,\n",
              " 0.9952181709503886,\n",
              " 0.9928272564255828,\n",
              " 0.9922295277943813,\n",
              " 0.990436341900777,\n",
              " 0.9898386132695756,\n",
              " 0.9892408846383742,\n",
              " 0.9892408846383742,\n",
              " 0.9892408846383742,\n",
              " 0.9892408846383742,\n",
              " 0.9886431560071728,\n",
              " 0.9886431560071728,\n",
              " 0.9886431560071728,\n",
              " 0.9886431560071728,\n",
              " 0.9880454273759713,\n",
              " 0.9880454273759713,\n",
              " 0.9880454273759713,\n",
              " 0.9880454273759713]"
            ]
          },
          "metadata": {},
          "execution_count": 66
        }
      ]
    },
    {
      "cell_type": "code",
      "source": [],
      "metadata": {
        "id": "7Nh7pUqrr8J3"
      },
      "execution_count": null,
      "outputs": []
    },
    {
      "cell_type": "code",
      "source": [],
      "metadata": {
        "id": "uEVRKDVweEMb"
      },
      "execution_count": null,
      "outputs": []
    }
  ]
}